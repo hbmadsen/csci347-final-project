{
 "cells": [
  {
   "cell_type": "code",
   "execution_count": 1,
   "metadata": {},
   "outputs": [],
   "source": [
    "import pandas as pd\n",
    "from prophet import Prophet\n",
    "#from fbprophet import Prophet"
   ]
  },
  {
   "cell_type": "code",
   "execution_count": 2,
   "metadata": {},
   "outputs": [
    {
     "data": {
      "text/html": [
       "<div>\n",
       "<style scoped>\n",
       "    .dataframe tbody tr th:only-of-type {\n",
       "        vertical-align: middle;\n",
       "    }\n",
       "\n",
       "    .dataframe tbody tr th {\n",
       "        vertical-align: top;\n",
       "    }\n",
       "\n",
       "    .dataframe thead th {\n",
       "        text-align: right;\n",
       "    }\n",
       "</style>\n",
       "<table border=\"1\" class=\"dataframe\">\n",
       "  <thead>\n",
       "    <tr style=\"text-align: right;\">\n",
       "      <th></th>\n",
       "      <th>dateTime</th>\n",
       "      <th>mentionedEntity1</th>\n",
       "      <th>mentionedEntity2</th>\n",
       "    </tr>\n",
       "  </thead>\n",
       "  <tbody>\n",
       "    <tr>\n",
       "      <th>0</th>\n",
       "      <td>05:02:2014:20:15:22</td>\n",
       "      <td>statusid_462321880817745921</td>\n",
       "      <td>userid_831528001</td>\n",
       "    </tr>\n",
       "    <tr>\n",
       "      <th>1</th>\n",
       "      <td>05:02:2014:20:15:22</td>\n",
       "      <td>statusid_462321880817745921</td>\n",
       "      <td>userid_11134252</td>\n",
       "    </tr>\n",
       "    <tr>\n",
       "      <th>2</th>\n",
       "      <td>05:02:2014:20:15:22</td>\n",
       "      <td>statusid_462321880817745921</td>\n",
       "      <td>userid_20733972</td>\n",
       "    </tr>\n",
       "    <tr>\n",
       "      <th>3</th>\n",
       "      <td>05:02:2014:20:15:22</td>\n",
       "      <td>statusid_462321880817745921</td>\n",
       "      <td>benghazi</td>\n",
       "    </tr>\n",
       "    <tr>\n",
       "      <th>4</th>\n",
       "      <td>05:02:2014:20:15:22</td>\n",
       "      <td>statusid_462321880817745921</td>\n",
       "      <td>gop_benghazi</td>\n",
       "    </tr>\n",
       "    <tr>\n",
       "      <th>...</th>\n",
       "      <td>...</td>\n",
       "      <td>...</td>\n",
       "      <td>...</td>\n",
       "    </tr>\n",
       "    <tr>\n",
       "      <th>2601829</th>\n",
       "      <td>08:01:2014:04:19:58</td>\n",
       "      <td>userid_1271158584</td>\n",
       "      <td>chiltern_firehouse</td>\n",
       "    </tr>\n",
       "    <tr>\n",
       "      <th>2601830</th>\n",
       "      <td>08:01:2014:04:19:58</td>\n",
       "      <td>userid_1271158584</td>\n",
       "      <td>london</td>\n",
       "    </tr>\n",
       "    <tr>\n",
       "      <th>2601831</th>\n",
       "      <td>08:01:2014:04:19:58</td>\n",
       "      <td>userid_1271158584</td>\n",
       "      <td>july</td>\n",
       "    </tr>\n",
       "    <tr>\n",
       "      <th>2601832</th>\n",
       "      <td>08:01:2014:04:19:58</td>\n",
       "      <td>userid_1537804958</td>\n",
       "      <td>http://pbs.twimg.com/media/bt7phzcceaa7bm5.jpg</td>\n",
       "    </tr>\n",
       "    <tr>\n",
       "      <th>2601833</th>\n",
       "      <td>08:01:2014:04:19:58</td>\n",
       "      <td>userid_1537804958</td>\n",
       "      <td>zayn_malik</td>\n",
       "    </tr>\n",
       "  </tbody>\n",
       "</table>\n",
       "<p>2601834 rows × 3 columns</p>\n",
       "</div>"
      ],
      "text/plain": [
       "                    dateTime             mentionedEntity1  \\\n",
       "0        05:02:2014:20:15:22  statusid_462321880817745921   \n",
       "1        05:02:2014:20:15:22  statusid_462321880817745921   \n",
       "2        05:02:2014:20:15:22  statusid_462321880817745921   \n",
       "3        05:02:2014:20:15:22  statusid_462321880817745921   \n",
       "4        05:02:2014:20:15:22  statusid_462321880817745921   \n",
       "...                      ...                          ...   \n",
       "2601829  08:01:2014:04:19:58            userid_1271158584   \n",
       "2601830  08:01:2014:04:19:58            userid_1271158584   \n",
       "2601831  08:01:2014:04:19:58            userid_1271158584   \n",
       "2601832  08:01:2014:04:19:58            userid_1537804958   \n",
       "2601833  08:01:2014:04:19:58            userid_1537804958   \n",
       "\n",
       "                                       mentionedEntity2  \n",
       "0                                      userid_831528001  \n",
       "1                                       userid_11134252  \n",
       "2                                       userid_20733972  \n",
       "3                                              benghazi  \n",
       "4                                          gop_benghazi  \n",
       "...                                                 ...  \n",
       "2601829                              chiltern_firehouse  \n",
       "2601830                                          london  \n",
       "2601831                                            july  \n",
       "2601832  http://pbs.twimg.com/media/bt7phzcceaa7bm5.jpg  \n",
       "2601833                                      zayn_malik  \n",
       "\n",
       "[2601834 rows x 3 columns]"
      ]
     },
     "execution_count": 2,
     "metadata": {},
     "output_type": "execute_result"
    }
   ],
   "source": [
    "df = pd.read_csv(\"Twitter_May_Aug_2014_TerrorSecurity_resolved.txt\", sep=\" \", header=None)\n",
    "df.columns = ['dateTime', 'mentionedEntity1', 'mentionedEntity2']\n",
    "df"
   ]
  },
  {
   "cell_type": "code",
   "execution_count": 3,
   "metadata": {},
   "outputs": [],
   "source": [
    "from sklearn.preprocessing import LabelEncoder"
   ]
  },
  {
   "cell_type": "markdown",
   "metadata": {},
   "source": [
    "Just going to observe anomalies in May, since there are so many data points."
   ]
  },
  {
   "cell_type": "code",
   "execution_count": 4,
   "metadata": {},
   "outputs": [
    {
     "data": {
      "text/html": [
       "<div>\n",
       "<style scoped>\n",
       "    .dataframe tbody tr th:only-of-type {\n",
       "        vertical-align: middle;\n",
       "    }\n",
       "\n",
       "    .dataframe tbody tr th {\n",
       "        vertical-align: top;\n",
       "    }\n",
       "\n",
       "    .dataframe thead th {\n",
       "        text-align: right;\n",
       "    }\n",
       "</style>\n",
       "<table border=\"1\" class=\"dataframe\">\n",
       "  <thead>\n",
       "    <tr style=\"text-align: right;\">\n",
       "      <th></th>\n",
       "      <th>dateTime</th>\n",
       "      <th>mentionedEntity1</th>\n",
       "      <th>mentionedEntity2</th>\n",
       "    </tr>\n",
       "  </thead>\n",
       "  <tbody>\n",
       "    <tr>\n",
       "      <th>15</th>\n",
       "      <td>05:02:2014:20:16:10</td>\n",
       "      <td>userid_1257381576</td>\n",
       "      <td>#endoftheworld</td>\n",
       "    </tr>\n",
       "    <tr>\n",
       "      <th>16</th>\n",
       "      <td>05:02:2014:20:16:10</td>\n",
       "      <td>userid_1257381576</td>\n",
       "      <td>userid_30070583</td>\n",
       "    </tr>\n",
       "    <tr>\n",
       "      <th>17</th>\n",
       "      <td>05:02:2014:20:16:10</td>\n",
       "      <td>userid_1257381576</td>\n",
       "      <td>rogee</td>\n",
       "    </tr>\n",
       "    <tr>\n",
       "      <th>18</th>\n",
       "      <td>05:02:2014:20:16:10</td>\n",
       "      <td>userid_1257381576</td>\n",
       "      <td>caffeine_cowboy</td>\n",
       "    </tr>\n",
       "    <tr>\n",
       "      <th>19</th>\n",
       "      <td>05:02:2014:20:16:10</td>\n",
       "      <td>#endoftheworld</td>\n",
       "      <td>userid_30070583</td>\n",
       "    </tr>\n",
       "    <tr>\n",
       "      <th>...</th>\n",
       "      <td>...</td>\n",
       "      <td>...</td>\n",
       "      <td>...</td>\n",
       "    </tr>\n",
       "    <tr>\n",
       "      <th>393225</th>\n",
       "      <td>05:31:2014:23:58:14</td>\n",
       "      <td>statusid_472889558406029312</td>\n",
       "      <td>userid_1401272976</td>\n",
       "    </tr>\n",
       "    <tr>\n",
       "      <th>393226</th>\n",
       "      <td>05:31:2014:23:58:14</td>\n",
       "      <td>userid_97722200</td>\n",
       "      <td>userid_1401272976</td>\n",
       "    </tr>\n",
       "    <tr>\n",
       "      <th>393227</th>\n",
       "      <td>05:31:2014:23:58:16</td>\n",
       "      <td>userid_410687075</td>\n",
       "      <td>http://t.co/yrtuek7k9v</td>\n",
       "    </tr>\n",
       "    <tr>\n",
       "      <th>393228</th>\n",
       "      <td>05:31:2014:23:58:16</td>\n",
       "      <td>userid_410687075</td>\n",
       "      <td>sonny</td>\n",
       "    </tr>\n",
       "    <tr>\n",
       "      <th>393229</th>\n",
       "      <td>05:31:2014:23:58:16</td>\n",
       "      <td>http://t.co/yrtuek7k9v</td>\n",
       "      <td>sonny</td>\n",
       "    </tr>\n",
       "  </tbody>\n",
       "</table>\n",
       "<p>393215 rows × 3 columns</p>\n",
       "</div>"
      ],
      "text/plain": [
       "                   dateTime             mentionedEntity1  \\\n",
       "15      05:02:2014:20:16:10            userid_1257381576   \n",
       "16      05:02:2014:20:16:10            userid_1257381576   \n",
       "17      05:02:2014:20:16:10            userid_1257381576   \n",
       "18      05:02:2014:20:16:10            userid_1257381576   \n",
       "19      05:02:2014:20:16:10               #endoftheworld   \n",
       "...                     ...                          ...   \n",
       "393225  05:31:2014:23:58:14  statusid_472889558406029312   \n",
       "393226  05:31:2014:23:58:14              userid_97722200   \n",
       "393227  05:31:2014:23:58:16             userid_410687075   \n",
       "393228  05:31:2014:23:58:16             userid_410687075   \n",
       "393229  05:31:2014:23:58:16       http://t.co/yrtuek7k9v   \n",
       "\n",
       "              mentionedEntity2  \n",
       "15              #endoftheworld  \n",
       "16             userid_30070583  \n",
       "17                       rogee  \n",
       "18             caffeine_cowboy  \n",
       "19             userid_30070583  \n",
       "...                        ...  \n",
       "393225       userid_1401272976  \n",
       "393226       userid_1401272976  \n",
       "393227  http://t.co/yrtuek7k9v  \n",
       "393228                   sonny  \n",
       "393229                   sonny  \n",
       "\n",
       "[393215 rows x 3 columns]"
      ]
     },
     "execution_count": 4,
     "metadata": {},
     "output_type": "execute_result"
    }
   ],
   "source": [
    "mask = (df['dateTime'] > '05:02:2014:20:15:22') & (df['dateTime'] <= '05:31:2014:23:59:00')\n",
    "df_may_only = df.loc[mask]\n",
    "df_may_only"
   ]
  },
  {
   "cell_type": "code",
   "execution_count": 5,
   "metadata": {},
   "outputs": [
    {
     "data": {
      "text/html": [
       "<div>\n",
       "<style scoped>\n",
       "    .dataframe tbody tr th:only-of-type {\n",
       "        vertical-align: middle;\n",
       "    }\n",
       "\n",
       "    .dataframe tbody tr th {\n",
       "        vertical-align: top;\n",
       "    }\n",
       "\n",
       "    .dataframe thead th {\n",
       "        text-align: right;\n",
       "    }\n",
       "</style>\n",
       "<table border=\"1\" class=\"dataframe\">\n",
       "  <thead>\n",
       "    <tr style=\"text-align: right;\">\n",
       "      <th></th>\n",
       "      <th>dateTime</th>\n",
       "      <th>mentionedEntity1</th>\n",
       "      <th>mentionedEntity2</th>\n",
       "    </tr>\n",
       "  </thead>\n",
       "  <tbody>\n",
       "    <tr>\n",
       "      <th>15</th>\n",
       "      <td>05:02:2014:20:16:10</td>\n",
       "      <td>26433</td>\n",
       "      <td>#endoftheworld</td>\n",
       "    </tr>\n",
       "    <tr>\n",
       "      <th>16</th>\n",
       "      <td>05:02:2014:20:16:10</td>\n",
       "      <td>26433</td>\n",
       "      <td>userid_30070583</td>\n",
       "    </tr>\n",
       "    <tr>\n",
       "      <th>17</th>\n",
       "      <td>05:02:2014:20:16:10</td>\n",
       "      <td>26433</td>\n",
       "      <td>rogee</td>\n",
       "    </tr>\n",
       "    <tr>\n",
       "      <th>18</th>\n",
       "      <td>05:02:2014:20:16:10</td>\n",
       "      <td>26433</td>\n",
       "      <td>caffeine_cowboy</td>\n",
       "    </tr>\n",
       "    <tr>\n",
       "      <th>19</th>\n",
       "      <td>05:02:2014:20:16:10</td>\n",
       "      <td>2247</td>\n",
       "      <td>userid_30070583</td>\n",
       "    </tr>\n",
       "  </tbody>\n",
       "</table>\n",
       "</div>"
      ],
      "text/plain": [
       "               dateTime  mentionedEntity1 mentionedEntity2\n",
       "15  05:02:2014:20:16:10             26433   #endoftheworld\n",
       "16  05:02:2014:20:16:10             26433  userid_30070583\n",
       "17  05:02:2014:20:16:10             26433            rogee\n",
       "18  05:02:2014:20:16:10             26433  caffeine_cowboy\n",
       "19  05:02:2014:20:16:10              2247  userid_30070583"
      ]
     },
     "execution_count": 5,
     "metadata": {},
     "output_type": "execute_result"
    }
   ],
   "source": [
    "#label encoding first entity\n",
    "pd.options.mode.chained_assignment = None\n",
    "le = LabelEncoder()\n",
    "df_may_only.iloc[:,1] = le.fit_transform(df_may_only.iloc[:,1])\n",
    "df_may_only.head()"
   ]
  },
  {
   "cell_type": "code",
   "execution_count": 6,
   "metadata": {},
   "outputs": [
    {
     "data": {
      "text/html": [
       "<div>\n",
       "<style scoped>\n",
       "    .dataframe tbody tr th:only-of-type {\n",
       "        vertical-align: middle;\n",
       "    }\n",
       "\n",
       "    .dataframe tbody tr th {\n",
       "        vertical-align: top;\n",
       "    }\n",
       "\n",
       "    .dataframe thead th {\n",
       "        text-align: right;\n",
       "    }\n",
       "</style>\n",
       "<table border=\"1\" class=\"dataframe\">\n",
       "  <thead>\n",
       "    <tr style=\"text-align: right;\">\n",
       "      <th></th>\n",
       "      <th>dateTime</th>\n",
       "      <th>mentionedEntity1</th>\n",
       "      <th>mentionedEntity2</th>\n",
       "    </tr>\n",
       "  </thead>\n",
       "  <tbody>\n",
       "    <tr>\n",
       "      <th>15</th>\n",
       "      <td>05:02:2014:20:16:10</td>\n",
       "      <td>26433</td>\n",
       "      <td>2443</td>\n",
       "    </tr>\n",
       "    <tr>\n",
       "      <th>16</th>\n",
       "      <td>05:02:2014:20:16:10</td>\n",
       "      <td>26433</td>\n",
       "      <td>36301</td>\n",
       "    </tr>\n",
       "    <tr>\n",
       "      <th>17</th>\n",
       "      <td>05:02:2014:20:16:10</td>\n",
       "      <td>26433</td>\n",
       "      <td>27625</td>\n",
       "    </tr>\n",
       "    <tr>\n",
       "      <th>18</th>\n",
       "      <td>05:02:2014:20:16:10</td>\n",
       "      <td>26433</td>\n",
       "      <td>10504</td>\n",
       "    </tr>\n",
       "    <tr>\n",
       "      <th>19</th>\n",
       "      <td>05:02:2014:20:16:10</td>\n",
       "      <td>2247</td>\n",
       "      <td>36301</td>\n",
       "    </tr>\n",
       "  </tbody>\n",
       "</table>\n",
       "</div>"
      ],
      "text/plain": [
       "               dateTime  mentionedEntity1  mentionedEntity2\n",
       "15  05:02:2014:20:16:10             26433              2443\n",
       "16  05:02:2014:20:16:10             26433             36301\n",
       "17  05:02:2014:20:16:10             26433             27625\n",
       "18  05:02:2014:20:16:10             26433             10504\n",
       "19  05:02:2014:20:16:10              2247             36301"
      ]
     },
     "execution_count": 6,
     "metadata": {},
     "output_type": "execute_result"
    }
   ],
   "source": [
    "#label encoding first entity\n",
    "le = LabelEncoder()\n",
    "df_may_only.iloc[:,2] = le.fit_transform(df_may_only.iloc[:,2])\n",
    "df_may_only.head()"
   ]
  },
  {
   "cell_type": "code",
   "execution_count": 7,
   "metadata": {},
   "outputs": [
    {
     "data": {
      "text/plain": [
       "array([26433, 26433, 26433, ..., 44383, 44383, 17633])"
      ]
     },
     "execution_count": 7,
     "metadata": {},
     "output_type": "execute_result"
    }
   ],
   "source": [
    "import numpy as np\n",
    "entity1_array = df_may_only[['mentionedEntity1']].to_numpy()\n",
    "entity1_array = entity1_array.flatten()\n",
    "entity1_array"
   ]
  },
  {
   "cell_type": "code",
   "execution_count": 8,
   "metadata": {},
   "outputs": [],
   "source": [
    "#commented out so random entities don't change\n",
    "#random_entity1_array = [np.random.choice(len(entity1_array), size=5000, replace=False)]\n",
    "#random_entity1_array = np.asarray(random_entity1_array)\n",
    "#random_entity1_array = random_entity1_array.flatten()"
   ]
  },
  {
   "cell_type": "code",
   "execution_count": 61,
   "metadata": {},
   "outputs": [],
   "source": [
    "#random entities that were generated 4/25 are saved in random_entities.txt\n",
    "random_entity1_array = np.loadtxt(\"random_entities.txt\").reshape(5000)"
   ]
  },
  {
   "cell_type": "code",
   "execution_count": 62,
   "metadata": {},
   "outputs": [
    {
     "data": {
      "text/html": [
       "<div>\n",
       "<style scoped>\n",
       "    .dataframe tbody tr th:only-of-type {\n",
       "        vertical-align: middle;\n",
       "    }\n",
       "\n",
       "    .dataframe tbody tr th {\n",
       "        vertical-align: top;\n",
       "    }\n",
       "\n",
       "    .dataframe thead th {\n",
       "        text-align: right;\n",
       "    }\n",
       "</style>\n",
       "<table border=\"1\" class=\"dataframe\">\n",
       "  <thead>\n",
       "    <tr style=\"text-align: right;\">\n",
       "      <th></th>\n",
       "      <th>dateTime</th>\n",
       "      <th>mentionedEntity1</th>\n",
       "    </tr>\n",
       "  </thead>\n",
       "  <tbody>\n",
       "    <tr>\n",
       "      <th>0</th>\n",
       "      <td>2014-05-12</td>\n",
       "      <td>25681</td>\n",
       "    </tr>\n",
       "    <tr>\n",
       "      <th>1</th>\n",
       "      <td>2014-05-12</td>\n",
       "      <td>25681</td>\n",
       "    </tr>\n",
       "    <tr>\n",
       "      <th>2</th>\n",
       "      <td>2014-05-12</td>\n",
       "      <td>25681</td>\n",
       "    </tr>\n",
       "    <tr>\n",
       "      <th>3</th>\n",
       "      <td>2014-05-12</td>\n",
       "      <td>25681</td>\n",
       "    </tr>\n",
       "    <tr>\n",
       "      <th>4</th>\n",
       "      <td>2014-05-12</td>\n",
       "      <td>25681</td>\n",
       "    </tr>\n",
       "    <tr>\n",
       "      <th>...</th>\n",
       "      <td>...</td>\n",
       "      <td>...</td>\n",
       "    </tr>\n",
       "    <tr>\n",
       "      <th>4219</th>\n",
       "      <td>2014-05-31</td>\n",
       "      <td>32844</td>\n",
       "    </tr>\n",
       "    <tr>\n",
       "      <th>4220</th>\n",
       "      <td>2014-05-31</td>\n",
       "      <td>32844</td>\n",
       "    </tr>\n",
       "    <tr>\n",
       "      <th>4221</th>\n",
       "      <td>2014-05-31</td>\n",
       "      <td>11622</td>\n",
       "    </tr>\n",
       "    <tr>\n",
       "      <th>4222</th>\n",
       "      <td>2014-05-31</td>\n",
       "      <td>11622</td>\n",
       "    </tr>\n",
       "    <tr>\n",
       "      <th>4223</th>\n",
       "      <td>2014-05-31</td>\n",
       "      <td>11622</td>\n",
       "    </tr>\n",
       "  </tbody>\n",
       "</table>\n",
       "<p>4224 rows × 2 columns</p>\n",
       "</div>"
      ],
      "text/plain": [
       "        dateTime mentionedEntity1\n",
       "0     2014-05-12            25681\n",
       "1     2014-05-12            25681\n",
       "2     2014-05-12            25681\n",
       "3     2014-05-12            25681\n",
       "4     2014-05-12            25681\n",
       "...          ...              ...\n",
       "4219  2014-05-31            32844\n",
       "4220  2014-05-31            32844\n",
       "4221  2014-05-31            11622\n",
       "4222  2014-05-31            11622\n",
       "4223  2014-05-31            11622\n",
       "\n",
       "[4224 rows x 2 columns]"
      ]
     },
     "execution_count": 62,
     "metadata": {},
     "output_type": "execute_result"
    }
   ],
   "source": [
    "temp_df1 = pd.DataFrame(columns=['dateTime','mentionedEntity1'])\n",
    "data = []\n",
    "\n",
    "for entity in df_may_only.iterrows():\n",
    "    if entity[1][1] in random_entity1_array:\n",
    "        data.append((entity[1][0], entity[1][1]))\n",
    "\n",
    "temp_df2 = pd.DataFrame(data , columns=['dateTime','mentionedEntity1'])\n",
    "may_random = pd.concat([temp_df1, temp_df2], ignore_index=True)\n",
    "\n",
    "may_random"
   ]
  },
  {
   "cell_type": "code",
   "execution_count": 10,
   "metadata": {},
   "outputs": [
    {
     "data": {
      "text/html": [
       "<div>\n",
       "<style scoped>\n",
       "    .dataframe tbody tr th:only-of-type {\n",
       "        vertical-align: middle;\n",
       "    }\n",
       "\n",
       "    .dataframe tbody tr th {\n",
       "        vertical-align: top;\n",
       "    }\n",
       "\n",
       "    .dataframe thead th {\n",
       "        text-align: right;\n",
       "    }\n",
       "</style>\n",
       "<table border=\"1\" class=\"dataframe\">\n",
       "  <thead>\n",
       "    <tr style=\"text-align: right;\">\n",
       "      <th></th>\n",
       "      <th>dateTime</th>\n",
       "      <th>mentionedEntity1</th>\n",
       "      <th>ct</th>\n",
       "    </tr>\n",
       "  </thead>\n",
       "  <tbody>\n",
       "    <tr>\n",
       "      <th>0</th>\n",
       "      <td>2014-05-02</td>\n",
       "      <td>1009</td>\n",
       "      <td>2</td>\n",
       "    </tr>\n",
       "    <tr>\n",
       "      <th>1</th>\n",
       "      <td>2014-05-02</td>\n",
       "      <td>1598</td>\n",
       "      <td>1</td>\n",
       "    </tr>\n",
       "    <tr>\n",
       "      <th>2</th>\n",
       "      <td>2014-05-02</td>\n",
       "      <td>2247</td>\n",
       "      <td>3</td>\n",
       "    </tr>\n",
       "    <tr>\n",
       "      <th>3</th>\n",
       "      <td>2014-05-02</td>\n",
       "      <td>6547</td>\n",
       "      <td>4</td>\n",
       "    </tr>\n",
       "    <tr>\n",
       "      <th>4</th>\n",
       "      <td>2014-05-02</td>\n",
       "      <td>6883</td>\n",
       "      <td>3</td>\n",
       "    </tr>\n",
       "    <tr>\n",
       "      <th>...</th>\n",
       "      <td>...</td>\n",
       "      <td>...</td>\n",
       "      <td>...</td>\n",
       "    </tr>\n",
       "    <tr>\n",
       "      <th>64639</th>\n",
       "      <td>2014-05-31</td>\n",
       "      <td>52238</td>\n",
       "      <td>1</td>\n",
       "    </tr>\n",
       "    <tr>\n",
       "      <th>64640</th>\n",
       "      <td>2014-05-31</td>\n",
       "      <td>52256</td>\n",
       "      <td>1</td>\n",
       "    </tr>\n",
       "    <tr>\n",
       "      <th>64641</th>\n",
       "      <td>2014-05-31</td>\n",
       "      <td>52260</td>\n",
       "      <td>166</td>\n",
       "    </tr>\n",
       "    <tr>\n",
       "      <th>64642</th>\n",
       "      <td>2014-05-31</td>\n",
       "      <td>52265</td>\n",
       "      <td>1</td>\n",
       "    </tr>\n",
       "    <tr>\n",
       "      <th>64643</th>\n",
       "      <td>2014-05-31</td>\n",
       "      <td>52271</td>\n",
       "      <td>1</td>\n",
       "    </tr>\n",
       "  </tbody>\n",
       "</table>\n",
       "<p>64644 rows × 3 columns</p>\n",
       "</div>"
      ],
      "text/plain": [
       "         dateTime  mentionedEntity1   ct\n",
       "0      2014-05-02              1009    2\n",
       "1      2014-05-02              1598    1\n",
       "2      2014-05-02              2247    3\n",
       "3      2014-05-02              6547    4\n",
       "4      2014-05-02              6883    3\n",
       "...           ...               ...  ...\n",
       "64639  2014-05-31             52238    1\n",
       "64640  2014-05-31             52256    1\n",
       "64641  2014-05-31             52260  166\n",
       "64642  2014-05-31             52265    1\n",
       "64643  2014-05-31             52271    1\n",
       "\n",
       "[64644 rows x 3 columns]"
      ]
     },
     "execution_count": 10,
     "metadata": {},
     "output_type": "execute_result"
    }
   ],
   "source": [
    "df_may_only['dateTime'] = pd.to_datetime(df_may_only['dateTime'], format=\"%m:%d:%Y:%H:%M:%S\")\n",
    "\n",
    "# change dateTime column to just dates for visualizations\n",
    "df_may_only['dateTime'] = df_may_only['dateTime'].dt.date\n",
    "\n",
    "entity1_ct_df = (df_may_only.reset_index()\n",
    "          .groupby(['dateTime','mentionedEntity1'], as_index=False)\n",
    "          .count()\n",
    "          # rename isn't strictly necessary here, it's just for readability\n",
    "          .rename(columns={'index':'ct'})\n",
    "       )\n",
    "\n",
    "entity1_ct_df.pop(\"mentionedEntity2\")\n",
    "entity1_ct_df\n"
   ]
  },
  {
   "cell_type": "code",
   "execution_count": 11,
   "metadata": {},
   "outputs": [
    {
     "data": {
      "text/html": [
       "<div>\n",
       "<style scoped>\n",
       "    .dataframe tbody tr th:only-of-type {\n",
       "        vertical-align: middle;\n",
       "    }\n",
       "\n",
       "    .dataframe tbody tr th {\n",
       "        vertical-align: top;\n",
       "    }\n",
       "\n",
       "    .dataframe thead th {\n",
       "        text-align: right;\n",
       "    }\n",
       "</style>\n",
       "<table border=\"1\" class=\"dataframe\">\n",
       "  <thead>\n",
       "    <tr style=\"text-align: right;\">\n",
       "      <th></th>\n",
       "      <th>dateTime</th>\n",
       "      <th>mentionedEntity1</th>\n",
       "      <th>ct</th>\n",
       "    </tr>\n",
       "  </thead>\n",
       "  <tbody>\n",
       "    <tr>\n",
       "      <th>0</th>\n",
       "      <td>2014-05-12</td>\n",
       "      <td>383</td>\n",
       "      <td>105</td>\n",
       "    </tr>\n",
       "    <tr>\n",
       "      <th>1</th>\n",
       "      <td>2014-05-12</td>\n",
       "      <td>1345</td>\n",
       "      <td>64</td>\n",
       "    </tr>\n",
       "    <tr>\n",
       "      <th>2</th>\n",
       "      <td>2014-05-12</td>\n",
       "      <td>3608</td>\n",
       "      <td>13</td>\n",
       "    </tr>\n",
       "    <tr>\n",
       "      <th>3</th>\n",
       "      <td>2014-05-12</td>\n",
       "      <td>5182</td>\n",
       "      <td>2</td>\n",
       "    </tr>\n",
       "    <tr>\n",
       "      <th>4</th>\n",
       "      <td>2014-05-12</td>\n",
       "      <td>17917</td>\n",
       "      <td>1</td>\n",
       "    </tr>\n",
       "    <tr>\n",
       "      <th>...</th>\n",
       "      <td>...</td>\n",
       "      <td>...</td>\n",
       "      <td>...</td>\n",
       "    </tr>\n",
       "    <tr>\n",
       "      <th>856</th>\n",
       "      <td>2014-05-31</td>\n",
       "      <td>42442</td>\n",
       "      <td>14</td>\n",
       "    </tr>\n",
       "    <tr>\n",
       "      <th>857</th>\n",
       "      <td>2014-05-31</td>\n",
       "      <td>43451</td>\n",
       "      <td>3</td>\n",
       "    </tr>\n",
       "    <tr>\n",
       "      <th>858</th>\n",
       "      <td>2014-05-31</td>\n",
       "      <td>45034</td>\n",
       "      <td>4</td>\n",
       "    </tr>\n",
       "    <tr>\n",
       "      <th>859</th>\n",
       "      <td>2014-05-31</td>\n",
       "      <td>51430</td>\n",
       "      <td>3</td>\n",
       "    </tr>\n",
       "    <tr>\n",
       "      <th>860</th>\n",
       "      <td>2014-05-31</td>\n",
       "      <td>51655</td>\n",
       "      <td>12</td>\n",
       "    </tr>\n",
       "  </tbody>\n",
       "</table>\n",
       "<p>861 rows × 3 columns</p>\n",
       "</div>"
      ],
      "text/plain": [
       "       dateTime  mentionedEntity1   ct\n",
       "0    2014-05-12               383  105\n",
       "1    2014-05-12              1345   64\n",
       "2    2014-05-12              3608   13\n",
       "3    2014-05-12              5182    2\n",
       "4    2014-05-12             17917    1\n",
       "..          ...               ...  ...\n",
       "856  2014-05-31             42442   14\n",
       "857  2014-05-31             43451    3\n",
       "858  2014-05-31             45034    4\n",
       "859  2014-05-31             51430    3\n",
       "860  2014-05-31             51655   12\n",
       "\n",
       "[861 rows x 3 columns]"
      ]
     },
     "execution_count": 11,
     "metadata": {},
     "output_type": "execute_result"
    }
   ],
   "source": [
    "may_random['dateTime'] = pd.to_datetime(may_random['dateTime'], format=\"%m:%d:%Y:%H:%M:%S\")\n",
    "\n",
    "# change dateTime column to just dates for visualizations\n",
    "may_random['dateTime'] = may_random['dateTime'].dt.date\n",
    "\n",
    "random_entity1_ct_df = (may_random.reset_index()\n",
    "          .groupby(['dateTime','mentionedEntity1'], as_index=False)\n",
    "          .count()\n",
    "          # rename isn't strictly necessary here, it's just for readability\n",
    "          .rename(columns={'index':'ct'})\n",
    "       )\n",
    "\n",
    "random_entity1_ct_df"
   ]
  },
  {
   "cell_type": "code",
   "execution_count": 12,
   "metadata": {},
   "outputs": [
    {
     "data": {
      "image/png": "[encoded data removed]",
      "text/plain": [
       "<Figure size 720x720 with 1 Axes>"
      ]
     },
     "metadata": {
      "needs_background": "light"
     },
     "output_type": "display_data"
    }
   ],
   "source": [
    "import matplotlib.pyplot as plt\n",
    "fig, ax = plt.subplots(figsize=(10, 10))\n",
    "\n",
    "count = 1\n",
    "# key gives the group name (i.e. category), data gives the actual values\n",
    "for key, data in random_entity1_ct_df.groupby('mentionedEntity1'):\n",
    "    data.plot(x='dateTime', y='ct', ax=ax)\n",
    "    \n",
    "#adding median dailing count for all entities\n",
    "entity1_ct_df.groupby(entity1_ct_df[\"dateTime\"])[\"ct\"].median().plot(kind='line',\n",
    "                                                                     rot=0, ax=ax, linewidth=3, color='red')\n",
    "\n",
    "ax.get_legend().remove()"
   ]
  },
  {
   "cell_type": "code",
   "execution_count": 16,
   "metadata": {},
   "outputs": [
    {
     "data": {
      "application/vnd.plotly.v1+json": {
       "config": {
        "plotlyServerURL": "https://plot.ly"
       },
       "data": [
        {
         "hovertemplate": "mentionedEntity1=383<br>dateTime=%{x}<br>ct=%{y}<extra></extra>",
         "legendgroup": "383",
         "line": {
          "color": "#636efa",
          "dash": "solid"
         },
         "mode": "lines",
         "name": "383",
         "orientation": "v",
         "showlegend": true,
         "type": "scatter",
         "x": [
          "2014-05-12",
          "2014-05-13",
          "2014-05-14"
         ],
         "xaxis": "x",
         "y": [
          105,
          123,
          3
         ],
         "yaxis": "y"
        },
        {
         "hovertemplate": "mentionedEntity1=1345<br>dateTime=%{x}<br>ct=%{y}<extra></extra>",
         "legendgroup": "1345",
         "line": {
          "color": "#EF553B",
          "dash": "solid"
         },
         "mode": "lines",
         "name": "1345",
         "orientation": "v",
         "showlegend": true,
         "type": "scatter",
         "x": [
          "2014-05-12"
         ],
         "xaxis": "x",
         "y": [
          64
         ],
         "yaxis": "y"
        },
        {
         "hovertemplate": "mentionedEntity1=3608<br>dateTime=%{x}<br>ct=%{y}<extra></extra>",
         "legendgroup": "3608",
         "line": {
          "color": "#00cc96",
          "dash": "solid"
         },
         "mode": "lines",
         "name": "3608",
         "orientation": "v",
         "showlegend": true,
         "type": "scatter",
         "x": [
          "2014-05-12",
          "2014-05-13",
          "2014-05-29"
         ],
         "xaxis": "x",
         "y": [
          13,
          14,
          4
         ],
         "yaxis": "y"
        },
        {
         "hovertemplate": "mentionedEntity1=5182<br>dateTime=%{x}<br>ct=%{y}<extra></extra>",
         "legendgroup": "5182",
         "line": {
          "color": "#ab63fa",
          "dash": "solid"
         },
         "mode": "lines",
         "name": "5182",
         "orientation": "v",
         "showlegend": true,
         "type": "scatter",
         "x": [
          "2014-05-12",
          "2014-05-21",
          "2014-05-23",
          "2014-05-27",
          "2014-05-29",
          "2014-05-31"
         ],
         "xaxis": "x",
         "y": [
          2,
          2,
          4,
          17,
          4,
          4
         ],
         "yaxis": "y"
        },
        {
         "hovertemplate": "mentionedEntity1=17917<br>dateTime=%{x}<br>ct=%{y}<extra></extra>",
         "legendgroup": "17917",
         "line": {
          "color": "#FFA15A",
          "dash": "solid"
         },
         "mode": "lines",
         "name": "17917",
         "orientation": "v",
         "showlegend": true,
         "type": "scatter",
         "x": [
          "2014-05-12"
         ],
         "xaxis": "x",
         "y": [
          1
         ],
         "yaxis": "y"
        },
        {
         "hovertemplate": "mentionedEntity1=24210<br>dateTime=%{x}<br>ct=%{y}<extra></extra>",
         "legendgroup": "24210",
         "line": {
          "color": "#19d3f3",
          "dash": "solid"
         },
         "mode": "lines",
         "name": "24210",
         "orientation": "v",
         "showlegend": true,
         "type": "scatter",
         "x": [
          "2014-05-12"
         ],
         "xaxis": "x",
         "y": [
          1
         ],
         "yaxis": "y"
        },
        {
         "hovertemplate": "mentionedEntity1=25681<br>dateTime=%{x}<br>ct=%{y}<extra></extra>",
         "legendgroup": "25681",
         "line": {
          "color": "#FF6692",
          "dash": "solid"
         },
         "mode": "lines",
         "name": "25681",
         "orientation": "v",
         "showlegend": true,
         "type": "scatter",
         "x": [
          "2014-05-12",
          "2014-05-27",
          "2014-05-31"
         ],
         "xaxis": "x",
         "y": [
          8,
          7,
          4
         ],
         "yaxis": "y"
        },
        {
         "hovertemplate": "mentionedEntity1=32844<br>dateTime=%{x}<br>ct=%{y}<extra></extra>",
         "legendgroup": "32844",
         "line": {
          "color": "#B6E880",
          "dash": "solid"
         },
         "mode": "lines",
         "name": "32844",
         "orientation": "v",
         "showlegend": true,
         "type": "scatter",
         "x": [
          "2014-05-12",
          "2014-05-13",
          "2014-05-14",
          "2014-05-15",
          "2014-05-16",
          "2014-05-22",
          "2014-05-24",
          "2014-05-26",
          "2014-05-27",
          "2014-05-28",
          "2014-05-29",
          "2014-05-30",
          "2014-05-31"
         ],
         "xaxis": "x",
         "y": [
          3,
          10,
          2,
          18,
          5,
          1,
          12,
          8,
          6,
          12,
          6,
          16,
          15
         ],
         "yaxis": "y"
        },
        {
         "hovertemplate": "mentionedEntity1=40015<br>dateTime=%{x}<br>ct=%{y}<extra></extra>",
         "legendgroup": "40015",
         "line": {
          "color": "#FF97FF",
          "dash": "solid"
         },
         "mode": "lines",
         "name": "40015",
         "orientation": "v",
         "showlegend": true,
         "type": "scatter",
         "x": [
          "2014-05-12"
         ],
         "xaxis": "x",
         "y": [
          2
         ],
         "yaxis": "y"
        },
        {
         "hovertemplate": "mentionedEntity1=40863<br>dateTime=%{x}<br>ct=%{y}<extra></extra>",
         "legendgroup": "40863",
         "line": {
          "color": "#FECB52",
          "dash": "solid"
         },
         "mode": "lines",
         "name": "40863",
         "orientation": "v",
         "showlegend": true,
         "type": "scatter",
         "x": [
          "2014-05-12"
         ],
         "xaxis": "x",
         "y": [
          6
         ],
         "yaxis": "y"
        },
        {
         "hovertemplate": "mentionedEntity1=42629<br>dateTime=%{x}<br>ct=%{y}<extra></extra>",
         "legendgroup": "42629",
         "line": {
          "color": "#636efa",
          "dash": "solid"
         },
         "mode": "lines",
         "name": "42629",
         "orientation": "v",
         "showlegend": true,
         "type": "scatter",
         "x": [
          "2014-05-12"
         ],
         "xaxis": "x",
         "y": [
          1
         ],
         "yaxis": "y"
        },
        {
         "hovertemplate": "mentionedEntity1=48634<br>dateTime=%{x}<br>ct=%{y}<extra></extra>",
         "legendgroup": "48634",
         "line": {
          "color": "#EF553B",
          "dash": "solid"
         },
         "mode": "lines",
         "name": "48634",
         "orientation": "v",
         "showlegend": true,
         "type": "scatter",
         "x": [
          "2014-05-12"
         ],
         "xaxis": "x",
         "y": [
          3
         ],
         "yaxis": "y"
        },
        {
         "hovertemplate": "mentionedEntity1=51974<br>dateTime=%{x}<br>ct=%{y}<extra></extra>",
         "legendgroup": "51974",
         "line": {
          "color": "#00cc96",
          "dash": "solid"
         },
         "mode": "lines",
         "name": "51974",
         "orientation": "v",
         "showlegend": true,
         "type": "scatter",
         "x": [
          "2014-05-12",
          "2014-05-22"
         ],
         "xaxis": "x",
         "y": [
          3,
          3
         ],
         "yaxis": "y"
        },
        {
         "hovertemplate": "mentionedEntity1=484<br>dateTime=%{x}<br>ct=%{y}<extra></extra>",
         "legendgroup": "484",
         "line": {
          "color": "#ab63fa",
          "dash": "solid"
         },
         "mode": "lines",
         "name": "484",
         "orientation": "v",
         "showlegend": true,
         "type": "scatter",
         "x": [
          "2014-05-13",
          "2014-05-27",
          "2014-05-28",
          "2014-05-30"
         ],
         "xaxis": "x",
         "y": [
          7,
          18,
          3,
          4
         ],
         "yaxis": "y"
        },
        {
         "hovertemplate": "mentionedEntity1=677<br>dateTime=%{x}<br>ct=%{y}<extra></extra>",
         "legendgroup": "677",
         "line": {
          "color": "#FFA15A",
          "dash": "solid"
         },
         "mode": "lines",
         "name": "677",
         "orientation": "v",
         "showlegend": true,
         "type": "scatter",
         "x": [
          "2014-05-13",
          "2014-05-14",
          "2014-05-23",
          "2014-05-25",
          "2014-05-26",
          "2014-05-27",
          "2014-05-28"
         ],
         "xaxis": "x",
         "y": [
          8,
          5,
          4,
          21,
          8,
          5,
          3
         ],
         "yaxis": "y"
        },
        {
         "hovertemplate": "mentionedEntity1=689<br>dateTime=%{x}<br>ct=%{y}<extra></extra>",
         "legendgroup": "689",
         "line": {
          "color": "#19d3f3",
          "dash": "solid"
         },
         "mode": "lines",
         "name": "689",
         "orientation": "v",
         "showlegend": true,
         "type": "scatter",
         "x": [
          "2014-05-13",
          "2014-05-14",
          "2014-05-25",
          "2014-05-26"
         ],
         "xaxis": "x",
         "y": [
          45,
          5,
          6,
          40
         ],
         "yaxis": "y"
        },
        {
         "hovertemplate": "mentionedEntity1=2104<br>dateTime=%{x}<br>ct=%{y}<extra></extra>",
         "legendgroup": "2104",
         "line": {
          "color": "#FF6692",
          "dash": "solid"
         },
         "mode": "lines",
         "name": "2104",
         "orientation": "v",
         "showlegend": true,
         "type": "scatter",
         "x": [
          "2014-05-13"
         ],
         "xaxis": "x",
         "y": [
          3
         ],
         "yaxis": "y"
        },
        {
         "hovertemplate": "mentionedEntity1=2229<br>dateTime=%{x}<br>ct=%{y}<extra></extra>",
         "legendgroup": "2229",
         "line": {
          "color": "#B6E880",
          "dash": "solid"
         },
         "mode": "lines",
         "name": "2229",
         "orientation": "v",
         "showlegend": true,
         "type": "scatter",
         "x": [
          "2014-05-13"
         ],
         "xaxis": "x",
         "y": [
          8
         ],
         "yaxis": "y"
        },
        {
         "hovertemplate": "mentionedEntity1=3659<br>dateTime=%{x}<br>ct=%{y}<extra></extra>",
         "legendgroup": "3659",
         "line": {
          "color": "#FF97FF",
          "dash": "solid"
         },
         "mode": "lines",
         "name": "3659",
         "orientation": "v",
         "showlegend": true,
         "type": "scatter",
         "x": [
          "2014-05-13",
          "2014-05-15"
         ],
         "xaxis": "x",
         "y": [
          9,
          9
         ],
         "yaxis": "y"
        },
        {
         "hovertemplate": "mentionedEntity1=4890<br>dateTime=%{x}<br>ct=%{y}<extra></extra>",
         "legendgroup": "4890",
         "line": {
          "color": "#FECB52",
          "dash": "solid"
         },
         "mode": "lines",
         "name": "4890",
         "orientation": "v",
         "showlegend": true,
         "type": "scatter",
         "x": [
          "2014-05-13"
         ],
         "xaxis": "x",
         "y": [
          3
         ],
         "yaxis": "y"
        },
        {
         "hovertemplate": "mentionedEntity1=4942<br>dateTime=%{x}<br>ct=%{y}<extra></extra>",
         "legendgroup": "4942",
         "line": {
          "color": "#636efa",
          "dash": "solid"
         },
         "mode": "lines",
         "name": "4942",
         "orientation": "v",
         "showlegend": true,
         "type": "scatter",
         "x": [
          "2014-05-13"
         ],
         "xaxis": "x",
         "y": [
          5
         ],
         "yaxis": "y"
        },
        {
         "hovertemplate": "mentionedEntity1=7323<br>dateTime=%{x}<br>ct=%{y}<extra></extra>",
         "legendgroup": "7323",
         "line": {
          "color": "#EF553B",
          "dash": "solid"
         },
         "mode": "lines",
         "name": "7323",
         "orientation": "v",
         "showlegend": true,
         "type": "scatter",
         "x": [
          "2014-05-13"
         ],
         "xaxis": "x",
         "y": [
          1
         ],
         "yaxis": "y"
        },
        {
         "hovertemplate": "mentionedEntity1=8101<br>dateTime=%{x}<br>ct=%{y}<extra></extra>",
         "legendgroup": "8101",
         "line": {
          "color": "#00cc96",
          "dash": "solid"
         },
         "mode": "lines",
         "name": "8101",
         "orientation": "v",
         "showlegend": true,
         "type": "scatter",
         "x": [
          "2014-05-13",
          "2014-05-14",
          "2014-05-15",
          "2014-05-23",
          "2014-05-24",
          "2014-05-25",
          "2014-05-26",
          "2014-05-27",
          "2014-05-28",
          "2014-05-29",
          "2014-05-30",
          "2014-05-31"
         ],
         "xaxis": "x",
         "y": [
          8,
          14,
          9,
          4,
          26,
          4,
          10,
          16,
          24,
          23,
          21,
          26
         ],
         "yaxis": "y"
        },
        {
         "hovertemplate": "mentionedEntity1=8496<br>dateTime=%{x}<br>ct=%{y}<extra></extra>",
         "legendgroup": "8496",
         "line": {
          "color": "#ab63fa",
          "dash": "solid"
         },
         "mode": "lines",
         "name": "8496",
         "orientation": "v",
         "showlegend": true,
         "type": "scatter",
         "x": [
          "2014-05-13"
         ],
         "xaxis": "x",
         "y": [
          2
         ],
         "yaxis": "y"
        },
        {
         "hovertemplate": "mentionedEntity1=9951<br>dateTime=%{x}<br>ct=%{y}<extra></extra>",
         "legendgroup": "9951",
         "line": {
          "color": "#FFA15A",
          "dash": "solid"
         },
         "mode": "lines",
         "name": "9951",
         "orientation": "v",
         "showlegend": true,
         "type": "scatter",
         "x": [
          "2014-05-13",
          "2014-05-14"
         ],
         "xaxis": "x",
         "y": [
          2,
          6
         ],
         "yaxis": "y"
        },
        {
         "hovertemplate": "mentionedEntity1=10204<br>dateTime=%{x}<br>ct=%{y}<extra></extra>",
         "legendgroup": "10204",
         "line": {
          "color": "#19d3f3",
          "dash": "solid"
         },
         "mode": "lines",
         "name": "10204",
         "orientation": "v",
         "showlegend": true,
         "type": "scatter",
         "x": [
          "2014-05-13"
         ],
         "xaxis": "x",
         "y": [
          1
         ],
         "yaxis": "y"
        },
        {
         "hovertemplate": "mentionedEntity1=10218<br>dateTime=%{x}<br>ct=%{y}<extra></extra>",
         "legendgroup": "10218",
         "line": {
          "color": "#FF6692",
          "dash": "solid"
         },
         "mode": "lines",
         "name": "10218",
         "orientation": "v",
         "showlegend": true,
         "type": "scatter",
         "x": [
          "2014-05-13",
          "2014-05-31"
         ],
         "xaxis": "x",
         "y": [
          1,
          1
         ],
         "yaxis": "y"
        },
        {
         "hovertemplate": "mentionedEntity1=10288<br>dateTime=%{x}<br>ct=%{y}<extra></extra>",
         "legendgroup": "10288",
         "line": {
          "color": "#B6E880",
          "dash": "solid"
         },
         "mode": "lines",
         "name": "10288",
         "orientation": "v",
         "showlegend": true,
         "type": "scatter",
         "x": [
          "2014-05-13"
         ],
         "xaxis": "x",
         "y": [
          1
         ],
         "yaxis": "y"
        },
        {
         "hovertemplate": "mentionedEntity1=11625<br>dateTime=%{x}<br>ct=%{y}<extra></extra>",
         "legendgroup": "11625",
         "line": {
          "color": "#FF97FF",
          "dash": "solid"
         },
         "mode": "lines",
         "name": "11625",
         "orientation": "v",
         "showlegend": true,
         "type": "scatter",
         "x": [
          "2014-05-13"
         ],
         "xaxis": "x",
         "y": [
          1
         ],
         "yaxis": "y"
        },
        {
         "hovertemplate": "mentionedEntity1=11974<br>dateTime=%{x}<br>ct=%{y}<extra></extra>",
         "legendgroup": "11974",
         "line": {
          "color": "#FECB52",
          "dash": "solid"
         },
         "mode": "lines",
         "name": "11974",
         "orientation": "v",
         "showlegend": true,
         "type": "scatter",
         "x": [
          "2014-05-13"
         ],
         "xaxis": "x",
         "y": [
          2
         ],
         "yaxis": "y"
        },
        {
         "hovertemplate": "mentionedEntity1=12320<br>dateTime=%{x}<br>ct=%{y}<extra></extra>",
         "legendgroup": "12320",
         "line": {
          "color": "#636efa",
          "dash": "solid"
         },
         "mode": "lines",
         "name": "12320",
         "orientation": "v",
         "showlegend": true,
         "type": "scatter",
         "x": [
          "2014-05-13"
         ],
         "xaxis": "x",
         "y": [
          3
         ],
         "yaxis": "y"
        },
        {
         "hovertemplate": "mentionedEntity1=12491<br>dateTime=%{x}<br>ct=%{y}<extra></extra>",
         "legendgroup": "12491",
         "line": {
          "color": "#EF553B",
          "dash": "solid"
         },
         "mode": "lines",
         "name": "12491",
         "orientation": "v",
         "showlegend": true,
         "type": "scatter",
         "x": [
          "2014-05-13"
         ],
         "xaxis": "x",
         "y": [
          4
         ],
         "yaxis": "y"
        },
        {
         "hovertemplate": "mentionedEntity1=16427<br>dateTime=%{x}<br>ct=%{y}<extra></extra>",
         "legendgroup": "16427",
         "line": {
          "color": "#00cc96",
          "dash": "solid"
         },
         "mode": "lines",
         "name": "16427",
         "orientation": "v",
         "showlegend": true,
         "type": "scatter",
         "x": [
          "2014-05-13"
         ],
         "xaxis": "x",
         "y": [
          4
         ],
         "yaxis": "y"
        },
        {
         "hovertemplate": "mentionedEntity1=16965<br>dateTime=%{x}<br>ct=%{y}<extra></extra>",
         "legendgroup": "16965",
         "line": {
          "color": "#ab63fa",
          "dash": "solid"
         },
         "mode": "lines",
         "name": "16965",
         "orientation": "v",
         "showlegend": true,
         "type": "scatter",
         "x": [
          "2014-05-13"
         ],
         "xaxis": "x",
         "y": [
          2
         ],
         "yaxis": "y"
        },
        {
         "hovertemplate": "mentionedEntity1=18151<br>dateTime=%{x}<br>ct=%{y}<extra></extra>",
         "legendgroup": "18151",
         "line": {
          "color": "#FFA15A",
          "dash": "solid"
         },
         "mode": "lines",
         "name": "18151",
         "orientation": "v",
         "showlegend": true,
         "type": "scatter",
         "x": [
          "2014-05-13"
         ],
         "xaxis": "x",
         "y": [
          4
         ],
         "yaxis": "y"
        },
        {
         "hovertemplate": "mentionedEntity1=18930<br>dateTime=%{x}<br>ct=%{y}<extra></extra>",
         "legendgroup": "18930",
         "line": {
          "color": "#19d3f3",
          "dash": "solid"
         },
         "mode": "lines",
         "name": "18930",
         "orientation": "v",
         "showlegend": true,
         "type": "scatter",
         "x": [
          "2014-05-13",
          "2014-05-14",
          "2014-05-16",
          "2014-05-21",
          "2014-05-23",
          "2014-05-24",
          "2014-05-26",
          "2014-05-27",
          "2014-05-29",
          "2014-05-31"
         ],
         "xaxis": "x",
         "y": [
          3,
          2,
          2,
          2,
          2,
          2,
          2,
          2,
          2,
          2
         ],
         "yaxis": "y"
        },
        {
         "hovertemplate": "mentionedEntity1=19494<br>dateTime=%{x}<br>ct=%{y}<extra></extra>",
         "legendgroup": "19494",
         "line": {
          "color": "#FF6692",
          "dash": "solid"
         },
         "mode": "lines",
         "name": "19494",
         "orientation": "v",
         "showlegend": true,
         "type": "scatter",
         "x": [
          "2014-05-13"
         ],
         "xaxis": "x",
         "y": [
          3
         ],
         "yaxis": "y"
        },
        {
         "hovertemplate": "mentionedEntity1=19639<br>dateTime=%{x}<br>ct=%{y}<extra></extra>",
         "legendgroup": "19639",
         "line": {
          "color": "#B6E880",
          "dash": "solid"
         },
         "mode": "lines",
         "name": "19639",
         "orientation": "v",
         "showlegend": true,
         "type": "scatter",
         "x": [
          "2014-05-13"
         ],
         "xaxis": "x",
         "y": [
          6
         ],
         "yaxis": "y"
        },
        {
         "hovertemplate": "mentionedEntity1=19784<br>dateTime=%{x}<br>ct=%{y}<extra></extra>",
         "legendgroup": "19784",
         "line": {
          "color": "#FF97FF",
          "dash": "solid"
         },
         "mode": "lines",
         "name": "19784",
         "orientation": "v",
         "showlegend": true,
         "type": "scatter",
         "x": [
          "2014-05-13",
          "2014-05-14",
          "2014-05-26",
          "2014-05-30",
          "2014-05-31"
         ],
         "xaxis": "x",
         "y": [
          5,
          4,
          7,
          3,
          2
         ],
         "yaxis": "y"
        },
        {
         "hovertemplate": "mentionedEntity1=20476<br>dateTime=%{x}<br>ct=%{y}<extra></extra>",
         "legendgroup": "20476",
         "line": {
          "color": "#FECB52",
          "dash": "solid"
         },
         "mode": "lines",
         "name": "20476",
         "orientation": "v",
         "showlegend": true,
         "type": "scatter",
         "x": [
          "2014-05-13"
         ],
         "xaxis": "x",
         "y": [
          4
         ],
         "yaxis": "y"
        },
        {
         "hovertemplate": "mentionedEntity1=20653<br>dateTime=%{x}<br>ct=%{y}<extra></extra>",
         "legendgroup": "20653",
         "line": {
          "color": "#636efa",
          "dash": "solid"
         },
         "mode": "lines",
         "name": "20653",
         "orientation": "v",
         "showlegend": true,
         "type": "scatter",
         "x": [
          "2014-05-13"
         ],
         "xaxis": "x",
         "y": [
          1
         ],
         "yaxis": "y"
        },
        {
         "hovertemplate": "mentionedEntity1=20997<br>dateTime=%{x}<br>ct=%{y}<extra></extra>",
         "legendgroup": "20997",
         "line": {
          "color": "#EF553B",
          "dash": "solid"
         },
         "mode": "lines",
         "name": "20997",
         "orientation": "v",
         "showlegend": true,
         "type": "scatter",
         "x": [
          "2014-05-13"
         ],
         "xaxis": "x",
         "y": [
          3
         ],
         "yaxis": "y"
        },
        {
         "hovertemplate": "mentionedEntity1=21052<br>dateTime=%{x}<br>ct=%{y}<extra></extra>",
         "legendgroup": "21052",
         "line": {
          "color": "#00cc96",
          "dash": "solid"
         },
         "mode": "lines",
         "name": "21052",
         "orientation": "v",
         "showlegend": true,
         "type": "scatter",
         "x": [
          "2014-05-13"
         ],
         "xaxis": "x",
         "y": [
          2
         ],
         "yaxis": "y"
        },
        {
         "hovertemplate": "mentionedEntity1=21130<br>dateTime=%{x}<br>ct=%{y}<extra></extra>",
         "legendgroup": "21130",
         "line": {
          "color": "#ab63fa",
          "dash": "solid"
         },
         "mode": "lines",
         "name": "21130",
         "orientation": "v",
         "showlegend": true,
         "type": "scatter",
         "x": [
          "2014-05-13"
         ],
         "xaxis": "x",
         "y": [
          6
         ],
         "yaxis": "y"
        },
        {
         "hovertemplate": "mentionedEntity1=21260<br>dateTime=%{x}<br>ct=%{y}<extra></extra>",
         "legendgroup": "21260",
         "line": {
          "color": "#FFA15A",
          "dash": "solid"
         },
         "mode": "lines",
         "name": "21260",
         "orientation": "v",
         "showlegend": true,
         "type": "scatter",
         "x": [
          "2014-05-13"
         ],
         "xaxis": "x",
         "y": [
          3
         ],
         "yaxis": "y"
        },
        {
         "hovertemplate": "mentionedEntity1=24227<br>dateTime=%{x}<br>ct=%{y}<extra></extra>",
         "legendgroup": "24227",
         "line": {
          "color": "#19d3f3",
          "dash": "solid"
         },
         "mode": "lines",
         "name": "24227",
         "orientation": "v",
         "showlegend": true,
         "type": "scatter",
         "x": [
          "2014-05-13"
         ],
         "xaxis": "x",
         "y": [
          1
         ],
         "yaxis": "y"
        },
        {
         "hovertemplate": "mentionedEntity1=24457<br>dateTime=%{x}<br>ct=%{y}<extra></extra>",
         "legendgroup": "24457",
         "line": {
          "color": "#FF6692",
          "dash": "solid"
         },
         "mode": "lines",
         "name": "24457",
         "orientation": "v",
         "showlegend": true,
         "type": "scatter",
         "x": [
          "2014-05-13",
          "2014-05-30"
         ],
         "xaxis": "x",
         "y": [
          8,
          1
         ],
         "yaxis": "y"
        },
        {
         "hovertemplate": "mentionedEntity1=24742<br>dateTime=%{x}<br>ct=%{y}<extra></extra>",
         "legendgroup": "24742",
         "line": {
          "color": "#B6E880",
          "dash": "solid"
         },
         "mode": "lines",
         "name": "24742",
         "orientation": "v",
         "showlegend": true,
         "type": "scatter",
         "x": [
          "2014-05-13",
          "2014-05-14",
          "2014-05-20",
          "2014-05-21",
          "2014-05-22",
          "2014-05-25",
          "2014-05-27",
          "2014-05-28",
          "2014-05-29",
          "2014-05-30",
          "2014-05-31"
         ],
         "xaxis": "x",
         "y": [
          6,
          3,
          2,
          4,
          22,
          8,
          6,
          3,
          3,
          9,
          16
         ],
         "yaxis": "y"
        },
        {
         "hovertemplate": "mentionedEntity1=25465<br>dateTime=%{x}<br>ct=%{y}<extra></extra>",
         "legendgroup": "25465",
         "line": {
          "color": "#FF97FF",
          "dash": "solid"
         },
         "mode": "lines",
         "name": "25465",
         "orientation": "v",
         "showlegend": true,
         "type": "scatter",
         "x": [
          "2014-05-13"
         ],
         "xaxis": "x",
         "y": [
          3
         ],
         "yaxis": "y"
        },
        {
         "hovertemplate": "mentionedEntity1=25908<br>dateTime=%{x}<br>ct=%{y}<extra></extra>",
         "legendgroup": "25908",
         "line": {
          "color": "#FECB52",
          "dash": "solid"
         },
         "mode": "lines",
         "name": "25908",
         "orientation": "v",
         "showlegend": true,
         "type": "scatter",
         "x": [
          "2014-05-13"
         ],
         "xaxis": "x",
         "y": [
          4
         ],
         "yaxis": "y"
        },
        {
         "hovertemplate": "mentionedEntity1=26997<br>dateTime=%{x}<br>ct=%{y}<extra></extra>",
         "legendgroup": "26997",
         "line": {
          "color": "#636efa",
          "dash": "solid"
         },
         "mode": "lines",
         "name": "26997",
         "orientation": "v",
         "showlegend": true,
         "type": "scatter",
         "x": [
          "2014-05-13"
         ],
         "xaxis": "x",
         "y": [
          3
         ],
         "yaxis": "y"
        },
        {
         "hovertemplate": "mentionedEntity1=27202<br>dateTime=%{x}<br>ct=%{y}<extra></extra>",
         "legendgroup": "27202",
         "line": {
          "color": "#EF553B",
          "dash": "solid"
         },
         "mode": "lines",
         "name": "27202",
         "orientation": "v",
         "showlegend": true,
         "type": "scatter",
         "x": [
          "2014-05-13"
         ],
         "xaxis": "x",
         "y": [
          2
         ],
         "yaxis": "y"
        },
        {
         "hovertemplate": "mentionedEntity1=27598<br>dateTime=%{x}<br>ct=%{y}<extra></extra>",
         "legendgroup": "27598",
         "line": {
          "color": "#00cc96",
          "dash": "solid"
         },
         "mode": "lines",
         "name": "27598",
         "orientation": "v",
         "showlegend": true,
         "type": "scatter",
         "x": [
          "2014-05-13"
         ],
         "xaxis": "x",
         "y": [
          2
         ],
         "yaxis": "y"
        },
        {
         "hovertemplate": "mentionedEntity1=28081<br>dateTime=%{x}<br>ct=%{y}<extra></extra>",
         "legendgroup": "28081",
         "line": {
          "color": "#ab63fa",
          "dash": "solid"
         },
         "mode": "lines",
         "name": "28081",
         "orientation": "v",
         "showlegend": true,
         "type": "scatter",
         "x": [
          "2014-05-13"
         ],
         "xaxis": "x",
         "y": [
          1
         ],
         "yaxis": "y"
        },
        {
         "hovertemplate": "mentionedEntity1=28204<br>dateTime=%{x}<br>ct=%{y}<extra></extra>",
         "legendgroup": "28204",
         "line": {
          "color": "#FFA15A",
          "dash": "solid"
         },
         "mode": "lines",
         "name": "28204",
         "orientation": "v",
         "showlegend": true,
         "type": "scatter",
         "x": [
          "2014-05-13"
         ],
         "xaxis": "x",
         "y": [
          2
         ],
         "yaxis": "y"
        },
        {
         "hovertemplate": "mentionedEntity1=29111<br>dateTime=%{x}<br>ct=%{y}<extra></extra>",
         "legendgroup": "29111",
         "line": {
          "color": "#19d3f3",
          "dash": "solid"
         },
         "mode": "lines",
         "name": "29111",
         "orientation": "v",
         "showlegend": true,
         "type": "scatter",
         "x": [
          "2014-05-13"
         ],
         "xaxis": "x",
         "y": [
          3
         ],
         "yaxis": "y"
        },
        {
         "hovertemplate": "mentionedEntity1=29735<br>dateTime=%{x}<br>ct=%{y}<extra></extra>",
         "legendgroup": "29735",
         "line": {
          "color": "#FF6692",
          "dash": "solid"
         },
         "mode": "lines",
         "name": "29735",
         "orientation": "v",
         "showlegend": true,
         "type": "scatter",
         "x": [
          "2014-05-13",
          "2014-05-24"
         ],
         "xaxis": "x",
         "y": [
          5,
          13
         ],
         "yaxis": "y"
        },
        {
         "hovertemplate": "mentionedEntity1=30352<br>dateTime=%{x}<br>ct=%{y}<extra></extra>",
         "legendgroup": "30352",
         "line": {
          "color": "#B6E880",
          "dash": "solid"
         },
         "mode": "lines",
         "name": "30352",
         "orientation": "v",
         "showlegend": true,
         "type": "scatter",
         "x": [
          "2014-05-13",
          "2014-05-15",
          "2014-05-16"
         ],
         "xaxis": "x",
         "y": [
          5,
          5,
          5
         ],
         "yaxis": "y"
        },
        {
         "hovertemplate": "mentionedEntity1=30482<br>dateTime=%{x}<br>ct=%{y}<extra></extra>",
         "legendgroup": "30482",
         "line": {
          "color": "#FF97FF",
          "dash": "solid"
         },
         "mode": "lines",
         "name": "30482",
         "orientation": "v",
         "showlegend": true,
         "type": "scatter",
         "x": [
          "2014-05-13"
         ],
         "xaxis": "x",
         "y": [
          3
         ],
         "yaxis": "y"
        },
        {
         "hovertemplate": "mentionedEntity1=31426<br>dateTime=%{x}<br>ct=%{y}<extra></extra>",
         "legendgroup": "31426",
         "line": {
          "color": "#FECB52",
          "dash": "solid"
         },
         "mode": "lines",
         "name": "31426",
         "orientation": "v",
         "showlegend": true,
         "type": "scatter",
         "x": [
          "2014-05-13"
         ],
         "xaxis": "x",
         "y": [
          4
         ],
         "yaxis": "y"
        },
        {
         "hovertemplate": "mentionedEntity1=31753<br>dateTime=%{x}<br>ct=%{y}<extra></extra>",
         "legendgroup": "31753",
         "line": {
          "color": "#636efa",
          "dash": "solid"
         },
         "mode": "lines",
         "name": "31753",
         "orientation": "v",
         "showlegend": true,
         "type": "scatter",
         "x": [
          "2014-05-13"
         ],
         "xaxis": "x",
         "y": [
          3
         ],
         "yaxis": "y"
        },
        {
         "hovertemplate": "mentionedEntity1=32375<br>dateTime=%{x}<br>ct=%{y}<extra></extra>",
         "legendgroup": "32375",
         "line": {
          "color": "#EF553B",
          "dash": "solid"
         },
         "mode": "lines",
         "name": "32375",
         "orientation": "v",
         "showlegend": true,
         "type": "scatter",
         "x": [
          "2014-05-13"
         ],
         "xaxis": "x",
         "y": [
          1
         ],
         "yaxis": "y"
        },
        {
         "hovertemplate": "mentionedEntity1=33775<br>dateTime=%{x}<br>ct=%{y}<extra></extra>",
         "legendgroup": "33775",
         "line": {
          "color": "#00cc96",
          "dash": "solid"
         },
         "mode": "lines",
         "name": "33775",
         "orientation": "v",
         "showlegend": true,
         "type": "scatter",
         "x": [
          "2014-05-13",
          "2014-05-24",
          "2014-05-25",
          "2014-05-26",
          "2014-05-27",
          "2014-05-28",
          "2014-05-29",
          "2014-05-30",
          "2014-05-31"
         ],
         "xaxis": "x",
         "y": [
          3,
          4,
          4,
          3,
          4,
          2,
          3,
          3,
          6
         ],
         "yaxis": "y"
        },
        {
         "hovertemplate": "mentionedEntity1=34242<br>dateTime=%{x}<br>ct=%{y}<extra></extra>",
         "legendgroup": "34242",
         "line": {
          "color": "#ab63fa",
          "dash": "solid"
         },
         "mode": "lines",
         "name": "34242",
         "orientation": "v",
         "showlegend": true,
         "type": "scatter",
         "x": [
          "2014-05-13"
         ],
         "xaxis": "x",
         "y": [
          7
         ],
         "yaxis": "y"
        },
        {
         "hovertemplate": "mentionedEntity1=34371<br>dateTime=%{x}<br>ct=%{y}<extra></extra>",
         "legendgroup": "34371",
         "line": {
          "color": "#FFA15A",
          "dash": "solid"
         },
         "mode": "lines",
         "name": "34371",
         "orientation": "v",
         "showlegend": true,
         "type": "scatter",
         "x": [
          "2014-05-13"
         ],
         "xaxis": "x",
         "y": [
          6
         ],
         "yaxis": "y"
        },
        {
         "hovertemplate": "mentionedEntity1=37003<br>dateTime=%{x}<br>ct=%{y}<extra></extra>",
         "legendgroup": "37003",
         "line": {
          "color": "#19d3f3",
          "dash": "solid"
         },
         "mode": "lines",
         "name": "37003",
         "orientation": "v",
         "showlegend": true,
         "type": "scatter",
         "x": [
          "2014-05-13"
         ],
         "xaxis": "x",
         "y": [
          4
         ],
         "yaxis": "y"
        },
        {
         "hovertemplate": "mentionedEntity1=37170<br>dateTime=%{x}<br>ct=%{y}<extra></extra>",
         "legendgroup": "37170",
         "line": {
          "color": "#FF6692",
          "dash": "solid"
         },
         "mode": "lines",
         "name": "37170",
         "orientation": "v",
         "showlegend": true,
         "type": "scatter",
         "x": [
          "2014-05-13"
         ],
         "xaxis": "x",
         "y": [
          2
         ],
         "yaxis": "y"
        },
        {
         "hovertemplate": "mentionedEntity1=38132<br>dateTime=%{x}<br>ct=%{y}<extra></extra>",
         "legendgroup": "38132",
         "line": {
          "color": "#B6E880",
          "dash": "solid"
         },
         "mode": "lines",
         "name": "38132",
         "orientation": "v",
         "showlegend": true,
         "type": "scatter",
         "x": [
          "2014-05-13"
         ],
         "xaxis": "x",
         "y": [
          14
         ],
         "yaxis": "y"
        },
        {
         "hovertemplate": "mentionedEntity1=39886<br>dateTime=%{x}<br>ct=%{y}<extra></extra>",
         "legendgroup": "39886",
         "line": {
          "color": "#FF97FF",
          "dash": "solid"
         },
         "mode": "lines",
         "name": "39886",
         "orientation": "v",
         "showlegend": true,
         "type": "scatter",
         "x": [
          "2014-05-13"
         ],
         "xaxis": "x",
         "y": [
          8
         ],
         "yaxis": "y"
        },
        {
         "hovertemplate": "mentionedEntity1=40024<br>dateTime=%{x}<br>ct=%{y}<extra></extra>",
         "legendgroup": "40024",
         "line": {
          "color": "#FECB52",
          "dash": "solid"
         },
         "mode": "lines",
         "name": "40024",
         "orientation": "v",
         "showlegend": true,
         "type": "scatter",
         "x": [
          "2014-05-13",
          "2014-05-15",
          "2014-05-22",
          "2014-05-24",
          "2014-05-27",
          "2014-05-28"
         ],
         "xaxis": "x",
         "y": [
          7,
          2,
          18,
          2,
          11,
          10
         ],
         "yaxis": "y"
        },
        {
         "hovertemplate": "mentionedEntity1=42159<br>dateTime=%{x}<br>ct=%{y}<extra></extra>",
         "legendgroup": "42159",
         "line": {
          "color": "#636efa",
          "dash": "solid"
         },
         "mode": "lines",
         "name": "42159",
         "orientation": "v",
         "showlegend": true,
         "type": "scatter",
         "x": [
          "2014-05-13"
         ],
         "xaxis": "x",
         "y": [
          3
         ],
         "yaxis": "y"
        },
        {
         "hovertemplate": "mentionedEntity1=42402<br>dateTime=%{x}<br>ct=%{y}<extra></extra>",
         "legendgroup": "42402",
         "line": {
          "color": "#EF553B",
          "dash": "solid"
         },
         "mode": "lines",
         "name": "42402",
         "orientation": "v",
         "showlegend": true,
         "type": "scatter",
         "x": [
          "2014-05-13",
          "2014-05-26",
          "2014-05-28",
          "2014-05-30"
         ],
         "xaxis": "x",
         "y": [
          6,
          2,
          5,
          3
         ],
         "yaxis": "y"
        },
        {
         "hovertemplate": "mentionedEntity1=43150<br>dateTime=%{x}<br>ct=%{y}<extra></extra>",
         "legendgroup": "43150",
         "line": {
          "color": "#00cc96",
          "dash": "solid"
         },
         "mode": "lines",
         "name": "43150",
         "orientation": "v",
         "showlegend": true,
         "type": "scatter",
         "x": [
          "2014-05-13"
         ],
         "xaxis": "x",
         "y": [
          5
         ],
         "yaxis": "y"
        },
        {
         "hovertemplate": "mentionedEntity1=43434<br>dateTime=%{x}<br>ct=%{y}<extra></extra>",
         "legendgroup": "43434",
         "line": {
          "color": "#ab63fa",
          "dash": "solid"
         },
         "mode": "lines",
         "name": "43434",
         "orientation": "v",
         "showlegend": true,
         "type": "scatter",
         "x": [
          "2014-05-13"
         ],
         "xaxis": "x",
         "y": [
          3
         ],
         "yaxis": "y"
        },
        {
         "hovertemplate": "mentionedEntity1=44328<br>dateTime=%{x}<br>ct=%{y}<extra></extra>",
         "legendgroup": "44328",
         "line": {
          "color": "#FFA15A",
          "dash": "solid"
         },
         "mode": "lines",
         "name": "44328",
         "orientation": "v",
         "showlegend": true,
         "type": "scatter",
         "x": [
          "2014-05-13"
         ],
         "xaxis": "x",
         "y": [
          1
         ],
         "yaxis": "y"
        },
        {
         "hovertemplate": "mentionedEntity1=46656<br>dateTime=%{x}<br>ct=%{y}<extra></extra>",
         "legendgroup": "46656",
         "line": {
          "color": "#19d3f3",
          "dash": "solid"
         },
         "mode": "lines",
         "name": "46656",
         "orientation": "v",
         "showlegend": true,
         "type": "scatter",
         "x": [
          "2014-05-13"
         ],
         "xaxis": "x",
         "y": [
          5
         ],
         "yaxis": "y"
        },
        {
         "hovertemplate": "mentionedEntity1=46858<br>dateTime=%{x}<br>ct=%{y}<extra></extra>",
         "legendgroup": "46858",
         "line": {
          "color": "#FF6692",
          "dash": "solid"
         },
         "mode": "lines",
         "name": "46858",
         "orientation": "v",
         "showlegend": true,
         "type": "scatter",
         "x": [
          "2014-05-13"
         ],
         "xaxis": "x",
         "y": [
          3
         ],
         "yaxis": "y"
        },
        {
         "hovertemplate": "mentionedEntity1=48141<br>dateTime=%{x}<br>ct=%{y}<extra></extra>",
         "legendgroup": "48141",
         "line": {
          "color": "#B6E880",
          "dash": "solid"
         },
         "mode": "lines",
         "name": "48141",
         "orientation": "v",
         "showlegend": true,
         "type": "scatter",
         "x": [
          "2014-05-13"
         ],
         "xaxis": "x",
         "y": [
          20
         ],
         "yaxis": "y"
        },
        {
         "hovertemplate": "mentionedEntity1=49453<br>dateTime=%{x}<br>ct=%{y}<extra></extra>",
         "legendgroup": "49453",
         "line": {
          "color": "#FF97FF",
          "dash": "solid"
         },
         "mode": "lines",
         "name": "49453",
         "orientation": "v",
         "showlegend": true,
         "type": "scatter",
         "x": [
          "2014-05-13"
         ],
         "xaxis": "x",
         "y": [
          6
         ],
         "yaxis": "y"
        },
        {
         "hovertemplate": "mentionedEntity1=51479<br>dateTime=%{x}<br>ct=%{y}<extra></extra>",
         "legendgroup": "51479",
         "line": {
          "color": "#FECB52",
          "dash": "solid"
         },
         "mode": "lines",
         "name": "51479",
         "orientation": "v",
         "showlegend": true,
         "type": "scatter",
         "x": [
          "2014-05-13"
         ],
         "xaxis": "x",
         "y": [
          5
         ],
         "yaxis": "y"
        },
        {
         "hovertemplate": "mentionedEntity1=52025<br>dateTime=%{x}<br>ct=%{y}<extra></extra>",
         "legendgroup": "52025",
         "line": {
          "color": "#636efa",
          "dash": "solid"
         },
         "mode": "lines",
         "name": "52025",
         "orientation": "v",
         "showlegend": true,
         "type": "scatter",
         "x": [
          "2014-05-13"
         ],
         "xaxis": "x",
         "y": [
          2
         ],
         "yaxis": "y"
        },
        {
         "hovertemplate": "mentionedEntity1=2236<br>dateTime=%{x}<br>ct=%{y}<extra></extra>",
         "legendgroup": "2236",
         "line": {
          "color": "#EF553B",
          "dash": "solid"
         },
         "mode": "lines",
         "name": "2236",
         "orientation": "v",
         "showlegend": true,
         "type": "scatter",
         "x": [
          "2014-05-14",
          "2014-05-15",
          "2014-05-16"
         ],
         "xaxis": "x",
         "y": [
          8,
          8,
          34
         ],
         "yaxis": "y"
        },
        {
         "hovertemplate": "mentionedEntity1=5382<br>dateTime=%{x}<br>ct=%{y}<extra></extra>",
         "legendgroup": "5382",
         "line": {
          "color": "#00cc96",
          "dash": "solid"
         },
         "mode": "lines",
         "name": "5382",
         "orientation": "v",
         "showlegend": true,
         "type": "scatter",
         "x": [
          "2014-05-14",
          "2014-05-25",
          "2014-05-27",
          "2014-05-29",
          "2014-05-31"
         ],
         "xaxis": "x",
         "y": [
          3,
          3,
          2,
          1,
          2
         ],
         "yaxis": "y"
        },
        {
         "hovertemplate": "mentionedEntity1=6192<br>dateTime=%{x}<br>ct=%{y}<extra></extra>",
         "legendgroup": "6192",
         "line": {
          "color": "#ab63fa",
          "dash": "solid"
         },
         "mode": "lines",
         "name": "6192",
         "orientation": "v",
         "showlegend": true,
         "type": "scatter",
         "x": [
          "2014-05-14"
         ],
         "xaxis": "x",
         "y": [
          3
         ],
         "yaxis": "y"
        },
        {
         "hovertemplate": "mentionedEntity1=8700<br>dateTime=%{x}<br>ct=%{y}<extra></extra>",
         "legendgroup": "8700",
         "line": {
          "color": "#FFA15A",
          "dash": "solid"
         },
         "mode": "lines",
         "name": "8700",
         "orientation": "v",
         "showlegend": true,
         "type": "scatter",
         "x": [
          "2014-05-14",
          "2014-05-27"
         ],
         "xaxis": "x",
         "y": [
          1,
          1
         ],
         "yaxis": "y"
        },
        {
         "hovertemplate": "mentionedEntity1=9942<br>dateTime=%{x}<br>ct=%{y}<extra></extra>",
         "legendgroup": "9942",
         "line": {
          "color": "#19d3f3",
          "dash": "solid"
         },
         "mode": "lines",
         "name": "9942",
         "orientation": "v",
         "showlegend": true,
         "type": "scatter",
         "x": [
          "2014-05-14"
         ],
         "xaxis": "x",
         "y": [
          2
         ],
         "yaxis": "y"
        },
        {
         "hovertemplate": "mentionedEntity1=17709<br>dateTime=%{x}<br>ct=%{y}<extra></extra>",
         "legendgroup": "17709",
         "line": {
          "color": "#FF6692",
          "dash": "solid"
         },
         "mode": "lines",
         "name": "17709",
         "orientation": "v",
         "showlegend": true,
         "type": "scatter",
         "x": [
          "2014-05-14",
          "2014-05-15",
          "2014-05-16",
          "2014-05-20",
          "2014-05-21"
         ],
         "xaxis": "x",
         "y": [
          3,
          3,
          3,
          3,
          6
         ],
         "yaxis": "y"
        },
        {
         "hovertemplate": "mentionedEntity1=21275<br>dateTime=%{x}<br>ct=%{y}<extra></extra>",
         "legendgroup": "21275",
         "line": {
          "color": "#B6E880",
          "dash": "solid"
         },
         "mode": "lines",
         "name": "21275",
         "orientation": "v",
         "showlegend": true,
         "type": "scatter",
         "x": [
          "2014-05-14"
         ],
         "xaxis": "x",
         "y": [
          2
         ],
         "yaxis": "y"
        },
        {
         "hovertemplate": "mentionedEntity1=21317<br>dateTime=%{x}<br>ct=%{y}<extra></extra>",
         "legendgroup": "21317",
         "line": {
          "color": "#FF97FF",
          "dash": "solid"
         },
         "mode": "lines",
         "name": "21317",
         "orientation": "v",
         "showlegend": true,
         "type": "scatter",
         "x": [
          "2014-05-14"
         ],
         "xaxis": "x",
         "y": [
          3
         ],
         "yaxis": "y"
        },
        {
         "hovertemplate": "mentionedEntity1=21346<br>dateTime=%{x}<br>ct=%{y}<extra></extra>",
         "legendgroup": "21346",
         "line": {
          "color": "#FECB52",
          "dash": "solid"
         },
         "mode": "lines",
         "name": "21346",
         "orientation": "v",
         "showlegend": true,
         "type": "scatter",
         "x": [
          "2014-05-14"
         ],
         "xaxis": "x",
         "y": [
          4
         ],
         "yaxis": "y"
        },
        {
         "hovertemplate": "mentionedEntity1=24770<br>dateTime=%{x}<br>ct=%{y}<extra></extra>",
         "legendgroup": "24770",
         "line": {
          "color": "#636efa",
          "dash": "solid"
         },
         "mode": "lines",
         "name": "24770",
         "orientation": "v",
         "showlegend": true,
         "type": "scatter",
         "x": [
          "2014-05-14",
          "2014-05-31"
         ],
         "xaxis": "x",
         "y": [
          6,
          6
         ],
         "yaxis": "y"
        },
        {
         "hovertemplate": "mentionedEntity1=25001<br>dateTime=%{x}<br>ct=%{y}<extra></extra>",
         "legendgroup": "25001",
         "line": {
          "color": "#EF553B",
          "dash": "solid"
         },
         "mode": "lines",
         "name": "25001",
         "orientation": "v",
         "showlegend": true,
         "type": "scatter",
         "x": [
          "2014-05-14"
         ],
         "xaxis": "x",
         "y": [
          2
         ],
         "yaxis": "y"
        },
        {
         "hovertemplate": "mentionedEntity1=31603<br>dateTime=%{x}<br>ct=%{y}<extra></extra>",
         "legendgroup": "31603",
         "line": {
          "color": "#00cc96",
          "dash": "solid"
         },
         "mode": "lines",
         "name": "31603",
         "orientation": "v",
         "showlegend": true,
         "type": "scatter",
         "x": [
          "2014-05-14"
         ],
         "xaxis": "x",
         "y": [
          3
         ],
         "yaxis": "y"
        },
        {
         "hovertemplate": "mentionedEntity1=33828<br>dateTime=%{x}<br>ct=%{y}<extra></extra>",
         "legendgroup": "33828",
         "line": {
          "color": "#ab63fa",
          "dash": "solid"
         },
         "mode": "lines",
         "name": "33828",
         "orientation": "v",
         "showlegend": true,
         "type": "scatter",
         "x": [
          "2014-05-14"
         ],
         "xaxis": "x",
         "y": [
          3
         ],
         "yaxis": "y"
        },
        {
         "hovertemplate": "mentionedEntity1=35808<br>dateTime=%{x}<br>ct=%{y}<extra></extra>",
         "legendgroup": "35808",
         "line": {
          "color": "#FFA15A",
          "dash": "solid"
         },
         "mode": "lines",
         "name": "35808",
         "orientation": "v",
         "showlegend": true,
         "type": "scatter",
         "x": [
          "2014-05-14"
         ],
         "xaxis": "x",
         "y": [
          3
         ],
         "yaxis": "y"
        },
        {
         "hovertemplate": "mentionedEntity1=36517<br>dateTime=%{x}<br>ct=%{y}<extra></extra>",
         "legendgroup": "36517",
         "line": {
          "color": "#19d3f3",
          "dash": "solid"
         },
         "mode": "lines",
         "name": "36517",
         "orientation": "v",
         "showlegend": true,
         "type": "scatter",
         "x": [
          "2014-05-14"
         ],
         "xaxis": "x",
         "y": [
          6
         ],
         "yaxis": "y"
        },
        {
         "hovertemplate": "mentionedEntity1=36897<br>dateTime=%{x}<br>ct=%{y}<extra></extra>",
         "legendgroup": "36897",
         "line": {
          "color": "#FF6692",
          "dash": "solid"
         },
         "mode": "lines",
         "name": "36897",
         "orientation": "v",
         "showlegend": true,
         "type": "scatter",
         "x": [
          "2014-05-14"
         ],
         "xaxis": "x",
         "y": [
          2
         ],
         "yaxis": "y"
        },
        {
         "hovertemplate": "mentionedEntity1=38275<br>dateTime=%{x}<br>ct=%{y}<extra></extra>",
         "legendgroup": "38275",
         "line": {
          "color": "#B6E880",
          "dash": "solid"
         },
         "mode": "lines",
         "name": "38275",
         "orientation": "v",
         "showlegend": true,
         "type": "scatter",
         "x": [
          "2014-05-14"
         ],
         "xaxis": "x",
         "y": [
          3
         ],
         "yaxis": "y"
        },
        {
         "hovertemplate": "mentionedEntity1=38445<br>dateTime=%{x}<br>ct=%{y}<extra></extra>",
         "legendgroup": "38445",
         "line": {
          "color": "#FF97FF",
          "dash": "solid"
         },
         "mode": "lines",
         "name": "38445",
         "orientation": "v",
         "showlegend": true,
         "type": "scatter",
         "x": [
          "2014-05-14"
         ],
         "xaxis": "x",
         "y": [
          2
         ],
         "yaxis": "y"
        },
        {
         "hovertemplate": "mentionedEntity1=45160<br>dateTime=%{x}<br>ct=%{y}<extra></extra>",
         "legendgroup": "45160",
         "line": {
          "color": "#FECB52",
          "dash": "solid"
         },
         "mode": "lines",
         "name": "45160",
         "orientation": "v",
         "showlegend": true,
         "type": "scatter",
         "x": [
          "2014-05-14"
         ],
         "xaxis": "x",
         "y": [
          14
         ],
         "yaxis": "y"
        },
        {
         "hovertemplate": "mentionedEntity1=47621<br>dateTime=%{x}<br>ct=%{y}<extra></extra>",
         "legendgroup": "47621",
         "line": {
          "color": "#636efa",
          "dash": "solid"
         },
         "mode": "lines",
         "name": "47621",
         "orientation": "v",
         "showlegend": true,
         "type": "scatter",
         "x": [
          "2014-05-14"
         ],
         "xaxis": "x",
         "y": [
          8
         ],
         "yaxis": "y"
        },
        {
         "hovertemplate": "mentionedEntity1=51030<br>dateTime=%{x}<br>ct=%{y}<extra></extra>",
         "legendgroup": "51030",
         "line": {
          "color": "#EF553B",
          "dash": "solid"
         },
         "mode": "lines",
         "name": "51030",
         "orientation": "v",
         "showlegend": true,
         "type": "scatter",
         "x": [
          "2014-05-14"
         ],
         "xaxis": "x",
         "y": [
          4
         ],
         "yaxis": "y"
        },
        {
         "hovertemplate": "mentionedEntity1=965<br>dateTime=%{x}<br>ct=%{y}<extra></extra>",
         "legendgroup": "965",
         "line": {
          "color": "#00cc96",
          "dash": "solid"
         },
         "mode": "lines",
         "name": "965",
         "orientation": "v",
         "showlegend": true,
         "type": "scatter",
         "x": [
          "2014-05-15",
          "2014-05-22"
         ],
         "xaxis": "x",
         "y": [
          1,
          2
         ],
         "yaxis": "y"
        },
        {
         "hovertemplate": "mentionedEntity1=1400<br>dateTime=%{x}<br>ct=%{y}<extra></extra>",
         "legendgroup": "1400",
         "line": {
          "color": "#ab63fa",
          "dash": "solid"
         },
         "mode": "lines",
         "name": "1400",
         "orientation": "v",
         "showlegend": true,
         "type": "scatter",
         "x": [
          "2014-05-15"
         ],
         "xaxis": "x",
         "y": [
          3
         ],
         "yaxis": "y"
        },
        {
         "hovertemplate": "mentionedEntity1=3744<br>dateTime=%{x}<br>ct=%{y}<extra></extra>",
         "legendgroup": "3744",
         "line": {
          "color": "#FFA15A",
          "dash": "solid"
         },
         "mode": "lines",
         "name": "3744",
         "orientation": "v",
         "showlegend": true,
         "type": "scatter",
         "x": [
          "2014-05-15"
         ],
         "xaxis": "x",
         "y": [
          4
         ],
         "yaxis": "y"
        },
        {
         "hovertemplate": "mentionedEntity1=4120<br>dateTime=%{x}<br>ct=%{y}<extra></extra>",
         "legendgroup": "4120",
         "line": {
          "color": "#19d3f3",
          "dash": "solid"
         },
         "mode": "lines",
         "name": "4120",
         "orientation": "v",
         "showlegend": true,
         "type": "scatter",
         "x": [
          "2014-05-15",
          "2014-05-16"
         ],
         "xaxis": "x",
         "y": [
          3,
          3
         ],
         "yaxis": "y"
        },
        {
         "hovertemplate": "mentionedEntity1=5379<br>dateTime=%{x}<br>ct=%{y}<extra></extra>",
         "legendgroup": "5379",
         "line": {
          "color": "#FF6692",
          "dash": "solid"
         },
         "mode": "lines",
         "name": "5379",
         "orientation": "v",
         "showlegend": true,
         "type": "scatter",
         "x": [
          "2014-05-15"
         ],
         "xaxis": "x",
         "y": [
          3
         ],
         "yaxis": "y"
        },
        {
         "hovertemplate": "mentionedEntity1=7054<br>dateTime=%{x}<br>ct=%{y}<extra></extra>",
         "legendgroup": "7054",
         "line": {
          "color": "#B6E880",
          "dash": "solid"
         },
         "mode": "lines",
         "name": "7054",
         "orientation": "v",
         "showlegend": true,
         "type": "scatter",
         "x": [
          "2014-05-15"
         ],
         "xaxis": "x",
         "y": [
          9
         ],
         "yaxis": "y"
        },
        {
         "hovertemplate": "mentionedEntity1=7956<br>dateTime=%{x}<br>ct=%{y}<extra></extra>",
         "legendgroup": "7956",
         "line": {
          "color": "#FF97FF",
          "dash": "solid"
         },
         "mode": "lines",
         "name": "7956",
         "orientation": "v",
         "showlegend": true,
         "type": "scatter",
         "x": [
          "2014-05-15"
         ],
         "xaxis": "x",
         "y": [
          7
         ],
         "yaxis": "y"
        },
        {
         "hovertemplate": "mentionedEntity1=8068<br>dateTime=%{x}<br>ct=%{y}<extra></extra>",
         "legendgroup": "8068",
         "line": {
          "color": "#FECB52",
          "dash": "solid"
         },
         "mode": "lines",
         "name": "8068",
         "orientation": "v",
         "showlegend": true,
         "type": "scatter",
         "x": [
          "2014-05-15"
         ],
         "xaxis": "x",
         "y": [
          1
         ],
         "yaxis": "y"
        },
        {
         "hovertemplate": "mentionedEntity1=9197<br>dateTime=%{x}<br>ct=%{y}<extra></extra>",
         "legendgroup": "9197",
         "line": {
          "color": "#636efa",
          "dash": "solid"
         },
         "mode": "lines",
         "name": "9197",
         "orientation": "v",
         "showlegend": true,
         "type": "scatter",
         "x": [
          "2014-05-15"
         ],
         "xaxis": "x",
         "y": [
          1
         ],
         "yaxis": "y"
        },
        {
         "hovertemplate": "mentionedEntity1=11973<br>dateTime=%{x}<br>ct=%{y}<extra></extra>",
         "legendgroup": "11973",
         "line": {
          "color": "#EF553B",
          "dash": "solid"
         },
         "mode": "lines",
         "name": "11973",
         "orientation": "v",
         "showlegend": true,
         "type": "scatter",
         "x": [
          "2014-05-15"
         ],
         "xaxis": "x",
         "y": [
          2
         ],
         "yaxis": "y"
        },
        {
         "hovertemplate": "mentionedEntity1=12128<br>dateTime=%{x}<br>ct=%{y}<extra></extra>",
         "legendgroup": "12128",
         "line": {
          "color": "#00cc96",
          "dash": "solid"
         },
         "mode": "lines",
         "name": "12128",
         "orientation": "v",
         "showlegend": true,
         "type": "scatter",
         "x": [
          "2014-05-15"
         ],
         "xaxis": "x",
         "y": [
          2
         ],
         "yaxis": "y"
        },
        {
         "hovertemplate": "mentionedEntity1=12492<br>dateTime=%{x}<br>ct=%{y}<extra></extra>",
         "legendgroup": "12492",
         "line": {
          "color": "#ab63fa",
          "dash": "solid"
         },
         "mode": "lines",
         "name": "12492",
         "orientation": "v",
         "showlegend": true,
         "type": "scatter",
         "x": [
          "2014-05-15"
         ],
         "xaxis": "x",
         "y": [
          1
         ],
         "yaxis": "y"
        },
        {
         "hovertemplate": "mentionedEntity1=13877<br>dateTime=%{x}<br>ct=%{y}<extra></extra>",
         "legendgroup": "13877",
         "line": {
          "color": "#FFA15A",
          "dash": "solid"
         },
         "mode": "lines",
         "name": "13877",
         "orientation": "v",
         "showlegend": true,
         "type": "scatter",
         "x": [
          "2014-05-15"
         ],
         "xaxis": "x",
         "y": [
          3
         ],
         "yaxis": "y"
        },
        {
         "hovertemplate": "mentionedEntity1=14364<br>dateTime=%{x}<br>ct=%{y}<extra></extra>",
         "legendgroup": "14364",
         "line": {
          "color": "#19d3f3",
          "dash": "solid"
         },
         "mode": "lines",
         "name": "14364",
         "orientation": "v",
         "showlegend": true,
         "type": "scatter",
         "x": [
          "2014-05-15"
         ],
         "xaxis": "x",
         "y": [
          3
         ],
         "yaxis": "y"
        },
        {
         "hovertemplate": "mentionedEntity1=15477<br>dateTime=%{x}<br>ct=%{y}<extra></extra>",
         "legendgroup": "15477",
         "line": {
          "color": "#FF6692",
          "dash": "solid"
         },
         "mode": "lines",
         "name": "15477",
         "orientation": "v",
         "showlegend": true,
         "type": "scatter",
         "x": [
          "2014-05-15"
         ],
         "xaxis": "x",
         "y": [
          3
         ],
         "yaxis": "y"
        },
        {
         "hovertemplate": "mentionedEntity1=15835<br>dateTime=%{x}<br>ct=%{y}<extra></extra>",
         "legendgroup": "15835",
         "line": {
          "color": "#B6E880",
          "dash": "solid"
         },
         "mode": "lines",
         "name": "15835",
         "orientation": "v",
         "showlegend": true,
         "type": "scatter",
         "x": [
          "2014-05-15",
          "2014-05-27"
         ],
         "xaxis": "x",
         "y": [
          2,
          2
         ],
         "yaxis": "y"
        },
        {
         "hovertemplate": "mentionedEntity1=16684<br>dateTime=%{x}<br>ct=%{y}<extra></extra>",
         "legendgroup": "16684",
         "line": {
          "color": "#FF97FF",
          "dash": "solid"
         },
         "mode": "lines",
         "name": "16684",
         "orientation": "v",
         "showlegend": true,
         "type": "scatter",
         "x": [
          "2014-05-15"
         ],
         "xaxis": "x",
         "y": [
          3
         ],
         "yaxis": "y"
        },
        {
         "hovertemplate": "mentionedEntity1=17434<br>dateTime=%{x}<br>ct=%{y}<extra></extra>",
         "legendgroup": "17434",
         "line": {
          "color": "#FECB52",
          "dash": "solid"
         },
         "mode": "lines",
         "name": "17434",
         "orientation": "v",
         "showlegend": true,
         "type": "scatter",
         "x": [
          "2014-05-15"
         ],
         "xaxis": "x",
         "y": [
          6
         ],
         "yaxis": "y"
        },
        {
         "hovertemplate": "mentionedEntity1=17444<br>dateTime=%{x}<br>ct=%{y}<extra></extra>",
         "legendgroup": "17444",
         "line": {
          "color": "#636efa",
          "dash": "solid"
         },
         "mode": "lines",
         "name": "17444",
         "orientation": "v",
         "showlegend": true,
         "type": "scatter",
         "x": [
          "2014-05-15"
         ],
         "xaxis": "x",
         "y": [
          2
         ],
         "yaxis": "y"
        },
        {
         "hovertemplate": "mentionedEntity1=17708<br>dateTime=%{x}<br>ct=%{y}<extra></extra>",
         "legendgroup": "17708",
         "line": {
          "color": "#EF553B",
          "dash": "solid"
         },
         "mode": "lines",
         "name": "17708",
         "orientation": "v",
         "showlegend": true,
         "type": "scatter",
         "x": [
          "2014-05-15"
         ],
         "xaxis": "x",
         "y": [
          1
         ],
         "yaxis": "y"
        },
        {
         "hovertemplate": "mentionedEntity1=19638<br>dateTime=%{x}<br>ct=%{y}<extra></extra>",
         "legendgroup": "19638",
         "line": {
          "color": "#00cc96",
          "dash": "solid"
         },
         "mode": "lines",
         "name": "19638",
         "orientation": "v",
         "showlegend": true,
         "type": "scatter",
         "x": [
          "2014-05-15",
          "2014-05-30"
         ],
         "xaxis": "x",
         "y": [
          7,
          2
         ],
         "yaxis": "y"
        },
        {
         "hovertemplate": "mentionedEntity1=21501<br>dateTime=%{x}<br>ct=%{y}<extra></extra>",
         "legendgroup": "21501",
         "line": {
          "color": "#ab63fa",
          "dash": "solid"
         },
         "mode": "lines",
         "name": "21501",
         "orientation": "v",
         "showlegend": true,
         "type": "scatter",
         "x": [
          "2014-05-15"
         ],
         "xaxis": "x",
         "y": [
          2
         ],
         "yaxis": "y"
        },
        {
         "hovertemplate": "mentionedEntity1=21529<br>dateTime=%{x}<br>ct=%{y}<extra></extra>",
         "legendgroup": "21529",
         "line": {
          "color": "#FFA15A",
          "dash": "solid"
         },
         "mode": "lines",
         "name": "21529",
         "orientation": "v",
         "showlegend": true,
         "type": "scatter",
         "x": [
          "2014-05-15"
         ],
         "xaxis": "x",
         "y": [
          6
         ],
         "yaxis": "y"
        },
        {
         "hovertemplate": "mentionedEntity1=21540<br>dateTime=%{x}<br>ct=%{y}<extra></extra>",
         "legendgroup": "21540",
         "line": {
          "color": "#19d3f3",
          "dash": "solid"
         },
         "mode": "lines",
         "name": "21540",
         "orientation": "v",
         "showlegend": true,
         "type": "scatter",
         "x": [
          "2014-05-15"
         ],
         "xaxis": "x",
         "y": [
          3
         ],
         "yaxis": "y"
        },
        {
         "hovertemplate": "mentionedEntity1=21698<br>dateTime=%{x}<br>ct=%{y}<extra></extra>",
         "legendgroup": "21698",
         "line": {
          "color": "#FF6692",
          "dash": "solid"
         },
         "mode": "lines",
         "name": "21698",
         "orientation": "v",
         "showlegend": true,
         "type": "scatter",
         "x": [
          "2014-05-15"
         ],
         "xaxis": "x",
         "y": [
          2
         ],
         "yaxis": "y"
        },
        {
         "hovertemplate": "mentionedEntity1=25358<br>dateTime=%{x}<br>ct=%{y}<extra></extra>",
         "legendgroup": "25358",
         "line": {
          "color": "#B6E880",
          "dash": "solid"
         },
         "mode": "lines",
         "name": "25358",
         "orientation": "v",
         "showlegend": true,
         "type": "scatter",
         "x": [
          "2014-05-15"
         ],
         "xaxis": "x",
         "y": [
          4
         ],
         "yaxis": "y"
        },
        {
         "hovertemplate": "mentionedEntity1=26107<br>dateTime=%{x}<br>ct=%{y}<extra></extra>",
         "legendgroup": "26107",
         "line": {
          "color": "#FF97FF",
          "dash": "solid"
         },
         "mode": "lines",
         "name": "26107",
         "orientation": "v",
         "showlegend": true,
         "type": "scatter",
         "x": [
          "2014-05-15",
          "2014-05-21"
         ],
         "xaxis": "x",
         "y": [
          3,
          1
         ],
         "yaxis": "y"
        },
        {
         "hovertemplate": "mentionedEntity1=26322<br>dateTime=%{x}<br>ct=%{y}<extra></extra>",
         "legendgroup": "26322",
         "line": {
          "color": "#FECB52",
          "dash": "solid"
         },
         "mode": "lines",
         "name": "26322",
         "orientation": "v",
         "showlegend": true,
         "type": "scatter",
         "x": [
          "2014-05-15"
         ],
         "xaxis": "x",
         "y": [
          2
         ],
         "yaxis": "y"
        },
        {
         "hovertemplate": "mentionedEntity1=26936<br>dateTime=%{x}<br>ct=%{y}<extra></extra>",
         "legendgroup": "26936",
         "line": {
          "color": "#636efa",
          "dash": "solid"
         },
         "mode": "lines",
         "name": "26936",
         "orientation": "v",
         "showlegend": true,
         "type": "scatter",
         "x": [
          "2014-05-15"
         ],
         "xaxis": "x",
         "y": [
          1
         ],
         "yaxis": "y"
        },
        {
         "hovertemplate": "mentionedEntity1=27916<br>dateTime=%{x}<br>ct=%{y}<extra></extra>",
         "legendgroup": "27916",
         "line": {
          "color": "#EF553B",
          "dash": "solid"
         },
         "mode": "lines",
         "name": "27916",
         "orientation": "v",
         "showlegend": true,
         "type": "scatter",
         "x": [
          "2014-05-15"
         ],
         "xaxis": "x",
         "y": [
          3
         ],
         "yaxis": "y"
        },
        {
         "hovertemplate": "mentionedEntity1=27917<br>dateTime=%{x}<br>ct=%{y}<extra></extra>",
         "legendgroup": "27917",
         "line": {
          "color": "#00cc96",
          "dash": "solid"
         },
         "mode": "lines",
         "name": "27917",
         "orientation": "v",
         "showlegend": true,
         "type": "scatter",
         "x": [
          "2014-05-15"
         ],
         "xaxis": "x",
         "y": [
          1
         ],
         "yaxis": "y"
        },
        {
         "hovertemplate": "mentionedEntity1=28300<br>dateTime=%{x}<br>ct=%{y}<extra></extra>",
         "legendgroup": "28300",
         "line": {
          "color": "#ab63fa",
          "dash": "solid"
         },
         "mode": "lines",
         "name": "28300",
         "orientation": "v",
         "showlegend": true,
         "type": "scatter",
         "x": [
          "2014-05-15"
         ],
         "xaxis": "x",
         "y": [
          45
         ],
         "yaxis": "y"
        },
        {
         "hovertemplate": "mentionedEntity1=28319<br>dateTime=%{x}<br>ct=%{y}<extra></extra>",
         "legendgroup": "28319",
         "line": {
          "color": "#FFA15A",
          "dash": "solid"
         },
         "mode": "lines",
         "name": "28319",
         "orientation": "v",
         "showlegend": true,
         "type": "scatter",
         "x": [
          "2014-05-15"
         ],
         "xaxis": "x",
         "y": [
          4
         ],
         "yaxis": "y"
        },
        {
         "hovertemplate": "mentionedEntity1=32050<br>dateTime=%{x}<br>ct=%{y}<extra></extra>",
         "legendgroup": "32050",
         "line": {
          "color": "#19d3f3",
          "dash": "solid"
         },
         "mode": "lines",
         "name": "32050",
         "orientation": "v",
         "showlegend": true,
         "type": "scatter",
         "x": [
          "2014-05-15"
         ],
         "xaxis": "x",
         "y": [
          12
         ],
         "yaxis": "y"
        },
        {
         "hovertemplate": "mentionedEntity1=32201<br>dateTime=%{x}<br>ct=%{y}<extra></extra>",
         "legendgroup": "32201",
         "line": {
          "color": "#FF6692",
          "dash": "solid"
         },
         "mode": "lines",
         "name": "32201",
         "orientation": "v",
         "showlegend": true,
         "type": "scatter",
         "x": [
          "2014-05-15",
          "2014-05-24",
          "2014-05-25",
          "2014-05-27",
          "2014-05-29",
          "2014-05-30"
         ],
         "xaxis": "x",
         "y": [
          30,
          14,
          15,
          6,
          6,
          11
         ],
         "yaxis": "y"
        },
        {
         "hovertemplate": "mentionedEntity1=32345<br>dateTime=%{x}<br>ct=%{y}<extra></extra>",
         "legendgroup": "32345",
         "line": {
          "color": "#B6E880",
          "dash": "solid"
         },
         "mode": "lines",
         "name": "32345",
         "orientation": "v",
         "showlegend": true,
         "type": "scatter",
         "x": [
          "2014-05-15"
         ],
         "xaxis": "x",
         "y": [
          2
         ],
         "yaxis": "y"
        },
        {
         "hovertemplate": "mentionedEntity1=32450<br>dateTime=%{x}<br>ct=%{y}<extra></extra>",
         "legendgroup": "32450",
         "line": {
          "color": "#FF97FF",
          "dash": "solid"
         },
         "mode": "lines",
         "name": "32450",
         "orientation": "v",
         "showlegend": true,
         "type": "scatter",
         "x": [
          "2014-05-15"
         ],
         "xaxis": "x",
         "y": [
          4
         ],
         "yaxis": "y"
        },
        {
         "hovertemplate": "mentionedEntity1=33097<br>dateTime=%{x}<br>ct=%{y}<extra></extra>",
         "legendgroup": "33097",
         "line": {
          "color": "#FECB52",
          "dash": "solid"
         },
         "mode": "lines",
         "name": "33097",
         "orientation": "v",
         "showlegend": true,
         "type": "scatter",
         "x": [
          "2014-05-15",
          "2014-05-25"
         ],
         "xaxis": "x",
         "y": [
          2,
          3
         ],
         "yaxis": "y"
        },
        {
         "hovertemplate": "mentionedEntity1=33935<br>dateTime=%{x}<br>ct=%{y}<extra></extra>",
         "legendgroup": "33935",
         "line": {
          "color": "#636efa",
          "dash": "solid"
         },
         "mode": "lines",
         "name": "33935",
         "orientation": "v",
         "showlegend": true,
         "type": "scatter",
         "x": [
          "2014-05-15"
         ],
         "xaxis": "x",
         "y": [
          6
         ],
         "yaxis": "y"
        },
        {
         "hovertemplate": "mentionedEntity1=36665<br>dateTime=%{x}<br>ct=%{y}<extra></extra>",
         "legendgroup": "36665",
         "line": {
          "color": "#EF553B",
          "dash": "solid"
         },
         "mode": "lines",
         "name": "36665",
         "orientation": "v",
         "showlegend": true,
         "type": "scatter",
         "x": [
          "2014-05-15"
         ],
         "xaxis": "x",
         "y": [
          1
         ],
         "yaxis": "y"
        },
        {
         "hovertemplate": "mentionedEntity1=36674<br>dateTime=%{x}<br>ct=%{y}<extra></extra>",
         "legendgroup": "36674",
         "line": {
          "color": "#00cc96",
          "dash": "solid"
         },
         "mode": "lines",
         "name": "36674",
         "orientation": "v",
         "showlegend": true,
         "type": "scatter",
         "x": [
          "2014-05-15"
         ],
         "xaxis": "x",
         "y": [
          7
         ],
         "yaxis": "y"
        },
        {
         "hovertemplate": "mentionedEntity1=37751<br>dateTime=%{x}<br>ct=%{y}<extra></extra>",
         "legendgroup": "37751",
         "line": {
          "color": "#ab63fa",
          "dash": "solid"
         },
         "mode": "lines",
         "name": "37751",
         "orientation": "v",
         "showlegend": true,
         "type": "scatter",
         "x": [
          "2014-05-15"
         ],
         "xaxis": "x",
         "y": [
          2
         ],
         "yaxis": "y"
        },
        {
         "hovertemplate": "mentionedEntity1=39511<br>dateTime=%{x}<br>ct=%{y}<extra></extra>",
         "legendgroup": "39511",
         "line": {
          "color": "#FFA15A",
          "dash": "solid"
         },
         "mode": "lines",
         "name": "39511",
         "orientation": "v",
         "showlegend": true,
         "type": "scatter",
         "x": [
          "2014-05-15"
         ],
         "xaxis": "x",
         "y": [
          1
         ],
         "yaxis": "y"
        },
        {
         "hovertemplate": "mentionedEntity1=42205<br>dateTime=%{x}<br>ct=%{y}<extra></extra>",
         "legendgroup": "42205",
         "line": {
          "color": "#19d3f3",
          "dash": "solid"
         },
         "mode": "lines",
         "name": "42205",
         "orientation": "v",
         "showlegend": true,
         "type": "scatter",
         "x": [
          "2014-05-15"
         ],
         "xaxis": "x",
         "y": [
          4
         ],
         "yaxis": "y"
        },
        {
         "hovertemplate": "mentionedEntity1=42376<br>dateTime=%{x}<br>ct=%{y}<extra></extra>",
         "legendgroup": "42376",
         "line": {
          "color": "#FF6692",
          "dash": "solid"
         },
         "mode": "lines",
         "name": "42376",
         "orientation": "v",
         "showlegend": true,
         "type": "scatter",
         "x": [
          "2014-05-15"
         ],
         "xaxis": "x",
         "y": [
          9
         ],
         "yaxis": "y"
        },
        {
         "hovertemplate": "mentionedEntity1=42413<br>dateTime=%{x}<br>ct=%{y}<extra></extra>",
         "legendgroup": "42413",
         "line": {
          "color": "#B6E880",
          "dash": "solid"
         },
         "mode": "lines",
         "name": "42413",
         "orientation": "v",
         "showlegend": true,
         "type": "scatter",
         "x": [
          "2014-05-15",
          "2014-05-24"
         ],
         "xaxis": "x",
         "y": [
          4,
          12
         ],
         "yaxis": "y"
        },
        {
         "hovertemplate": "mentionedEntity1=42642<br>dateTime=%{x}<br>ct=%{y}<extra></extra>",
         "legendgroup": "42642",
         "line": {
          "color": "#FF97FF",
          "dash": "solid"
         },
         "mode": "lines",
         "name": "42642",
         "orientation": "v",
         "showlegend": true,
         "type": "scatter",
         "x": [
          "2014-05-15",
          "2014-05-16"
         ],
         "xaxis": "x",
         "y": [
          4,
          8
         ],
         "yaxis": "y"
        },
        {
         "hovertemplate": "mentionedEntity1=43562<br>dateTime=%{x}<br>ct=%{y}<extra></extra>",
         "legendgroup": "43562",
         "line": {
          "color": "#FECB52",
          "dash": "solid"
         },
         "mode": "lines",
         "name": "43562",
         "orientation": "v",
         "showlegend": true,
         "type": "scatter",
         "x": [
          "2014-05-15"
         ],
         "xaxis": "x",
         "y": [
          3
         ],
         "yaxis": "y"
        },
        {
         "hovertemplate": "mentionedEntity1=45135<br>dateTime=%{x}<br>ct=%{y}<extra></extra>",
         "legendgroup": "45135",
         "line": {
          "color": "#636efa",
          "dash": "solid"
         },
         "mode": "lines",
         "name": "45135",
         "orientation": "v",
         "showlegend": true,
         "type": "scatter",
         "x": [
          "2014-05-15"
         ],
         "xaxis": "x",
         "y": [
          5
         ],
         "yaxis": "y"
        },
        {
         "hovertemplate": "mentionedEntity1=45832<br>dateTime=%{x}<br>ct=%{y}<extra></extra>",
         "legendgroup": "45832",
         "line": {
          "color": "#EF553B",
          "dash": "solid"
         },
         "mode": "lines",
         "name": "45832",
         "orientation": "v",
         "showlegend": true,
         "type": "scatter",
         "x": [
          "2014-05-15"
         ],
         "xaxis": "x",
         "y": [
          3
         ],
         "yaxis": "y"
        },
        {
         "hovertemplate": "mentionedEntity1=46709<br>dateTime=%{x}<br>ct=%{y}<extra></extra>",
         "legendgroup": "46709",
         "line": {
          "color": "#00cc96",
          "dash": "solid"
         },
         "mode": "lines",
         "name": "46709",
         "orientation": "v",
         "showlegend": true,
         "type": "scatter",
         "x": [
          "2014-05-15",
          "2014-05-27"
         ],
         "xaxis": "x",
         "y": [
          24,
          20
         ],
         "yaxis": "y"
        },
        {
         "hovertemplate": "mentionedEntity1=47003<br>dateTime=%{x}<br>ct=%{y}<extra></extra>",
         "legendgroup": "47003",
         "line": {
          "color": "#ab63fa",
          "dash": "solid"
         },
         "mode": "lines",
         "name": "47003",
         "orientation": "v",
         "showlegend": true,
         "type": "scatter",
         "x": [
          "2014-05-15"
         ],
         "xaxis": "x",
         "y": [
          2
         ],
         "yaxis": "y"
        },
        {
         "hovertemplate": "mentionedEntity1=50104<br>dateTime=%{x}<br>ct=%{y}<extra></extra>",
         "legendgroup": "50104",
         "line": {
          "color": "#FFA15A",
          "dash": "solid"
         },
         "mode": "lines",
         "name": "50104",
         "orientation": "v",
         "showlegend": true,
         "type": "scatter",
         "x": [
          "2014-05-15"
         ],
         "xaxis": "x",
         "y": [
          5
         ],
         "yaxis": "y"
        },
        {
         "hovertemplate": "mentionedEntity1=50121<br>dateTime=%{x}<br>ct=%{y}<extra></extra>",
         "legendgroup": "50121",
         "line": {
          "color": "#19d3f3",
          "dash": "solid"
         },
         "mode": "lines",
         "name": "50121",
         "orientation": "v",
         "showlegend": true,
         "type": "scatter",
         "x": [
          "2014-05-15"
         ],
         "xaxis": "x",
         "y": [
          1
         ],
         "yaxis": "y"
        },
        {
         "hovertemplate": "mentionedEntity1=1185<br>dateTime=%{x}<br>ct=%{y}<extra></extra>",
         "legendgroup": "1185",
         "line": {
          "color": "#FF6692",
          "dash": "solid"
         },
         "mode": "lines",
         "name": "1185",
         "orientation": "v",
         "showlegend": true,
         "type": "scatter",
         "x": [
          "2014-05-16"
         ],
         "xaxis": "x",
         "y": [
          1
         ],
         "yaxis": "y"
        },
        {
         "hovertemplate": "mentionedEntity1=1342<br>dateTime=%{x}<br>ct=%{y}<extra></extra>",
         "legendgroup": "1342",
         "line": {
          "color": "#B6E880",
          "dash": "solid"
         },
         "mode": "lines",
         "name": "1342",
         "orientation": "v",
         "showlegend": true,
         "type": "scatter",
         "x": [
          "2014-05-16",
          "2014-05-28"
         ],
         "xaxis": "x",
         "y": [
          4,
          4
         ],
         "yaxis": "y"
        },
        {
         "hovertemplate": "mentionedEntity1=1735<br>dateTime=%{x}<br>ct=%{y}<extra></extra>",
         "legendgroup": "1735",
         "line": {
          "color": "#FF97FF",
          "dash": "solid"
         },
         "mode": "lines",
         "name": "1735",
         "orientation": "v",
         "showlegend": true,
         "type": "scatter",
         "x": [
          "2014-05-16",
          "2014-05-25",
          "2014-05-26",
          "2014-05-27"
         ],
         "xaxis": "x",
         "y": [
          2,
          19,
          3,
          2
         ],
         "yaxis": "y"
        },
        {
         "hovertemplate": "mentionedEntity1=2743<br>dateTime=%{x}<br>ct=%{y}<extra></extra>",
         "legendgroup": "2743",
         "line": {
          "color": "#FECB52",
          "dash": "solid"
         },
         "mode": "lines",
         "name": "2743",
         "orientation": "v",
         "showlegend": true,
         "type": "scatter",
         "x": [
          "2014-05-16",
          "2014-05-22"
         ],
         "xaxis": "x",
         "y": [
          5,
          5
         ],
         "yaxis": "y"
        },
        {
         "hovertemplate": "mentionedEntity1=3059<br>dateTime=%{x}<br>ct=%{y}<extra></extra>",
         "legendgroup": "3059",
         "line": {
          "color": "#636efa",
          "dash": "solid"
         },
         "mode": "lines",
         "name": "3059",
         "orientation": "v",
         "showlegend": true,
         "type": "scatter",
         "x": [
          "2014-05-16",
          "2014-05-22"
         ],
         "xaxis": "x",
         "y": [
          2,
          11
         ],
         "yaxis": "y"
        },
        {
         "hovertemplate": "mentionedEntity1=3086<br>dateTime=%{x}<br>ct=%{y}<extra></extra>",
         "legendgroup": "3086",
         "line": {
          "color": "#EF553B",
          "dash": "solid"
         },
         "mode": "lines",
         "name": "3086",
         "orientation": "v",
         "showlegend": true,
         "type": "scatter",
         "x": [
          "2014-05-16"
         ],
         "xaxis": "x",
         "y": [
          5
         ],
         "yaxis": "y"
        },
        {
         "hovertemplate": "mentionedEntity1=4716<br>dateTime=%{x}<br>ct=%{y}<extra></extra>",
         "legendgroup": "4716",
         "line": {
          "color": "#00cc96",
          "dash": "solid"
         },
         "mode": "lines",
         "name": "4716",
         "orientation": "v",
         "showlegend": true,
         "type": "scatter",
         "x": [
          "2014-05-16"
         ],
         "xaxis": "x",
         "y": [
          5
         ],
         "yaxis": "y"
        },
        {
         "hovertemplate": "mentionedEntity1=4941<br>dateTime=%{x}<br>ct=%{y}<extra></extra>",
         "legendgroup": "4941",
         "line": {
          "color": "#ab63fa",
          "dash": "solid"
         },
         "mode": "lines",
         "name": "4941",
         "orientation": "v",
         "showlegend": true,
         "type": "scatter",
         "x": [
          "2014-05-16"
         ],
         "xaxis": "x",
         "y": [
          3
         ],
         "yaxis": "y"
        },
        {
         "hovertemplate": "mentionedEntity1=6070<br>dateTime=%{x}<br>ct=%{y}<extra></extra>",
         "legendgroup": "6070",
         "line": {
          "color": "#FFA15A",
          "dash": "solid"
         },
         "mode": "lines",
         "name": "6070",
         "orientation": "v",
         "showlegend": true,
         "type": "scatter",
         "x": [
          "2014-05-16"
         ],
         "xaxis": "x",
         "y": [
          4
         ],
         "yaxis": "y"
        },
        {
         "hovertemplate": "mentionedEntity1=6762<br>dateTime=%{x}<br>ct=%{y}<extra></extra>",
         "legendgroup": "6762",
         "line": {
          "color": "#19d3f3",
          "dash": "solid"
         },
         "mode": "lines",
         "name": "6762",
         "orientation": "v",
         "showlegend": true,
         "type": "scatter",
         "x": [
          "2014-05-16"
         ],
         "xaxis": "x",
         "y": [
          4
         ],
         "yaxis": "y"
        },
        {
         "hovertemplate": "mentionedEntity1=7412<br>dateTime=%{x}<br>ct=%{y}<extra></extra>",
         "legendgroup": "7412",
         "line": {
          "color": "#FF6692",
          "dash": "solid"
         },
         "mode": "lines",
         "name": "7412",
         "orientation": "v",
         "showlegend": true,
         "type": "scatter",
         "x": [
          "2014-05-16",
          "2014-05-28"
         ],
         "xaxis": "x",
         "y": [
          3,
          8
         ],
         "yaxis": "y"
        },
        {
         "hovertemplate": "mentionedEntity1=8577<br>dateTime=%{x}<br>ct=%{y}<extra></extra>",
         "legendgroup": "8577",
         "line": {
          "color": "#B6E880",
          "dash": "solid"
         },
         "mode": "lines",
         "name": "8577",
         "orientation": "v",
         "showlegend": true,
         "type": "scatter",
         "x": [
          "2014-05-16"
         ],
         "xaxis": "x",
         "y": [
          1
         ],
         "yaxis": "y"
        },
        {
         "hovertemplate": "mentionedEntity1=9124<br>dateTime=%{x}<br>ct=%{y}<extra></extra>",
         "legendgroup": "9124",
         "line": {
          "color": "#FF97FF",
          "dash": "solid"
         },
         "mode": "lines",
         "name": "9124",
         "orientation": "v",
         "showlegend": true,
         "type": "scatter",
         "x": [
          "2014-05-16"
         ],
         "xaxis": "x",
         "y": [
          2
         ],
         "yaxis": "y"
        },
        {
         "hovertemplate": "mentionedEntity1=9319<br>dateTime=%{x}<br>ct=%{y}<extra></extra>",
         "legendgroup": "9319",
         "line": {
          "color": "#FECB52",
          "dash": "solid"
         },
         "mode": "lines",
         "name": "9319",
         "orientation": "v",
         "showlegend": true,
         "type": "scatter",
         "x": [
          "2014-05-16"
         ],
         "xaxis": "x",
         "y": [
          2
         ],
         "yaxis": "y"
        },
        {
         "hovertemplate": "mentionedEntity1=12214<br>dateTime=%{x}<br>ct=%{y}<extra></extra>",
         "legendgroup": "12214",
         "line": {
          "color": "#636efa",
          "dash": "solid"
         },
         "mode": "lines",
         "name": "12214",
         "orientation": "v",
         "showlegend": true,
         "type": "scatter",
         "x": [
          "2014-05-16"
         ],
         "xaxis": "x",
         "y": [
          1
         ],
         "yaxis": "y"
        },
        {
         "hovertemplate": "mentionedEntity1=13897<br>dateTime=%{x}<br>ct=%{y}<extra></extra>",
         "legendgroup": "13897",
         "line": {
          "color": "#EF553B",
          "dash": "solid"
         },
         "mode": "lines",
         "name": "13897",
         "orientation": "v",
         "showlegend": true,
         "type": "scatter",
         "x": [
          "2014-05-16"
         ],
         "xaxis": "x",
         "y": [
          1
         ],
         "yaxis": "y"
        },
        {
         "hovertemplate": "mentionedEntity1=14091<br>dateTime=%{x}<br>ct=%{y}<extra></extra>",
         "legendgroup": "14091",
         "line": {
          "color": "#00cc96",
          "dash": "solid"
         },
         "mode": "lines",
         "name": "14091",
         "orientation": "v",
         "showlegend": true,
         "type": "scatter",
         "x": [
          "2014-05-16"
         ],
         "xaxis": "x",
         "y": [
          1
         ],
         "yaxis": "y"
        },
        {
         "hovertemplate": "mentionedEntity1=14840<br>dateTime=%{x}<br>ct=%{y}<extra></extra>",
         "legendgroup": "14840",
         "line": {
          "color": "#ab63fa",
          "dash": "solid"
         },
         "mode": "lines",
         "name": "14840",
         "orientation": "v",
         "showlegend": true,
         "type": "scatter",
         "x": [
          "2014-05-16"
         ],
         "xaxis": "x",
         "y": [
          1
         ],
         "yaxis": "y"
        },
        {
         "hovertemplate": "mentionedEntity1=15290<br>dateTime=%{x}<br>ct=%{y}<extra></extra>",
         "legendgroup": "15290",
         "line": {
          "color": "#FFA15A",
          "dash": "solid"
         },
         "mode": "lines",
         "name": "15290",
         "orientation": "v",
         "showlegend": true,
         "type": "scatter",
         "x": [
          "2014-05-16"
         ],
         "xaxis": "x",
         "y": [
          2
         ],
         "yaxis": "y"
        },
        {
         "hovertemplate": "mentionedEntity1=16532<br>dateTime=%{x}<br>ct=%{y}<extra></extra>",
         "legendgroup": "16532",
         "line": {
          "color": "#19d3f3",
          "dash": "solid"
         },
         "mode": "lines",
         "name": "16532",
         "orientation": "v",
         "showlegend": true,
         "type": "scatter",
         "x": [
          "2014-05-16"
         ],
         "xaxis": "x",
         "y": [
          3
         ],
         "yaxis": "y"
        },
        {
         "hovertemplate": "mentionedEntity1=17450<br>dateTime=%{x}<br>ct=%{y}<extra></extra>",
         "legendgroup": "17450",
         "line": {
          "color": "#FF6692",
          "dash": "solid"
         },
         "mode": "lines",
         "name": "17450",
         "orientation": "v",
         "showlegend": true,
         "type": "scatter",
         "x": [
          "2014-05-16"
         ],
         "xaxis": "x",
         "y": [
          2
         ],
         "yaxis": "y"
        },
        {
         "hovertemplate": "mentionedEntity1=17527<br>dateTime=%{x}<br>ct=%{y}<extra></extra>",
         "legendgroup": "17527",
         "line": {
          "color": "#B6E880",
          "dash": "solid"
         },
         "mode": "lines",
         "name": "17527",
         "orientation": "v",
         "showlegend": true,
         "type": "scatter",
         "x": [
          "2014-05-16"
         ],
         "xaxis": "x",
         "y": [
          1
         ],
         "yaxis": "y"
        },
        {
         "hovertemplate": "mentionedEntity1=20865<br>dateTime=%{x}<br>ct=%{y}<extra></extra>",
         "legendgroup": "20865",
         "line": {
          "color": "#FF97FF",
          "dash": "solid"
         },
         "mode": "lines",
         "name": "20865",
         "orientation": "v",
         "showlegend": true,
         "type": "scatter",
         "x": [
          "2014-05-16"
         ],
         "xaxis": "x",
         "y": [
          1
         ],
         "yaxis": "y"
        },
        {
         "hovertemplate": "mentionedEntity1=26335<br>dateTime=%{x}<br>ct=%{y}<extra></extra>",
         "legendgroup": "26335",
         "line": {
          "color": "#FECB52",
          "dash": "solid"
         },
         "mode": "lines",
         "name": "26335",
         "orientation": "v",
         "showlegend": true,
         "type": "scatter",
         "x": [
          "2014-05-16"
         ],
         "xaxis": "x",
         "y": [
          3
         ],
         "yaxis": "y"
        },
        {
         "hovertemplate": "mentionedEntity1=30014<br>dateTime=%{x}<br>ct=%{y}<extra></extra>",
         "legendgroup": "30014",
         "line": {
          "color": "#636efa",
          "dash": "solid"
         },
         "mode": "lines",
         "name": "30014",
         "orientation": "v",
         "showlegend": true,
         "type": "scatter",
         "x": [
          "2014-05-16"
         ],
         "xaxis": "x",
         "y": [
          1
         ],
         "yaxis": "y"
        },
        {
         "hovertemplate": "mentionedEntity1=31221<br>dateTime=%{x}<br>ct=%{y}<extra></extra>",
         "legendgroup": "31221",
         "line": {
          "color": "#EF553B",
          "dash": "solid"
         },
         "mode": "lines",
         "name": "31221",
         "orientation": "v",
         "showlegend": true,
         "type": "scatter",
         "x": [
          "2014-05-16"
         ],
         "xaxis": "x",
         "y": [
          1
         ],
         "yaxis": "y"
        },
        {
         "hovertemplate": "mentionedEntity1=33360<br>dateTime=%{x}<br>ct=%{y}<extra></extra>",
         "legendgroup": "33360",
         "line": {
          "color": "#00cc96",
          "dash": "solid"
         },
         "mode": "lines",
         "name": "33360",
         "orientation": "v",
         "showlegend": true,
         "type": "scatter",
         "x": [
          "2014-05-16"
         ],
         "xaxis": "x",
         "y": [
          3
         ],
         "yaxis": "y"
        },
        {
         "hovertemplate": "mentionedEntity1=35885<br>dateTime=%{x}<br>ct=%{y}<extra></extra>",
         "legendgroup": "35885",
         "line": {
          "color": "#ab63fa",
          "dash": "solid"
         },
         "mode": "lines",
         "name": "35885",
         "orientation": "v",
         "showlegend": true,
         "type": "scatter",
         "x": [
          "2014-05-16"
         ],
         "xaxis": "x",
         "y": [
          1
         ],
         "yaxis": "y"
        },
        {
         "hovertemplate": "mentionedEntity1=37319<br>dateTime=%{x}<br>ct=%{y}<extra></extra>",
         "legendgroup": "37319",
         "line": {
          "color": "#FFA15A",
          "dash": "solid"
         },
         "mode": "lines",
         "name": "37319",
         "orientation": "v",
         "showlegend": true,
         "type": "scatter",
         "x": [
          "2014-05-16"
         ],
         "xaxis": "x",
         "y": [
          4
         ],
         "yaxis": "y"
        },
        {
         "hovertemplate": "mentionedEntity1=40686<br>dateTime=%{x}<br>ct=%{y}<extra></extra>",
         "legendgroup": "40686",
         "line": {
          "color": "#19d3f3",
          "dash": "solid"
         },
         "mode": "lines",
         "name": "40686",
         "orientation": "v",
         "showlegend": true,
         "type": "scatter",
         "x": [
          "2014-05-16"
         ],
         "xaxis": "x",
         "y": [
          4
         ],
         "yaxis": "y"
        },
        {
         "hovertemplate": "mentionedEntity1=41210<br>dateTime=%{x}<br>ct=%{y}<extra></extra>",
         "legendgroup": "41210",
         "line": {
          "color": "#FF6692",
          "dash": "solid"
         },
         "mode": "lines",
         "name": "41210",
         "orientation": "v",
         "showlegend": true,
         "type": "scatter",
         "x": [
          "2014-05-16"
         ],
         "xaxis": "x",
         "y": [
          1
         ],
         "yaxis": "y"
        },
        {
         "hovertemplate": "mentionedEntity1=43315<br>dateTime=%{x}<br>ct=%{y}<extra></extra>",
         "legendgroup": "43315",
         "line": {
          "color": "#B6E880",
          "dash": "solid"
         },
         "mode": "lines",
         "name": "43315",
         "orientation": "v",
         "showlegend": true,
         "type": "scatter",
         "x": [
          "2014-05-16"
         ],
         "xaxis": "x",
         "y": [
          3
         ],
         "yaxis": "y"
        },
        {
         "hovertemplate": "mentionedEntity1=43711<br>dateTime=%{x}<br>ct=%{y}<extra></extra>",
         "legendgroup": "43711",
         "line": {
          "color": "#FF97FF",
          "dash": "solid"
         },
         "mode": "lines",
         "name": "43711",
         "orientation": "v",
         "showlegend": true,
         "type": "scatter",
         "x": [
          "2014-05-16",
          "2014-05-22",
          "2014-05-23",
          "2014-05-24",
          "2014-05-27",
          "2014-05-29"
         ],
         "xaxis": "x",
         "y": [
          2,
          8,
          1,
          3,
          5,
          3
         ],
         "yaxis": "y"
        },
        {
         "hovertemplate": "mentionedEntity1=44291<br>dateTime=%{x}<br>ct=%{y}<extra></extra>",
         "legendgroup": "44291",
         "line": {
          "color": "#FECB52",
          "dash": "solid"
         },
         "mode": "lines",
         "name": "44291",
         "orientation": "v",
         "showlegend": true,
         "type": "scatter",
         "x": [
          "2014-05-16"
         ],
         "xaxis": "x",
         "y": [
          7
         ],
         "yaxis": "y"
        },
        {
         "hovertemplate": "mentionedEntity1=44818<br>dateTime=%{x}<br>ct=%{y}<extra></extra>",
         "legendgroup": "44818",
         "line": {
          "color": "#636efa",
          "dash": "solid"
         },
         "mode": "lines",
         "name": "44818",
         "orientation": "v",
         "showlegend": true,
         "type": "scatter",
         "x": [
          "2014-05-16"
         ],
         "xaxis": "x",
         "y": [
          4
         ],
         "yaxis": "y"
        },
        {
         "hovertemplate": "mentionedEntity1=49530<br>dateTime=%{x}<br>ct=%{y}<extra></extra>",
         "legendgroup": "49530",
         "line": {
          "color": "#EF553B",
          "dash": "solid"
         },
         "mode": "lines",
         "name": "49530",
         "orientation": "v",
         "showlegend": true,
         "type": "scatter",
         "x": [
          "2014-05-16"
         ],
         "xaxis": "x",
         "y": [
          1
         ],
         "yaxis": "y"
        },
        {
         "hovertemplate": "mentionedEntity1=50269<br>dateTime=%{x}<br>ct=%{y}<extra></extra>",
         "legendgroup": "50269",
         "line": {
          "color": "#00cc96",
          "dash": "solid"
         },
         "mode": "lines",
         "name": "50269",
         "orientation": "v",
         "showlegend": true,
         "type": "scatter",
         "x": [
          "2014-05-16"
         ],
         "xaxis": "x",
         "y": [
          3
         ],
         "yaxis": "y"
        },
        {
         "hovertemplate": "mentionedEntity1=50835<br>dateTime=%{x}<br>ct=%{y}<extra></extra>",
         "legendgroup": "50835",
         "line": {
          "color": "#ab63fa",
          "dash": "solid"
         },
         "mode": "lines",
         "name": "50835",
         "orientation": "v",
         "showlegend": true,
         "type": "scatter",
         "x": [
          "2014-05-16"
         ],
         "xaxis": "x",
         "y": [
          1
         ],
         "yaxis": "y"
        },
        {
         "hovertemplate": "mentionedEntity1=4551<br>dateTime=%{x}<br>ct=%{y}<extra></extra>",
         "legendgroup": "4551",
         "line": {
          "color": "#FFA15A",
          "dash": "solid"
         },
         "mode": "lines",
         "name": "4551",
         "orientation": "v",
         "showlegend": true,
         "type": "scatter",
         "x": [
          "2014-05-20",
          "2014-05-23"
         ],
         "xaxis": "x",
         "y": [
          3,
          7
         ],
         "yaxis": "y"
        },
        {
         "hovertemplate": "mentionedEntity1=5663<br>dateTime=%{x}<br>ct=%{y}<extra></extra>",
         "legendgroup": "5663",
         "line": {
          "color": "#19d3f3",
          "dash": "solid"
         },
         "mode": "lines",
         "name": "5663",
         "orientation": "v",
         "showlegend": true,
         "type": "scatter",
         "x": [
          "2014-05-20"
         ],
         "xaxis": "x",
         "y": [
          3
         ],
         "yaxis": "y"
        },
        {
         "hovertemplate": "mentionedEntity1=5889<br>dateTime=%{x}<br>ct=%{y}<extra></extra>",
         "legendgroup": "5889",
         "line": {
          "color": "#FF6692",
          "dash": "solid"
         },
         "mode": "lines",
         "name": "5889",
         "orientation": "v",
         "showlegend": true,
         "type": "scatter",
         "x": [
          "2014-05-20",
          "2014-05-22",
          "2014-05-30"
         ],
         "xaxis": "x",
         "y": [
          2,
          5,
          6
         ],
         "yaxis": "y"
        },
        {
         "hovertemplate": "mentionedEntity1=10759<br>dateTime=%{x}<br>ct=%{y}<extra></extra>",
         "legendgroup": "10759",
         "line": {
          "color": "#B6E880",
          "dash": "solid"
         },
         "mode": "lines",
         "name": "10759",
         "orientation": "v",
         "showlegend": true,
         "type": "scatter",
         "x": [
          "2014-05-20"
         ],
         "xaxis": "x",
         "y": [
          2
         ],
         "yaxis": "y"
        },
        {
         "hovertemplate": "mentionedEntity1=10762<br>dateTime=%{x}<br>ct=%{y}<extra></extra>",
         "legendgroup": "10762",
         "line": {
          "color": "#FF97FF",
          "dash": "solid"
         },
         "mode": "lines",
         "name": "10762",
         "orientation": "v",
         "showlegend": true,
         "type": "scatter",
         "x": [
          "2014-05-20"
         ],
         "xaxis": "x",
         "y": [
          2
         ],
         "yaxis": "y"
        },
        {
         "hovertemplate": "mentionedEntity1=12468<br>dateTime=%{x}<br>ct=%{y}<extra></extra>",
         "legendgroup": "12468",
         "line": {
          "color": "#FECB52",
          "dash": "solid"
         },
         "mode": "lines",
         "name": "12468",
         "orientation": "v",
         "showlegend": true,
         "type": "scatter",
         "x": [
          "2014-05-20"
         ],
         "xaxis": "x",
         "y": [
          1
         ],
         "yaxis": "y"
        },
        {
         "hovertemplate": "mentionedEntity1=13059<br>dateTime=%{x}<br>ct=%{y}<extra></extra>",
         "legendgroup": "13059",
         "line": {
          "color": "#636efa",
          "dash": "solid"
         },
         "mode": "lines",
         "name": "13059",
         "orientation": "v",
         "showlegend": true,
         "type": "scatter",
         "x": [
          "2014-05-20"
         ],
         "xaxis": "x",
         "y": [
          5
         ],
         "yaxis": "y"
        },
        {
         "hovertemplate": "mentionedEntity1=13855<br>dateTime=%{x}<br>ct=%{y}<extra></extra>",
         "legendgroup": "13855",
         "line": {
          "color": "#EF553B",
          "dash": "solid"
         },
         "mode": "lines",
         "name": "13855",
         "orientation": "v",
         "showlegend": true,
         "type": "scatter",
         "x": [
          "2014-05-20"
         ],
         "xaxis": "x",
         "y": [
          2
         ],
         "yaxis": "y"
        },
        {
         "hovertemplate": "mentionedEntity1=13861<br>dateTime=%{x}<br>ct=%{y}<extra></extra>",
         "legendgroup": "13861",
         "line": {
          "color": "#00cc96",
          "dash": "solid"
         },
         "mode": "lines",
         "name": "13861",
         "orientation": "v",
         "showlegend": true,
         "type": "scatter",
         "x": [
          "2014-05-20"
         ],
         "xaxis": "x",
         "y": [
          1
         ],
         "yaxis": "y"
        },
        {
         "hovertemplate": "mentionedEntity1=13870<br>dateTime=%{x}<br>ct=%{y}<extra></extra>",
         "legendgroup": "13870",
         "line": {
          "color": "#ab63fa",
          "dash": "solid"
         },
         "mode": "lines",
         "name": "13870",
         "orientation": "v",
         "showlegend": true,
         "type": "scatter",
         "x": [
          "2014-05-20"
         ],
         "xaxis": "x",
         "y": [
          1
         ],
         "yaxis": "y"
        },
        {
         "hovertemplate": "mentionedEntity1=15941<br>dateTime=%{x}<br>ct=%{y}<extra></extra>",
         "legendgroup": "15941",
         "line": {
          "color": "#FFA15A",
          "dash": "solid"
         },
         "mode": "lines",
         "name": "15941",
         "orientation": "v",
         "showlegend": true,
         "type": "scatter",
         "x": [
          "2014-05-20"
         ],
         "xaxis": "x",
         "y": [
          1
         ],
         "yaxis": "y"
        },
        {
         "hovertemplate": "mentionedEntity1=19085<br>dateTime=%{x}<br>ct=%{y}<extra></extra>",
         "legendgroup": "19085",
         "line": {
          "color": "#19d3f3",
          "dash": "solid"
         },
         "mode": "lines",
         "name": "19085",
         "orientation": "v",
         "showlegend": true,
         "type": "scatter",
         "x": [
          "2014-05-20"
         ],
         "xaxis": "x",
         "y": [
          1
         ],
         "yaxis": "y"
        },
        {
         "hovertemplate": "mentionedEntity1=19369<br>dateTime=%{x}<br>ct=%{y}<extra></extra>",
         "legendgroup": "19369",
         "line": {
          "color": "#FF6692",
          "dash": "solid"
         },
         "mode": "lines",
         "name": "19369",
         "orientation": "v",
         "showlegend": true,
         "type": "scatter",
         "x": [
          "2014-05-20",
          "2014-05-26"
         ],
         "xaxis": "x",
         "y": [
          4,
          4
         ],
         "yaxis": "y"
        },
        {
         "hovertemplate": "mentionedEntity1=21901<br>dateTime=%{x}<br>ct=%{y}<extra></extra>",
         "legendgroup": "21901",
         "line": {
          "color": "#B6E880",
          "dash": "solid"
         },
         "mode": "lines",
         "name": "21901",
         "orientation": "v",
         "showlegend": true,
         "type": "scatter",
         "x": [
          "2014-05-20"
         ],
         "xaxis": "x",
         "y": [
          6
         ],
         "yaxis": "y"
        },
        {
         "hovertemplate": "mentionedEntity1=27873<br>dateTime=%{x}<br>ct=%{y}<extra></extra>",
         "legendgroup": "27873",
         "line": {
          "color": "#FF97FF",
          "dash": "solid"
         },
         "mode": "lines",
         "name": "27873",
         "orientation": "v",
         "showlegend": true,
         "type": "scatter",
         "x": [
          "2014-05-20"
         ],
         "xaxis": "x",
         "y": [
          5
         ],
         "yaxis": "y"
        },
        {
         "hovertemplate": "mentionedEntity1=29112<br>dateTime=%{x}<br>ct=%{y}<extra></extra>",
         "legendgroup": "29112",
         "line": {
          "color": "#FECB52",
          "dash": "solid"
         },
         "mode": "lines",
         "name": "29112",
         "orientation": "v",
         "showlegend": true,
         "type": "scatter",
         "x": [
          "2014-05-20"
         ],
         "xaxis": "x",
         "y": [
          6
         ],
         "yaxis": "y"
        },
        {
         "hovertemplate": "mentionedEntity1=29820<br>dateTime=%{x}<br>ct=%{y}<extra></extra>",
         "legendgroup": "29820",
         "line": {
          "color": "#636efa",
          "dash": "solid"
         },
         "mode": "lines",
         "name": "29820",
         "orientation": "v",
         "showlegend": true,
         "type": "scatter",
         "x": [
          "2014-05-20"
         ],
         "xaxis": "x",
         "y": [
          2
         ],
         "yaxis": "y"
        },
        {
         "hovertemplate": "mentionedEntity1=33599<br>dateTime=%{x}<br>ct=%{y}<extra></extra>",
         "legendgroup": "33599",
         "line": {
          "color": "#EF553B",
          "dash": "solid"
         },
         "mode": "lines",
         "name": "33599",
         "orientation": "v",
         "showlegend": true,
         "type": "scatter",
         "x": [
          "2014-05-20"
         ],
         "xaxis": "x",
         "y": [
          2
         ],
         "yaxis": "y"
        },
        {
         "hovertemplate": "mentionedEntity1=35560<br>dateTime=%{x}<br>ct=%{y}<extra></extra>",
         "legendgroup": "35560",
         "line": {
          "color": "#00cc96",
          "dash": "solid"
         },
         "mode": "lines",
         "name": "35560",
         "orientation": "v",
         "showlegend": true,
         "type": "scatter",
         "x": [
          "2014-05-20"
         ],
         "xaxis": "x",
         "y": [
          2
         ],
         "yaxis": "y"
        },
        {
         "hovertemplate": "mentionedEntity1=39928<br>dateTime=%{x}<br>ct=%{y}<extra></extra>",
         "legendgroup": "39928",
         "line": {
          "color": "#ab63fa",
          "dash": "solid"
         },
         "mode": "lines",
         "name": "39928",
         "orientation": "v",
         "showlegend": true,
         "type": "scatter",
         "x": [
          "2014-05-20"
         ],
         "xaxis": "x",
         "y": [
          4
         ],
         "yaxis": "y"
        },
        {
         "hovertemplate": "mentionedEntity1=40865<br>dateTime=%{x}<br>ct=%{y}<extra></extra>",
         "legendgroup": "40865",
         "line": {
          "color": "#FFA15A",
          "dash": "solid"
         },
         "mode": "lines",
         "name": "40865",
         "orientation": "v",
         "showlegend": true,
         "type": "scatter",
         "x": [
          "2014-05-20"
         ],
         "xaxis": "x",
         "y": [
          2
         ],
         "yaxis": "y"
        },
        {
         "hovertemplate": "mentionedEntity1=42335<br>dateTime=%{x}<br>ct=%{y}<extra></extra>",
         "legendgroup": "42335",
         "line": {
          "color": "#19d3f3",
          "dash": "solid"
         },
         "mode": "lines",
         "name": "42335",
         "orientation": "v",
         "showlegend": true,
         "type": "scatter",
         "x": [
          "2014-05-20"
         ],
         "xaxis": "x",
         "y": [
          5
         ],
         "yaxis": "y"
        },
        {
         "hovertemplate": "mentionedEntity1=45127<br>dateTime=%{x}<br>ct=%{y}<extra></extra>",
         "legendgroup": "45127",
         "line": {
          "color": "#FF6692",
          "dash": "solid"
         },
         "mode": "lines",
         "name": "45127",
         "orientation": "v",
         "showlegend": true,
         "type": "scatter",
         "x": [
          "2014-05-20"
         ],
         "xaxis": "x",
         "y": [
          10
         ],
         "yaxis": "y"
        },
        {
         "hovertemplate": "mentionedEntity1=46100<br>dateTime=%{x}<br>ct=%{y}<extra></extra>",
         "legendgroup": "46100",
         "line": {
          "color": "#B6E880",
          "dash": "solid"
         },
         "mode": "lines",
         "name": "46100",
         "orientation": "v",
         "showlegend": true,
         "type": "scatter",
         "x": [
          "2014-05-20",
          "2014-05-21"
         ],
         "xaxis": "x",
         "y": [
          3,
          9
         ],
         "yaxis": "y"
        },
        {
         "hovertemplate": "mentionedEntity1=48004<br>dateTime=%{x}<br>ct=%{y}<extra></extra>",
         "legendgroup": "48004",
         "line": {
          "color": "#FF97FF",
          "dash": "solid"
         },
         "mode": "lines",
         "name": "48004",
         "orientation": "v",
         "showlegend": true,
         "type": "scatter",
         "x": [
          "2014-05-20"
         ],
         "xaxis": "x",
         "y": [
          3
         ],
         "yaxis": "y"
        },
        {
         "hovertemplate": "mentionedEntity1=3144<br>dateTime=%{x}<br>ct=%{y}<extra></extra>",
         "legendgroup": "3144",
         "line": {
          "color": "#FECB52",
          "dash": "solid"
         },
         "mode": "lines",
         "name": "3144",
         "orientation": "v",
         "showlegend": true,
         "type": "scatter",
         "x": [
          "2014-05-21"
         ],
         "xaxis": "x",
         "y": [
          7
         ],
         "yaxis": "y"
        },
        {
         "hovertemplate": "mentionedEntity1=3592<br>dateTime=%{x}<br>ct=%{y}<extra></extra>",
         "legendgroup": "3592",
         "line": {
          "color": "#636efa",
          "dash": "solid"
         },
         "mode": "lines",
         "name": "3592",
         "orientation": "v",
         "showlegend": true,
         "type": "scatter",
         "x": [
          "2014-05-21"
         ],
         "xaxis": "x",
         "y": [
          17
         ],
         "yaxis": "y"
        },
        {
         "hovertemplate": "mentionedEntity1=7955<br>dateTime=%{x}<br>ct=%{y}<extra></extra>",
         "legendgroup": "7955",
         "line": {
          "color": "#EF553B",
          "dash": "solid"
         },
         "mode": "lines",
         "name": "7955",
         "orientation": "v",
         "showlegend": true,
         "type": "scatter",
         "x": [
          "2014-05-21"
         ],
         "xaxis": "x",
         "y": [
          2
         ],
         "yaxis": "y"
        },
        {
         "hovertemplate": "mentionedEntity1=9038<br>dateTime=%{x}<br>ct=%{y}<extra></extra>",
         "legendgroup": "9038",
         "line": {
          "color": "#00cc96",
          "dash": "solid"
         },
         "mode": "lines",
         "name": "9038",
         "orientation": "v",
         "showlegend": true,
         "type": "scatter",
         "x": [
          "2014-05-21"
         ],
         "xaxis": "x",
         "y": [
          2
         ],
         "yaxis": "y"
        },
        {
         "hovertemplate": "mentionedEntity1=11949<br>dateTime=%{x}<br>ct=%{y}<extra></extra>",
         "legendgroup": "11949",
         "line": {
          "color": "#ab63fa",
          "dash": "solid"
         },
         "mode": "lines",
         "name": "11949",
         "orientation": "v",
         "showlegend": true,
         "type": "scatter",
         "x": [
          "2014-05-21"
         ],
         "xaxis": "x",
         "y": [
          2
         ],
         "yaxis": "y"
        },
        {
         "hovertemplate": "mentionedEntity1=14724<br>dateTime=%{x}<br>ct=%{y}<extra></extra>",
         "legendgroup": "14724",
         "line": {
          "color": "#FFA15A",
          "dash": "solid"
         },
         "mode": "lines",
         "name": "14724",
         "orientation": "v",
         "showlegend": true,
         "type": "scatter",
         "x": [
          "2014-05-21"
         ],
         "xaxis": "x",
         "y": [
          2
         ],
         "yaxis": "y"
        },
        {
         "hovertemplate": "mentionedEntity1=15763<br>dateTime=%{x}<br>ct=%{y}<extra></extra>",
         "legendgroup": "15763",
         "line": {
          "color": "#19d3f3",
          "dash": "solid"
         },
         "mode": "lines",
         "name": "15763",
         "orientation": "v",
         "showlegend": true,
         "type": "scatter",
         "x": [
          "2014-05-21"
         ],
         "xaxis": "x",
         "y": [
          2
         ],
         "yaxis": "y"
        },
        {
         "hovertemplate": "mentionedEntity1=16893<br>dateTime=%{x}<br>ct=%{y}<extra></extra>",
         "legendgroup": "16893",
         "line": {
          "color": "#FF6692",
          "dash": "solid"
         },
         "mode": "lines",
         "name": "16893",
         "orientation": "v",
         "showlegend": true,
         "type": "scatter",
         "x": [
          "2014-05-21"
         ],
         "xaxis": "x",
         "y": [
          1
         ],
         "yaxis": "y"
        },
        {
         "hovertemplate": "mentionedEntity1=18312<br>dateTime=%{x}<br>ct=%{y}<extra></extra>",
         "legendgroup": "18312",
         "line": {
          "color": "#B6E880",
          "dash": "solid"
         },
         "mode": "lines",
         "name": "18312",
         "orientation": "v",
         "showlegend": true,
         "type": "scatter",
         "x": [
          "2014-05-21",
          "2014-05-23",
          "2014-05-24"
         ],
         "xaxis": "x",
         "y": [
          3,
          1,
          1
         ],
         "yaxis": "y"
        },
        {
         "hovertemplate": "mentionedEntity1=21970<br>dateTime=%{x}<br>ct=%{y}<extra></extra>",
         "legendgroup": "21970",
         "line": {
          "color": "#FF97FF",
          "dash": "solid"
         },
         "mode": "lines",
         "name": "21970",
         "orientation": "v",
         "showlegend": true,
         "type": "scatter",
         "x": [
          "2014-05-21"
         ],
         "xaxis": "x",
         "y": [
          5
         ],
         "yaxis": "y"
        },
        {
         "hovertemplate": "mentionedEntity1=22014<br>dateTime=%{x}<br>ct=%{y}<extra></extra>",
         "legendgroup": "22014",
         "line": {
          "color": "#FECB52",
          "dash": "solid"
         },
         "mode": "lines",
         "name": "22014",
         "orientation": "v",
         "showlegend": true,
         "type": "scatter",
         "x": [
          "2014-05-21"
         ],
         "xaxis": "x",
         "y": [
          2
         ],
         "yaxis": "y"
        },
        {
         "hovertemplate": "mentionedEntity1=22022<br>dateTime=%{x}<br>ct=%{y}<extra></extra>",
         "legendgroup": "22022",
         "line": {
          "color": "#636efa",
          "dash": "solid"
         },
         "mode": "lines",
         "name": "22022",
         "orientation": "v",
         "showlegend": true,
         "type": "scatter",
         "x": [
          "2014-05-21"
         ],
         "xaxis": "x",
         "y": [
          7
         ],
         "yaxis": "y"
        },
        {
         "hovertemplate": "mentionedEntity1=26428<br>dateTime=%{x}<br>ct=%{y}<extra></extra>",
         "legendgroup": "26428",
         "line": {
          "color": "#EF553B",
          "dash": "solid"
         },
         "mode": "lines",
         "name": "26428",
         "orientation": "v",
         "showlegend": true,
         "type": "scatter",
         "x": [
          "2014-05-21"
         ],
         "xaxis": "x",
         "y": [
          2
         ],
         "yaxis": "y"
        },
        {
         "hovertemplate": "mentionedEntity1=28465<br>dateTime=%{x}<br>ct=%{y}<extra></extra>",
         "legendgroup": "28465",
         "line": {
          "color": "#00cc96",
          "dash": "solid"
         },
         "mode": "lines",
         "name": "28465",
         "orientation": "v",
         "showlegend": true,
         "type": "scatter",
         "x": [
          "2014-05-21"
         ],
         "xaxis": "x",
         "y": [
          3
         ],
         "yaxis": "y"
        },
        {
         "hovertemplate": "mentionedEntity1=31139<br>dateTime=%{x}<br>ct=%{y}<extra></extra>",
         "legendgroup": "31139",
         "line": {
          "color": "#ab63fa",
          "dash": "solid"
         },
         "mode": "lines",
         "name": "31139",
         "orientation": "v",
         "showlegend": true,
         "type": "scatter",
         "x": [
          "2014-05-21"
         ],
         "xaxis": "x",
         "y": [
          4
         ],
         "yaxis": "y"
        },
        {
         "hovertemplate": "mentionedEntity1=32551<br>dateTime=%{x}<br>ct=%{y}<extra></extra>",
         "legendgroup": "32551",
         "line": {
          "color": "#FFA15A",
          "dash": "solid"
         },
         "mode": "lines",
         "name": "32551",
         "orientation": "v",
         "showlegend": true,
         "type": "scatter",
         "x": [
          "2014-05-21"
         ],
         "xaxis": "x",
         "y": [
          5
         ],
         "yaxis": "y"
        },
        {
         "hovertemplate": "mentionedEntity1=33222<br>dateTime=%{x}<br>ct=%{y}<extra></extra>",
         "legendgroup": "33222",
         "line": {
          "color": "#19d3f3",
          "dash": "solid"
         },
         "mode": "lines",
         "name": "33222",
         "orientation": "v",
         "showlegend": true,
         "type": "scatter",
         "x": [
          "2014-05-21"
         ],
         "xaxis": "x",
         "y": [
          4
         ],
         "yaxis": "y"
        },
        {
         "hovertemplate": "mentionedEntity1=35535<br>dateTime=%{x}<br>ct=%{y}<extra></extra>",
         "legendgroup": "35535",
         "line": {
          "color": "#FF6692",
          "dash": "solid"
         },
         "mode": "lines",
         "name": "35535",
         "orientation": "v",
         "showlegend": true,
         "type": "scatter",
         "x": [
          "2014-05-21"
         ],
         "xaxis": "x",
         "y": [
          2
         ],
         "yaxis": "y"
        },
        {
         "hovertemplate": "mentionedEntity1=35840<br>dateTime=%{x}<br>ct=%{y}<extra></extra>",
         "legendgroup": "35840",
         "line": {
          "color": "#B6E880",
          "dash": "solid"
         },
         "mode": "lines",
         "name": "35840",
         "orientation": "v",
         "showlegend": true,
         "type": "scatter",
         "x": [
          "2014-05-21"
         ],
         "xaxis": "x",
         "y": [
          8
         ],
         "yaxis": "y"
        },
        {
         "hovertemplate": "mentionedEntity1=36062<br>dateTime=%{x}<br>ct=%{y}<extra></extra>",
         "legendgroup": "36062",
         "line": {
          "color": "#FF97FF",
          "dash": "solid"
         },
         "mode": "lines",
         "name": "36062",
         "orientation": "v",
         "showlegend": true,
         "type": "scatter",
         "x": [
          "2014-05-21"
         ],
         "xaxis": "x",
         "y": [
          2
         ],
         "yaxis": "y"
        },
        {
         "hovertemplate": "mentionedEntity1=36738<br>dateTime=%{x}<br>ct=%{y}<extra></extra>",
         "legendgroup": "36738",
         "line": {
          "color": "#FECB52",
          "dash": "solid"
         },
         "mode": "lines",
         "name": "36738",
         "orientation": "v",
         "showlegend": true,
         "type": "scatter",
         "x": [
          "2014-05-21"
         ],
         "xaxis": "x",
         "y": [
          5
         ],
         "yaxis": "y"
        },
        {
         "hovertemplate": "mentionedEntity1=37659<br>dateTime=%{x}<br>ct=%{y}<extra></extra>",
         "legendgroup": "37659",
         "line": {
          "color": "#636efa",
          "dash": "solid"
         },
         "mode": "lines",
         "name": "37659",
         "orientation": "v",
         "showlegend": true,
         "type": "scatter",
         "x": [
          "2014-05-21"
         ],
         "xaxis": "x",
         "y": [
          4
         ],
         "yaxis": "y"
        },
        {
         "hovertemplate": "mentionedEntity1=38823<br>dateTime=%{x}<br>ct=%{y}<extra></extra>",
         "legendgroup": "38823",
         "line": {
          "color": "#EF553B",
          "dash": "solid"
         },
         "mode": "lines",
         "name": "38823",
         "orientation": "v",
         "showlegend": true,
         "type": "scatter",
         "x": [
          "2014-05-21"
         ],
         "xaxis": "x",
         "y": [
          4
         ],
         "yaxis": "y"
        },
        {
         "hovertemplate": "mentionedEntity1=41485<br>dateTime=%{x}<br>ct=%{y}<extra></extra>",
         "legendgroup": "41485",
         "line": {
          "color": "#00cc96",
          "dash": "solid"
         },
         "mode": "lines",
         "name": "41485",
         "orientation": "v",
         "showlegend": true,
         "type": "scatter",
         "x": [
          "2014-05-21"
         ],
         "xaxis": "x",
         "y": [
          4
         ],
         "yaxis": "y"
        },
        {
         "hovertemplate": "mentionedEntity1=43292<br>dateTime=%{x}<br>ct=%{y}<extra></extra>",
         "legendgroup": "43292",
         "line": {
          "color": "#ab63fa",
          "dash": "solid"
         },
         "mode": "lines",
         "name": "43292",
         "orientation": "v",
         "showlegend": true,
         "type": "scatter",
         "x": [
          "2014-05-21"
         ],
         "xaxis": "x",
         "y": [
          3
         ],
         "yaxis": "y"
        },
        {
         "hovertemplate": "mentionedEntity1=43303<br>dateTime=%{x}<br>ct=%{y}<extra></extra>",
         "legendgroup": "43303",
         "line": {
          "color": "#FFA15A",
          "dash": "solid"
         },
         "mode": "lines",
         "name": "43303",
         "orientation": "v",
         "showlegend": true,
         "type": "scatter",
         "x": [
          "2014-05-21"
         ],
         "xaxis": "x",
         "y": [
          1
         ],
         "yaxis": "y"
        },
        {
         "hovertemplate": "mentionedEntity1=43664<br>dateTime=%{x}<br>ct=%{y}<extra></extra>",
         "legendgroup": "43664",
         "line": {
          "color": "#19d3f3",
          "dash": "solid"
         },
         "mode": "lines",
         "name": "43664",
         "orientation": "v",
         "showlegend": true,
         "type": "scatter",
         "x": [
          "2014-05-21"
         ],
         "xaxis": "x",
         "y": [
          2
         ],
         "yaxis": "y"
        },
        {
         "hovertemplate": "mentionedEntity1=44298<br>dateTime=%{x}<br>ct=%{y}<extra></extra>",
         "legendgroup": "44298",
         "line": {
          "color": "#FF6692",
          "dash": "solid"
         },
         "mode": "lines",
         "name": "44298",
         "orientation": "v",
         "showlegend": true,
         "type": "scatter",
         "x": [
          "2014-05-21",
          "2014-05-24"
         ],
         "xaxis": "x",
         "y": [
          1,
          2
         ],
         "yaxis": "y"
        },
        {
         "hovertemplate": "mentionedEntity1=44784<br>dateTime=%{x}<br>ct=%{y}<extra></extra>",
         "legendgroup": "44784",
         "line": {
          "color": "#B6E880",
          "dash": "solid"
         },
         "mode": "lines",
         "name": "44784",
         "orientation": "v",
         "showlegend": true,
         "type": "scatter",
         "x": [
          "2014-05-21"
         ],
         "xaxis": "x",
         "y": [
          2
         ],
         "yaxis": "y"
        },
        {
         "hovertemplate": "mentionedEntity1=45231<br>dateTime=%{x}<br>ct=%{y}<extra></extra>",
         "legendgroup": "45231",
         "line": {
          "color": "#FF97FF",
          "dash": "solid"
         },
         "mode": "lines",
         "name": "45231",
         "orientation": "v",
         "showlegend": true,
         "type": "scatter",
         "x": [
          "2014-05-21"
         ],
         "xaxis": "x",
         "y": [
          2
         ],
         "yaxis": "y"
        },
        {
         "hovertemplate": "mentionedEntity1=46510<br>dateTime=%{x}<br>ct=%{y}<extra></extra>",
         "legendgroup": "46510",
         "line": {
          "color": "#FECB52",
          "dash": "solid"
         },
         "mode": "lines",
         "name": "46510",
         "orientation": "v",
         "showlegend": true,
         "type": "scatter",
         "x": [
          "2014-05-21"
         ],
         "xaxis": "x",
         "y": [
          4
         ],
         "yaxis": "y"
        },
        {
         "hovertemplate": "mentionedEntity1=48161<br>dateTime=%{x}<br>ct=%{y}<extra></extra>",
         "legendgroup": "48161",
         "line": {
          "color": "#636efa",
          "dash": "solid"
         },
         "mode": "lines",
         "name": "48161",
         "orientation": "v",
         "showlegend": true,
         "type": "scatter",
         "x": [
          "2014-05-21"
         ],
         "xaxis": "x",
         "y": [
          2
         ],
         "yaxis": "y"
        },
        {
         "hovertemplate": "mentionedEntity1=49717<br>dateTime=%{x}<br>ct=%{y}<extra></extra>",
         "legendgroup": "49717",
         "line": {
          "color": "#EF553B",
          "dash": "solid"
         },
         "mode": "lines",
         "name": "49717",
         "orientation": "v",
         "showlegend": true,
         "type": "scatter",
         "x": [
          "2014-05-21"
         ],
         "xaxis": "x",
         "y": [
          5
         ],
         "yaxis": "y"
        },
        {
         "hovertemplate": "mentionedEntity1=50379<br>dateTime=%{x}<br>ct=%{y}<extra></extra>",
         "legendgroup": "50379",
         "line": {
          "color": "#00cc96",
          "dash": "solid"
         },
         "mode": "lines",
         "name": "50379",
         "orientation": "v",
         "showlegend": true,
         "type": "scatter",
         "x": [
          "2014-05-21"
         ],
         "xaxis": "x",
         "y": [
          4
         ],
         "yaxis": "y"
        },
        {
         "hovertemplate": "mentionedEntity1=51071<br>dateTime=%{x}<br>ct=%{y}<extra></extra>",
         "legendgroup": "51071",
         "line": {
          "color": "#ab63fa",
          "dash": "solid"
         },
         "mode": "lines",
         "name": "51071",
         "orientation": "v",
         "showlegend": true,
         "type": "scatter",
         "x": [
          "2014-05-21"
         ],
         "xaxis": "x",
         "y": [
          1
         ],
         "yaxis": "y"
        },
        {
         "hovertemplate": "mentionedEntity1=52168<br>dateTime=%{x}<br>ct=%{y}<extra></extra>",
         "legendgroup": "52168",
         "line": {
          "color": "#FFA15A",
          "dash": "solid"
         },
         "mode": "lines",
         "name": "52168",
         "orientation": "v",
         "showlegend": true,
         "type": "scatter",
         "x": [
          "2014-05-21",
          "2014-05-22"
         ],
         "xaxis": "x",
         "y": [
          1,
          3
         ],
         "yaxis": "y"
        },
        {
         "hovertemplate": "mentionedEntity1=3632<br>dateTime=%{x}<br>ct=%{y}<extra></extra>",
         "legendgroup": "3632",
         "line": {
          "color": "#19d3f3",
          "dash": "solid"
         },
         "mode": "lines",
         "name": "3632",
         "orientation": "v",
         "showlegend": true,
         "type": "scatter",
         "x": [
          "2014-05-22",
          "2014-05-24",
          "2014-05-25"
         ],
         "xaxis": "x",
         "y": [
          3,
          3,
          5
         ],
         "yaxis": "y"
        },
        {
         "hovertemplate": "mentionedEntity1=8446<br>dateTime=%{x}<br>ct=%{y}<extra></extra>",
         "legendgroup": "8446",
         "line": {
          "color": "#FF6692",
          "dash": "solid"
         },
         "mode": "lines",
         "name": "8446",
         "orientation": "v",
         "showlegend": true,
         "type": "scatter",
         "x": [
          "2014-05-22"
         ],
         "xaxis": "x",
         "y": [
          1
         ],
         "yaxis": "y"
        },
        {
         "hovertemplate": "mentionedEntity1=9167<br>dateTime=%{x}<br>ct=%{y}<extra></extra>",
         "legendgroup": "9167",
         "line": {
          "color": "#B6E880",
          "dash": "solid"
         },
         "mode": "lines",
         "name": "9167",
         "orientation": "v",
         "showlegend": true,
         "type": "scatter",
         "x": [
          "2014-05-22",
          "2014-05-28"
         ],
         "xaxis": "x",
         "y": [
          4,
          3
         ],
         "yaxis": "y"
        },
        {
         "hovertemplate": "mentionedEntity1=12007<br>dateTime=%{x}<br>ct=%{y}<extra></extra>",
         "legendgroup": "12007",
         "line": {
          "color": "#FF97FF",
          "dash": "solid"
         },
         "mode": "lines",
         "name": "12007",
         "orientation": "v",
         "showlegend": true,
         "type": "scatter",
         "x": [
          "2014-05-22"
         ],
         "xaxis": "x",
         "y": [
          1
         ],
         "yaxis": "y"
        },
        {
         "hovertemplate": "mentionedEntity1=12861<br>dateTime=%{x}<br>ct=%{y}<extra></extra>",
         "legendgroup": "12861",
         "line": {
          "color": "#FECB52",
          "dash": "solid"
         },
         "mode": "lines",
         "name": "12861",
         "orientation": "v",
         "showlegend": true,
         "type": "scatter",
         "x": [
          "2014-05-22"
         ],
         "xaxis": "x",
         "y": [
          2
         ],
         "yaxis": "y"
        },
        {
         "hovertemplate": "mentionedEntity1=15829<br>dateTime=%{x}<br>ct=%{y}<extra></extra>",
         "legendgroup": "15829",
         "line": {
          "color": "#636efa",
          "dash": "solid"
         },
         "mode": "lines",
         "name": "15829",
         "orientation": "v",
         "showlegend": true,
         "type": "scatter",
         "x": [
          "2014-05-22"
         ],
         "xaxis": "x",
         "y": [
          5
         ],
         "yaxis": "y"
        },
        {
         "hovertemplate": "mentionedEntity1=16199<br>dateTime=%{x}<br>ct=%{y}<extra></extra>",
         "legendgroup": "16199",
         "line": {
          "color": "#EF553B",
          "dash": "solid"
         },
         "mode": "lines",
         "name": "16199",
         "orientation": "v",
         "showlegend": true,
         "type": "scatter",
         "x": [
          "2014-05-22"
         ],
         "xaxis": "x",
         "y": [
          1
         ],
         "yaxis": "y"
        },
        {
         "hovertemplate": "mentionedEntity1=17965<br>dateTime=%{x}<br>ct=%{y}<extra></extra>",
         "legendgroup": "17965",
         "line": {
          "color": "#00cc96",
          "dash": "solid"
         },
         "mode": "lines",
         "name": "17965",
         "orientation": "v",
         "showlegend": true,
         "type": "scatter",
         "x": [
          "2014-05-22"
         ],
         "xaxis": "x",
         "y": [
          2
         ],
         "yaxis": "y"
        },
        {
         "hovertemplate": "mentionedEntity1=20613<br>dateTime=%{x}<br>ct=%{y}<extra></extra>",
         "legendgroup": "20613",
         "line": {
          "color": "#ab63fa",
          "dash": "solid"
         },
         "mode": "lines",
         "name": "20613",
         "orientation": "v",
         "showlegend": true,
         "type": "scatter",
         "x": [
          "2014-05-22"
         ],
         "xaxis": "x",
         "y": [
          1
         ],
         "yaxis": "y"
        },
        {
         "hovertemplate": "mentionedEntity1=20665<br>dateTime=%{x}<br>ct=%{y}<extra></extra>",
         "legendgroup": "20665",
         "line": {
          "color": "#FFA15A",
          "dash": "solid"
         },
         "mode": "lines",
         "name": "20665",
         "orientation": "v",
         "showlegend": true,
         "type": "scatter",
         "x": [
          "2014-05-22"
         ],
         "xaxis": "x",
         "y": [
          4
         ],
         "yaxis": "y"
        },
        {
         "hovertemplate": "mentionedEntity1=22041<br>dateTime=%{x}<br>ct=%{y}<extra></extra>",
         "legendgroup": "22041",
         "line": {
          "color": "#19d3f3",
          "dash": "solid"
         },
         "mode": "lines",
         "name": "22041",
         "orientation": "v",
         "showlegend": true,
         "type": "scatter",
         "x": [
          "2014-05-22"
         ],
         "xaxis": "x",
         "y": [
          2
         ],
         "yaxis": "y"
        },
        {
         "hovertemplate": "mentionedEntity1=22109<br>dateTime=%{x}<br>ct=%{y}<extra></extra>",
         "legendgroup": "22109",
         "line": {
          "color": "#FF6692",
          "dash": "solid"
         },
         "mode": "lines",
         "name": "22109",
         "orientation": "v",
         "showlegend": true,
         "type": "scatter",
         "x": [
          "2014-05-22"
         ],
         "xaxis": "x",
         "y": [
          2
         ],
         "yaxis": "y"
        },
        {
         "hovertemplate": "mentionedEntity1=22118<br>dateTime=%{x}<br>ct=%{y}<extra></extra>",
         "legendgroup": "22118",
         "line": {
          "color": "#B6E880",
          "dash": "solid"
         },
         "mode": "lines",
         "name": "22118",
         "orientation": "v",
         "showlegend": true,
         "type": "scatter",
         "x": [
          "2014-05-22"
         ],
         "xaxis": "x",
         "y": [
          3
         ],
         "yaxis": "y"
        },
        {
         "hovertemplate": "mentionedEntity1=24179<br>dateTime=%{x}<br>ct=%{y}<extra></extra>",
         "legendgroup": "24179",
         "line": {
          "color": "#FF97FF",
          "dash": "solid"
         },
         "mode": "lines",
         "name": "24179",
         "orientation": "v",
         "showlegend": true,
         "type": "scatter",
         "x": [
          "2014-05-22",
          "2014-05-29",
          "2014-05-30"
         ],
         "xaxis": "x",
         "y": [
          5,
          2,
          1
         ],
         "yaxis": "y"
        },
        {
         "hovertemplate": "mentionedEntity1=25382<br>dateTime=%{x}<br>ct=%{y}<extra></extra>",
         "legendgroup": "25382",
         "line": {
          "color": "#FECB52",
          "dash": "solid"
         },
         "mode": "lines",
         "name": "25382",
         "orientation": "v",
         "showlegend": true,
         "type": "scatter",
         "x": [
          "2014-05-22"
         ],
         "xaxis": "x",
         "y": [
          4
         ],
         "yaxis": "y"
        },
        {
         "hovertemplate": "mentionedEntity1=25891<br>dateTime=%{x}<br>ct=%{y}<extra></extra>",
         "legendgroup": "25891",
         "line": {
          "color": "#636efa",
          "dash": "solid"
         },
         "mode": "lines",
         "name": "25891",
         "orientation": "v",
         "showlegend": true,
         "type": "scatter",
         "x": [
          "2014-05-22"
         ],
         "xaxis": "x",
         "y": [
          3
         ],
         "yaxis": "y"
        },
        {
         "hovertemplate": "mentionedEntity1=28374<br>dateTime=%{x}<br>ct=%{y}<extra></extra>",
         "legendgroup": "28374",
         "line": {
          "color": "#EF553B",
          "dash": "solid"
         },
         "mode": "lines",
         "name": "28374",
         "orientation": "v",
         "showlegend": true,
         "type": "scatter",
         "x": [
          "2014-05-22"
         ],
         "xaxis": "x",
         "y": [
          6
         ],
         "yaxis": "y"
        },
        {
         "hovertemplate": "mentionedEntity1=28615<br>dateTime=%{x}<br>ct=%{y}<extra></extra>",
         "legendgroup": "28615",
         "line": {
          "color": "#00cc96",
          "dash": "solid"
         },
         "mode": "lines",
         "name": "28615",
         "orientation": "v",
         "showlegend": true,
         "type": "scatter",
         "x": [
          "2014-05-22"
         ],
         "xaxis": "x",
         "y": [
          3
         ],
         "yaxis": "y"
        },
        {
         "hovertemplate": "mentionedEntity1=34458<br>dateTime=%{x}<br>ct=%{y}<extra></extra>",
         "legendgroup": "34458",
         "line": {
          "color": "#ab63fa",
          "dash": "solid"
         },
         "mode": "lines",
         "name": "34458",
         "orientation": "v",
         "showlegend": true,
         "type": "scatter",
         "x": [
          "2014-05-22"
         ],
         "xaxis": "x",
         "y": [
          5
         ],
         "yaxis": "y"
        },
        {
         "hovertemplate": "mentionedEntity1=35015<br>dateTime=%{x}<br>ct=%{y}<extra></extra>",
         "legendgroup": "35015",
         "line": {
          "color": "#FFA15A",
          "dash": "solid"
         },
         "mode": "lines",
         "name": "35015",
         "orientation": "v",
         "showlegend": true,
         "type": "scatter",
         "x": [
          "2014-05-22"
         ],
         "xaxis": "x",
         "y": [
          2
         ],
         "yaxis": "y"
        },
        {
         "hovertemplate": "mentionedEntity1=35475<br>dateTime=%{x}<br>ct=%{y}<extra></extra>",
         "legendgroup": "35475",
         "line": {
          "color": "#19d3f3",
          "dash": "solid"
         },
         "mode": "lines",
         "name": "35475",
         "orientation": "v",
         "showlegend": true,
         "type": "scatter",
         "x": [
          "2014-05-22",
          "2014-05-23",
          "2014-05-25",
          "2014-05-27",
          "2014-05-30"
         ],
         "xaxis": "x",
         "y": [
          3,
          8,
          1,
          17,
          8
         ],
         "yaxis": "y"
        },
        {
         "hovertemplate": "mentionedEntity1=35972<br>dateTime=%{x}<br>ct=%{y}<extra></extra>",
         "legendgroup": "35972",
         "line": {
          "color": "#FF6692",
          "dash": "solid"
         },
         "mode": "lines",
         "name": "35972",
         "orientation": "v",
         "showlegend": true,
         "type": "scatter",
         "x": [
          "2014-05-22"
         ],
         "xaxis": "x",
         "y": [
          2
         ],
         "yaxis": "y"
        },
        {
         "hovertemplate": "mentionedEntity1=36200<br>dateTime=%{x}<br>ct=%{y}<extra></extra>",
         "legendgroup": "36200",
         "line": {
          "color": "#B6E880",
          "dash": "solid"
         },
         "mode": "lines",
         "name": "36200",
         "orientation": "v",
         "showlegend": true,
         "type": "scatter",
         "x": [
          "2014-05-22"
         ],
         "xaxis": "x",
         "y": [
          1
         ],
         "yaxis": "y"
        },
        {
         "hovertemplate": "mentionedEntity1=38170<br>dateTime=%{x}<br>ct=%{y}<extra></extra>",
         "legendgroup": "38170",
         "line": {
          "color": "#FF97FF",
          "dash": "solid"
         },
         "mode": "lines",
         "name": "38170",
         "orientation": "v",
         "showlegend": true,
         "type": "scatter",
         "x": [
          "2014-05-22"
         ],
         "xaxis": "x",
         "y": [
          7
         ],
         "yaxis": "y"
        },
        {
         "hovertemplate": "mentionedEntity1=38499<br>dateTime=%{x}<br>ct=%{y}<extra></extra>",
         "legendgroup": "38499",
         "line": {
          "color": "#FECB52",
          "dash": "solid"
         },
         "mode": "lines",
         "name": "38499",
         "orientation": "v",
         "showlegend": true,
         "type": "scatter",
         "x": [
          "2014-05-22"
         ],
         "xaxis": "x",
         "y": [
          2
         ],
         "yaxis": "y"
        },
        {
         "hovertemplate": "mentionedEntity1=39948<br>dateTime=%{x}<br>ct=%{y}<extra></extra>",
         "legendgroup": "39948",
         "line": {
          "color": "#636efa",
          "dash": "solid"
         },
         "mode": "lines",
         "name": "39948",
         "orientation": "v",
         "showlegend": true,
         "type": "scatter",
         "x": [
          "2014-05-22"
         ],
         "xaxis": "x",
         "y": [
          4
         ],
         "yaxis": "y"
        },
        {
         "hovertemplate": "mentionedEntity1=40357<br>dateTime=%{x}<br>ct=%{y}<extra></extra>",
         "legendgroup": "40357",
         "line": {
          "color": "#EF553B",
          "dash": "solid"
         },
         "mode": "lines",
         "name": "40357",
         "orientation": "v",
         "showlegend": true,
         "type": "scatter",
         "x": [
          "2014-05-22"
         ],
         "xaxis": "x",
         "y": [
          2
         ],
         "yaxis": "y"
        },
        {
         "hovertemplate": "mentionedEntity1=40860<br>dateTime=%{x}<br>ct=%{y}<extra></extra>",
         "legendgroup": "40860",
         "line": {
          "color": "#00cc96",
          "dash": "solid"
         },
         "mode": "lines",
         "name": "40860",
         "orientation": "v",
         "showlegend": true,
         "type": "scatter",
         "x": [
          "2014-05-22"
         ],
         "xaxis": "x",
         "y": [
          6
         ],
         "yaxis": "y"
        },
        {
         "hovertemplate": "mentionedEntity1=41225<br>dateTime=%{x}<br>ct=%{y}<extra></extra>",
         "legendgroup": "41225",
         "line": {
          "color": "#ab63fa",
          "dash": "solid"
         },
         "mode": "lines",
         "name": "41225",
         "orientation": "v",
         "showlegend": true,
         "type": "scatter",
         "x": [
          "2014-05-22"
         ],
         "xaxis": "x",
         "y": [
          2
         ],
         "yaxis": "y"
        },
        {
         "hovertemplate": "mentionedEntity1=43629<br>dateTime=%{x}<br>ct=%{y}<extra></extra>",
         "legendgroup": "43629",
         "line": {
          "color": "#FFA15A",
          "dash": "solid"
         },
         "mode": "lines",
         "name": "43629",
         "orientation": "v",
         "showlegend": true,
         "type": "scatter",
         "x": [
          "2014-05-22"
         ],
         "xaxis": "x",
         "y": [
          1
         ],
         "yaxis": "y"
        },
        {
         "hovertemplate": "mentionedEntity1=44194<br>dateTime=%{x}<br>ct=%{y}<extra></extra>",
         "legendgroup": "44194",
         "line": {
          "color": "#19d3f3",
          "dash": "solid"
         },
         "mode": "lines",
         "name": "44194",
         "orientation": "v",
         "showlegend": true,
         "type": "scatter",
         "x": [
          "2014-05-22"
         ],
         "xaxis": "x",
         "y": [
          10
         ],
         "yaxis": "y"
        },
        {
         "hovertemplate": "mentionedEntity1=45264<br>dateTime=%{x}<br>ct=%{y}<extra></extra>",
         "legendgroup": "45264",
         "line": {
          "color": "#FF6692",
          "dash": "solid"
         },
         "mode": "lines",
         "name": "45264",
         "orientation": "v",
         "showlegend": true,
         "type": "scatter",
         "x": [
          "2014-05-22"
         ],
         "xaxis": "x",
         "y": [
          2
         ],
         "yaxis": "y"
        },
        {
         "hovertemplate": "mentionedEntity1=47816<br>dateTime=%{x}<br>ct=%{y}<extra></extra>",
         "legendgroup": "47816",
         "line": {
          "color": "#B6E880",
          "dash": "solid"
         },
         "mode": "lines",
         "name": "47816",
         "orientation": "v",
         "showlegend": true,
         "type": "scatter",
         "x": [
          "2014-05-22"
         ],
         "xaxis": "x",
         "y": [
          1
         ],
         "yaxis": "y"
        },
        {
         "hovertemplate": "mentionedEntity1=49452<br>dateTime=%{x}<br>ct=%{y}<extra></extra>",
         "legendgroup": "49452",
         "line": {
          "color": "#FF97FF",
          "dash": "solid"
         },
         "mode": "lines",
         "name": "49452",
         "orientation": "v",
         "showlegend": true,
         "type": "scatter",
         "x": [
          "2014-05-22"
         ],
         "xaxis": "x",
         "y": [
          6
         ],
         "yaxis": "y"
        },
        {
         "hovertemplate": "mentionedEntity1=909<br>dateTime=%{x}<br>ct=%{y}<extra></extra>",
         "legendgroup": "909",
         "line": {
          "color": "#FECB52",
          "dash": "solid"
         },
         "mode": "lines",
         "name": "909",
         "orientation": "v",
         "showlegend": true,
         "type": "scatter",
         "x": [
          "2014-05-23"
         ],
         "xaxis": "x",
         "y": [
          2
         ],
         "yaxis": "y"
        },
        {
         "hovertemplate": "mentionedEntity1=1396<br>dateTime=%{x}<br>ct=%{y}<extra></extra>",
         "legendgroup": "1396",
         "line": {
          "color": "#636efa",
          "dash": "solid"
         },
         "mode": "lines",
         "name": "1396",
         "orientation": "v",
         "showlegend": true,
         "type": "scatter",
         "x": [
          "2014-05-23",
          "2014-05-24"
         ],
         "xaxis": "x",
         "y": [
          2,
          2
         ],
         "yaxis": "y"
        },
        {
         "hovertemplate": "mentionedEntity1=3301<br>dateTime=%{x}<br>ct=%{y}<extra></extra>",
         "legendgroup": "3301",
         "line": {
          "color": "#EF553B",
          "dash": "solid"
         },
         "mode": "lines",
         "name": "3301",
         "orientation": "v",
         "showlegend": true,
         "type": "scatter",
         "x": [
          "2014-05-23"
         ],
         "xaxis": "x",
         "y": [
          8
         ],
         "yaxis": "y"
        },
        {
         "hovertemplate": "mentionedEntity1=9929<br>dateTime=%{x}<br>ct=%{y}<extra></extra>",
         "legendgroup": "9929",
         "line": {
          "color": "#00cc96",
          "dash": "solid"
         },
         "mode": "lines",
         "name": "9929",
         "orientation": "v",
         "showlegend": true,
         "type": "scatter",
         "x": [
          "2014-05-23",
          "2014-05-24"
         ],
         "xaxis": "x",
         "y": [
          5,
          1
         ],
         "yaxis": "y"
        },
        {
         "hovertemplate": "mentionedEntity1=11350<br>dateTime=%{x}<br>ct=%{y}<extra></extra>",
         "legendgroup": "11350",
         "line": {
          "color": "#ab63fa",
          "dash": "solid"
         },
         "mode": "lines",
         "name": "11350",
         "orientation": "v",
         "showlegend": true,
         "type": "scatter",
         "x": [
          "2014-05-23"
         ],
         "xaxis": "x",
         "y": [
          2
         ],
         "yaxis": "y"
        },
        {
         "hovertemplate": "mentionedEntity1=11694<br>dateTime=%{x}<br>ct=%{y}<extra></extra>",
         "legendgroup": "11694",
         "line": {
          "color": "#FFA15A",
          "dash": "solid"
         },
         "mode": "lines",
         "name": "11694",
         "orientation": "v",
         "showlegend": true,
         "type": "scatter",
         "x": [
          "2014-05-23"
         ],
         "xaxis": "x",
         "y": [
          1
         ],
         "yaxis": "y"
        },
        {
         "hovertemplate": "mentionedEntity1=11987<br>dateTime=%{x}<br>ct=%{y}<extra></extra>",
         "legendgroup": "11987",
         "line": {
          "color": "#19d3f3",
          "dash": "solid"
         },
         "mode": "lines",
         "name": "11987",
         "orientation": "v",
         "showlegend": true,
         "type": "scatter",
         "x": [
          "2014-05-23"
         ],
         "xaxis": "x",
         "y": [
          2
         ],
         "yaxis": "y"
        },
        {
         "hovertemplate": "mentionedEntity1=13701<br>dateTime=%{x}<br>ct=%{y}<extra></extra>",
         "legendgroup": "13701",
         "line": {
          "color": "#FF6692",
          "dash": "solid"
         },
         "mode": "lines",
         "name": "13701",
         "orientation": "v",
         "showlegend": true,
         "type": "scatter",
         "x": [
          "2014-05-23"
         ],
         "xaxis": "x",
         "y": [
          1
         ],
         "yaxis": "y"
        },
        {
         "hovertemplate": "mentionedEntity1=16864<br>dateTime=%{x}<br>ct=%{y}<extra></extra>",
         "legendgroup": "16864",
         "line": {
          "color": "#B6E880",
          "dash": "solid"
         },
         "mode": "lines",
         "name": "16864",
         "orientation": "v",
         "showlegend": true,
         "type": "scatter",
         "x": [
          "2014-05-23"
         ],
         "xaxis": "x",
         "y": [
          3
         ],
         "yaxis": "y"
        },
        {
         "hovertemplate": "mentionedEntity1=18211<br>dateTime=%{x}<br>ct=%{y}<extra></extra>",
         "legendgroup": "18211",
         "line": {
          "color": "#FF97FF",
          "dash": "solid"
         },
         "mode": "lines",
         "name": "18211",
         "orientation": "v",
         "showlegend": true,
         "type": "scatter",
         "x": [
          "2014-05-23"
         ],
         "xaxis": "x",
         "y": [
          3
         ],
         "yaxis": "y"
        },
        {
         "hovertemplate": "mentionedEntity1=18542<br>dateTime=%{x}<br>ct=%{y}<extra></extra>",
         "legendgroup": "18542",
         "line": {
          "color": "#FECB52",
          "dash": "solid"
         },
         "mode": "lines",
         "name": "18542",
         "orientation": "v",
         "showlegend": true,
         "type": "scatter",
         "x": [
          "2014-05-23",
          "2014-05-29"
         ],
         "xaxis": "x",
         "y": [
          2,
          2
         ],
         "yaxis": "y"
        },
        {
         "hovertemplate": "mentionedEntity1=20027<br>dateTime=%{x}<br>ct=%{y}<extra></extra>",
         "legendgroup": "20027",
         "line": {
          "color": "#636efa",
          "dash": "solid"
         },
         "mode": "lines",
         "name": "20027",
         "orientation": "v",
         "showlegend": true,
         "type": "scatter",
         "x": [
          "2014-05-23"
         ],
         "xaxis": "x",
         "y": [
          4
         ],
         "yaxis": "y"
        },
        {
         "hovertemplate": "mentionedEntity1=20393<br>dateTime=%{x}<br>ct=%{y}<extra></extra>",
         "legendgroup": "20393",
         "line": {
          "color": "#EF553B",
          "dash": "solid"
         },
         "mode": "lines",
         "name": "20393",
         "orientation": "v",
         "showlegend": true,
         "type": "scatter",
         "x": [
          "2014-05-23"
         ],
         "xaxis": "x",
         "y": [
          2
         ],
         "yaxis": "y"
        },
        {
         "hovertemplate": "mentionedEntity1=20542<br>dateTime=%{x}<br>ct=%{y}<extra></extra>",
         "legendgroup": "20542",
         "line": {
          "color": "#00cc96",
          "dash": "solid"
         },
         "mode": "lines",
         "name": "20542",
         "orientation": "v",
         "showlegend": true,
         "type": "scatter",
         "x": [
          "2014-05-23",
          "2014-05-24",
          "2014-05-25",
          "2014-05-30"
         ],
         "xaxis": "x",
         "y": [
          9,
          4,
          4,
          1
         ],
         "yaxis": "y"
        },
        {
         "hovertemplate": "mentionedEntity1=20667<br>dateTime=%{x}<br>ct=%{y}<extra></extra>",
         "legendgroup": "20667",
         "line": {
          "color": "#ab63fa",
          "dash": "solid"
         },
         "mode": "lines",
         "name": "20667",
         "orientation": "v",
         "showlegend": true,
         "type": "scatter",
         "x": [
          "2014-05-23"
         ],
         "xaxis": "x",
         "y": [
          9
         ],
         "yaxis": "y"
        },
        {
         "hovertemplate": "mentionedEntity1=22214<br>dateTime=%{x}<br>ct=%{y}<extra></extra>",
         "legendgroup": "22214",
         "line": {
          "color": "#FFA15A",
          "dash": "solid"
         },
         "mode": "lines",
         "name": "22214",
         "orientation": "v",
         "showlegend": true,
         "type": "scatter",
         "x": [
          "2014-05-23"
         ],
         "xaxis": "x",
         "y": [
          4
         ],
         "yaxis": "y"
        },
        {
         "hovertemplate": "mentionedEntity1=24432<br>dateTime=%{x}<br>ct=%{y}<extra></extra>",
         "legendgroup": "24432",
         "line": {
          "color": "#19d3f3",
          "dash": "solid"
         },
         "mode": "lines",
         "name": "24432",
         "orientation": "v",
         "showlegend": true,
         "type": "scatter",
         "x": [
          "2014-05-23"
         ],
         "xaxis": "x",
         "y": [
          1
         ],
         "yaxis": "y"
        },
        {
         "hovertemplate": "mentionedEntity1=31274<br>dateTime=%{x}<br>ct=%{y}<extra></extra>",
         "legendgroup": "31274",
         "line": {
          "color": "#FF6692",
          "dash": "solid"
         },
         "mode": "lines",
         "name": "31274",
         "orientation": "v",
         "showlegend": true,
         "type": "scatter",
         "x": [
          "2014-05-23"
         ],
         "xaxis": "x",
         "y": [
          1
         ],
         "yaxis": "y"
        },
        {
         "hovertemplate": "mentionedEntity1=31927<br>dateTime=%{x}<br>ct=%{y}<extra></extra>",
         "legendgroup": "31927",
         "line": {
          "color": "#B6E880",
          "dash": "solid"
         },
         "mode": "lines",
         "name": "31927",
         "orientation": "v",
         "showlegend": true,
         "type": "scatter",
         "x": [
          "2014-05-23"
         ],
         "xaxis": "x",
         "y": [
          2
         ],
         "yaxis": "y"
        },
        {
         "hovertemplate": "mentionedEntity1=33715<br>dateTime=%{x}<br>ct=%{y}<extra></extra>",
         "legendgroup": "33715",
         "line": {
          "color": "#FF97FF",
          "dash": "solid"
         },
         "mode": "lines",
         "name": "33715",
         "orientation": "v",
         "showlegend": true,
         "type": "scatter",
         "x": [
          "2014-05-23",
          "2014-05-27"
         ],
         "xaxis": "x",
         "y": [
          4,
          7
         ],
         "yaxis": "y"
        },
        {
         "hovertemplate": "mentionedEntity1=34867<br>dateTime=%{x}<br>ct=%{y}<extra></extra>",
         "legendgroup": "34867",
         "line": {
          "color": "#FECB52",
          "dash": "solid"
         },
         "mode": "lines",
         "name": "34867",
         "orientation": "v",
         "showlegend": true,
         "type": "scatter",
         "x": [
          "2014-05-23"
         ],
         "xaxis": "x",
         "y": [
          6
         ],
         "yaxis": "y"
        },
        {
         "hovertemplate": "mentionedEntity1=38469<br>dateTime=%{x}<br>ct=%{y}<extra></extra>",
         "legendgroup": "38469",
         "line": {
          "color": "#636efa",
          "dash": "solid"
         },
         "mode": "lines",
         "name": "38469",
         "orientation": "v",
         "showlegend": true,
         "type": "scatter",
         "x": [
          "2014-05-23"
         ],
         "xaxis": "x",
         "y": [
          5
         ],
         "yaxis": "y"
        },
        {
         "hovertemplate": "mentionedEntity1=44018<br>dateTime=%{x}<br>ct=%{y}<extra></extra>",
         "legendgroup": "44018",
         "line": {
          "color": "#EF553B",
          "dash": "solid"
         },
         "mode": "lines",
         "name": "44018",
         "orientation": "v",
         "showlegend": true,
         "type": "scatter",
         "x": [
          "2014-05-23"
         ],
         "xaxis": "x",
         "y": [
          6
         ],
         "yaxis": "y"
        },
        {
         "hovertemplate": "mentionedEntity1=49276<br>dateTime=%{x}<br>ct=%{y}<extra></extra>",
         "legendgroup": "49276",
         "line": {
          "color": "#00cc96",
          "dash": "solid"
         },
         "mode": "lines",
         "name": "49276",
         "orientation": "v",
         "showlegend": true,
         "type": "scatter",
         "x": [
          "2014-05-23"
         ],
         "xaxis": "x",
         "y": [
          6
         ],
         "yaxis": "y"
        },
        {
         "hovertemplate": "mentionedEntity1=52083<br>dateTime=%{x}<br>ct=%{y}<extra></extra>",
         "legendgroup": "52083",
         "line": {
          "color": "#ab63fa",
          "dash": "solid"
         },
         "mode": "lines",
         "name": "52083",
         "orientation": "v",
         "showlegend": true,
         "type": "scatter",
         "x": [
          "2014-05-23"
         ],
         "xaxis": "x",
         "y": [
          1
         ],
         "yaxis": "y"
        },
        {
         "hovertemplate": "mentionedEntity1=656<br>dateTime=%{x}<br>ct=%{y}<extra></extra>",
         "legendgroup": "656",
         "line": {
          "color": "#FFA15A",
          "dash": "solid"
         },
         "mode": "lines",
         "name": "656",
         "orientation": "v",
         "showlegend": true,
         "type": "scatter",
         "x": [
          "2014-05-24"
         ],
         "xaxis": "x",
         "y": [
          11
         ],
         "yaxis": "y"
        },
        {
         "hovertemplate": "mentionedEntity1=1649<br>dateTime=%{x}<br>ct=%{y}<extra></extra>",
         "legendgroup": "1649",
         "line": {
          "color": "#19d3f3",
          "dash": "solid"
         },
         "mode": "lines",
         "name": "1649",
         "orientation": "v",
         "showlegend": true,
         "type": "scatter",
         "x": [
          "2014-05-24"
         ],
         "xaxis": "x",
         "y": [
          8
         ],
         "yaxis": "y"
        },
        {
         "hovertemplate": "mentionedEntity1=1732<br>dateTime=%{x}<br>ct=%{y}<extra></extra>",
         "legendgroup": "1732",
         "line": {
          "color": "#FF6692",
          "dash": "solid"
         },
         "mode": "lines",
         "name": "1732",
         "orientation": "v",
         "showlegend": true,
         "type": "scatter",
         "x": [
          "2014-05-24"
         ],
         "xaxis": "x",
         "y": [
          7
         ],
         "yaxis": "y"
        },
        {
         "hovertemplate": "mentionedEntity1=1860<br>dateTime=%{x}<br>ct=%{y}<extra></extra>",
         "legendgroup": "1860",
         "line": {
          "color": "#B6E880",
          "dash": "solid"
         },
         "mode": "lines",
         "name": "1860",
         "orientation": "v",
         "showlegend": true,
         "type": "scatter",
         "x": [
          "2014-05-24",
          "2014-05-26"
         ],
         "xaxis": "x",
         "y": [
          20,
          3
         ],
         "yaxis": "y"
        },
        {
         "hovertemplate": "mentionedEntity1=2670<br>dateTime=%{x}<br>ct=%{y}<extra></extra>",
         "legendgroup": "2670",
         "line": {
          "color": "#FF97FF",
          "dash": "solid"
         },
         "mode": "lines",
         "name": "2670",
         "orientation": "v",
         "showlegend": true,
         "type": "scatter",
         "x": [
          "2014-05-24"
         ],
         "xaxis": "x",
         "y": [
          4
         ],
         "yaxis": "y"
        },
        {
         "hovertemplate": "mentionedEntity1=3084<br>dateTime=%{x}<br>ct=%{y}<extra></extra>",
         "legendgroup": "3084",
         "line": {
          "color": "#FECB52",
          "dash": "solid"
         },
         "mode": "lines",
         "name": "3084",
         "orientation": "v",
         "showlegend": true,
         "type": "scatter",
         "x": [
          "2014-05-24"
         ],
         "xaxis": "x",
         "y": [
          3
         ],
         "yaxis": "y"
        },
        {
         "hovertemplate": "mentionedEntity1=4917<br>dateTime=%{x}<br>ct=%{y}<extra></extra>",
         "legendgroup": "4917",
         "line": {
          "color": "#636efa",
          "dash": "solid"
         },
         "mode": "lines",
         "name": "4917",
         "orientation": "v",
         "showlegend": true,
         "type": "scatter",
         "x": [
          "2014-05-24"
         ],
         "xaxis": "x",
         "y": [
          6
         ],
         "yaxis": "y"
        },
        {
         "hovertemplate": "mentionedEntity1=5041<br>dateTime=%{x}<br>ct=%{y}<extra></extra>",
         "legendgroup": "5041",
         "line": {
          "color": "#EF553B",
          "dash": "solid"
         },
         "mode": "lines",
         "name": "5041",
         "orientation": "v",
         "showlegend": true,
         "type": "scatter",
         "x": [
          "2014-05-24"
         ],
         "xaxis": "x",
         "y": [
          4
         ],
         "yaxis": "y"
        },
        {
         "hovertemplate": "mentionedEntity1=5757<br>dateTime=%{x}<br>ct=%{y}<extra></extra>",
         "legendgroup": "5757",
         "line": {
          "color": "#00cc96",
          "dash": "solid"
         },
         "mode": "lines",
         "name": "5757",
         "orientation": "v",
         "showlegend": true,
         "type": "scatter",
         "x": [
          "2014-05-24"
         ],
         "xaxis": "x",
         "y": [
          5
         ],
         "yaxis": "y"
        },
        {
         "hovertemplate": "mentionedEntity1=5863<br>dateTime=%{x}<br>ct=%{y}<extra></extra>",
         "legendgroup": "5863",
         "line": {
          "color": "#ab63fa",
          "dash": "solid"
         },
         "mode": "lines",
         "name": "5863",
         "orientation": "v",
         "showlegend": true,
         "type": "scatter",
         "x": [
          "2014-05-24"
         ],
         "xaxis": "x",
         "y": [
          4
         ],
         "yaxis": "y"
        },
        {
         "hovertemplate": "mentionedEntity1=7094<br>dateTime=%{x}<br>ct=%{y}<extra></extra>",
         "legendgroup": "7094",
         "line": {
          "color": "#FFA15A",
          "dash": "solid"
         },
         "mode": "lines",
         "name": "7094",
         "orientation": "v",
         "showlegend": true,
         "type": "scatter",
         "x": [
          "2014-05-24",
          "2014-05-26"
         ],
         "xaxis": "x",
         "y": [
          8,
          3
         ],
         "yaxis": "y"
        },
        {
         "hovertemplate": "mentionedEntity1=7772<br>dateTime=%{x}<br>ct=%{y}<extra></extra>",
         "legendgroup": "7772",
         "line": {
          "color": "#19d3f3",
          "dash": "solid"
         },
         "mode": "lines",
         "name": "7772",
         "orientation": "v",
         "showlegend": true,
         "type": "scatter",
         "x": [
          "2014-05-24"
         ],
         "xaxis": "x",
         "y": [
          2
         ],
         "yaxis": "y"
        },
        {
         "hovertemplate": "mentionedEntity1=7841<br>dateTime=%{x}<br>ct=%{y}<extra></extra>",
         "legendgroup": "7841",
         "line": {
          "color": "#FF6692",
          "dash": "solid"
         },
         "mode": "lines",
         "name": "7841",
         "orientation": "v",
         "showlegend": true,
         "type": "scatter",
         "x": [
          "2014-05-24"
         ],
         "xaxis": "x",
         "y": [
          2
         ],
         "yaxis": "y"
        },
        {
         "hovertemplate": "mentionedEntity1=8081<br>dateTime=%{x}<br>ct=%{y}<extra></extra>",
         "legendgroup": "8081",
         "line": {
          "color": "#B6E880",
          "dash": "solid"
         },
         "mode": "lines",
         "name": "8081",
         "orientation": "v",
         "showlegend": true,
         "type": "scatter",
         "x": [
          "2014-05-24"
         ],
         "xaxis": "x",
         "y": [
          10
         ],
         "yaxis": "y"
        },
        {
         "hovertemplate": "mentionedEntity1=8899<br>dateTime=%{x}<br>ct=%{y}<extra></extra>",
         "legendgroup": "8899",
         "line": {
          "color": "#FF97FF",
          "dash": "solid"
         },
         "mode": "lines",
         "name": "8899",
         "orientation": "v",
         "showlegend": true,
         "type": "scatter",
         "x": [
          "2014-05-24"
         ],
         "xaxis": "x",
         "y": [
          2
         ],
         "yaxis": "y"
        },
        {
         "hovertemplate": "mentionedEntity1=11509<br>dateTime=%{x}<br>ct=%{y}<extra></extra>",
         "legendgroup": "11509",
         "line": {
          "color": "#FECB52",
          "dash": "solid"
         },
         "mode": "lines",
         "name": "11509",
         "orientation": "v",
         "showlegend": true,
         "type": "scatter",
         "x": [
          "2014-05-24"
         ],
         "xaxis": "x",
         "y": [
          3
         ],
         "yaxis": "y"
        },
        {
         "hovertemplate": "mentionedEntity1=11745<br>dateTime=%{x}<br>ct=%{y}<extra></extra>",
         "legendgroup": "11745",
         "line": {
          "color": "#636efa",
          "dash": "solid"
         },
         "mode": "lines",
         "name": "11745",
         "orientation": "v",
         "showlegend": true,
         "type": "scatter",
         "x": [
          "2014-05-24"
         ],
         "xaxis": "x",
         "y": [
          1
         ],
         "yaxis": "y"
        },
        {
         "hovertemplate": "mentionedEntity1=12250<br>dateTime=%{x}<br>ct=%{y}<extra></extra>",
         "legendgroup": "12250",
         "line": {
          "color": "#EF553B",
          "dash": "solid"
         },
         "mode": "lines",
         "name": "12250",
         "orientation": "v",
         "showlegend": true,
         "type": "scatter",
         "x": [
          "2014-05-24"
         ],
         "xaxis": "x",
         "y": [
          3
         ],
         "yaxis": "y"
        },
        {
         "hovertemplate": "mentionedEntity1=12505<br>dateTime=%{x}<br>ct=%{y}<extra></extra>",
         "legendgroup": "12505",
         "line": {
          "color": "#00cc96",
          "dash": "solid"
         },
         "mode": "lines",
         "name": "12505",
         "orientation": "v",
         "showlegend": true,
         "type": "scatter",
         "x": [
          "2014-05-24"
         ],
         "xaxis": "x",
         "y": [
          3
         ],
         "yaxis": "y"
        },
        {
         "hovertemplate": "mentionedEntity1=13424<br>dateTime=%{x}<br>ct=%{y}<extra></extra>",
         "legendgroup": "13424",
         "line": {
          "color": "#ab63fa",
          "dash": "solid"
         },
         "mode": "lines",
         "name": "13424",
         "orientation": "v",
         "showlegend": true,
         "type": "scatter",
         "x": [
          "2014-05-24"
         ],
         "xaxis": "x",
         "y": [
          2
         ],
         "yaxis": "y"
        },
        {
         "hovertemplate": "mentionedEntity1=14914<br>dateTime=%{x}<br>ct=%{y}<extra></extra>",
         "legendgroup": "14914",
         "line": {
          "color": "#FFA15A",
          "dash": "solid"
         },
         "mode": "lines",
         "name": "14914",
         "orientation": "v",
         "showlegend": true,
         "type": "scatter",
         "x": [
          "2014-05-24"
         ],
         "xaxis": "x",
         "y": [
          2
         ],
         "yaxis": "y"
        },
        {
         "hovertemplate": "mentionedEntity1=15816<br>dateTime=%{x}<br>ct=%{y}<extra></extra>",
         "legendgroup": "15816",
         "line": {
          "color": "#19d3f3",
          "dash": "solid"
         },
         "mode": "lines",
         "name": "15816",
         "orientation": "v",
         "showlegend": true,
         "type": "scatter",
         "x": [
          "2014-05-24"
         ],
         "xaxis": "x",
         "y": [
          3
         ],
         "yaxis": "y"
        },
        {
         "hovertemplate": "mentionedEntity1=16901<br>dateTime=%{x}<br>ct=%{y}<extra></extra>",
         "legendgroup": "16901",
         "line": {
          "color": "#FF6692",
          "dash": "solid"
         },
         "mode": "lines",
         "name": "16901",
         "orientation": "v",
         "showlegend": true,
         "type": "scatter",
         "x": [
          "2014-05-24"
         ],
         "xaxis": "x",
         "y": [
          2
         ],
         "yaxis": "y"
        },
        {
         "hovertemplate": "mentionedEntity1=17064<br>dateTime=%{x}<br>ct=%{y}<extra></extra>",
         "legendgroup": "17064",
         "line": {
          "color": "#B6E880",
          "dash": "solid"
         },
         "mode": "lines",
         "name": "17064",
         "orientation": "v",
         "showlegend": true,
         "type": "scatter",
         "x": [
          "2014-05-24"
         ],
         "xaxis": "x",
         "y": [
          1
         ],
         "yaxis": "y"
        },
        {
         "hovertemplate": "mentionedEntity1=17351<br>dateTime=%{x}<br>ct=%{y}<extra></extra>",
         "legendgroup": "17351",
         "line": {
          "color": "#FF97FF",
          "dash": "solid"
         },
         "mode": "lines",
         "name": "17351",
         "orientation": "v",
         "showlegend": true,
         "type": "scatter",
         "x": [
          "2014-05-24"
         ],
         "xaxis": "x",
         "y": [
          3
         ],
         "yaxis": "y"
        },
        {
         "hovertemplate": "mentionedEntity1=22308<br>dateTime=%{x}<br>ct=%{y}<extra></extra>",
         "legendgroup": "22308",
         "line": {
          "color": "#FECB52",
          "dash": "solid"
         },
         "mode": "lines",
         "name": "22308",
         "orientation": "v",
         "showlegend": true,
         "type": "scatter",
         "x": [
          "2014-05-24"
         ],
         "xaxis": "x",
         "y": [
          4
         ],
         "yaxis": "y"
        },
        {
         "hovertemplate": "mentionedEntity1=22365<br>dateTime=%{x}<br>ct=%{y}<extra></extra>",
         "legendgroup": "22365",
         "line": {
          "color": "#636efa",
          "dash": "solid"
         },
         "mode": "lines",
         "name": "22365",
         "orientation": "v",
         "showlegend": true,
         "type": "scatter",
         "x": [
          "2014-05-24"
         ],
         "xaxis": "x",
         "y": [
          5
         ],
         "yaxis": "y"
        },
        {
         "hovertemplate": "mentionedEntity1=22450<br>dateTime=%{x}<br>ct=%{y}<extra></extra>",
         "legendgroup": "22450",
         "line": {
          "color": "#EF553B",
          "dash": "solid"
         },
         "mode": "lines",
         "name": "22450",
         "orientation": "v",
         "showlegend": true,
         "type": "scatter",
         "x": [
          "2014-05-24"
         ],
         "xaxis": "x",
         "y": [
          3
         ],
         "yaxis": "y"
        },
        {
         "hovertemplate": "mentionedEntity1=22534<br>dateTime=%{x}<br>ct=%{y}<extra></extra>",
         "legendgroup": "22534",
         "line": {
          "color": "#00cc96",
          "dash": "solid"
         },
         "mode": "lines",
         "name": "22534",
         "orientation": "v",
         "showlegend": true,
         "type": "scatter",
         "x": [
          "2014-05-24"
         ],
         "xaxis": "x",
         "y": [
          3
         ],
         "yaxis": "y"
        },
        {
         "hovertemplate": "mentionedEntity1=24329<br>dateTime=%{x}<br>ct=%{y}<extra></extra>",
         "legendgroup": "24329",
         "line": {
          "color": "#ab63fa",
          "dash": "solid"
         },
         "mode": "lines",
         "name": "24329",
         "orientation": "v",
         "showlegend": true,
         "type": "scatter",
         "x": [
          "2014-05-24"
         ],
         "xaxis": "x",
         "y": [
          1
         ],
         "yaxis": "y"
        },
        {
         "hovertemplate": "mentionedEntity1=26979<br>dateTime=%{x}<br>ct=%{y}<extra></extra>",
         "legendgroup": "26979",
         "line": {
          "color": "#FFA15A",
          "dash": "solid"
         },
         "mode": "lines",
         "name": "26979",
         "orientation": "v",
         "showlegend": true,
         "type": "scatter",
         "x": [
          "2014-05-24"
         ],
         "xaxis": "x",
         "y": [
          4
         ],
         "yaxis": "y"
        },
        {
         "hovertemplate": "mentionedEntity1=27591<br>dateTime=%{x}<br>ct=%{y}<extra></extra>",
         "legendgroup": "27591",
         "line": {
          "color": "#19d3f3",
          "dash": "solid"
         },
         "mode": "lines",
         "name": "27591",
         "orientation": "v",
         "showlegend": true,
         "type": "scatter",
         "x": [
          "2014-05-24"
         ],
         "xaxis": "x",
         "y": [
          4
         ],
         "yaxis": "y"
        },
        {
         "hovertemplate": "mentionedEntity1=27650<br>dateTime=%{x}<br>ct=%{y}<extra></extra>",
         "legendgroup": "27650",
         "line": {
          "color": "#FF6692",
          "dash": "solid"
         },
         "mode": "lines",
         "name": "27650",
         "orientation": "v",
         "showlegend": true,
         "type": "scatter",
         "x": [
          "2014-05-24"
         ],
         "xaxis": "x",
         "y": [
          9
         ],
         "yaxis": "y"
        },
        {
         "hovertemplate": "mentionedEntity1=28253<br>dateTime=%{x}<br>ct=%{y}<extra></extra>",
         "legendgroup": "28253",
         "line": {
          "color": "#B6E880",
          "dash": "solid"
         },
         "mode": "lines",
         "name": "28253",
         "orientation": "v",
         "showlegend": true,
         "type": "scatter",
         "x": [
          "2014-05-24"
         ],
         "xaxis": "x",
         "y": [
          1
         ],
         "yaxis": "y"
        },
        {
         "hovertemplate": "mentionedEntity1=29375<br>dateTime=%{x}<br>ct=%{y}<extra></extra>",
         "legendgroup": "29375",
         "line": {
          "color": "#FF97FF",
          "dash": "solid"
         },
         "mode": "lines",
         "name": "29375",
         "orientation": "v",
         "showlegend": true,
         "type": "scatter",
         "x": [
          "2014-05-24"
         ],
         "xaxis": "x",
         "y": [
          2
         ],
         "yaxis": "y"
        },
        {
         "hovertemplate": "mentionedEntity1=31555<br>dateTime=%{x}<br>ct=%{y}<extra></extra>",
         "legendgroup": "31555",
         "line": {
          "color": "#FECB52",
          "dash": "solid"
         },
         "mode": "lines",
         "name": "31555",
         "orientation": "v",
         "showlegend": true,
         "type": "scatter",
         "x": [
          "2014-05-24"
         ],
         "xaxis": "x",
         "y": [
          4
         ],
         "yaxis": "y"
        },
        {
         "hovertemplate": "mentionedEntity1=35412<br>dateTime=%{x}<br>ct=%{y}<extra></extra>",
         "legendgroup": "35412",
         "line": {
          "color": "#636efa",
          "dash": "solid"
         },
         "mode": "lines",
         "name": "35412",
         "orientation": "v",
         "showlegend": true,
         "type": "scatter",
         "x": [
          "2014-05-24"
         ],
         "xaxis": "x",
         "y": [
          8
         ],
         "yaxis": "y"
        },
        {
         "hovertemplate": "mentionedEntity1=35778<br>dateTime=%{x}<br>ct=%{y}<extra></extra>",
         "legendgroup": "35778",
         "line": {
          "color": "#EF553B",
          "dash": "solid"
         },
         "mode": "lines",
         "name": "35778",
         "orientation": "v",
         "showlegend": true,
         "type": "scatter",
         "x": [
          "2014-05-24"
         ],
         "xaxis": "x",
         "y": [
          1
         ],
         "yaxis": "y"
        },
        {
         "hovertemplate": "mentionedEntity1=38405<br>dateTime=%{x}<br>ct=%{y}<extra></extra>",
         "legendgroup": "38405",
         "line": {
          "color": "#00cc96",
          "dash": "solid"
         },
         "mode": "lines",
         "name": "38405",
         "orientation": "v",
         "showlegend": true,
         "type": "scatter",
         "x": [
          "2014-05-24"
         ],
         "xaxis": "x",
         "y": [
          2
         ],
         "yaxis": "y"
        },
        {
         "hovertemplate": "mentionedEntity1=39696<br>dateTime=%{x}<br>ct=%{y}<extra></extra>",
         "legendgroup": "39696",
         "line": {
          "color": "#ab63fa",
          "dash": "solid"
         },
         "mode": "lines",
         "name": "39696",
         "orientation": "v",
         "showlegend": true,
         "type": "scatter",
         "x": [
          "2014-05-24",
          "2014-05-25"
         ],
         "xaxis": "x",
         "y": [
          2,
          2
         ],
         "yaxis": "y"
        },
        {
         "hovertemplate": "mentionedEntity1=39934<br>dateTime=%{x}<br>ct=%{y}<extra></extra>",
         "legendgroup": "39934",
         "line": {
          "color": "#FFA15A",
          "dash": "solid"
         },
         "mode": "lines",
         "name": "39934",
         "orientation": "v",
         "showlegend": true,
         "type": "scatter",
         "x": [
          "2014-05-24"
         ],
         "xaxis": "x",
         "y": [
          6
         ],
         "yaxis": "y"
        },
        {
         "hovertemplate": "mentionedEntity1=40399<br>dateTime=%{x}<br>ct=%{y}<extra></extra>",
         "legendgroup": "40399",
         "line": {
          "color": "#19d3f3",
          "dash": "solid"
         },
         "mode": "lines",
         "name": "40399",
         "orientation": "v",
         "showlegend": true,
         "type": "scatter",
         "x": [
          "2014-05-24"
         ],
         "xaxis": "x",
         "y": [
          1
         ],
         "yaxis": "y"
        },
        {
         "hovertemplate": "mentionedEntity1=41574<br>dateTime=%{x}<br>ct=%{y}<extra></extra>",
         "legendgroup": "41574",
         "line": {
          "color": "#FF6692",
          "dash": "solid"
         },
         "mode": "lines",
         "name": "41574",
         "orientation": "v",
         "showlegend": true,
         "type": "scatter",
         "x": [
          "2014-05-24"
         ],
         "xaxis": "x",
         "y": [
          1
         ],
         "yaxis": "y"
        },
        {
         "hovertemplate": "mentionedEntity1=42739<br>dateTime=%{x}<br>ct=%{y}<extra></extra>",
         "legendgroup": "42739",
         "line": {
          "color": "#B6E880",
          "dash": "solid"
         },
         "mode": "lines",
         "name": "42739",
         "orientation": "v",
         "showlegend": true,
         "type": "scatter",
         "x": [
          "2014-05-24"
         ],
         "xaxis": "x",
         "y": [
          3
         ],
         "yaxis": "y"
        },
        {
         "hovertemplate": "mentionedEntity1=42784<br>dateTime=%{x}<br>ct=%{y}<extra></extra>",
         "legendgroup": "42784",
         "line": {
          "color": "#FF97FF",
          "dash": "solid"
         },
         "mode": "lines",
         "name": "42784",
         "orientation": "v",
         "showlegend": true,
         "type": "scatter",
         "x": [
          "2014-05-24"
         ],
         "xaxis": "x",
         "y": [
          1
         ],
         "yaxis": "y"
        },
        {
         "hovertemplate": "mentionedEntity1=44073<br>dateTime=%{x}<br>ct=%{y}<extra></extra>",
         "legendgroup": "44073",
         "line": {
          "color": "#FECB52",
          "dash": "solid"
         },
         "mode": "lines",
         "name": "44073",
         "orientation": "v",
         "showlegend": true,
         "type": "scatter",
         "x": [
          "2014-05-24"
         ],
         "xaxis": "x",
         "y": [
          9
         ],
         "yaxis": "y"
        },
        {
         "hovertemplate": "mentionedEntity1=44562<br>dateTime=%{x}<br>ct=%{y}<extra></extra>",
         "legendgroup": "44562",
         "line": {
          "color": "#636efa",
          "dash": "solid"
         },
         "mode": "lines",
         "name": "44562",
         "orientation": "v",
         "showlegend": true,
         "type": "scatter",
         "x": [
          "2014-05-24"
         ],
         "xaxis": "x",
         "y": [
          1
         ],
         "yaxis": "y"
        },
        {
         "hovertemplate": "mentionedEntity1=45353<br>dateTime=%{x}<br>ct=%{y}<extra></extra>",
         "legendgroup": "45353",
         "line": {
          "color": "#EF553B",
          "dash": "solid"
         },
         "mode": "lines",
         "name": "45353",
         "orientation": "v",
         "showlegend": true,
         "type": "scatter",
         "x": [
          "2014-05-24"
         ],
         "xaxis": "x",
         "y": [
          5
         ],
         "yaxis": "y"
        },
        {
         "hovertemplate": "mentionedEntity1=47083<br>dateTime=%{x}<br>ct=%{y}<extra></extra>",
         "legendgroup": "47083",
         "line": {
          "color": "#00cc96",
          "dash": "solid"
         },
         "mode": "lines",
         "name": "47083",
         "orientation": "v",
         "showlegend": true,
         "type": "scatter",
         "x": [
          "2014-05-24"
         ],
         "xaxis": "x",
         "y": [
          4
         ],
         "yaxis": "y"
        },
        {
         "hovertemplate": "mentionedEntity1=48523<br>dateTime=%{x}<br>ct=%{y}<extra></extra>",
         "legendgroup": "48523",
         "line": {
          "color": "#ab63fa",
          "dash": "solid"
         },
         "mode": "lines",
         "name": "48523",
         "orientation": "v",
         "showlegend": true,
         "type": "scatter",
         "x": [
          "2014-05-24",
          "2014-05-27"
         ],
         "xaxis": "x",
         "y": [
          4,
          2
         ],
         "yaxis": "y"
        },
        {
         "hovertemplate": "mentionedEntity1=48687<br>dateTime=%{x}<br>ct=%{y}<extra></extra>",
         "legendgroup": "48687",
         "line": {
          "color": "#FFA15A",
          "dash": "solid"
         },
         "mode": "lines",
         "name": "48687",
         "orientation": "v",
         "showlegend": true,
         "type": "scatter",
         "x": [
          "2014-05-24"
         ],
         "xaxis": "x",
         "y": [
          6
         ],
         "yaxis": "y"
        },
        {
         "hovertemplate": "mentionedEntity1=50143<br>dateTime=%{x}<br>ct=%{y}<extra></extra>",
         "legendgroup": "50143",
         "line": {
          "color": "#19d3f3",
          "dash": "solid"
         },
         "mode": "lines",
         "name": "50143",
         "orientation": "v",
         "showlegend": true,
         "type": "scatter",
         "x": [
          "2014-05-24"
         ],
         "xaxis": "x",
         "y": [
          3
         ],
         "yaxis": "y"
        },
        {
         "hovertemplate": "mentionedEntity1=50147<br>dateTime=%{x}<br>ct=%{y}<extra></extra>",
         "legendgroup": "50147",
         "line": {
          "color": "#FF6692",
          "dash": "solid"
         },
         "mode": "lines",
         "name": "50147",
         "orientation": "v",
         "showlegend": true,
         "type": "scatter",
         "x": [
          "2014-05-24"
         ],
         "xaxis": "x",
         "y": [
          7
         ],
         "yaxis": "y"
        },
        {
         "hovertemplate": "mentionedEntity1=50171<br>dateTime=%{x}<br>ct=%{y}<extra></extra>",
         "legendgroup": "50171",
         "line": {
          "color": "#B6E880",
          "dash": "solid"
         },
         "mode": "lines",
         "name": "50171",
         "orientation": "v",
         "showlegend": true,
         "type": "scatter",
         "x": [
          "2014-05-24",
          "2014-05-25"
         ],
         "xaxis": "x",
         "y": [
          3,
          7
         ],
         "yaxis": "y"
        },
        {
         "hovertemplate": "mentionedEntity1=50744<br>dateTime=%{x}<br>ct=%{y}<extra></extra>",
         "legendgroup": "50744",
         "line": {
          "color": "#FF97FF",
          "dash": "solid"
         },
         "mode": "lines",
         "name": "50744",
         "orientation": "v",
         "showlegend": true,
         "type": "scatter",
         "x": [
          "2014-05-24"
         ],
         "xaxis": "x",
         "y": [
          8
         ],
         "yaxis": "y"
        },
        {
         "hovertemplate": "mentionedEntity1=201<br>dateTime=%{x}<br>ct=%{y}<extra></extra>",
         "legendgroup": "201",
         "line": {
          "color": "#FECB52",
          "dash": "solid"
         },
         "mode": "lines",
         "name": "201",
         "orientation": "v",
         "showlegend": true,
         "type": "scatter",
         "x": [
          "2014-05-25"
         ],
         "xaxis": "x",
         "y": [
          5
         ],
         "yaxis": "y"
        },
        {
         "hovertemplate": "mentionedEntity1=1559<br>dateTime=%{x}<br>ct=%{y}<extra></extra>",
         "legendgroup": "1559",
         "line": {
          "color": "#636efa",
          "dash": "solid"
         },
         "mode": "lines",
         "name": "1559",
         "orientation": "v",
         "showlegend": true,
         "type": "scatter",
         "x": [
          "2014-05-25"
         ],
         "xaxis": "x",
         "y": [
          2
         ],
         "yaxis": "y"
        },
        {
         "hovertemplate": "mentionedEntity1=2681<br>dateTime=%{x}<br>ct=%{y}<extra></extra>",
         "legendgroup": "2681",
         "line": {
          "color": "#EF553B",
          "dash": "solid"
         },
         "mode": "lines",
         "name": "2681",
         "orientation": "v",
         "showlegend": true,
         "type": "scatter",
         "x": [
          "2014-05-25"
         ],
         "xaxis": "x",
         "y": [
          2
         ],
         "yaxis": "y"
        },
        {
         "hovertemplate": "mentionedEntity1=4086<br>dateTime=%{x}<br>ct=%{y}<extra></extra>",
         "legendgroup": "4086",
         "line": {
          "color": "#00cc96",
          "dash": "solid"
         },
         "mode": "lines",
         "name": "4086",
         "orientation": "v",
         "showlegend": true,
         "type": "scatter",
         "x": [
          "2014-05-25"
         ],
         "xaxis": "x",
         "y": [
          1
         ],
         "yaxis": "y"
        },
        {
         "hovertemplate": "mentionedEntity1=5021<br>dateTime=%{x}<br>ct=%{y}<extra></extra>",
         "legendgroup": "5021",
         "line": {
          "color": "#ab63fa",
          "dash": "solid"
         },
         "mode": "lines",
         "name": "5021",
         "orientation": "v",
         "showlegend": true,
         "type": "scatter",
         "x": [
          "2014-05-25"
         ],
         "xaxis": "x",
         "y": [
          3
         ],
         "yaxis": "y"
        },
        {
         "hovertemplate": "mentionedEntity1=7376<br>dateTime=%{x}<br>ct=%{y}<extra></extra>",
         "legendgroup": "7376",
         "line": {
          "color": "#FFA15A",
          "dash": "solid"
         },
         "mode": "lines",
         "name": "7376",
         "orientation": "v",
         "showlegend": true,
         "type": "scatter",
         "x": [
          "2014-05-25",
          "2014-05-30"
         ],
         "xaxis": "x",
         "y": [
          3,
          23
         ],
         "yaxis": "y"
        },
        {
         "hovertemplate": "mentionedEntity1=7680<br>dateTime=%{x}<br>ct=%{y}<extra></extra>",
         "legendgroup": "7680",
         "line": {
          "color": "#19d3f3",
          "dash": "solid"
         },
         "mode": "lines",
         "name": "7680",
         "orientation": "v",
         "showlegend": true,
         "type": "scatter",
         "x": [
          "2014-05-25"
         ],
         "xaxis": "x",
         "y": [
          5
         ],
         "yaxis": "y"
        },
        {
         "hovertemplate": "mentionedEntity1=9389<br>dateTime=%{x}<br>ct=%{y}<extra></extra>",
         "legendgroup": "9389",
         "line": {
          "color": "#FF6692",
          "dash": "solid"
         },
         "mode": "lines",
         "name": "9389",
         "orientation": "v",
         "showlegend": true,
         "type": "scatter",
         "x": [
          "2014-05-25"
         ],
         "xaxis": "x",
         "y": [
          1
         ],
         "yaxis": "y"
        },
        {
         "hovertemplate": "mentionedEntity1=10791<br>dateTime=%{x}<br>ct=%{y}<extra></extra>",
         "legendgroup": "10791",
         "line": {
          "color": "#B6E880",
          "dash": "solid"
         },
         "mode": "lines",
         "name": "10791",
         "orientation": "v",
         "showlegend": true,
         "type": "scatter",
         "x": [
          "2014-05-25"
         ],
         "xaxis": "x",
         "y": [
          2
         ],
         "yaxis": "y"
        },
        {
         "hovertemplate": "mentionedEntity1=12165<br>dateTime=%{x}<br>ct=%{y}<extra></extra>",
         "legendgroup": "12165",
         "line": {
          "color": "#FF97FF",
          "dash": "solid"
         },
         "mode": "lines",
         "name": "12165",
         "orientation": "v",
         "showlegend": true,
         "type": "scatter",
         "x": [
          "2014-05-25"
         ],
         "xaxis": "x",
         "y": [
          2
         ],
         "yaxis": "y"
        },
        {
         "hovertemplate": "mentionedEntity1=14197<br>dateTime=%{x}<br>ct=%{y}<extra></extra>",
         "legendgroup": "14197",
         "line": {
          "color": "#FECB52",
          "dash": "solid"
         },
         "mode": "lines",
         "name": "14197",
         "orientation": "v",
         "showlegend": true,
         "type": "scatter",
         "x": [
          "2014-05-25"
         ],
         "xaxis": "x",
         "y": [
          10
         ],
         "yaxis": "y"
        },
        {
         "hovertemplate": "mentionedEntity1=14611<br>dateTime=%{x}<br>ct=%{y}<extra></extra>",
         "legendgroup": "14611",
         "line": {
          "color": "#636efa",
          "dash": "solid"
         },
         "mode": "lines",
         "name": "14611",
         "orientation": "v",
         "showlegend": true,
         "type": "scatter",
         "x": [
          "2014-05-25"
         ],
         "xaxis": "x",
         "y": [
          9
         ],
         "yaxis": "y"
        },
        {
         "hovertemplate": "mentionedEntity1=14779<br>dateTime=%{x}<br>ct=%{y}<extra></extra>",
         "legendgroup": "14779",
         "line": {
          "color": "#EF553B",
          "dash": "solid"
         },
         "mode": "lines",
         "name": "14779",
         "orientation": "v",
         "showlegend": true,
         "type": "scatter",
         "x": [
          "2014-05-25"
         ],
         "xaxis": "x",
         "y": [
          3
         ],
         "yaxis": "y"
        },
        {
         "hovertemplate": "mentionedEntity1=15133<br>dateTime=%{x}<br>ct=%{y}<extra></extra>",
         "legendgroup": "15133",
         "line": {
          "color": "#00cc96",
          "dash": "solid"
         },
         "mode": "lines",
         "name": "15133",
         "orientation": "v",
         "showlegend": true,
         "type": "scatter",
         "x": [
          "2014-05-25"
         ],
         "xaxis": "x",
         "y": [
          3
         ],
         "yaxis": "y"
        },
        {
         "hovertemplate": "mentionedEntity1=19523<br>dateTime=%{x}<br>ct=%{y}<extra></extra>",
         "legendgroup": "19523",
         "line": {
          "color": "#ab63fa",
          "dash": "solid"
         },
         "mode": "lines",
         "name": "19523",
         "orientation": "v",
         "showlegend": true,
         "type": "scatter",
         "x": [
          "2014-05-25"
         ],
         "xaxis": "x",
         "y": [
          2
         ],
         "yaxis": "y"
        },
        {
         "hovertemplate": "mentionedEntity1=19598<br>dateTime=%{x}<br>ct=%{y}<extra></extra>",
         "legendgroup": "19598",
         "line": {
          "color": "#FFA15A",
          "dash": "solid"
         },
         "mode": "lines",
         "name": "19598",
         "orientation": "v",
         "showlegend": true,
         "type": "scatter",
         "x": [
          "2014-05-25"
         ],
         "xaxis": "x",
         "y": [
          9
         ],
         "yaxis": "y"
        },
        {
         "hovertemplate": "mentionedEntity1=20067<br>dateTime=%{x}<br>ct=%{y}<extra></extra>",
         "legendgroup": "20067",
         "line": {
          "color": "#19d3f3",
          "dash": "solid"
         },
         "mode": "lines",
         "name": "20067",
         "orientation": "v",
         "showlegend": true,
         "type": "scatter",
         "x": [
          "2014-05-25"
         ],
         "xaxis": "x",
         "y": [
          4
         ],
         "yaxis": "y"
        },
        {
         "hovertemplate": "mentionedEntity1=20910<br>dateTime=%{x}<br>ct=%{y}<extra></extra>",
         "legendgroup": "20910",
         "line": {
          "color": "#FF6692",
          "dash": "solid"
         },
         "mode": "lines",
         "name": "20910",
         "orientation": "v",
         "showlegend": true,
         "type": "scatter",
         "x": [
          "2014-05-25"
         ],
         "xaxis": "x",
         "y": [
          3
         ],
         "yaxis": "y"
        },
        {
         "hovertemplate": "mentionedEntity1=28478<br>dateTime=%{x}<br>ct=%{y}<extra></extra>",
         "legendgroup": "28478",
         "line": {
          "color": "#B6E880",
          "dash": "solid"
         },
         "mode": "lines",
         "name": "28478",
         "orientation": "v",
         "showlegend": true,
         "type": "scatter",
         "x": [
          "2014-05-25"
         ],
         "xaxis": "x",
         "y": [
          2
         ],
         "yaxis": "y"
        },
        {
         "hovertemplate": "mentionedEntity1=29522<br>dateTime=%{x}<br>ct=%{y}<extra></extra>",
         "legendgroup": "29522",
         "line": {
          "color": "#FF97FF",
          "dash": "solid"
         },
         "mode": "lines",
         "name": "29522",
         "orientation": "v",
         "showlegend": true,
         "type": "scatter",
         "x": [
          "2014-05-25"
         ],
         "xaxis": "x",
         "y": [
          2
         ],
         "yaxis": "y"
        },
        {
         "hovertemplate": "mentionedEntity1=29720<br>dateTime=%{x}<br>ct=%{y}<extra></extra>",
         "legendgroup": "29720",
         "line": {
          "color": "#FECB52",
          "dash": "solid"
         },
         "mode": "lines",
         "name": "29720",
         "orientation": "v",
         "showlegend": true,
         "type": "scatter",
         "x": [
          "2014-05-25"
         ],
         "xaxis": "x",
         "y": [
          5
         ],
         "yaxis": "y"
        },
        {
         "hovertemplate": "mentionedEntity1=29884<br>dateTime=%{x}<br>ct=%{y}<extra></extra>",
         "legendgroup": "29884",
         "line": {
          "color": "#636efa",
          "dash": "solid"
         },
         "mode": "lines",
         "name": "29884",
         "orientation": "v",
         "showlegend": true,
         "type": "scatter",
         "x": [
          "2014-05-25"
         ],
         "xaxis": "x",
         "y": [
          3
         ],
         "yaxis": "y"
        },
        {
         "hovertemplate": "mentionedEntity1=30281<br>dateTime=%{x}<br>ct=%{y}<extra></extra>",
         "legendgroup": "30281",
         "line": {
          "color": "#EF553B",
          "dash": "solid"
         },
         "mode": "lines",
         "name": "30281",
         "orientation": "v",
         "showlegend": true,
         "type": "scatter",
         "x": [
          "2014-05-25"
         ],
         "xaxis": "x",
         "y": [
          2
         ],
         "yaxis": "y"
        },
        {
         "hovertemplate": "mentionedEntity1=31171<br>dateTime=%{x}<br>ct=%{y}<extra></extra>",
         "legendgroup": "31171",
         "line": {
          "color": "#00cc96",
          "dash": "solid"
         },
         "mode": "lines",
         "name": "31171",
         "orientation": "v",
         "showlegend": true,
         "type": "scatter",
         "x": [
          "2014-05-25"
         ],
         "xaxis": "x",
         "y": [
          2
         ],
         "yaxis": "y"
        },
        {
         "hovertemplate": "mentionedEntity1=35318<br>dateTime=%{x}<br>ct=%{y}<extra></extra>",
         "legendgroup": "35318",
         "line": {
          "color": "#ab63fa",
          "dash": "solid"
         },
         "mode": "lines",
         "name": "35318",
         "orientation": "v",
         "showlegend": true,
         "type": "scatter",
         "x": [
          "2014-05-25"
         ],
         "xaxis": "x",
         "y": [
          3
         ],
         "yaxis": "y"
        },
        {
         "hovertemplate": "mentionedEntity1=38722<br>dateTime=%{x}<br>ct=%{y}<extra></extra>",
         "legendgroup": "38722",
         "line": {
          "color": "#FFA15A",
          "dash": "solid"
         },
         "mode": "lines",
         "name": "38722",
         "orientation": "v",
         "showlegend": true,
         "type": "scatter",
         "x": [
          "2014-05-25"
         ],
         "xaxis": "x",
         "y": [
          3
         ],
         "yaxis": "y"
        },
        {
         "hovertemplate": "mentionedEntity1=41136<br>dateTime=%{x}<br>ct=%{y}<extra></extra>",
         "legendgroup": "41136",
         "line": {
          "color": "#19d3f3",
          "dash": "solid"
         },
         "mode": "lines",
         "name": "41136",
         "orientation": "v",
         "showlegend": true,
         "type": "scatter",
         "x": [
          "2014-05-25"
         ],
         "xaxis": "x",
         "y": [
          2
         ],
         "yaxis": "y"
        },
        {
         "hovertemplate": "mentionedEntity1=42097<br>dateTime=%{x}<br>ct=%{y}<extra></extra>",
         "legendgroup": "42097",
         "line": {
          "color": "#FF6692",
          "dash": "solid"
         },
         "mode": "lines",
         "name": "42097",
         "orientation": "v",
         "showlegend": true,
         "type": "scatter",
         "x": [
          "2014-05-25"
         ],
         "xaxis": "x",
         "y": [
          2
         ],
         "yaxis": "y"
        },
        {
         "hovertemplate": "mentionedEntity1=42680<br>dateTime=%{x}<br>ct=%{y}<extra></extra>",
         "legendgroup": "42680",
         "line": {
          "color": "#B6E880",
          "dash": "solid"
         },
         "mode": "lines",
         "name": "42680",
         "orientation": "v",
         "showlegend": true,
         "type": "scatter",
         "x": [
          "2014-05-25"
         ],
         "xaxis": "x",
         "y": [
          10
         ],
         "yaxis": "y"
        },
        {
         "hovertemplate": "mentionedEntity1=44338<br>dateTime=%{x}<br>ct=%{y}<extra></extra>",
         "legendgroup": "44338",
         "line": {
          "color": "#FF97FF",
          "dash": "solid"
         },
         "mode": "lines",
         "name": "44338",
         "orientation": "v",
         "showlegend": true,
         "type": "scatter",
         "x": [
          "2014-05-25"
         ],
         "xaxis": "x",
         "y": [
          2
         ],
         "yaxis": "y"
        },
        {
         "hovertemplate": "mentionedEntity1=47000<br>dateTime=%{x}<br>ct=%{y}<extra></extra>",
         "legendgroup": "47000",
         "line": {
          "color": "#FECB52",
          "dash": "solid"
         },
         "mode": "lines",
         "name": "47000",
         "orientation": "v",
         "showlegend": true,
         "type": "scatter",
         "x": [
          "2014-05-25"
         ],
         "xaxis": "x",
         "y": [
          2
         ],
         "yaxis": "y"
        },
        {
         "hovertemplate": "mentionedEntity1=47789<br>dateTime=%{x}<br>ct=%{y}<extra></extra>",
         "legendgroup": "47789",
         "line": {
          "color": "#636efa",
          "dash": "solid"
         },
         "mode": "lines",
         "name": "47789",
         "orientation": "v",
         "showlegend": true,
         "type": "scatter",
         "x": [
          "2014-05-25"
         ],
         "xaxis": "x",
         "y": [
          2
         ],
         "yaxis": "y"
        },
        {
         "hovertemplate": "mentionedEntity1=47917<br>dateTime=%{x}<br>ct=%{y}<extra></extra>",
         "legendgroup": "47917",
         "line": {
          "color": "#EF553B",
          "dash": "solid"
         },
         "mode": "lines",
         "name": "47917",
         "orientation": "v",
         "showlegend": true,
         "type": "scatter",
         "x": [
          "2014-05-25"
         ],
         "xaxis": "x",
         "y": [
          3
         ],
         "yaxis": "y"
        },
        {
         "hovertemplate": "mentionedEntity1=48966<br>dateTime=%{x}<br>ct=%{y}<extra></extra>",
         "legendgroup": "48966",
         "line": {
          "color": "#00cc96",
          "dash": "solid"
         },
         "mode": "lines",
         "name": "48966",
         "orientation": "v",
         "showlegend": true,
         "type": "scatter",
         "x": [
          "2014-05-25"
         ],
         "xaxis": "x",
         "y": [
          1
         ],
         "yaxis": "y"
        },
        {
         "hovertemplate": "mentionedEntity1=49256<br>dateTime=%{x}<br>ct=%{y}<extra></extra>",
         "legendgroup": "49256",
         "line": {
          "color": "#ab63fa",
          "dash": "solid"
         },
         "mode": "lines",
         "name": "49256",
         "orientation": "v",
         "showlegend": true,
         "type": "scatter",
         "x": [
          "2014-05-25"
         ],
         "xaxis": "x",
         "y": [
          4
         ],
         "yaxis": "y"
        },
        {
         "hovertemplate": "mentionedEntity1=51707<br>dateTime=%{x}<br>ct=%{y}<extra></extra>",
         "legendgroup": "51707",
         "line": {
          "color": "#FFA15A",
          "dash": "solid"
         },
         "mode": "lines",
         "name": "51707",
         "orientation": "v",
         "showlegend": true,
         "type": "scatter",
         "x": [
          "2014-05-25"
         ],
         "xaxis": "x",
         "y": [
          3
         ],
         "yaxis": "y"
        },
        {
         "hovertemplate": "mentionedEntity1=1924<br>dateTime=%{x}<br>ct=%{y}<extra></extra>",
         "legendgroup": "1924",
         "line": {
          "color": "#19d3f3",
          "dash": "solid"
         },
         "mode": "lines",
         "name": "1924",
         "orientation": "v",
         "showlegend": true,
         "type": "scatter",
         "x": [
          "2014-05-26"
         ],
         "xaxis": "x",
         "y": [
          3
         ],
         "yaxis": "y"
        },
        {
         "hovertemplate": "mentionedEntity1=2145<br>dateTime=%{x}<br>ct=%{y}<extra></extra>",
         "legendgroup": "2145",
         "line": {
          "color": "#FF6692",
          "dash": "solid"
         },
         "mode": "lines",
         "name": "2145",
         "orientation": "v",
         "showlegend": true,
         "type": "scatter",
         "x": [
          "2014-05-26"
         ],
         "xaxis": "x",
         "y": [
          2
         ],
         "yaxis": "y"
        },
        {
         "hovertemplate": "mentionedEntity1=4208<br>dateTime=%{x}<br>ct=%{y}<extra></extra>",
         "legendgroup": "4208",
         "line": {
          "color": "#B6E880",
          "dash": "solid"
         },
         "mode": "lines",
         "name": "4208",
         "orientation": "v",
         "showlegend": true,
         "type": "scatter",
         "x": [
          "2014-05-26"
         ],
         "xaxis": "x",
         "y": [
          2
         ],
         "yaxis": "y"
        },
        {
         "hovertemplate": "mentionedEntity1=4245<br>dateTime=%{x}<br>ct=%{y}<extra></extra>",
         "legendgroup": "4245",
         "line": {
          "color": "#FF97FF",
          "dash": "solid"
         },
         "mode": "lines",
         "name": "4245",
         "orientation": "v",
         "showlegend": true,
         "type": "scatter",
         "x": [
          "2014-05-26"
         ],
         "xaxis": "x",
         "y": [
          2
         ],
         "yaxis": "y"
        },
        {
         "hovertemplate": "mentionedEntity1=5113<br>dateTime=%{x}<br>ct=%{y}<extra></extra>",
         "legendgroup": "5113",
         "line": {
          "color": "#FECB52",
          "dash": "solid"
         },
         "mode": "lines",
         "name": "5113",
         "orientation": "v",
         "showlegend": true,
         "type": "scatter",
         "x": [
          "2014-05-26"
         ],
         "xaxis": "x",
         "y": [
          5
         ],
         "yaxis": "y"
        },
        {
         "hovertemplate": "mentionedEntity1=7688<br>dateTime=%{x}<br>ct=%{y}<extra></extra>",
         "legendgroup": "7688",
         "line": {
          "color": "#636efa",
          "dash": "solid"
         },
         "mode": "lines",
         "name": "7688",
         "orientation": "v",
         "showlegend": true,
         "type": "scatter",
         "x": [
          "2014-05-26"
         ],
         "xaxis": "x",
         "y": [
          4
         ],
         "yaxis": "y"
        },
        {
         "hovertemplate": "mentionedEntity1=8185<br>dateTime=%{x}<br>ct=%{y}<extra></extra>",
         "legendgroup": "8185",
         "line": {
          "color": "#EF553B",
          "dash": "solid"
         },
         "mode": "lines",
         "name": "8185",
         "orientation": "v",
         "showlegend": true,
         "type": "scatter",
         "x": [
          "2014-05-26"
         ],
         "xaxis": "x",
         "y": [
          3
         ],
         "yaxis": "y"
        },
        {
         "hovertemplate": "mentionedEntity1=9673<br>dateTime=%{x}<br>ct=%{y}<extra></extra>",
         "legendgroup": "9673",
         "line": {
          "color": "#00cc96",
          "dash": "solid"
         },
         "mode": "lines",
         "name": "9673",
         "orientation": "v",
         "showlegend": true,
         "type": "scatter",
         "x": [
          "2014-05-26"
         ],
         "xaxis": "x",
         "y": [
          1
         ],
         "yaxis": "y"
        },
        {
         "hovertemplate": "mentionedEntity1=10831<br>dateTime=%{x}<br>ct=%{y}<extra></extra>",
         "legendgroup": "10831",
         "line": {
          "color": "#ab63fa",
          "dash": "solid"
         },
         "mode": "lines",
         "name": "10831",
         "orientation": "v",
         "showlegend": true,
         "type": "scatter",
         "x": [
          "2014-05-26"
         ],
         "xaxis": "x",
         "y": [
          4
         ],
         "yaxis": "y"
        },
        {
         "hovertemplate": "mentionedEntity1=10848<br>dateTime=%{x}<br>ct=%{y}<extra></extra>",
         "legendgroup": "10848",
         "line": {
          "color": "#FFA15A",
          "dash": "solid"
         },
         "mode": "lines",
         "name": "10848",
         "orientation": "v",
         "showlegend": true,
         "type": "scatter",
         "x": [
          "2014-05-26"
         ],
         "xaxis": "x",
         "y": [
          1
         ],
         "yaxis": "y"
        },
        {
         "hovertemplate": "mentionedEntity1=10903<br>dateTime=%{x}<br>ct=%{y}<extra></extra>",
         "legendgroup": "10903",
         "line": {
          "color": "#19d3f3",
          "dash": "solid"
         },
         "mode": "lines",
         "name": "10903",
         "orientation": "v",
         "showlegend": true,
         "type": "scatter",
         "x": [
          "2014-05-26"
         ],
         "xaxis": "x",
         "y": [
          1
         ],
         "yaxis": "y"
        },
        {
         "hovertemplate": "mentionedEntity1=12123<br>dateTime=%{x}<br>ct=%{y}<extra></extra>",
         "legendgroup": "12123",
         "line": {
          "color": "#FF6692",
          "dash": "solid"
         },
         "mode": "lines",
         "name": "12123",
         "orientation": "v",
         "showlegend": true,
         "type": "scatter",
         "x": [
          "2014-05-26"
         ],
         "xaxis": "x",
         "y": [
          4
         ],
         "yaxis": "y"
        },
        {
         "hovertemplate": "mentionedEntity1=12643<br>dateTime=%{x}<br>ct=%{y}<extra></extra>",
         "legendgroup": "12643",
         "line": {
          "color": "#B6E880",
          "dash": "solid"
         },
         "mode": "lines",
         "name": "12643",
         "orientation": "v",
         "showlegend": true,
         "type": "scatter",
         "x": [
          "2014-05-26"
         ],
         "xaxis": "x",
         "y": [
          3
         ],
         "yaxis": "y"
        },
        {
         "hovertemplate": "mentionedEntity1=12754<br>dateTime=%{x}<br>ct=%{y}<extra></extra>",
         "legendgroup": "12754",
         "line": {
          "color": "#FF97FF",
          "dash": "solid"
         },
         "mode": "lines",
         "name": "12754",
         "orientation": "v",
         "showlegend": true,
         "type": "scatter",
         "x": [
          "2014-05-26"
         ],
         "xaxis": "x",
         "y": [
          1
         ],
         "yaxis": "y"
        },
        {
         "hovertemplate": "mentionedEntity1=14090<br>dateTime=%{x}<br>ct=%{y}<extra></extra>",
         "legendgroup": "14090",
         "line": {
          "color": "#FECB52",
          "dash": "solid"
         },
         "mode": "lines",
         "name": "14090",
         "orientation": "v",
         "showlegend": true,
         "type": "scatter",
         "x": [
          "2014-05-26"
         ],
         "xaxis": "x",
         "y": [
          4
         ],
         "yaxis": "y"
        },
        {
         "hovertemplate": "mentionedEntity1=16718<br>dateTime=%{x}<br>ct=%{y}<extra></extra>",
         "legendgroup": "16718",
         "line": {
          "color": "#636efa",
          "dash": "solid"
         },
         "mode": "lines",
         "name": "16718",
         "orientation": "v",
         "showlegend": true,
         "type": "scatter",
         "x": [
          "2014-05-26"
         ],
         "xaxis": "x",
         "y": [
          2
         ],
         "yaxis": "y"
        },
        {
         "hovertemplate": "mentionedEntity1=20331<br>dateTime=%{x}<br>ct=%{y}<extra></extra>",
         "legendgroup": "20331",
         "line": {
          "color": "#EF553B",
          "dash": "solid"
         },
         "mode": "lines",
         "name": "20331",
         "orientation": "v",
         "showlegend": true,
         "type": "scatter",
         "x": [
          "2014-05-26"
         ],
         "xaxis": "x",
         "y": [
          2
         ],
         "yaxis": "y"
        },
        {
         "hovertemplate": "mentionedEntity1=20397<br>dateTime=%{x}<br>ct=%{y}<extra></extra>",
         "legendgroup": "20397",
         "line": {
          "color": "#00cc96",
          "dash": "solid"
         },
         "mode": "lines",
         "name": "20397",
         "orientation": "v",
         "showlegend": true,
         "type": "scatter",
         "x": [
          "2014-05-26"
         ],
         "xaxis": "x",
         "y": [
          2
         ],
         "yaxis": "y"
        },
        {
         "hovertemplate": "mentionedEntity1=22835<br>dateTime=%{x}<br>ct=%{y}<extra></extra>",
         "legendgroup": "22835",
         "line": {
          "color": "#ab63fa",
          "dash": "solid"
         },
         "mode": "lines",
         "name": "22835",
         "orientation": "v",
         "showlegend": true,
         "type": "scatter",
         "x": [
          "2014-05-26"
         ],
         "xaxis": "x",
         "y": [
          2
         ],
         "yaxis": "y"
        },
        {
         "hovertemplate": "mentionedEntity1=24455<br>dateTime=%{x}<br>ct=%{y}<extra></extra>",
         "legendgroup": "24455",
         "line": {
          "color": "#FFA15A",
          "dash": "solid"
         },
         "mode": "lines",
         "name": "24455",
         "orientation": "v",
         "showlegend": true,
         "type": "scatter",
         "x": [
          "2014-05-26"
         ],
         "xaxis": "x",
         "y": [
          6
         ],
         "yaxis": "y"
        },
        {
         "hovertemplate": "mentionedEntity1=24785<br>dateTime=%{x}<br>ct=%{y}<extra></extra>",
         "legendgroup": "24785",
         "line": {
          "color": "#19d3f3",
          "dash": "solid"
         },
         "mode": "lines",
         "name": "24785",
         "orientation": "v",
         "showlegend": true,
         "type": "scatter",
         "x": [
          "2014-05-26"
         ],
         "xaxis": "x",
         "y": [
          2
         ],
         "yaxis": "y"
        },
        {
         "hovertemplate": "mentionedEntity1=25456<br>dateTime=%{x}<br>ct=%{y}<extra></extra>",
         "legendgroup": "25456",
         "line": {
          "color": "#FF6692",
          "dash": "solid"
         },
         "mode": "lines",
         "name": "25456",
         "orientation": "v",
         "showlegend": true,
         "type": "scatter",
         "x": [
          "2014-05-26"
         ],
         "xaxis": "x",
         "y": [
          3
         ],
         "yaxis": "y"
        },
        {
         "hovertemplate": "mentionedEntity1=26105<br>dateTime=%{x}<br>ct=%{y}<extra></extra>",
         "legendgroup": "26105",
         "line": {
          "color": "#B6E880",
          "dash": "solid"
         },
         "mode": "lines",
         "name": "26105",
         "orientation": "v",
         "showlegend": true,
         "type": "scatter",
         "x": [
          "2014-05-26"
         ],
         "xaxis": "x",
         "y": [
          9
         ],
         "yaxis": "y"
        },
        {
         "hovertemplate": "mentionedEntity1=27353<br>dateTime=%{x}<br>ct=%{y}<extra></extra>",
         "legendgroup": "27353",
         "line": {
          "color": "#FF97FF",
          "dash": "solid"
         },
         "mode": "lines",
         "name": "27353",
         "orientation": "v",
         "showlegend": true,
         "type": "scatter",
         "x": [
          "2014-05-26"
         ],
         "xaxis": "x",
         "y": [
          5
         ],
         "yaxis": "y"
        },
        {
         "hovertemplate": "mentionedEntity1=29023<br>dateTime=%{x}<br>ct=%{y}<extra></extra>",
         "legendgroup": "29023",
         "line": {
          "color": "#FECB52",
          "dash": "solid"
         },
         "mode": "lines",
         "name": "29023",
         "orientation": "v",
         "showlegend": true,
         "type": "scatter",
         "x": [
          "2014-05-26"
         ],
         "xaxis": "x",
         "y": [
          5
         ],
         "yaxis": "y"
        },
        {
         "hovertemplate": "mentionedEntity1=30195<br>dateTime=%{x}<br>ct=%{y}<extra></extra>",
         "legendgroup": "30195",
         "line": {
          "color": "#636efa",
          "dash": "solid"
         },
         "mode": "lines",
         "name": "30195",
         "orientation": "v",
         "showlegend": true,
         "type": "scatter",
         "x": [
          "2014-05-26"
         ],
         "xaxis": "x",
         "y": [
          7
         ],
         "yaxis": "y"
        },
        {
         "hovertemplate": "mentionedEntity1=30624<br>dateTime=%{x}<br>ct=%{y}<extra></extra>",
         "legendgroup": "30624",
         "line": {
          "color": "#EF553B",
          "dash": "solid"
         },
         "mode": "lines",
         "name": "30624",
         "orientation": "v",
         "showlegend": true,
         "type": "scatter",
         "x": [
          "2014-05-26"
         ],
         "xaxis": "x",
         "y": [
          5
         ],
         "yaxis": "y"
        },
        {
         "hovertemplate": "mentionedEntity1=30760<br>dateTime=%{x}<br>ct=%{y}<extra></extra>",
         "legendgroup": "30760",
         "line": {
          "color": "#00cc96",
          "dash": "solid"
         },
         "mode": "lines",
         "name": "30760",
         "orientation": "v",
         "showlegend": true,
         "type": "scatter",
         "x": [
          "2014-05-26"
         ],
         "xaxis": "x",
         "y": [
          6
         ],
         "yaxis": "y"
        },
        {
         "hovertemplate": "mentionedEntity1=31456<br>dateTime=%{x}<br>ct=%{y}<extra></extra>",
         "legendgroup": "31456",
         "line": {
          "color": "#ab63fa",
          "dash": "solid"
         },
         "mode": "lines",
         "name": "31456",
         "orientation": "v",
         "showlegend": true,
         "type": "scatter",
         "x": [
          "2014-05-26"
         ],
         "xaxis": "x",
         "y": [
          7
         ],
         "yaxis": "y"
        },
        {
         "hovertemplate": "mentionedEntity1=33529<br>dateTime=%{x}<br>ct=%{y}<extra></extra>",
         "legendgroup": "33529",
         "line": {
          "color": "#FFA15A",
          "dash": "solid"
         },
         "mode": "lines",
         "name": "33529",
         "orientation": "v",
         "showlegend": true,
         "type": "scatter",
         "x": [
          "2014-05-26"
         ],
         "xaxis": "x",
         "y": [
          3
         ],
         "yaxis": "y"
        },
        {
         "hovertemplate": "mentionedEntity1=33841<br>dateTime=%{x}<br>ct=%{y}<extra></extra>",
         "legendgroup": "33841",
         "line": {
          "color": "#19d3f3",
          "dash": "solid"
         },
         "mode": "lines",
         "name": "33841",
         "orientation": "v",
         "showlegend": true,
         "type": "scatter",
         "x": [
          "2014-05-26"
         ],
         "xaxis": "x",
         "y": [
          4
         ],
         "yaxis": "y"
        },
        {
         "hovertemplate": "mentionedEntity1=33967<br>dateTime=%{x}<br>ct=%{y}<extra></extra>",
         "legendgroup": "33967",
         "line": {
          "color": "#FF6692",
          "dash": "solid"
         },
         "mode": "lines",
         "name": "33967",
         "orientation": "v",
         "showlegend": true,
         "type": "scatter",
         "x": [
          "2014-05-26",
          "2014-05-27"
         ],
         "xaxis": "x",
         "y": [
          4,
          4
         ],
         "yaxis": "y"
        },
        {
         "hovertemplate": "mentionedEntity1=35047<br>dateTime=%{x}<br>ct=%{y}<extra></extra>",
         "legendgroup": "35047",
         "line": {
          "color": "#B6E880",
          "dash": "solid"
         },
         "mode": "lines",
         "name": "35047",
         "orientation": "v",
         "showlegend": true,
         "type": "scatter",
         "x": [
          "2014-05-26"
         ],
         "xaxis": "x",
         "y": [
          4
         ],
         "yaxis": "y"
        },
        {
         "hovertemplate": "mentionedEntity1=36353<br>dateTime=%{x}<br>ct=%{y}<extra></extra>",
         "legendgroup": "36353",
         "line": {
          "color": "#FF97FF",
          "dash": "solid"
         },
         "mode": "lines",
         "name": "36353",
         "orientation": "v",
         "showlegend": true,
         "type": "scatter",
         "x": [
          "2014-05-26"
         ],
         "xaxis": "x",
         "y": [
          4
         ],
         "yaxis": "y"
        },
        {
         "hovertemplate": "mentionedEntity1=36999<br>dateTime=%{x}<br>ct=%{y}<extra></extra>",
         "legendgroup": "36999",
         "line": {
          "color": "#FECB52",
          "dash": "solid"
         },
         "mode": "lines",
         "name": "36999",
         "orientation": "v",
         "showlegend": true,
         "type": "scatter",
         "x": [
          "2014-05-26"
         ],
         "xaxis": "x",
         "y": [
          4
         ],
         "yaxis": "y"
        },
        {
         "hovertemplate": "mentionedEntity1=37323<br>dateTime=%{x}<br>ct=%{y}<extra></extra>",
         "legendgroup": "37323",
         "line": {
          "color": "#636efa",
          "dash": "solid"
         },
         "mode": "lines",
         "name": "37323",
         "orientation": "v",
         "showlegend": true,
         "type": "scatter",
         "x": [
          "2014-05-26"
         ],
         "xaxis": "x",
         "y": [
          3
         ],
         "yaxis": "y"
        },
        {
         "hovertemplate": "mentionedEntity1=37700<br>dateTime=%{x}<br>ct=%{y}<extra></extra>",
         "legendgroup": "37700",
         "line": {
          "color": "#EF553B",
          "dash": "solid"
         },
         "mode": "lines",
         "name": "37700",
         "orientation": "v",
         "showlegend": true,
         "type": "scatter",
         "x": [
          "2014-05-26"
         ],
         "xaxis": "x",
         "y": [
          2
         ],
         "yaxis": "y"
        },
        {
         "hovertemplate": "mentionedEntity1=38306<br>dateTime=%{x}<br>ct=%{y}<extra></extra>",
         "legendgroup": "38306",
         "line": {
          "color": "#00cc96",
          "dash": "solid"
         },
         "mode": "lines",
         "name": "38306",
         "orientation": "v",
         "showlegend": true,
         "type": "scatter",
         "x": [
          "2014-05-26"
         ],
         "xaxis": "x",
         "y": [
          2
         ],
         "yaxis": "y"
        },
        {
         "hovertemplate": "mentionedEntity1=38325<br>dateTime=%{x}<br>ct=%{y}<extra></extra>",
         "legendgroup": "38325",
         "line": {
          "color": "#ab63fa",
          "dash": "solid"
         },
         "mode": "lines",
         "name": "38325",
         "orientation": "v",
         "showlegend": true,
         "type": "scatter",
         "x": [
          "2014-05-26"
         ],
         "xaxis": "x",
         "y": [
          6
         ],
         "yaxis": "y"
        },
        {
         "hovertemplate": "mentionedEntity1=38754<br>dateTime=%{x}<br>ct=%{y}<extra></extra>",
         "legendgroup": "38754",
         "line": {
          "color": "#FFA15A",
          "dash": "solid"
         },
         "mode": "lines",
         "name": "38754",
         "orientation": "v",
         "showlegend": true,
         "type": "scatter",
         "x": [
          "2014-05-26"
         ],
         "xaxis": "x",
         "y": [
          6
         ],
         "yaxis": "y"
        },
        {
         "hovertemplate": "mentionedEntity1=38858<br>dateTime=%{x}<br>ct=%{y}<extra></extra>",
         "legendgroup": "38858",
         "line": {
          "color": "#19d3f3",
          "dash": "solid"
         },
         "mode": "lines",
         "name": "38858",
         "orientation": "v",
         "showlegend": true,
         "type": "scatter",
         "x": [
          "2014-05-26"
         ],
         "xaxis": "x",
         "y": [
          4
         ],
         "yaxis": "y"
        },
        {
         "hovertemplate": "mentionedEntity1=41420<br>dateTime=%{x}<br>ct=%{y}<extra></extra>",
         "legendgroup": "41420",
         "line": {
          "color": "#FF6692",
          "dash": "solid"
         },
         "mode": "lines",
         "name": "41420",
         "orientation": "v",
         "showlegend": true,
         "type": "scatter",
         "x": [
          "2014-05-26"
         ],
         "xaxis": "x",
         "y": [
          6
         ],
         "yaxis": "y"
        },
        {
         "hovertemplate": "mentionedEntity1=42041<br>dateTime=%{x}<br>ct=%{y}<extra></extra>",
         "legendgroup": "42041",
         "line": {
          "color": "#B6E880",
          "dash": "solid"
         },
         "mode": "lines",
         "name": "42041",
         "orientation": "v",
         "showlegend": true,
         "type": "scatter",
         "x": [
          "2014-05-26"
         ],
         "xaxis": "x",
         "y": [
          7
         ],
         "yaxis": "y"
        },
        {
         "hovertemplate": "mentionedEntity1=42280<br>dateTime=%{x}<br>ct=%{y}<extra></extra>",
         "legendgroup": "42280",
         "line": {
          "color": "#FF97FF",
          "dash": "solid"
         },
         "mode": "lines",
         "name": "42280",
         "orientation": "v",
         "showlegend": true,
         "type": "scatter",
         "x": [
          "2014-05-26"
         ],
         "xaxis": "x",
         "y": [
          6
         ],
         "yaxis": "y"
        },
        {
         "hovertemplate": "mentionedEntity1=42342<br>dateTime=%{x}<br>ct=%{y}<extra></extra>",
         "legendgroup": "42342",
         "line": {
          "color": "#FECB52",
          "dash": "solid"
         },
         "mode": "lines",
         "name": "42342",
         "orientation": "v",
         "showlegend": true,
         "type": "scatter",
         "x": [
          "2014-05-26"
         ],
         "xaxis": "x",
         "y": [
          2
         ],
         "yaxis": "y"
        },
        {
         "hovertemplate": "mentionedEntity1=44908<br>dateTime=%{x}<br>ct=%{y}<extra></extra>",
         "legendgroup": "44908",
         "line": {
          "color": "#636efa",
          "dash": "solid"
         },
         "mode": "lines",
         "name": "44908",
         "orientation": "v",
         "showlegend": true,
         "type": "scatter",
         "x": [
          "2014-05-26"
         ],
         "xaxis": "x",
         "y": [
          6
         ],
         "yaxis": "y"
        },
        {
         "hovertemplate": "mentionedEntity1=46021<br>dateTime=%{x}<br>ct=%{y}<extra></extra>",
         "legendgroup": "46021",
         "line": {
          "color": "#EF553B",
          "dash": "solid"
         },
         "mode": "lines",
         "name": "46021",
         "orientation": "v",
         "showlegend": true,
         "type": "scatter",
         "x": [
          "2014-05-26"
         ],
         "xaxis": "x",
         "y": [
          8
         ],
         "yaxis": "y"
        },
        {
         "hovertemplate": "mentionedEntity1=46268<br>dateTime=%{x}<br>ct=%{y}<extra></extra>",
         "legendgroup": "46268",
         "line": {
          "color": "#00cc96",
          "dash": "solid"
         },
         "mode": "lines",
         "name": "46268",
         "orientation": "v",
         "showlegend": true,
         "type": "scatter",
         "x": [
          "2014-05-26"
         ],
         "xaxis": "x",
         "y": [
          6
         ],
         "yaxis": "y"
        },
        {
         "hovertemplate": "mentionedEntity1=47698<br>dateTime=%{x}<br>ct=%{y}<extra></extra>",
         "legendgroup": "47698",
         "line": {
          "color": "#ab63fa",
          "dash": "solid"
         },
         "mode": "lines",
         "name": "47698",
         "orientation": "v",
         "showlegend": true,
         "type": "scatter",
         "x": [
          "2014-05-26"
         ],
         "xaxis": "x",
         "y": [
          6
         ],
         "yaxis": "y"
        },
        {
         "hovertemplate": "mentionedEntity1=47760<br>dateTime=%{x}<br>ct=%{y}<extra></extra>",
         "legendgroup": "47760",
         "line": {
          "color": "#FFA15A",
          "dash": "solid"
         },
         "mode": "lines",
         "name": "47760",
         "orientation": "v",
         "showlegend": true,
         "type": "scatter",
         "x": [
          "2014-05-26"
         ],
         "xaxis": "x",
         "y": [
          7
         ],
         "yaxis": "y"
        },
        {
         "hovertemplate": "mentionedEntity1=49896<br>dateTime=%{x}<br>ct=%{y}<extra></extra>",
         "legendgroup": "49896",
         "line": {
          "color": "#19d3f3",
          "dash": "solid"
         },
         "mode": "lines",
         "name": "49896",
         "orientation": "v",
         "showlegend": true,
         "type": "scatter",
         "x": [
          "2014-05-26"
         ],
         "xaxis": "x",
         "y": [
          6
         ],
         "yaxis": "y"
        },
        {
         "hovertemplate": "mentionedEntity1=50669<br>dateTime=%{x}<br>ct=%{y}<extra></extra>",
         "legendgroup": "50669",
         "line": {
          "color": "#FF6692",
          "dash": "solid"
         },
         "mode": "lines",
         "name": "50669",
         "orientation": "v",
         "showlegend": true,
         "type": "scatter",
         "x": [
          "2014-05-26"
         ],
         "xaxis": "x",
         "y": [
          3
         ],
         "yaxis": "y"
        },
        {
         "hovertemplate": "mentionedEntity1=50754<br>dateTime=%{x}<br>ct=%{y}<extra></extra>",
         "legendgroup": "50754",
         "line": {
          "color": "#B6E880",
          "dash": "solid"
         },
         "mode": "lines",
         "name": "50754",
         "orientation": "v",
         "showlegend": true,
         "type": "scatter",
         "x": [
          "2014-05-26"
         ],
         "xaxis": "x",
         "y": [
          1
         ],
         "yaxis": "y"
        },
        {
         "hovertemplate": "mentionedEntity1=50789<br>dateTime=%{x}<br>ct=%{y}<extra></extra>",
         "legendgroup": "50789",
         "line": {
          "color": "#FF97FF",
          "dash": "solid"
         },
         "mode": "lines",
         "name": "50789",
         "orientation": "v",
         "showlegend": true,
         "type": "scatter",
         "x": [
          "2014-05-26"
         ],
         "xaxis": "x",
         "y": [
          5
         ],
         "yaxis": "y"
        },
        {
         "hovertemplate": "mentionedEntity1=381<br>dateTime=%{x}<br>ct=%{y}<extra></extra>",
         "legendgroup": "381",
         "line": {
          "color": "#FECB52",
          "dash": "solid"
         },
         "mode": "lines",
         "name": "381",
         "orientation": "v",
         "showlegend": true,
         "type": "scatter",
         "x": [
          "2014-05-27"
         ],
         "xaxis": "x",
         "y": [
          12
         ],
         "yaxis": "y"
        },
        {
         "hovertemplate": "mentionedEntity1=838<br>dateTime=%{x}<br>ct=%{y}<extra></extra>",
         "legendgroup": "838",
         "line": {
          "color": "#636efa",
          "dash": "solid"
         },
         "mode": "lines",
         "name": "838",
         "orientation": "v",
         "showlegend": true,
         "type": "scatter",
         "x": [
          "2014-05-27"
         ],
         "xaxis": "x",
         "y": [
          5
         ],
         "yaxis": "y"
        },
        {
         "hovertemplate": "mentionedEntity1=1799<br>dateTime=%{x}<br>ct=%{y}<extra></extra>",
         "legendgroup": "1799",
         "line": {
          "color": "#EF553B",
          "dash": "solid"
         },
         "mode": "lines",
         "name": "1799",
         "orientation": "v",
         "showlegend": true,
         "type": "scatter",
         "x": [
          "2014-05-27"
         ],
         "xaxis": "x",
         "y": [
          5
         ],
         "yaxis": "y"
        },
        {
         "hovertemplate": "mentionedEntity1=1914<br>dateTime=%{x}<br>ct=%{y}<extra></extra>",
         "legendgroup": "1914",
         "line": {
          "color": "#00cc96",
          "dash": "solid"
         },
         "mode": "lines",
         "name": "1914",
         "orientation": "v",
         "showlegend": true,
         "type": "scatter",
         "x": [
          "2014-05-27"
         ],
         "xaxis": "x",
         "y": [
          2
         ],
         "yaxis": "y"
        },
        {
         "hovertemplate": "mentionedEntity1=4837<br>dateTime=%{x}<br>ct=%{y}<extra></extra>",
         "legendgroup": "4837",
         "line": {
          "color": "#ab63fa",
          "dash": "solid"
         },
         "mode": "lines",
         "name": "4837",
         "orientation": "v",
         "showlegend": true,
         "type": "scatter",
         "x": [
          "2014-05-27"
         ],
         "xaxis": "x",
         "y": [
          6
         ],
         "yaxis": "y"
        },
        {
         "hovertemplate": "mentionedEntity1=4963<br>dateTime=%{x}<br>ct=%{y}<extra></extra>",
         "legendgroup": "4963",
         "line": {
          "color": "#FFA15A",
          "dash": "solid"
         },
         "mode": "lines",
         "name": "4963",
         "orientation": "v",
         "showlegend": true,
         "type": "scatter",
         "x": [
          "2014-05-27"
         ],
         "xaxis": "x",
         "y": [
          2
         ],
         "yaxis": "y"
        },
        {
         "hovertemplate": "mentionedEntity1=5696<br>dateTime=%{x}<br>ct=%{y}<extra></extra>",
         "legendgroup": "5696",
         "line": {
          "color": "#19d3f3",
          "dash": "solid"
         },
         "mode": "lines",
         "name": "5696",
         "orientation": "v",
         "showlegend": true,
         "type": "scatter",
         "x": [
          "2014-05-27"
         ],
         "xaxis": "x",
         "y": [
          3
         ],
         "yaxis": "y"
        },
        {
         "hovertemplate": "mentionedEntity1=5858<br>dateTime=%{x}<br>ct=%{y}<extra></extra>",
         "legendgroup": "5858",
         "line": {
          "color": "#FF6692",
          "dash": "solid"
         },
         "mode": "lines",
         "name": "5858",
         "orientation": "v",
         "showlegend": true,
         "type": "scatter",
         "x": [
          "2014-05-27"
         ],
         "xaxis": "x",
         "y": [
          3
         ],
         "yaxis": "y"
        },
        {
         "hovertemplate": "mentionedEntity1=5970<br>dateTime=%{x}<br>ct=%{y}<extra></extra>",
         "legendgroup": "5970",
         "line": {
          "color": "#B6E880",
          "dash": "solid"
         },
         "mode": "lines",
         "name": "5970",
         "orientation": "v",
         "showlegend": true,
         "type": "scatter",
         "x": [
          "2014-05-27"
         ],
         "xaxis": "x",
         "y": [
          5
         ],
         "yaxis": "y"
        },
        {
         "hovertemplate": "mentionedEntity1=7183<br>dateTime=%{x}<br>ct=%{y}<extra></extra>",
         "legendgroup": "7183",
         "line": {
          "color": "#FF97FF",
          "dash": "solid"
         },
         "mode": "lines",
         "name": "7183",
         "orientation": "v",
         "showlegend": true,
         "type": "scatter",
         "x": [
          "2014-05-27"
         ],
         "xaxis": "x",
         "y": [
          41
         ],
         "yaxis": "y"
        },
        {
         "hovertemplate": "mentionedEntity1=7222<br>dateTime=%{x}<br>ct=%{y}<extra></extra>",
         "legendgroup": "7222",
         "line": {
          "color": "#FECB52",
          "dash": "solid"
         },
         "mode": "lines",
         "name": "7222",
         "orientation": "v",
         "showlegend": true,
         "type": "scatter",
         "x": [
          "2014-05-27"
         ],
         "xaxis": "x",
         "y": [
          1
         ],
         "yaxis": "y"
        },
        {
         "hovertemplate": "mentionedEntity1=7263<br>dateTime=%{x}<br>ct=%{y}<extra></extra>",
         "legendgroup": "7263",
         "line": {
          "color": "#636efa",
          "dash": "solid"
         },
         "mode": "lines",
         "name": "7263",
         "orientation": "v",
         "showlegend": true,
         "type": "scatter",
         "x": [
          "2014-05-27",
          "2014-05-28"
         ],
         "xaxis": "x",
         "y": [
          3,
          3
         ],
         "yaxis": "y"
        },
        {
         "hovertemplate": "mentionedEntity1=7842<br>dateTime=%{x}<br>ct=%{y}<extra></extra>",
         "legendgroup": "7842",
         "line": {
          "color": "#EF553B",
          "dash": "solid"
         },
         "mode": "lines",
         "name": "7842",
         "orientation": "v",
         "showlegend": true,
         "type": "scatter",
         "x": [
          "2014-05-27"
         ],
         "xaxis": "x",
         "y": [
          3
         ],
         "yaxis": "y"
        },
        {
         "hovertemplate": "mentionedEntity1=9913<br>dateTime=%{x}<br>ct=%{y}<extra></extra>",
         "legendgroup": "9913",
         "line": {
          "color": "#00cc96",
          "dash": "solid"
         },
         "mode": "lines",
         "name": "9913",
         "orientation": "v",
         "showlegend": true,
         "type": "scatter",
         "x": [
          "2014-05-27"
         ],
         "xaxis": "x",
         "y": [
          1
         ],
         "yaxis": "y"
        },
        {
         "hovertemplate": "mentionedEntity1=10869<br>dateTime=%{x}<br>ct=%{y}<extra></extra>",
         "legendgroup": "10869",
         "line": {
          "color": "#ab63fa",
          "dash": "solid"
         },
         "mode": "lines",
         "name": "10869",
         "orientation": "v",
         "showlegend": true,
         "type": "scatter",
         "x": [
          "2014-05-27"
         ],
         "xaxis": "x",
         "y": [
          1
         ],
         "yaxis": "y"
        },
        {
         "hovertemplate": "mentionedEntity1=10971<br>dateTime=%{x}<br>ct=%{y}<extra></extra>",
         "legendgroup": "10971",
         "line": {
          "color": "#FFA15A",
          "dash": "solid"
         },
         "mode": "lines",
         "name": "10971",
         "orientation": "v",
         "showlegend": true,
         "type": "scatter",
         "x": [
          "2014-05-27"
         ],
         "xaxis": "x",
         "y": [
          3
         ],
         "yaxis": "y"
        },
        {
         "hovertemplate": "mentionedEntity1=11029<br>dateTime=%{x}<br>ct=%{y}<extra></extra>",
         "legendgroup": "11029",
         "line": {
          "color": "#19d3f3",
          "dash": "solid"
         },
         "mode": "lines",
         "name": "11029",
         "orientation": "v",
         "showlegend": true,
         "type": "scatter",
         "x": [
          "2014-05-27"
         ],
         "xaxis": "x",
         "y": [
          1
         ],
         "yaxis": "y"
        },
        {
         "hovertemplate": "mentionedEntity1=11107<br>dateTime=%{x}<br>ct=%{y}<extra></extra>",
         "legendgroup": "11107",
         "line": {
          "color": "#FF6692",
          "dash": "solid"
         },
         "mode": "lines",
         "name": "11107",
         "orientation": "v",
         "showlegend": true,
         "type": "scatter",
         "x": [
          "2014-05-27"
         ],
         "xaxis": "x",
         "y": [
          2
         ],
         "yaxis": "y"
        },
        {
         "hovertemplate": "mentionedEntity1=11762<br>dateTime=%{x}<br>ct=%{y}<extra></extra>",
         "legendgroup": "11762",
         "line": {
          "color": "#B6E880",
          "dash": "solid"
         },
         "mode": "lines",
         "name": "11762",
         "orientation": "v",
         "showlegend": true,
         "type": "scatter",
         "x": [
          "2014-05-27"
         ],
         "xaxis": "x",
         "y": [
          1
         ],
         "yaxis": "y"
        },
        {
         "hovertemplate": "mentionedEntity1=12252<br>dateTime=%{x}<br>ct=%{y}<extra></extra>",
         "legendgroup": "12252",
         "line": {
          "color": "#FF97FF",
          "dash": "solid"
         },
         "mode": "lines",
         "name": "12252",
         "orientation": "v",
         "showlegend": true,
         "type": "scatter",
         "x": [
          "2014-05-27"
         ],
         "xaxis": "x",
         "y": [
          5
         ],
         "yaxis": "y"
        },
        {
         "hovertemplate": "mentionedEntity1=12286<br>dateTime=%{x}<br>ct=%{y}<extra></extra>",
         "legendgroup": "12286",
         "line": {
          "color": "#FECB52",
          "dash": "solid"
         },
         "mode": "lines",
         "name": "12286",
         "orientation": "v",
         "showlegend": true,
         "type": "scatter",
         "x": [
          "2014-05-27"
         ],
         "xaxis": "x",
         "y": [
          3
         ],
         "yaxis": "y"
        },
        {
         "hovertemplate": "mentionedEntity1=12352<br>dateTime=%{x}<br>ct=%{y}<extra></extra>",
         "legendgroup": "12352",
         "line": {
          "color": "#636efa",
          "dash": "solid"
         },
         "mode": "lines",
         "name": "12352",
         "orientation": "v",
         "showlegend": true,
         "type": "scatter",
         "x": [
          "2014-05-27"
         ],
         "xaxis": "x",
         "y": [
          2
         ],
         "yaxis": "y"
        },
        {
         "hovertemplate": "mentionedEntity1=17285<br>dateTime=%{x}<br>ct=%{y}<extra></extra>",
         "legendgroup": "17285",
         "line": {
          "color": "#EF553B",
          "dash": "solid"
         },
         "mode": "lines",
         "name": "17285",
         "orientation": "v",
         "showlegend": true,
         "type": "scatter",
         "x": [
          "2014-05-27"
         ],
         "xaxis": "x",
         "y": [
          4
         ],
         "yaxis": "y"
        },
        {
         "hovertemplate": "mentionedEntity1=18980<br>dateTime=%{x}<br>ct=%{y}<extra></extra>",
         "legendgroup": "18980",
         "line": {
          "color": "#00cc96",
          "dash": "solid"
         },
         "mode": "lines",
         "name": "18980",
         "orientation": "v",
         "showlegend": true,
         "type": "scatter",
         "x": [
          "2014-05-27"
         ],
         "xaxis": "x",
         "y": [
          1
         ],
         "yaxis": "y"
        },
        {
         "hovertemplate": "mentionedEntity1=19578<br>dateTime=%{x}<br>ct=%{y}<extra></extra>",
         "legendgroup": "19578",
         "line": {
          "color": "#ab63fa",
          "dash": "solid"
         },
         "mode": "lines",
         "name": "19578",
         "orientation": "v",
         "showlegend": true,
         "type": "scatter",
         "x": [
          "2014-05-27"
         ],
         "xaxis": "x",
         "y": [
          2
         ],
         "yaxis": "y"
        },
        {
         "hovertemplate": "mentionedEntity1=20522<br>dateTime=%{x}<br>ct=%{y}<extra></extra>",
         "legendgroup": "20522",
         "line": {
          "color": "#FFA15A",
          "dash": "solid"
         },
         "mode": "lines",
         "name": "20522",
         "orientation": "v",
         "showlegend": true,
         "type": "scatter",
         "x": [
          "2014-05-27"
         ],
         "xaxis": "x",
         "y": [
          3
         ],
         "yaxis": "y"
        },
        {
         "hovertemplate": "mentionedEntity1=20913<br>dateTime=%{x}<br>ct=%{y}<extra></extra>",
         "legendgroup": "20913",
         "line": {
          "color": "#19d3f3",
          "dash": "solid"
         },
         "mode": "lines",
         "name": "20913",
         "orientation": "v",
         "showlegend": true,
         "type": "scatter",
         "x": [
          "2014-05-27"
         ],
         "xaxis": "x",
         "y": [
          2
         ],
         "yaxis": "y"
        },
        {
         "hovertemplate": "mentionedEntity1=25078<br>dateTime=%{x}<br>ct=%{y}<extra></extra>",
         "legendgroup": "25078",
         "line": {
          "color": "#FF6692",
          "dash": "solid"
         },
         "mode": "lines",
         "name": "25078",
         "orientation": "v",
         "showlegend": true,
         "type": "scatter",
         "x": [
          "2014-05-27"
         ],
         "xaxis": "x",
         "y": [
          8
         ],
         "yaxis": "y"
        },
        {
         "hovertemplate": "mentionedEntity1=25871<br>dateTime=%{x}<br>ct=%{y}<extra></extra>",
         "legendgroup": "25871",
         "line": {
          "color": "#B6E880",
          "dash": "solid"
         },
         "mode": "lines",
         "name": "25871",
         "orientation": "v",
         "showlegend": true,
         "type": "scatter",
         "x": [
          "2014-05-27"
         ],
         "xaxis": "x",
         "y": [
          6
         ],
         "yaxis": "y"
        },
        {
         "hovertemplate": "mentionedEntity1=26180<br>dateTime=%{x}<br>ct=%{y}<extra></extra>",
         "legendgroup": "26180",
         "line": {
          "color": "#FF97FF",
          "dash": "solid"
         },
         "mode": "lines",
         "name": "26180",
         "orientation": "v",
         "showlegend": true,
         "type": "scatter",
         "x": [
          "2014-05-27"
         ],
         "xaxis": "x",
         "y": [
          3
         ],
         "yaxis": "y"
        },
        {
         "hovertemplate": "mentionedEntity1=26924<br>dateTime=%{x}<br>ct=%{y}<extra></extra>",
         "legendgroup": "26924",
         "line": {
          "color": "#FECB52",
          "dash": "solid"
         },
         "mode": "lines",
         "name": "26924",
         "orientation": "v",
         "showlegend": true,
         "type": "scatter",
         "x": [
          "2014-05-27"
         ],
         "xaxis": "x",
         "y": [
          4
         ],
         "yaxis": "y"
        },
        {
         "hovertemplate": "mentionedEntity1=27093<br>dateTime=%{x}<br>ct=%{y}<extra></extra>",
         "legendgroup": "27093",
         "line": {
          "color": "#636efa",
          "dash": "solid"
         },
         "mode": "lines",
         "name": "27093",
         "orientation": "v",
         "showlegend": true,
         "type": "scatter",
         "x": [
          "2014-05-27"
         ],
         "xaxis": "x",
         "y": [
          2
         ],
         "yaxis": "y"
        },
        {
         "hovertemplate": "mentionedEntity1=27829<br>dateTime=%{x}<br>ct=%{y}<extra></extra>",
         "legendgroup": "27829",
         "line": {
          "color": "#EF553B",
          "dash": "solid"
         },
         "mode": "lines",
         "name": "27829",
         "orientation": "v",
         "showlegend": true,
         "type": "scatter",
         "x": [
          "2014-05-27"
         ],
         "xaxis": "x",
         "y": [
          6
         ],
         "yaxis": "y"
        },
        {
         "hovertemplate": "mentionedEntity1=28574<br>dateTime=%{x}<br>ct=%{y}<extra></extra>",
         "legendgroup": "28574",
         "line": {
          "color": "#00cc96",
          "dash": "solid"
         },
         "mode": "lines",
         "name": "28574",
         "orientation": "v",
         "showlegend": true,
         "type": "scatter",
         "x": [
          "2014-05-27"
         ],
         "xaxis": "x",
         "y": [
          9
         ],
         "yaxis": "y"
        },
        {
         "hovertemplate": "mentionedEntity1=29772<br>dateTime=%{x}<br>ct=%{y}<extra></extra>",
         "legendgroup": "29772",
         "line": {
          "color": "#ab63fa",
          "dash": "solid"
         },
         "mode": "lines",
         "name": "29772",
         "orientation": "v",
         "showlegend": true,
         "type": "scatter",
         "x": [
          "2014-05-27"
         ],
         "xaxis": "x",
         "y": [
          5
         ],
         "yaxis": "y"
        },
        {
         "hovertemplate": "mentionedEntity1=30009<br>dateTime=%{x}<br>ct=%{y}<extra></extra>",
         "legendgroup": "30009",
         "line": {
          "color": "#FFA15A",
          "dash": "solid"
         },
         "mode": "lines",
         "name": "30009",
         "orientation": "v",
         "showlegend": true,
         "type": "scatter",
         "x": [
          "2014-05-27"
         ],
         "xaxis": "x",
         "y": [
          6
         ],
         "yaxis": "y"
        },
        {
         "hovertemplate": "mentionedEntity1=31134<br>dateTime=%{x}<br>ct=%{y}<extra></extra>",
         "legendgroup": "31134",
         "line": {
          "color": "#19d3f3",
          "dash": "solid"
         },
         "mode": "lines",
         "name": "31134",
         "orientation": "v",
         "showlegend": true,
         "type": "scatter",
         "x": [
          "2014-05-27"
         ],
         "xaxis": "x",
         "y": [
          1
         ],
         "yaxis": "y"
        },
        {
         "hovertemplate": "mentionedEntity1=31517<br>dateTime=%{x}<br>ct=%{y}<extra></extra>",
         "legendgroup": "31517",
         "line": {
          "color": "#FF6692",
          "dash": "solid"
         },
         "mode": "lines",
         "name": "31517",
         "orientation": "v",
         "showlegend": true,
         "type": "scatter",
         "x": [
          "2014-05-27"
         ],
         "xaxis": "x",
         "y": [
          1
         ],
         "yaxis": "y"
        },
        {
         "hovertemplate": "mentionedEntity1=32986<br>dateTime=%{x}<br>ct=%{y}<extra></extra>",
         "legendgroup": "32986",
         "line": {
          "color": "#B6E880",
          "dash": "solid"
         },
         "mode": "lines",
         "name": "32986",
         "orientation": "v",
         "showlegend": true,
         "type": "scatter",
         "x": [
          "2014-05-27"
         ],
         "xaxis": "x",
         "y": [
          2
         ],
         "yaxis": "y"
        },
        {
         "hovertemplate": "mentionedEntity1=33252<br>dateTime=%{x}<br>ct=%{y}<extra></extra>",
         "legendgroup": "33252",
         "line": {
          "color": "#FF97FF",
          "dash": "solid"
         },
         "mode": "lines",
         "name": "33252",
         "orientation": "v",
         "showlegend": true,
         "type": "scatter",
         "x": [
          "2014-05-27"
         ],
         "xaxis": "x",
         "y": [
          4
         ],
         "yaxis": "y"
        },
        {
         "hovertemplate": "mentionedEntity1=33917<br>dateTime=%{x}<br>ct=%{y}<extra></extra>",
         "legendgroup": "33917",
         "line": {
          "color": "#FECB52",
          "dash": "solid"
         },
         "mode": "lines",
         "name": "33917",
         "orientation": "v",
         "showlegend": true,
         "type": "scatter",
         "x": [
          "2014-05-27"
         ],
         "xaxis": "x",
         "y": [
          2
         ],
         "yaxis": "y"
        },
        {
         "hovertemplate": "mentionedEntity1=34832<br>dateTime=%{x}<br>ct=%{y}<extra></extra>",
         "legendgroup": "34832",
         "line": {
          "color": "#636efa",
          "dash": "solid"
         },
         "mode": "lines",
         "name": "34832",
         "orientation": "v",
         "showlegend": true,
         "type": "scatter",
         "x": [
          "2014-05-27"
         ],
         "xaxis": "x",
         "y": [
          8
         ],
         "yaxis": "y"
        },
        {
         "hovertemplate": "mentionedEntity1=35367<br>dateTime=%{x}<br>ct=%{y}<extra></extra>",
         "legendgroup": "35367",
         "line": {
          "color": "#EF553B",
          "dash": "solid"
         },
         "mode": "lines",
         "name": "35367",
         "orientation": "v",
         "showlegend": true,
         "type": "scatter",
         "x": [
          "2014-05-27"
         ],
         "xaxis": "x",
         "y": [
          6
         ],
         "yaxis": "y"
        },
        {
         "hovertemplate": "mentionedEntity1=37236<br>dateTime=%{x}<br>ct=%{y}<extra></extra>",
         "legendgroup": "37236",
         "line": {
          "color": "#00cc96",
          "dash": "solid"
         },
         "mode": "lines",
         "name": "37236",
         "orientation": "v",
         "showlegend": true,
         "type": "scatter",
         "x": [
          "2014-05-27"
         ],
         "xaxis": "x",
         "y": [
          17
         ],
         "yaxis": "y"
        },
        {
         "hovertemplate": "mentionedEntity1=37990<br>dateTime=%{x}<br>ct=%{y}<extra></extra>",
         "legendgroup": "37990",
         "line": {
          "color": "#ab63fa",
          "dash": "solid"
         },
         "mode": "lines",
         "name": "37990",
         "orientation": "v",
         "showlegend": true,
         "type": "scatter",
         "x": [
          "2014-05-27"
         ],
         "xaxis": "x",
         "y": [
          2
         ],
         "yaxis": "y"
        },
        {
         "hovertemplate": "mentionedEntity1=38056<br>dateTime=%{x}<br>ct=%{y}<extra></extra>",
         "legendgroup": "38056",
         "line": {
          "color": "#FFA15A",
          "dash": "solid"
         },
         "mode": "lines",
         "name": "38056",
         "orientation": "v",
         "showlegend": true,
         "type": "scatter",
         "x": [
          "2014-05-27"
         ],
         "xaxis": "x",
         "y": [
          4
         ],
         "yaxis": "y"
        },
        {
         "hovertemplate": "mentionedEntity1=38980<br>dateTime=%{x}<br>ct=%{y}<extra></extra>",
         "legendgroup": "38980",
         "line": {
          "color": "#19d3f3",
          "dash": "solid"
         },
         "mode": "lines",
         "name": "38980",
         "orientation": "v",
         "showlegend": true,
         "type": "scatter",
         "x": [
          "2014-05-27"
         ],
         "xaxis": "x",
         "y": [
          4
         ],
         "yaxis": "y"
        },
        {
         "hovertemplate": "mentionedEntity1=39079<br>dateTime=%{x}<br>ct=%{y}<extra></extra>",
         "legendgroup": "39079",
         "line": {
          "color": "#FF6692",
          "dash": "solid"
         },
         "mode": "lines",
         "name": "39079",
         "orientation": "v",
         "showlegend": true,
         "type": "scatter",
         "x": [
          "2014-05-27",
          "2014-05-29",
          "2014-05-30",
          "2014-05-31"
         ],
         "xaxis": "x",
         "y": [
          4,
          4,
          4,
          4
         ],
         "yaxis": "y"
        },
        {
         "hovertemplate": "mentionedEntity1=39574<br>dateTime=%{x}<br>ct=%{y}<extra></extra>",
         "legendgroup": "39574",
         "line": {
          "color": "#B6E880",
          "dash": "solid"
         },
         "mode": "lines",
         "name": "39574",
         "orientation": "v",
         "showlegend": true,
         "type": "scatter",
         "x": [
          "2014-05-27"
         ],
         "xaxis": "x",
         "y": [
          3
         ],
         "yaxis": "y"
        },
        {
         "hovertemplate": "mentionedEntity1=40694<br>dateTime=%{x}<br>ct=%{y}<extra></extra>",
         "legendgroup": "40694",
         "line": {
          "color": "#FF97FF",
          "dash": "solid"
         },
         "mode": "lines",
         "name": "40694",
         "orientation": "v",
         "showlegend": true,
         "type": "scatter",
         "x": [
          "2014-05-27"
         ],
         "xaxis": "x",
         "y": [
          6
         ],
         "yaxis": "y"
        },
        {
         "hovertemplate": "mentionedEntity1=41058<br>dateTime=%{x}<br>ct=%{y}<extra></extra>",
         "legendgroup": "41058",
         "line": {
          "color": "#FECB52",
          "dash": "solid"
         },
         "mode": "lines",
         "name": "41058",
         "orientation": "v",
         "showlegend": true,
         "type": "scatter",
         "x": [
          "2014-05-27"
         ],
         "xaxis": "x",
         "y": [
          1
         ],
         "yaxis": "y"
        },
        {
         "hovertemplate": "mentionedEntity1=41854<br>dateTime=%{x}<br>ct=%{y}<extra></extra>",
         "legendgroup": "41854",
         "line": {
          "color": "#636efa",
          "dash": "solid"
         },
         "mode": "lines",
         "name": "41854",
         "orientation": "v",
         "showlegend": true,
         "type": "scatter",
         "x": [
          "2014-05-27"
         ],
         "xaxis": "x",
         "y": [
          5
         ],
         "yaxis": "y"
        },
        {
         "hovertemplate": "mentionedEntity1=42399<br>dateTime=%{x}<br>ct=%{y}<extra></extra>",
         "legendgroup": "42399",
         "line": {
          "color": "#EF553B",
          "dash": "solid"
         },
         "mode": "lines",
         "name": "42399",
         "orientation": "v",
         "showlegend": true,
         "type": "scatter",
         "x": [
          "2014-05-27"
         ],
         "xaxis": "x",
         "y": [
          1
         ],
         "yaxis": "y"
        },
        {
         "hovertemplate": "mentionedEntity1=44324<br>dateTime=%{x}<br>ct=%{y}<extra></extra>",
         "legendgroup": "44324",
         "line": {
          "color": "#00cc96",
          "dash": "solid"
         },
         "mode": "lines",
         "name": "44324",
         "orientation": "v",
         "showlegend": true,
         "type": "scatter",
         "x": [
          "2014-05-27"
         ],
         "xaxis": "x",
         "y": [
          5
         ],
         "yaxis": "y"
        },
        {
         "hovertemplate": "mentionedEntity1=46215<br>dateTime=%{x}<br>ct=%{y}<extra></extra>",
         "legendgroup": "46215",
         "line": {
          "color": "#ab63fa",
          "dash": "solid"
         },
         "mode": "lines",
         "name": "46215",
         "orientation": "v",
         "showlegend": true,
         "type": "scatter",
         "x": [
          "2014-05-27"
         ],
         "xaxis": "x",
         "y": [
          1
         ],
         "yaxis": "y"
        },
        {
         "hovertemplate": "mentionedEntity1=47931<br>dateTime=%{x}<br>ct=%{y}<extra></extra>",
         "legendgroup": "47931",
         "line": {
          "color": "#FFA15A",
          "dash": "solid"
         },
         "mode": "lines",
         "name": "47931",
         "orientation": "v",
         "showlegend": true,
         "type": "scatter",
         "x": [
          "2014-05-27"
         ],
         "xaxis": "x",
         "y": [
          4
         ],
         "yaxis": "y"
        },
        {
         "hovertemplate": "mentionedEntity1=49207<br>dateTime=%{x}<br>ct=%{y}<extra></extra>",
         "legendgroup": "49207",
         "line": {
          "color": "#19d3f3",
          "dash": "solid"
         },
         "mode": "lines",
         "name": "49207",
         "orientation": "v",
         "showlegend": true,
         "type": "scatter",
         "x": [
          "2014-05-27"
         ],
         "xaxis": "x",
         "y": [
          5
         ],
         "yaxis": "y"
        },
        {
         "hovertemplate": "mentionedEntity1=50120<br>dateTime=%{x}<br>ct=%{y}<extra></extra>",
         "legendgroup": "50120",
         "line": {
          "color": "#FF6692",
          "dash": "solid"
         },
         "mode": "lines",
         "name": "50120",
         "orientation": "v",
         "showlegend": true,
         "type": "scatter",
         "x": [
          "2014-05-27"
         ],
         "xaxis": "x",
         "y": [
          9
         ],
         "yaxis": "y"
        },
        {
         "hovertemplate": "mentionedEntity1=50550<br>dateTime=%{x}<br>ct=%{y}<extra></extra>",
         "legendgroup": "50550",
         "line": {
          "color": "#B6E880",
          "dash": "solid"
         },
         "mode": "lines",
         "name": "50550",
         "orientation": "v",
         "showlegend": true,
         "type": "scatter",
         "x": [
          "2014-05-27"
         ],
         "xaxis": "x",
         "y": [
          6
         ],
         "yaxis": "y"
        },
        {
         "hovertemplate": "mentionedEntity1=5<br>dateTime=%{x}<br>ct=%{y}<extra></extra>",
         "legendgroup": "5",
         "line": {
          "color": "#FF97FF",
          "dash": "solid"
         },
         "mode": "lines",
         "name": "5",
         "orientation": "v",
         "showlegend": true,
         "type": "scatter",
         "x": [
          "2014-05-28"
         ],
         "xaxis": "x",
         "y": [
          64
         ],
         "yaxis": "y"
        },
        {
         "hovertemplate": "mentionedEntity1=5440<br>dateTime=%{x}<br>ct=%{y}<extra></extra>",
         "legendgroup": "5440",
         "line": {
          "color": "#FECB52",
          "dash": "solid"
         },
         "mode": "lines",
         "name": "5440",
         "orientation": "v",
         "showlegend": true,
         "type": "scatter",
         "x": [
          "2014-05-28"
         ],
         "xaxis": "x",
         "y": [
          1
         ],
         "yaxis": "y"
        },
        {
         "hovertemplate": "mentionedEntity1=5487<br>dateTime=%{x}<br>ct=%{y}<extra></extra>",
         "legendgroup": "5487",
         "line": {
          "color": "#636efa",
          "dash": "solid"
         },
         "mode": "lines",
         "name": "5487",
         "orientation": "v",
         "showlegend": true,
         "type": "scatter",
         "x": [
          "2014-05-28"
         ],
         "xaxis": "x",
         "y": [
          5
         ],
         "yaxis": "y"
        },
        {
         "hovertemplate": "mentionedEntity1=7543<br>dateTime=%{x}<br>ct=%{y}<extra></extra>",
         "legendgroup": "7543",
         "line": {
          "color": "#EF553B",
          "dash": "solid"
         },
         "mode": "lines",
         "name": "7543",
         "orientation": "v",
         "showlegend": true,
         "type": "scatter",
         "x": [
          "2014-05-28"
         ],
         "xaxis": "x",
         "y": [
          4
         ],
         "yaxis": "y"
        },
        {
         "hovertemplate": "mentionedEntity1=9540<br>dateTime=%{x}<br>ct=%{y}<extra></extra>",
         "legendgroup": "9540",
         "line": {
          "color": "#00cc96",
          "dash": "solid"
         },
         "mode": "lines",
         "name": "9540",
         "orientation": "v",
         "showlegend": true,
         "type": "scatter",
         "x": [
          "2014-05-28"
         ],
         "xaxis": "x",
         "y": [
          4
         ],
         "yaxis": "y"
        },
        {
         "hovertemplate": "mentionedEntity1=10179<br>dateTime=%{x}<br>ct=%{y}<extra></extra>",
         "legendgroup": "10179",
         "line": {
          "color": "#ab63fa",
          "dash": "solid"
         },
         "mode": "lines",
         "name": "10179",
         "orientation": "v",
         "showlegend": true,
         "type": "scatter",
         "x": [
          "2014-05-28"
         ],
         "xaxis": "x",
         "y": [
          4
         ],
         "yaxis": "y"
        },
        {
         "hovertemplate": "mentionedEntity1=11189<br>dateTime=%{x}<br>ct=%{y}<extra></extra>",
         "legendgroup": "11189",
         "line": {
          "color": "#FFA15A",
          "dash": "solid"
         },
         "mode": "lines",
         "name": "11189",
         "orientation": "v",
         "showlegend": true,
         "type": "scatter",
         "x": [
          "2014-05-28"
         ],
         "xaxis": "x",
         "y": [
          3
         ],
         "yaxis": "y"
        },
        {
         "hovertemplate": "mentionedEntity1=11228<br>dateTime=%{x}<br>ct=%{y}<extra></extra>",
         "legendgroup": "11228",
         "line": {
          "color": "#19d3f3",
          "dash": "solid"
         },
         "mode": "lines",
         "name": "11228",
         "orientation": "v",
         "showlegend": true,
         "type": "scatter",
         "x": [
          "2014-05-28"
         ],
         "xaxis": "x",
         "y": [
          3
         ],
         "yaxis": "y"
        },
        {
         "hovertemplate": "mentionedEntity1=11287<br>dateTime=%{x}<br>ct=%{y}<extra></extra>",
         "legendgroup": "11287",
         "line": {
          "color": "#FF6692",
          "dash": "solid"
         },
         "mode": "lines",
         "name": "11287",
         "orientation": "v",
         "showlegend": true,
         "type": "scatter",
         "x": [
          "2014-05-28"
         ],
         "xaxis": "x",
         "y": [
          3
         ],
         "yaxis": "y"
        },
        {
         "hovertemplate": "mentionedEntity1=11756<br>dateTime=%{x}<br>ct=%{y}<extra></extra>",
         "legendgroup": "11756",
         "line": {
          "color": "#B6E880",
          "dash": "solid"
         },
         "mode": "lines",
         "name": "11756",
         "orientation": "v",
         "showlegend": true,
         "type": "scatter",
         "x": [
          "2014-05-28"
         ],
         "xaxis": "x",
         "y": [
          4
         ],
         "yaxis": "y"
        },
        {
         "hovertemplate": "mentionedEntity1=11906<br>dateTime=%{x}<br>ct=%{y}<extra></extra>",
         "legendgroup": "11906",
         "line": {
          "color": "#FF97FF",
          "dash": "solid"
         },
         "mode": "lines",
         "name": "11906",
         "orientation": "v",
         "showlegend": true,
         "type": "scatter",
         "x": [
          "2014-05-28"
         ],
         "xaxis": "x",
         "y": [
          5
         ],
         "yaxis": "y"
        },
        {
         "hovertemplate": "mentionedEntity1=12658<br>dateTime=%{x}<br>ct=%{y}<extra></extra>",
         "legendgroup": "12658",
         "line": {
          "color": "#FECB52",
          "dash": "solid"
         },
         "mode": "lines",
         "name": "12658",
         "orientation": "v",
         "showlegend": true,
         "type": "scatter",
         "x": [
          "2014-05-28"
         ],
         "xaxis": "x",
         "y": [
          5
         ],
         "yaxis": "y"
        },
        {
         "hovertemplate": "mentionedEntity1=13691<br>dateTime=%{x}<br>ct=%{y}<extra></extra>",
         "legendgroup": "13691",
         "line": {
          "color": "#636efa",
          "dash": "solid"
         },
         "mode": "lines",
         "name": "13691",
         "orientation": "v",
         "showlegend": true,
         "type": "scatter",
         "x": [
          "2014-05-28"
         ],
         "xaxis": "x",
         "y": [
          1
         ],
         "yaxis": "y"
        },
        {
         "hovertemplate": "mentionedEntity1=14870<br>dateTime=%{x}<br>ct=%{y}<extra></extra>",
         "legendgroup": "14870",
         "line": {
          "color": "#EF553B",
          "dash": "solid"
         },
         "mode": "lines",
         "name": "14870",
         "orientation": "v",
         "showlegend": true,
         "type": "scatter",
         "x": [
          "2014-05-28"
         ],
         "xaxis": "x",
         "y": [
          2
         ],
         "yaxis": "y"
        },
        {
         "hovertemplate": "mentionedEntity1=15892<br>dateTime=%{x}<br>ct=%{y}<extra></extra>",
         "legendgroup": "15892",
         "line": {
          "color": "#00cc96",
          "dash": "solid"
         },
         "mode": "lines",
         "name": "15892",
         "orientation": "v",
         "showlegend": true,
         "type": "scatter",
         "x": [
          "2014-05-28"
         ],
         "xaxis": "x",
         "y": [
          1
         ],
         "yaxis": "y"
        },
        {
         "hovertemplate": "mentionedEntity1=16758<br>dateTime=%{x}<br>ct=%{y}<extra></extra>",
         "legendgroup": "16758",
         "line": {
          "color": "#ab63fa",
          "dash": "solid"
         },
         "mode": "lines",
         "name": "16758",
         "orientation": "v",
         "showlegend": true,
         "type": "scatter",
         "x": [
          "2014-05-28"
         ],
         "xaxis": "x",
         "y": [
          3
         ],
         "yaxis": "y"
        },
        {
         "hovertemplate": "mentionedEntity1=18091<br>dateTime=%{x}<br>ct=%{y}<extra></extra>",
         "legendgroup": "18091",
         "line": {
          "color": "#FFA15A",
          "dash": "solid"
         },
         "mode": "lines",
         "name": "18091",
         "orientation": "v",
         "showlegend": true,
         "type": "scatter",
         "x": [
          "2014-05-28"
         ],
         "xaxis": "x",
         "y": [
          2
         ],
         "yaxis": "y"
        },
        {
         "hovertemplate": "mentionedEntity1=23198<br>dateTime=%{x}<br>ct=%{y}<extra></extra>",
         "legendgroup": "23198",
         "line": {
          "color": "#19d3f3",
          "dash": "solid"
         },
         "mode": "lines",
         "name": "23198",
         "orientation": "v",
         "showlegend": true,
         "type": "scatter",
         "x": [
          "2014-05-28"
         ],
         "xaxis": "x",
         "y": [
          7
         ],
         "yaxis": "y"
        },
        {
         "hovertemplate": "mentionedEntity1=23222<br>dateTime=%{x}<br>ct=%{y}<extra></extra>",
         "legendgroup": "23222",
         "line": {
          "color": "#FF6692",
          "dash": "solid"
         },
         "mode": "lines",
         "name": "23222",
         "orientation": "v",
         "showlegend": true,
         "type": "scatter",
         "x": [
          "2014-05-28"
         ],
         "xaxis": "x",
         "y": [
          2
         ],
         "yaxis": "y"
        },
        {
         "hovertemplate": "mentionedEntity1=23240<br>dateTime=%{x}<br>ct=%{y}<extra></extra>",
         "legendgroup": "23240",
         "line": {
          "color": "#B6E880",
          "dash": "solid"
         },
         "mode": "lines",
         "name": "23240",
         "orientation": "v",
         "showlegend": true,
         "type": "scatter",
         "x": [
          "2014-05-28"
         ],
         "xaxis": "x",
         "y": [
          2
         ],
         "yaxis": "y"
        },
        {
         "hovertemplate": "mentionedEntity1=23335<br>dateTime=%{x}<br>ct=%{y}<extra></extra>",
         "legendgroup": "23335",
         "line": {
          "color": "#FF97FF",
          "dash": "solid"
         },
         "mode": "lines",
         "name": "23335",
         "orientation": "v",
         "showlegend": true,
         "type": "scatter",
         "x": [
          "2014-05-28"
         ],
         "xaxis": "x",
         "y": [
          3
         ],
         "yaxis": "y"
        },
        {
         "hovertemplate": "mentionedEntity1=24166<br>dateTime=%{x}<br>ct=%{y}<extra></extra>",
         "legendgroup": "24166",
         "line": {
          "color": "#FECB52",
          "dash": "solid"
         },
         "mode": "lines",
         "name": "24166",
         "orientation": "v",
         "showlegend": true,
         "type": "scatter",
         "x": [
          "2014-05-28"
         ],
         "xaxis": "x",
         "y": [
          1
         ],
         "yaxis": "y"
        },
        {
         "hovertemplate": "mentionedEntity1=24562<br>dateTime=%{x}<br>ct=%{y}<extra></extra>",
         "legendgroup": "24562",
         "line": {
          "color": "#636efa",
          "dash": "solid"
         },
         "mode": "lines",
         "name": "24562",
         "orientation": "v",
         "showlegend": true,
         "type": "scatter",
         "x": [
          "2014-05-28"
         ],
         "xaxis": "x",
         "y": [
          8
         ],
         "yaxis": "y"
        },
        {
         "hovertemplate": "mentionedEntity1=26753<br>dateTime=%{x}<br>ct=%{y}<extra></extra>",
         "legendgroup": "26753",
         "line": {
          "color": "#EF553B",
          "dash": "solid"
         },
         "mode": "lines",
         "name": "26753",
         "orientation": "v",
         "showlegend": true,
         "type": "scatter",
         "x": [
          "2014-05-28"
         ],
         "xaxis": "x",
         "y": [
          3
         ],
         "yaxis": "y"
        },
        {
         "hovertemplate": "mentionedEntity1=27042<br>dateTime=%{x}<br>ct=%{y}<extra></extra>",
         "legendgroup": "27042",
         "line": {
          "color": "#00cc96",
          "dash": "solid"
         },
         "mode": "lines",
         "name": "27042",
         "orientation": "v",
         "showlegend": true,
         "type": "scatter",
         "x": [
          "2014-05-28"
         ],
         "xaxis": "x",
         "y": [
          1
         ],
         "yaxis": "y"
        },
        {
         "hovertemplate": "mentionedEntity1=27876<br>dateTime=%{x}<br>ct=%{y}<extra></extra>",
         "legendgroup": "27876",
         "line": {
          "color": "#ab63fa",
          "dash": "solid"
         },
         "mode": "lines",
         "name": "27876",
         "orientation": "v",
         "showlegend": true,
         "type": "scatter",
         "x": [
          "2014-05-28"
         ],
         "xaxis": "x",
         "y": [
          2
         ],
         "yaxis": "y"
        },
        {
         "hovertemplate": "mentionedEntity1=28291<br>dateTime=%{x}<br>ct=%{y}<extra></extra>",
         "legendgroup": "28291",
         "line": {
          "color": "#FFA15A",
          "dash": "solid"
         },
         "mode": "lines",
         "name": "28291",
         "orientation": "v",
         "showlegend": true,
         "type": "scatter",
         "x": [
          "2014-05-28"
         ],
         "xaxis": "x",
         "y": [
          1
         ],
         "yaxis": "y"
        },
        {
         "hovertemplate": "mentionedEntity1=28321<br>dateTime=%{x}<br>ct=%{y}<extra></extra>",
         "legendgroup": "28321",
         "line": {
          "color": "#19d3f3",
          "dash": "solid"
         },
         "mode": "lines",
         "name": "28321",
         "orientation": "v",
         "showlegend": true,
         "type": "scatter",
         "x": [
          "2014-05-28"
         ],
         "xaxis": "x",
         "y": [
          2
         ],
         "yaxis": "y"
        },
        {
         "hovertemplate": "mentionedEntity1=29052<br>dateTime=%{x}<br>ct=%{y}<extra></extra>",
         "legendgroup": "29052",
         "line": {
          "color": "#FF6692",
          "dash": "solid"
         },
         "mode": "lines",
         "name": "29052",
         "orientation": "v",
         "showlegend": true,
         "type": "scatter",
         "x": [
          "2014-05-28"
         ],
         "xaxis": "x",
         "y": [
          5
         ],
         "yaxis": "y"
        },
        {
         "hovertemplate": "mentionedEntity1=30025<br>dateTime=%{x}<br>ct=%{y}<extra></extra>",
         "legendgroup": "30025",
         "line": {
          "color": "#B6E880",
          "dash": "solid"
         },
         "mode": "lines",
         "name": "30025",
         "orientation": "v",
         "showlegend": true,
         "type": "scatter",
         "x": [
          "2014-05-28"
         ],
         "xaxis": "x",
         "y": [
          1
         ],
         "yaxis": "y"
        },
        {
         "hovertemplate": "mentionedEntity1=30579<br>dateTime=%{x}<br>ct=%{y}<extra></extra>",
         "legendgroup": "30579",
         "line": {
          "color": "#FF97FF",
          "dash": "solid"
         },
         "mode": "lines",
         "name": "30579",
         "orientation": "v",
         "showlegend": true,
         "type": "scatter",
         "x": [
          "2014-05-28"
         ],
         "xaxis": "x",
         "y": [
          3
         ],
         "yaxis": "y"
        },
        {
         "hovertemplate": "mentionedEntity1=31997<br>dateTime=%{x}<br>ct=%{y}<extra></extra>",
         "legendgroup": "31997",
         "line": {
          "color": "#FECB52",
          "dash": "solid"
         },
         "mode": "lines",
         "name": "31997",
         "orientation": "v",
         "showlegend": true,
         "type": "scatter",
         "x": [
          "2014-05-28"
         ],
         "xaxis": "x",
         "y": [
          6
         ],
         "yaxis": "y"
        },
        {
         "hovertemplate": "mentionedEntity1=32513<br>dateTime=%{x}<br>ct=%{y}<extra></extra>",
         "legendgroup": "32513",
         "line": {
          "color": "#636efa",
          "dash": "solid"
         },
         "mode": "lines",
         "name": "32513",
         "orientation": "v",
         "showlegend": true,
         "type": "scatter",
         "x": [
          "2014-05-28"
         ],
         "xaxis": "x",
         "y": [
          1
         ],
         "yaxis": "y"
        },
        {
         "hovertemplate": "mentionedEntity1=33059<br>dateTime=%{x}<br>ct=%{y}<extra></extra>",
         "legendgroup": "33059",
         "line": {
          "color": "#EF553B",
          "dash": "solid"
         },
         "mode": "lines",
         "name": "33059",
         "orientation": "v",
         "showlegend": true,
         "type": "scatter",
         "x": [
          "2014-05-28"
         ],
         "xaxis": "x",
         "y": [
          8
         ],
         "yaxis": "y"
        },
        {
         "hovertemplate": "mentionedEntity1=33837<br>dateTime=%{x}<br>ct=%{y}<extra></extra>",
         "legendgroup": "33837",
         "line": {
          "color": "#00cc96",
          "dash": "solid"
         },
         "mode": "lines",
         "name": "33837",
         "orientation": "v",
         "showlegend": true,
         "type": "scatter",
         "x": [
          "2014-05-28"
         ],
         "xaxis": "x",
         "y": [
          3
         ],
         "yaxis": "y"
        },
        {
         "hovertemplate": "mentionedEntity1=34334<br>dateTime=%{x}<br>ct=%{y}<extra></extra>",
         "legendgroup": "34334",
         "line": {
          "color": "#ab63fa",
          "dash": "solid"
         },
         "mode": "lines",
         "name": "34334",
         "orientation": "v",
         "showlegend": true,
         "type": "scatter",
         "x": [
          "2014-05-28"
         ],
         "xaxis": "x",
         "y": [
          1
         ],
         "yaxis": "y"
        },
        {
         "hovertemplate": "mentionedEntity1=35992<br>dateTime=%{x}<br>ct=%{y}<extra></extra>",
         "legendgroup": "35992",
         "line": {
          "color": "#FFA15A",
          "dash": "solid"
         },
         "mode": "lines",
         "name": "35992",
         "orientation": "v",
         "showlegend": true,
         "type": "scatter",
         "x": [
          "2014-05-28"
         ],
         "xaxis": "x",
         "y": [
          5
         ],
         "yaxis": "y"
        },
        {
         "hovertemplate": "mentionedEntity1=36417<br>dateTime=%{x}<br>ct=%{y}<extra></extra>",
         "legendgroup": "36417",
         "line": {
          "color": "#19d3f3",
          "dash": "solid"
         },
         "mode": "lines",
         "name": "36417",
         "orientation": "v",
         "showlegend": true,
         "type": "scatter",
         "x": [
          "2014-05-28"
         ],
         "xaxis": "x",
         "y": [
          1
         ],
         "yaxis": "y"
        },
        {
         "hovertemplate": "mentionedEntity1=37381<br>dateTime=%{x}<br>ct=%{y}<extra></extra>",
         "legendgroup": "37381",
         "line": {
          "color": "#FF6692",
          "dash": "solid"
         },
         "mode": "lines",
         "name": "37381",
         "orientation": "v",
         "showlegend": true,
         "type": "scatter",
         "x": [
          "2014-05-28"
         ],
         "xaxis": "x",
         "y": [
          6
         ],
         "yaxis": "y"
        },
        {
         "hovertemplate": "mentionedEntity1=38424<br>dateTime=%{x}<br>ct=%{y}<extra></extra>",
         "legendgroup": "38424",
         "line": {
          "color": "#B6E880",
          "dash": "solid"
         },
         "mode": "lines",
         "name": "38424",
         "orientation": "v",
         "showlegend": true,
         "type": "scatter",
         "x": [
          "2014-05-28"
         ],
         "xaxis": "x",
         "y": [
          4
         ],
         "yaxis": "y"
        },
        {
         "hovertemplate": "mentionedEntity1=39219<br>dateTime=%{x}<br>ct=%{y}<extra></extra>",
         "legendgroup": "39219",
         "line": {
          "color": "#FF97FF",
          "dash": "solid"
         },
         "mode": "lines",
         "name": "39219",
         "orientation": "v",
         "showlegend": true,
         "type": "scatter",
         "x": [
          "2014-05-28",
          "2014-05-30"
         ],
         "xaxis": "x",
         "y": [
          4,
          4
         ],
         "yaxis": "y"
        },
        {
         "hovertemplate": "mentionedEntity1=39515<br>dateTime=%{x}<br>ct=%{y}<extra></extra>",
         "legendgroup": "39515",
         "line": {
          "color": "#FECB52",
          "dash": "solid"
         },
         "mode": "lines",
         "name": "39515",
         "orientation": "v",
         "showlegend": true,
         "type": "scatter",
         "x": [
          "2014-05-28"
         ],
         "xaxis": "x",
         "y": [
          4
         ],
         "yaxis": "y"
        },
        {
         "hovertemplate": "mentionedEntity1=39618<br>dateTime=%{x}<br>ct=%{y}<extra></extra>",
         "legendgroup": "39618",
         "line": {
          "color": "#636efa",
          "dash": "solid"
         },
         "mode": "lines",
         "name": "39618",
         "orientation": "v",
         "showlegend": true,
         "type": "scatter",
         "x": [
          "2014-05-28"
         ],
         "xaxis": "x",
         "y": [
          5
         ],
         "yaxis": "y"
        },
        {
         "hovertemplate": "mentionedEntity1=40097<br>dateTime=%{x}<br>ct=%{y}<extra></extra>",
         "legendgroup": "40097",
         "line": {
          "color": "#EF553B",
          "dash": "solid"
         },
         "mode": "lines",
         "name": "40097",
         "orientation": "v",
         "showlegend": true,
         "type": "scatter",
         "x": [
          "2014-05-28"
         ],
         "xaxis": "x",
         "y": [
          3
         ],
         "yaxis": "y"
        },
        {
         "hovertemplate": "mentionedEntity1=42620<br>dateTime=%{x}<br>ct=%{y}<extra></extra>",
         "legendgroup": "42620",
         "line": {
          "color": "#00cc96",
          "dash": "solid"
         },
         "mode": "lines",
         "name": "42620",
         "orientation": "v",
         "showlegend": true,
         "type": "scatter",
         "x": [
          "2014-05-28"
         ],
         "xaxis": "x",
         "y": [
          1
         ],
         "yaxis": "y"
        },
        {
         "hovertemplate": "mentionedEntity1=42714<br>dateTime=%{x}<br>ct=%{y}<extra></extra>",
         "legendgroup": "42714",
         "line": {
          "color": "#ab63fa",
          "dash": "solid"
         },
         "mode": "lines",
         "name": "42714",
         "orientation": "v",
         "showlegend": true,
         "type": "scatter",
         "x": [
          "2014-05-28"
         ],
         "xaxis": "x",
         "y": [
          3
         ],
         "yaxis": "y"
        },
        {
         "hovertemplate": "mentionedEntity1=43038<br>dateTime=%{x}<br>ct=%{y}<extra></extra>",
         "legendgroup": "43038",
         "line": {
          "color": "#FFA15A",
          "dash": "solid"
         },
         "mode": "lines",
         "name": "43038",
         "orientation": "v",
         "showlegend": true,
         "type": "scatter",
         "x": [
          "2014-05-28"
         ],
         "xaxis": "x",
         "y": [
          2
         ],
         "yaxis": "y"
        },
        {
         "hovertemplate": "mentionedEntity1=44796<br>dateTime=%{x}<br>ct=%{y}<extra></extra>",
         "legendgroup": "44796",
         "line": {
          "color": "#19d3f3",
          "dash": "solid"
         },
         "mode": "lines",
         "name": "44796",
         "orientation": "v",
         "showlegend": true,
         "type": "scatter",
         "x": [
          "2014-05-28"
         ],
         "xaxis": "x",
         "y": [
          1
         ],
         "yaxis": "y"
        },
        {
         "hovertemplate": "mentionedEntity1=45019<br>dateTime=%{x}<br>ct=%{y}<extra></extra>",
         "legendgroup": "45019",
         "line": {
          "color": "#FF6692",
          "dash": "solid"
         },
         "mode": "lines",
         "name": "45019",
         "orientation": "v",
         "showlegend": true,
         "type": "scatter",
         "x": [
          "2014-05-28"
         ],
         "xaxis": "x",
         "y": [
          1
         ],
         "yaxis": "y"
        },
        {
         "hovertemplate": "mentionedEntity1=47537<br>dateTime=%{x}<br>ct=%{y}<extra></extra>",
         "legendgroup": "47537",
         "line": {
          "color": "#B6E880",
          "dash": "solid"
         },
         "mode": "lines",
         "name": "47537",
         "orientation": "v",
         "showlegend": true,
         "type": "scatter",
         "x": [
          "2014-05-28"
         ],
         "xaxis": "x",
         "y": [
          6
         ],
         "yaxis": "y"
        },
        {
         "hovertemplate": "mentionedEntity1=49345<br>dateTime=%{x}<br>ct=%{y}<extra></extra>",
         "legendgroup": "49345",
         "line": {
          "color": "#FF97FF",
          "dash": "solid"
         },
         "mode": "lines",
         "name": "49345",
         "orientation": "v",
         "showlegend": true,
         "type": "scatter",
         "x": [
          "2014-05-28"
         ],
         "xaxis": "x",
         "y": [
          8
         ],
         "yaxis": "y"
        },
        {
         "hovertemplate": "mentionedEntity1=50347<br>dateTime=%{x}<br>ct=%{y}<extra></extra>",
         "legendgroup": "50347",
         "line": {
          "color": "#FECB52",
          "dash": "solid"
         },
         "mode": "lines",
         "name": "50347",
         "orientation": "v",
         "showlegend": true,
         "type": "scatter",
         "x": [
          "2014-05-28"
         ],
         "xaxis": "x",
         "y": [
          5
         ],
         "yaxis": "y"
        },
        {
         "hovertemplate": "mentionedEntity1=51831<br>dateTime=%{x}<br>ct=%{y}<extra></extra>",
         "legendgroup": "51831",
         "line": {
          "color": "#636efa",
          "dash": "solid"
         },
         "mode": "lines",
         "name": "51831",
         "orientation": "v",
         "showlegend": true,
         "type": "scatter",
         "x": [
          "2014-05-28"
         ],
         "xaxis": "x",
         "y": [
          3
         ],
         "yaxis": "y"
        },
        {
         "hovertemplate": "mentionedEntity1=316<br>dateTime=%{x}<br>ct=%{y}<extra></extra>",
         "legendgroup": "316",
         "line": {
          "color": "#EF553B",
          "dash": "solid"
         },
         "mode": "lines",
         "name": "316",
         "orientation": "v",
         "showlegend": true,
         "type": "scatter",
         "x": [
          "2014-05-29"
         ],
         "xaxis": "x",
         "y": [
          2
         ],
         "yaxis": "y"
        },
        {
         "hovertemplate": "mentionedEntity1=3215<br>dateTime=%{x}<br>ct=%{y}<extra></extra>",
         "legendgroup": "3215",
         "line": {
          "color": "#00cc96",
          "dash": "solid"
         },
         "mode": "lines",
         "name": "3215",
         "orientation": "v",
         "showlegend": true,
         "type": "scatter",
         "x": [
          "2014-05-29"
         ],
         "xaxis": "x",
         "y": [
          2
         ],
         "yaxis": "y"
        },
        {
         "hovertemplate": "mentionedEntity1=3648<br>dateTime=%{x}<br>ct=%{y}<extra></extra>",
         "legendgroup": "3648",
         "line": {
          "color": "#ab63fa",
          "dash": "solid"
         },
         "mode": "lines",
         "name": "3648",
         "orientation": "v",
         "showlegend": true,
         "type": "scatter",
         "x": [
          "2014-05-29"
         ],
         "xaxis": "x",
         "y": [
          7
         ],
         "yaxis": "y"
        },
        {
         "hovertemplate": "mentionedEntity1=3824<br>dateTime=%{x}<br>ct=%{y}<extra></extra>",
         "legendgroup": "3824",
         "line": {
          "color": "#FFA15A",
          "dash": "solid"
         },
         "mode": "lines",
         "name": "3824",
         "orientation": "v",
         "showlegend": true,
         "type": "scatter",
         "x": [
          "2014-05-29"
         ],
         "xaxis": "x",
         "y": [
          6
         ],
         "yaxis": "y"
        },
        {
         "hovertemplate": "mentionedEntity1=8556<br>dateTime=%{x}<br>ct=%{y}<extra></extra>",
         "legendgroup": "8556",
         "line": {
          "color": "#19d3f3",
          "dash": "solid"
         },
         "mode": "lines",
         "name": "8556",
         "orientation": "v",
         "showlegend": true,
         "type": "scatter",
         "x": [
          "2014-05-29",
          "2014-05-30",
          "2014-05-31"
         ],
         "xaxis": "x",
         "y": [
          2,
          3,
          4
         ],
         "yaxis": "y"
        },
        {
         "hovertemplate": "mentionedEntity1=9851<br>dateTime=%{x}<br>ct=%{y}<extra></extra>",
         "legendgroup": "9851",
         "line": {
          "color": "#FF6692",
          "dash": "solid"
         },
         "mode": "lines",
         "name": "9851",
         "orientation": "v",
         "showlegend": true,
         "type": "scatter",
         "x": [
          "2014-05-29",
          "2014-05-31"
         ],
         "xaxis": "x",
         "y": [
          2,
          1
         ],
         "yaxis": "y"
        },
        {
         "hovertemplate": "mentionedEntity1=10526<br>dateTime=%{x}<br>ct=%{y}<extra></extra>",
         "legendgroup": "10526",
         "line": {
          "color": "#B6E880",
          "dash": "solid"
         },
         "mode": "lines",
         "name": "10526",
         "orientation": "v",
         "showlegend": true,
         "type": "scatter",
         "x": [
          "2014-05-29"
         ],
         "xaxis": "x",
         "y": [
          3
         ],
         "yaxis": "y"
        },
        {
         "hovertemplate": "mentionedEntity1=11758<br>dateTime=%{x}<br>ct=%{y}<extra></extra>",
         "legendgroup": "11758",
         "line": {
          "color": "#FF97FF",
          "dash": "solid"
         },
         "mode": "lines",
         "name": "11758",
         "orientation": "v",
         "showlegend": true,
         "type": "scatter",
         "x": [
          "2014-05-29"
         ],
         "xaxis": "x",
         "y": [
          2
         ],
         "yaxis": "y"
        },
        {
         "hovertemplate": "mentionedEntity1=12814<br>dateTime=%{x}<br>ct=%{y}<extra></extra>",
         "legendgroup": "12814",
         "line": {
          "color": "#FECB52",
          "dash": "solid"
         },
         "mode": "lines",
         "name": "12814",
         "orientation": "v",
         "showlegend": true,
         "type": "scatter",
         "x": [
          "2014-05-29"
         ],
         "xaxis": "x",
         "y": [
          3
         ],
         "yaxis": "y"
        },
        {
         "hovertemplate": "mentionedEntity1=12926<br>dateTime=%{x}<br>ct=%{y}<extra></extra>",
         "legendgroup": "12926",
         "line": {
          "color": "#636efa",
          "dash": "solid"
         },
         "mode": "lines",
         "name": "12926",
         "orientation": "v",
         "showlegend": true,
         "type": "scatter",
         "x": [
          "2014-05-29"
         ],
         "xaxis": "x",
         "y": [
          2
         ],
         "yaxis": "y"
        },
        {
         "hovertemplate": "mentionedEntity1=13131<br>dateTime=%{x}<br>ct=%{y}<extra></extra>",
         "legendgroup": "13131",
         "line": {
          "color": "#EF553B",
          "dash": "solid"
         },
         "mode": "lines",
         "name": "13131",
         "orientation": "v",
         "showlegend": true,
         "type": "scatter",
         "x": [
          "2014-05-29"
         ],
         "xaxis": "x",
         "y": [
          3
         ],
         "yaxis": "y"
        },
        {
         "hovertemplate": "mentionedEntity1=14349<br>dateTime=%{x}<br>ct=%{y}<extra></extra>",
         "legendgroup": "14349",
         "line": {
          "color": "#00cc96",
          "dash": "solid"
         },
         "mode": "lines",
         "name": "14349",
         "orientation": "v",
         "showlegend": true,
         "type": "scatter",
         "x": [
          "2014-05-29"
         ],
         "xaxis": "x",
         "y": [
          2
         ],
         "yaxis": "y"
        },
        {
         "hovertemplate": "mentionedEntity1=14605<br>dateTime=%{x}<br>ct=%{y}<extra></extra>",
         "legendgroup": "14605",
         "line": {
          "color": "#ab63fa",
          "dash": "solid"
         },
         "mode": "lines",
         "name": "14605",
         "orientation": "v",
         "showlegend": true,
         "type": "scatter",
         "x": [
          "2014-05-29"
         ],
         "xaxis": "x",
         "y": [
          1
         ],
         "yaxis": "y"
        },
        {
         "hovertemplate": "mentionedEntity1=15257<br>dateTime=%{x}<br>ct=%{y}<extra></extra>",
         "legendgroup": "15257",
         "line": {
          "color": "#FFA15A",
          "dash": "solid"
         },
         "mode": "lines",
         "name": "15257",
         "orientation": "v",
         "showlegend": true,
         "type": "scatter",
         "x": [
          "2014-05-29"
         ],
         "xaxis": "x",
         "y": [
          1
         ],
         "yaxis": "y"
        },
        {
         "hovertemplate": "mentionedEntity1=16056<br>dateTime=%{x}<br>ct=%{y}<extra></extra>",
         "legendgroup": "16056",
         "line": {
          "color": "#19d3f3",
          "dash": "solid"
         },
         "mode": "lines",
         "name": "16056",
         "orientation": "v",
         "showlegend": true,
         "type": "scatter",
         "x": [
          "2014-05-29"
         ],
         "xaxis": "x",
         "y": [
          1
         ],
         "yaxis": "y"
        },
        {
         "hovertemplate": "mentionedEntity1=16062<br>dateTime=%{x}<br>ct=%{y}<extra></extra>",
         "legendgroup": "16062",
         "line": {
          "color": "#FF6692",
          "dash": "solid"
         },
         "mode": "lines",
         "name": "16062",
         "orientation": "v",
         "showlegend": true,
         "type": "scatter",
         "x": [
          "2014-05-29"
         ],
         "xaxis": "x",
         "y": [
          6
         ],
         "yaxis": "y"
        },
        {
         "hovertemplate": "mentionedEntity1=16289<br>dateTime=%{x}<br>ct=%{y}<extra></extra>",
         "legendgroup": "16289",
         "line": {
          "color": "#B6E880",
          "dash": "solid"
         },
         "mode": "lines",
         "name": "16289",
         "orientation": "v",
         "showlegend": true,
         "type": "scatter",
         "x": [
          "2014-05-29"
         ],
         "xaxis": "x",
         "y": [
          1
         ],
         "yaxis": "y"
        },
        {
         "hovertemplate": "mentionedEntity1=16401<br>dateTime=%{x}<br>ct=%{y}<extra></extra>",
         "legendgroup": "16401",
         "line": {
          "color": "#FF97FF",
          "dash": "solid"
         },
         "mode": "lines",
         "name": "16401",
         "orientation": "v",
         "showlegend": true,
         "type": "scatter",
         "x": [
          "2014-05-29"
         ],
         "xaxis": "x",
         "y": [
          3
         ],
         "yaxis": "y"
        },
        {
         "hovertemplate": "mentionedEntity1=16905<br>dateTime=%{x}<br>ct=%{y}<extra></extra>",
         "legendgroup": "16905",
         "line": {
          "color": "#FECB52",
          "dash": "solid"
         },
         "mode": "lines",
         "name": "16905",
         "orientation": "v",
         "showlegend": true,
         "type": "scatter",
         "x": [
          "2014-05-29"
         ],
         "xaxis": "x",
         "y": [
          1
         ],
         "yaxis": "y"
        },
        {
         "hovertemplate": "mentionedEntity1=18660<br>dateTime=%{x}<br>ct=%{y}<extra></extra>",
         "legendgroup": "18660",
         "line": {
          "color": "#636efa",
          "dash": "solid"
         },
         "mode": "lines",
         "name": "18660",
         "orientation": "v",
         "showlegend": true,
         "type": "scatter",
         "x": [
          "2014-05-29"
         ],
         "xaxis": "x",
         "y": [
          1
         ],
         "yaxis": "y"
        },
        {
         "hovertemplate": "mentionedEntity1=19197<br>dateTime=%{x}<br>ct=%{y}<extra></extra>",
         "legendgroup": "19197",
         "line": {
          "color": "#EF553B",
          "dash": "solid"
         },
         "mode": "lines",
         "name": "19197",
         "orientation": "v",
         "showlegend": true,
         "type": "scatter",
         "x": [
          "2014-05-29"
         ],
         "xaxis": "x",
         "y": [
          7
         ],
         "yaxis": "y"
        },
        {
         "hovertemplate": "mentionedEntity1=19833<br>dateTime=%{x}<br>ct=%{y}<extra></extra>",
         "legendgroup": "19833",
         "line": {
          "color": "#00cc96",
          "dash": "solid"
         },
         "mode": "lines",
         "name": "19833",
         "orientation": "v",
         "showlegend": true,
         "type": "scatter",
         "x": [
          "2014-05-29"
         ],
         "xaxis": "x",
         "y": [
          3
         ],
         "yaxis": "y"
        },
        {
         "hovertemplate": "mentionedEntity1=20389<br>dateTime=%{x}<br>ct=%{y}<extra></extra>",
         "legendgroup": "20389",
         "line": {
          "color": "#ab63fa",
          "dash": "solid"
         },
         "mode": "lines",
         "name": "20389",
         "orientation": "v",
         "showlegend": true,
         "type": "scatter",
         "x": [
          "2014-05-29"
         ],
         "xaxis": "x",
         "y": [
          1
         ],
         "yaxis": "y"
        },
        {
         "hovertemplate": "mentionedEntity1=23525<br>dateTime=%{x}<br>ct=%{y}<extra></extra>",
         "legendgroup": "23525",
         "line": {
          "color": "#FFA15A",
          "dash": "solid"
         },
         "mode": "lines",
         "name": "23525",
         "orientation": "v",
         "showlegend": true,
         "type": "scatter",
         "x": [
          "2014-05-29"
         ],
         "xaxis": "x",
         "y": [
          4
         ],
         "yaxis": "y"
        },
        {
         "hovertemplate": "mentionedEntity1=23540<br>dateTime=%{x}<br>ct=%{y}<extra></extra>",
         "legendgroup": "23540",
         "line": {
          "color": "#19d3f3",
          "dash": "solid"
         },
         "mode": "lines",
         "name": "23540",
         "orientation": "v",
         "showlegend": true,
         "type": "scatter",
         "x": [
          "2014-05-29"
         ],
         "xaxis": "x",
         "y": [
          2
         ],
         "yaxis": "y"
        },
        {
         "hovertemplate": "mentionedEntity1=23552<br>dateTime=%{x}<br>ct=%{y}<extra></extra>",
         "legendgroup": "23552",
         "line": {
          "color": "#FF6692",
          "dash": "solid"
         },
         "mode": "lines",
         "name": "23552",
         "orientation": "v",
         "showlegend": true,
         "type": "scatter",
         "x": [
          "2014-05-29"
         ],
         "xaxis": "x",
         "y": [
          4
         ],
         "yaxis": "y"
        },
        {
         "hovertemplate": "mentionedEntity1=24759<br>dateTime=%{x}<br>ct=%{y}<extra></extra>",
         "legendgroup": "24759",
         "line": {
          "color": "#B6E880",
          "dash": "solid"
         },
         "mode": "lines",
         "name": "24759",
         "orientation": "v",
         "showlegend": true,
         "type": "scatter",
         "x": [
          "2014-05-29"
         ],
         "xaxis": "x",
         "y": [
          2
         ],
         "yaxis": "y"
        },
        {
         "hovertemplate": "mentionedEntity1=29917<br>dateTime=%{x}<br>ct=%{y}<extra></extra>",
         "legendgroup": "29917",
         "line": {
          "color": "#FF97FF",
          "dash": "solid"
         },
         "mode": "lines",
         "name": "29917",
         "orientation": "v",
         "showlegend": true,
         "type": "scatter",
         "x": [
          "2014-05-29"
         ],
         "xaxis": "x",
         "y": [
          1
         ],
         "yaxis": "y"
        },
        {
         "hovertemplate": "mentionedEntity1=32117<br>dateTime=%{x}<br>ct=%{y}<extra></extra>",
         "legendgroup": "32117",
         "line": {
          "color": "#FECB52",
          "dash": "solid"
         },
         "mode": "lines",
         "name": "32117",
         "orientation": "v",
         "showlegend": true,
         "type": "scatter",
         "x": [
          "2014-05-29"
         ],
         "xaxis": "x",
         "y": [
          4
         ],
         "yaxis": "y"
        },
        {
         "hovertemplate": "mentionedEntity1=33744<br>dateTime=%{x}<br>ct=%{y}<extra></extra>",
         "legendgroup": "33744",
         "line": {
          "color": "#636efa",
          "dash": "solid"
         },
         "mode": "lines",
         "name": "33744",
         "orientation": "v",
         "showlegend": true,
         "type": "scatter",
         "x": [
          "2014-05-29"
         ],
         "xaxis": "x",
         "y": [
          2
         ],
         "yaxis": "y"
        },
        {
         "hovertemplate": "mentionedEntity1=34052<br>dateTime=%{x}<br>ct=%{y}<extra></extra>",
         "legendgroup": "34052",
         "line": {
          "color": "#EF553B",
          "dash": "solid"
         },
         "mode": "lines",
         "name": "34052",
         "orientation": "v",
         "showlegend": true,
         "type": "scatter",
         "x": [
          "2014-05-29"
         ],
         "xaxis": "x",
         "y": [
          1
         ],
         "yaxis": "y"
        },
        {
         "hovertemplate": "mentionedEntity1=39279<br>dateTime=%{x}<br>ct=%{y}<extra></extra>",
         "legendgroup": "39279",
         "line": {
          "color": "#00cc96",
          "dash": "solid"
         },
         "mode": "lines",
         "name": "39279",
         "orientation": "v",
         "showlegend": true,
         "type": "scatter",
         "x": [
          "2014-05-29"
         ],
         "xaxis": "x",
         "y": [
          1
         ],
         "yaxis": "y"
        },
        {
         "hovertemplate": "mentionedEntity1=40502<br>dateTime=%{x}<br>ct=%{y}<extra></extra>",
         "legendgroup": "40502",
         "line": {
          "color": "#ab63fa",
          "dash": "solid"
         },
         "mode": "lines",
         "name": "40502",
         "orientation": "v",
         "showlegend": true,
         "type": "scatter",
         "x": [
          "2014-05-29"
         ],
         "xaxis": "x",
         "y": [
          12
         ],
         "yaxis": "y"
        },
        {
         "hovertemplate": "mentionedEntity1=40990<br>dateTime=%{x}<br>ct=%{y}<extra></extra>",
         "legendgroup": "40990",
         "line": {
          "color": "#FFA15A",
          "dash": "solid"
         },
         "mode": "lines",
         "name": "40990",
         "orientation": "v",
         "showlegend": true,
         "type": "scatter",
         "x": [
          "2014-05-29"
         ],
         "xaxis": "x",
         "y": [
          5
         ],
         "yaxis": "y"
        },
        {
         "hovertemplate": "mentionedEntity1=41450<br>dateTime=%{x}<br>ct=%{y}<extra></extra>",
         "legendgroup": "41450",
         "line": {
          "color": "#19d3f3",
          "dash": "solid"
         },
         "mode": "lines",
         "name": "41450",
         "orientation": "v",
         "showlegend": true,
         "type": "scatter",
         "x": [
          "2014-05-29"
         ],
         "xaxis": "x",
         "y": [
          10
         ],
         "yaxis": "y"
        },
        {
         "hovertemplate": "mentionedEntity1=45648<br>dateTime=%{x}<br>ct=%{y}<extra></extra>",
         "legendgroup": "45648",
         "line": {
          "color": "#FF6692",
          "dash": "solid"
         },
         "mode": "lines",
         "name": "45648",
         "orientation": "v",
         "showlegend": true,
         "type": "scatter",
         "x": [
          "2014-05-29"
         ],
         "xaxis": "x",
         "y": [
          6
         ],
         "yaxis": "y"
        },
        {
         "hovertemplate": "mentionedEntity1=47523<br>dateTime=%{x}<br>ct=%{y}<extra></extra>",
         "legendgroup": "47523",
         "line": {
          "color": "#B6E880",
          "dash": "solid"
         },
         "mode": "lines",
         "name": "47523",
         "orientation": "v",
         "showlegend": true,
         "type": "scatter",
         "x": [
          "2014-05-29"
         ],
         "xaxis": "x",
         "y": [
          5
         ],
         "yaxis": "y"
        },
        {
         "hovertemplate": "mentionedEntity1=47692<br>dateTime=%{x}<br>ct=%{y}<extra></extra>",
         "legendgroup": "47692",
         "line": {
          "color": "#FF97FF",
          "dash": "solid"
         },
         "mode": "lines",
         "name": "47692",
         "orientation": "v",
         "showlegend": true,
         "type": "scatter",
         "x": [
          "2014-05-29"
         ],
         "xaxis": "x",
         "y": [
          1
         ],
         "yaxis": "y"
        },
        {
         "hovertemplate": "mentionedEntity1=47944<br>dateTime=%{x}<br>ct=%{y}<extra></extra>",
         "legendgroup": "47944",
         "line": {
          "color": "#FECB52",
          "dash": "solid"
         },
         "mode": "lines",
         "name": "47944",
         "orientation": "v",
         "showlegend": true,
         "type": "scatter",
         "x": [
          "2014-05-29"
         ],
         "xaxis": "x",
         "y": [
          2
         ],
         "yaxis": "y"
        },
        {
         "hovertemplate": "mentionedEntity1=48973<br>dateTime=%{x}<br>ct=%{y}<extra></extra>",
         "legendgroup": "48973",
         "line": {
          "color": "#636efa",
          "dash": "solid"
         },
         "mode": "lines",
         "name": "48973",
         "orientation": "v",
         "showlegend": true,
         "type": "scatter",
         "x": [
          "2014-05-29"
         ],
         "xaxis": "x",
         "y": [
          5
         ],
         "yaxis": "y"
        },
        {
         "hovertemplate": "mentionedEntity1=49243<br>dateTime=%{x}<br>ct=%{y}<extra></extra>",
         "legendgroup": "49243",
         "line": {
          "color": "#EF553B",
          "dash": "solid"
         },
         "mode": "lines",
         "name": "49243",
         "orientation": "v",
         "showlegend": true,
         "type": "scatter",
         "x": [
          "2014-05-29"
         ],
         "xaxis": "x",
         "y": [
          1
         ],
         "yaxis": "y"
        },
        {
         "hovertemplate": "mentionedEntity1=50663<br>dateTime=%{x}<br>ct=%{y}<extra></extra>",
         "legendgroup": "50663",
         "line": {
          "color": "#00cc96",
          "dash": "solid"
         },
         "mode": "lines",
         "name": "50663",
         "orientation": "v",
         "showlegend": true,
         "type": "scatter",
         "x": [
          "2014-05-29"
         ],
         "xaxis": "x",
         "y": [
          2
         ],
         "yaxis": "y"
        },
        {
         "hovertemplate": "mentionedEntity1=50667<br>dateTime=%{x}<br>ct=%{y}<extra></extra>",
         "legendgroup": "50667",
         "line": {
          "color": "#ab63fa",
          "dash": "solid"
         },
         "mode": "lines",
         "name": "50667",
         "orientation": "v",
         "showlegend": true,
         "type": "scatter",
         "x": [
          "2014-05-29"
         ],
         "xaxis": "x",
         "y": [
          1
         ],
         "yaxis": "y"
        },
        {
         "hovertemplate": "mentionedEntity1=6399<br>dateTime=%{x}<br>ct=%{y}<extra></extra>",
         "legendgroup": "6399",
         "line": {
          "color": "#FFA15A",
          "dash": "solid"
         },
         "mode": "lines",
         "name": "6399",
         "orientation": "v",
         "showlegend": true,
         "type": "scatter",
         "x": [
          "2014-05-30"
         ],
         "xaxis": "x",
         "y": [
          5
         ],
         "yaxis": "y"
        },
        {
         "hovertemplate": "mentionedEntity1=6508<br>dateTime=%{x}<br>ct=%{y}<extra></extra>",
         "legendgroup": "6508",
         "line": {
          "color": "#19d3f3",
          "dash": "solid"
         },
         "mode": "lines",
         "name": "6508",
         "orientation": "v",
         "showlegend": true,
         "type": "scatter",
         "x": [
          "2014-05-30"
         ],
         "xaxis": "x",
         "y": [
          11
         ],
         "yaxis": "y"
        },
        {
         "hovertemplate": "mentionedEntity1=6741<br>dateTime=%{x}<br>ct=%{y}<extra></extra>",
         "legendgroup": "6741",
         "line": {
          "color": "#FF6692",
          "dash": "solid"
         },
         "mode": "lines",
         "name": "6741",
         "orientation": "v",
         "showlegend": true,
         "type": "scatter",
         "x": [
          "2014-05-30"
         ],
         "xaxis": "x",
         "y": [
          4
         ],
         "yaxis": "y"
        },
        {
         "hovertemplate": "mentionedEntity1=7217<br>dateTime=%{x}<br>ct=%{y}<extra></extra>",
         "legendgroup": "7217",
         "line": {
          "color": "#B6E880",
          "dash": "solid"
         },
         "mode": "lines",
         "name": "7217",
         "orientation": "v",
         "showlegend": true,
         "type": "scatter",
         "x": [
          "2014-05-30"
         ],
         "xaxis": "x",
         "y": [
          1
         ],
         "yaxis": "y"
        },
        {
         "hovertemplate": "mentionedEntity1=7838<br>dateTime=%{x}<br>ct=%{y}<extra></extra>",
         "legendgroup": "7838",
         "line": {
          "color": "#FF97FF",
          "dash": "solid"
         },
         "mode": "lines",
         "name": "7838",
         "orientation": "v",
         "showlegend": true,
         "type": "scatter",
         "x": [
          "2014-05-30"
         ],
         "xaxis": "x",
         "y": [
          1
         ],
         "yaxis": "y"
        },
        {
         "hovertemplate": "mentionedEntity1=10116<br>dateTime=%{x}<br>ct=%{y}<extra></extra>",
         "legendgroup": "10116",
         "line": {
          "color": "#FECB52",
          "dash": "solid"
         },
         "mode": "lines",
         "name": "10116",
         "orientation": "v",
         "showlegend": true,
         "type": "scatter",
         "x": [
          "2014-05-30"
         ],
         "xaxis": "x",
         "y": [
          3
         ],
         "yaxis": "y"
        },
        {
         "hovertemplate": "mentionedEntity1=10553<br>dateTime=%{x}<br>ct=%{y}<extra></extra>",
         "legendgroup": "10553",
         "line": {
          "color": "#636efa",
          "dash": "solid"
         },
         "mode": "lines",
         "name": "10553",
         "orientation": "v",
         "showlegend": true,
         "type": "scatter",
         "x": [
          "2014-05-30"
         ],
         "xaxis": "x",
         "y": [
          1
         ],
         "yaxis": "y"
        },
        {
         "hovertemplate": "mentionedEntity1=14157<br>dateTime=%{x}<br>ct=%{y}<extra></extra>",
         "legendgroup": "14157",
         "line": {
          "color": "#EF553B",
          "dash": "solid"
         },
         "mode": "lines",
         "name": "14157",
         "orientation": "v",
         "showlegend": true,
         "type": "scatter",
         "x": [
          "2014-05-30"
         ],
         "xaxis": "x",
         "y": [
          3
         ],
         "yaxis": "y"
        },
        {
         "hovertemplate": "mentionedEntity1=15602<br>dateTime=%{x}<br>ct=%{y}<extra></extra>",
         "legendgroup": "15602",
         "line": {
          "color": "#00cc96",
          "dash": "solid"
         },
         "mode": "lines",
         "name": "15602",
         "orientation": "v",
         "showlegend": true,
         "type": "scatter",
         "x": [
          "2014-05-30"
         ],
         "xaxis": "x",
         "y": [
          2
         ],
         "yaxis": "y"
        },
        {
         "hovertemplate": "mentionedEntity1=16986<br>dateTime=%{x}<br>ct=%{y}<extra></extra>",
         "legendgroup": "16986",
         "line": {
          "color": "#ab63fa",
          "dash": "solid"
         },
         "mode": "lines",
         "name": "16986",
         "orientation": "v",
         "showlegend": true,
         "type": "scatter",
         "x": [
          "2014-05-30"
         ],
         "xaxis": "x",
         "y": [
          1
         ],
         "yaxis": "y"
        },
        {
         "hovertemplate": "mentionedEntity1=17441<br>dateTime=%{x}<br>ct=%{y}<extra></extra>",
         "legendgroup": "17441",
         "line": {
          "color": "#FFA15A",
          "dash": "solid"
         },
         "mode": "lines",
         "name": "17441",
         "orientation": "v",
         "showlegend": true,
         "type": "scatter",
         "x": [
          "2014-05-30"
         ],
         "xaxis": "x",
         "y": [
          1
         ],
         "yaxis": "y"
        },
        {
         "hovertemplate": "mentionedEntity1=18845<br>dateTime=%{x}<br>ct=%{y}<extra></extra>",
         "legendgroup": "18845",
         "line": {
          "color": "#19d3f3",
          "dash": "solid"
         },
         "mode": "lines",
         "name": "18845",
         "orientation": "v",
         "showlegend": true,
         "type": "scatter",
         "x": [
          "2014-05-30",
          "2014-05-31"
         ],
         "xaxis": "x",
         "y": [
          17,
          2
         ],
         "yaxis": "y"
        },
        {
         "hovertemplate": "mentionedEntity1=23722<br>dateTime=%{x}<br>ct=%{y}<extra></extra>",
         "legendgroup": "23722",
         "line": {
          "color": "#FF6692",
          "dash": "solid"
         },
         "mode": "lines",
         "name": "23722",
         "orientation": "v",
         "showlegend": true,
         "type": "scatter",
         "x": [
          "2014-05-30"
         ],
         "xaxis": "x",
         "y": [
          2
         ],
         "yaxis": "y"
        },
        {
         "hovertemplate": "mentionedEntity1=23726<br>dateTime=%{x}<br>ct=%{y}<extra></extra>",
         "legendgroup": "23726",
         "line": {
          "color": "#B6E880",
          "dash": "solid"
         },
         "mode": "lines",
         "name": "23726",
         "orientation": "v",
         "showlegend": true,
         "type": "scatter",
         "x": [
          "2014-05-30"
         ],
         "xaxis": "x",
         "y": [
          2
         ],
         "yaxis": "y"
        },
        {
         "hovertemplate": "mentionedEntity1=23785<br>dateTime=%{x}<br>ct=%{y}<extra></extra>",
         "legendgroup": "23785",
         "line": {
          "color": "#FF97FF",
          "dash": "solid"
         },
         "mode": "lines",
         "name": "23785",
         "orientation": "v",
         "showlegend": true,
         "type": "scatter",
         "x": [
          "2014-05-30"
         ],
         "xaxis": "x",
         "y": [
          4
         ],
         "yaxis": "y"
        },
        {
         "hovertemplate": "mentionedEntity1=28019<br>dateTime=%{x}<br>ct=%{y}<extra></extra>",
         "legendgroup": "28019",
         "line": {
          "color": "#FECB52",
          "dash": "solid"
         },
         "mode": "lines",
         "name": "28019",
         "orientation": "v",
         "showlegend": true,
         "type": "scatter",
         "x": [
          "2014-05-30"
         ],
         "xaxis": "x",
         "y": [
          1
         ],
         "yaxis": "y"
        },
        {
         "hovertemplate": "mentionedEntity1=30040<br>dateTime=%{x}<br>ct=%{y}<extra></extra>",
         "legendgroup": "30040",
         "line": {
          "color": "#636efa",
          "dash": "solid"
         },
         "mode": "lines",
         "name": "30040",
         "orientation": "v",
         "showlegend": true,
         "type": "scatter",
         "x": [
          "2014-05-30"
         ],
         "xaxis": "x",
         "y": [
          12
         ],
         "yaxis": "y"
        },
        {
         "hovertemplate": "mentionedEntity1=30316<br>dateTime=%{x}<br>ct=%{y}<extra></extra>",
         "legendgroup": "30316",
         "line": {
          "color": "#EF553B",
          "dash": "solid"
         },
         "mode": "lines",
         "name": "30316",
         "orientation": "v",
         "showlegend": true,
         "type": "scatter",
         "x": [
          "2014-05-30"
         ],
         "xaxis": "x",
         "y": [
          2
         ],
         "yaxis": "y"
        },
        {
         "hovertemplate": "mentionedEntity1=30611<br>dateTime=%{x}<br>ct=%{y}<extra></extra>",
         "legendgroup": "30611",
         "line": {
          "color": "#00cc96",
          "dash": "solid"
         },
         "mode": "lines",
         "name": "30611",
         "orientation": "v",
         "showlegend": true,
         "type": "scatter",
         "x": [
          "2014-05-30"
         ],
         "xaxis": "x",
         "y": [
          3
         ],
         "yaxis": "y"
        },
        {
         "hovertemplate": "mentionedEntity1=31193<br>dateTime=%{x}<br>ct=%{y}<extra></extra>",
         "legendgroup": "31193",
         "line": {
          "color": "#ab63fa",
          "dash": "solid"
         },
         "mode": "lines",
         "name": "31193",
         "orientation": "v",
         "showlegend": true,
         "type": "scatter",
         "x": [
          "2014-05-30"
         ],
         "xaxis": "x",
         "y": [
          6
         ],
         "yaxis": "y"
        },
        {
         "hovertemplate": "mentionedEntity1=31742<br>dateTime=%{x}<br>ct=%{y}<extra></extra>",
         "legendgroup": "31742",
         "line": {
          "color": "#FFA15A",
          "dash": "solid"
         },
         "mode": "lines",
         "name": "31742",
         "orientation": "v",
         "showlegend": true,
         "type": "scatter",
         "x": [
          "2014-05-30"
         ],
         "xaxis": "x",
         "y": [
          4
         ],
         "yaxis": "y"
        },
        {
         "hovertemplate": "mentionedEntity1=34335<br>dateTime=%{x}<br>ct=%{y}<extra></extra>",
         "legendgroup": "34335",
         "line": {
          "color": "#19d3f3",
          "dash": "solid"
         },
         "mode": "lines",
         "name": "34335",
         "orientation": "v",
         "showlegend": true,
         "type": "scatter",
         "x": [
          "2014-05-30"
         ],
         "xaxis": "x",
         "y": [
          4
         ],
         "yaxis": "y"
        },
        {
         "hovertemplate": "mentionedEntity1=34476<br>dateTime=%{x}<br>ct=%{y}<extra></extra>",
         "legendgroup": "34476",
         "line": {
          "color": "#FF6692",
          "dash": "solid"
         },
         "mode": "lines",
         "name": "34476",
         "orientation": "v",
         "showlegend": true,
         "type": "scatter",
         "x": [
          "2014-05-30"
         ],
         "xaxis": "x",
         "y": [
          4
         ],
         "yaxis": "y"
        },
        {
         "hovertemplate": "mentionedEntity1=34593<br>dateTime=%{x}<br>ct=%{y}<extra></extra>",
         "legendgroup": "34593",
         "line": {
          "color": "#B6E880",
          "dash": "solid"
         },
         "mode": "lines",
         "name": "34593",
         "orientation": "v",
         "showlegend": true,
         "type": "scatter",
         "x": [
          "2014-05-30"
         ],
         "xaxis": "x",
         "y": [
          1
         ],
         "yaxis": "y"
        },
        {
         "hovertemplate": "mentionedEntity1=34777<br>dateTime=%{x}<br>ct=%{y}<extra></extra>",
         "legendgroup": "34777",
         "line": {
          "color": "#FF97FF",
          "dash": "solid"
         },
         "mode": "lines",
         "name": "34777",
         "orientation": "v",
         "showlegend": true,
         "type": "scatter",
         "x": [
          "2014-05-30"
         ],
         "xaxis": "x",
         "y": [
          2
         ],
         "yaxis": "y"
        },
        {
         "hovertemplate": "mentionedEntity1=36489<br>dateTime=%{x}<br>ct=%{y}<extra></extra>",
         "legendgroup": "36489",
         "line": {
          "color": "#FECB52",
          "dash": "solid"
         },
         "mode": "lines",
         "name": "36489",
         "orientation": "v",
         "showlegend": true,
         "type": "scatter",
         "x": [
          "2014-05-30"
         ],
         "xaxis": "x",
         "y": [
          3
         ],
         "yaxis": "y"
        },
        {
         "hovertemplate": "mentionedEntity1=36785<br>dateTime=%{x}<br>ct=%{y}<extra></extra>",
         "legendgroup": "36785",
         "line": {
          "color": "#636efa",
          "dash": "solid"
         },
         "mode": "lines",
         "name": "36785",
         "orientation": "v",
         "showlegend": true,
         "type": "scatter",
         "x": [
          "2014-05-30"
         ],
         "xaxis": "x",
         "y": [
          1
         ],
         "yaxis": "y"
        },
        {
         "hovertemplate": "mentionedEntity1=39078<br>dateTime=%{x}<br>ct=%{y}<extra></extra>",
         "legendgroup": "39078",
         "line": {
          "color": "#EF553B",
          "dash": "solid"
         },
         "mode": "lines",
         "name": "39078",
         "orientation": "v",
         "showlegend": true,
         "type": "scatter",
         "x": [
          "2014-05-30"
         ],
         "xaxis": "x",
         "y": [
          3
         ],
         "yaxis": "y"
        },
        {
         "hovertemplate": "mentionedEntity1=39690<br>dateTime=%{x}<br>ct=%{y}<extra></extra>",
         "legendgroup": "39690",
         "line": {
          "color": "#00cc96",
          "dash": "solid"
         },
         "mode": "lines",
         "name": "39690",
         "orientation": "v",
         "showlegend": true,
         "type": "scatter",
         "x": [
          "2014-05-30"
         ],
         "xaxis": "x",
         "y": [
          1
         ],
         "yaxis": "y"
        },
        {
         "hovertemplate": "mentionedEntity1=43247<br>dateTime=%{x}<br>ct=%{y}<extra></extra>",
         "legendgroup": "43247",
         "line": {
          "color": "#ab63fa",
          "dash": "solid"
         },
         "mode": "lines",
         "name": "43247",
         "orientation": "v",
         "showlegend": true,
         "type": "scatter",
         "x": [
          "2014-05-30"
         ],
         "xaxis": "x",
         "y": [
          50
         ],
         "yaxis": "y"
        },
        {
         "hovertemplate": "mentionedEntity1=43644<br>dateTime=%{x}<br>ct=%{y}<extra></extra>",
         "legendgroup": "43644",
         "line": {
          "color": "#FFA15A",
          "dash": "solid"
         },
         "mode": "lines",
         "name": "43644",
         "orientation": "v",
         "showlegend": true,
         "type": "scatter",
         "x": [
          "2014-05-30"
         ],
         "xaxis": "x",
         "y": [
          2
         ],
         "yaxis": "y"
        },
        {
         "hovertemplate": "mentionedEntity1=43969<br>dateTime=%{x}<br>ct=%{y}<extra></extra>",
         "legendgroup": "43969",
         "line": {
          "color": "#19d3f3",
          "dash": "solid"
         },
         "mode": "lines",
         "name": "43969",
         "orientation": "v",
         "showlegend": true,
         "type": "scatter",
         "x": [
          "2014-05-30"
         ],
         "xaxis": "x",
         "y": [
          1
         ],
         "yaxis": "y"
        },
        {
         "hovertemplate": "mentionedEntity1=46052<br>dateTime=%{x}<br>ct=%{y}<extra></extra>",
         "legendgroup": "46052",
         "line": {
          "color": "#FF6692",
          "dash": "solid"
         },
         "mode": "lines",
         "name": "46052",
         "orientation": "v",
         "showlegend": true,
         "type": "scatter",
         "x": [
          "2014-05-30"
         ],
         "xaxis": "x",
         "y": [
          1
         ],
         "yaxis": "y"
        },
        {
         "hovertemplate": "mentionedEntity1=48052<br>dateTime=%{x}<br>ct=%{y}<extra></extra>",
         "legendgroup": "48052",
         "line": {
          "color": "#B6E880",
          "dash": "solid"
         },
         "mode": "lines",
         "name": "48052",
         "orientation": "v",
         "showlegend": true,
         "type": "scatter",
         "x": [
          "2014-05-30"
         ],
         "xaxis": "x",
         "y": [
          1
         ],
         "yaxis": "y"
        },
        {
         "hovertemplate": "mentionedEntity1=49383<br>dateTime=%{x}<br>ct=%{y}<extra></extra>",
         "legendgroup": "49383",
         "line": {
          "color": "#FF97FF",
          "dash": "solid"
         },
         "mode": "lines",
         "name": "49383",
         "orientation": "v",
         "showlegend": true,
         "type": "scatter",
         "x": [
          "2014-05-30"
         ],
         "xaxis": "x",
         "y": [
          3
         ],
         "yaxis": "y"
        },
        {
         "hovertemplate": "mentionedEntity1=49520<br>dateTime=%{x}<br>ct=%{y}<extra></extra>",
         "legendgroup": "49520",
         "line": {
          "color": "#FECB52",
          "dash": "solid"
         },
         "mode": "lines",
         "name": "49520",
         "orientation": "v",
         "showlegend": true,
         "type": "scatter",
         "x": [
          "2014-05-30"
         ],
         "xaxis": "x",
         "y": [
          1
         ],
         "yaxis": "y"
        },
        {
         "hovertemplate": "mentionedEntity1=49644<br>dateTime=%{x}<br>ct=%{y}<extra></extra>",
         "legendgroup": "49644",
         "line": {
          "color": "#636efa",
          "dash": "solid"
         },
         "mode": "lines",
         "name": "49644",
         "orientation": "v",
         "showlegend": true,
         "type": "scatter",
         "x": [
          "2014-05-30"
         ],
         "xaxis": "x",
         "y": [
          1
         ],
         "yaxis": "y"
        },
        {
         "hovertemplate": "mentionedEntity1=49836<br>dateTime=%{x}<br>ct=%{y}<extra></extra>",
         "legendgroup": "49836",
         "line": {
          "color": "#EF553B",
          "dash": "solid"
         },
         "mode": "lines",
         "name": "49836",
         "orientation": "v",
         "showlegend": true,
         "type": "scatter",
         "x": [
          "2014-05-30"
         ],
         "xaxis": "x",
         "y": [
          6
         ],
         "yaxis": "y"
        },
        {
         "hovertemplate": "mentionedEntity1=208<br>dateTime=%{x}<br>ct=%{y}<extra></extra>",
         "legendgroup": "208",
         "line": {
          "color": "#00cc96",
          "dash": "solid"
         },
         "mode": "lines",
         "name": "208",
         "orientation": "v",
         "showlegend": true,
         "type": "scatter",
         "x": [
          "2014-05-31"
         ],
         "xaxis": "x",
         "y": [
          7
         ],
         "yaxis": "y"
        },
        {
         "hovertemplate": "mentionedEntity1=579<br>dateTime=%{x}<br>ct=%{y}<extra></extra>",
         "legendgroup": "579",
         "line": {
          "color": "#ab63fa",
          "dash": "solid"
         },
         "mode": "lines",
         "name": "579",
         "orientation": "v",
         "showlegend": true,
         "type": "scatter",
         "x": [
          "2014-05-31"
         ],
         "xaxis": "x",
         "y": [
          25
         ],
         "yaxis": "y"
        },
        {
         "hovertemplate": "mentionedEntity1=5357<br>dateTime=%{x}<br>ct=%{y}<extra></extra>",
         "legendgroup": "5357",
         "line": {
          "color": "#FFA15A",
          "dash": "solid"
         },
         "mode": "lines",
         "name": "5357",
         "orientation": "v",
         "showlegend": true,
         "type": "scatter",
         "x": [
          "2014-05-31"
         ],
         "xaxis": "x",
         "y": [
          6
         ],
         "yaxis": "y"
        },
        {
         "hovertemplate": "mentionedEntity1=5529<br>dateTime=%{x}<br>ct=%{y}<extra></extra>",
         "legendgroup": "5529",
         "line": {
          "color": "#19d3f3",
          "dash": "solid"
         },
         "mode": "lines",
         "name": "5529",
         "orientation": "v",
         "showlegend": true,
         "type": "scatter",
         "x": [
          "2014-05-31"
         ],
         "xaxis": "x",
         "y": [
          5
         ],
         "yaxis": "y"
        },
        {
         "hovertemplate": "mentionedEntity1=6359<br>dateTime=%{x}<br>ct=%{y}<extra></extra>",
         "legendgroup": "6359",
         "line": {
          "color": "#FF6692",
          "dash": "solid"
         },
         "mode": "lines",
         "name": "6359",
         "orientation": "v",
         "showlegend": true,
         "type": "scatter",
         "x": [
          "2014-05-31"
         ],
         "xaxis": "x",
         "y": [
          3
         ],
         "yaxis": "y"
        },
        {
         "hovertemplate": "mentionedEntity1=6473<br>dateTime=%{x}<br>ct=%{y}<extra></extra>",
         "legendgroup": "6473",
         "line": {
          "color": "#B6E880",
          "dash": "solid"
         },
         "mode": "lines",
         "name": "6473",
         "orientation": "v",
         "showlegend": true,
         "type": "scatter",
         "x": [
          "2014-05-31"
         ],
         "xaxis": "x",
         "y": [
          2
         ],
         "yaxis": "y"
        },
        {
         "hovertemplate": "mentionedEntity1=6874<br>dateTime=%{x}<br>ct=%{y}<extra></extra>",
         "legendgroup": "6874",
         "line": {
          "color": "#FF97FF",
          "dash": "solid"
         },
         "mode": "lines",
         "name": "6874",
         "orientation": "v",
         "showlegend": true,
         "type": "scatter",
         "x": [
          "2014-05-31"
         ],
         "xaxis": "x",
         "y": [
          6
         ],
         "yaxis": "y"
        },
        {
         "hovertemplate": "mentionedEntity1=6964<br>dateTime=%{x}<br>ct=%{y}<extra></extra>",
         "legendgroup": "6964",
         "line": {
          "color": "#FECB52",
          "dash": "solid"
         },
         "mode": "lines",
         "name": "6964",
         "orientation": "v",
         "showlegend": true,
         "type": "scatter",
         "x": [
          "2014-05-31"
         ],
         "xaxis": "x",
         "y": [
          6
         ],
         "yaxis": "y"
        },
        {
         "hovertemplate": "mentionedEntity1=7056<br>dateTime=%{x}<br>ct=%{y}<extra></extra>",
         "legendgroup": "7056",
         "line": {
          "color": "#636efa",
          "dash": "solid"
         },
         "mode": "lines",
         "name": "7056",
         "orientation": "v",
         "showlegend": true,
         "type": "scatter",
         "x": [
          "2014-05-31"
         ],
         "xaxis": "x",
         "y": [
          3
         ],
         "yaxis": "y"
        },
        {
         "hovertemplate": "mentionedEntity1=7441<br>dateTime=%{x}<br>ct=%{y}<extra></extra>",
         "legendgroup": "7441",
         "line": {
          "color": "#EF553B",
          "dash": "solid"
         },
         "mode": "lines",
         "name": "7441",
         "orientation": "v",
         "showlegend": true,
         "type": "scatter",
         "x": [
          "2014-05-31"
         ],
         "xaxis": "x",
         "y": [
          2
         ],
         "yaxis": "y"
        },
        {
         "hovertemplate": "mentionedEntity1=8593<br>dateTime=%{x}<br>ct=%{y}<extra></extra>",
         "legendgroup": "8593",
         "line": {
          "color": "#00cc96",
          "dash": "solid"
         },
         "mode": "lines",
         "name": "8593",
         "orientation": "v",
         "showlegend": true,
         "type": "scatter",
         "x": [
          "2014-05-31"
         ],
         "xaxis": "x",
         "y": [
          2
         ],
         "yaxis": "y"
        },
        {
         "hovertemplate": "mentionedEntity1=8829<br>dateTime=%{x}<br>ct=%{y}<extra></extra>",
         "legendgroup": "8829",
         "line": {
          "color": "#ab63fa",
          "dash": "solid"
         },
         "mode": "lines",
         "name": "8829",
         "orientation": "v",
         "showlegend": true,
         "type": "scatter",
         "x": [
          "2014-05-31"
         ],
         "xaxis": "x",
         "y": [
          1
         ],
         "yaxis": "y"
        },
        {
         "hovertemplate": "mentionedEntity1=9341<br>dateTime=%{x}<br>ct=%{y}<extra></extra>",
         "legendgroup": "9341",
         "line": {
          "color": "#FFA15A",
          "dash": "solid"
         },
         "mode": "lines",
         "name": "9341",
         "orientation": "v",
         "showlegend": true,
         "type": "scatter",
         "x": [
          "2014-05-31"
         ],
         "xaxis": "x",
         "y": [
          16
         ],
         "yaxis": "y"
        },
        {
         "hovertemplate": "mentionedEntity1=11513<br>dateTime=%{x}<br>ct=%{y}<extra></extra>",
         "legendgroup": "11513",
         "line": {
          "color": "#19d3f3",
          "dash": "solid"
         },
         "mode": "lines",
         "name": "11513",
         "orientation": "v",
         "showlegend": true,
         "type": "scatter",
         "x": [
          "2014-05-31"
         ],
         "xaxis": "x",
         "y": [
          2
         ],
         "yaxis": "y"
        },
        {
         "hovertemplate": "mentionedEntity1=11622<br>dateTime=%{x}<br>ct=%{y}<extra></extra>",
         "legendgroup": "11622",
         "line": {
          "color": "#FF6692",
          "dash": "solid"
         },
         "mode": "lines",
         "name": "11622",
         "orientation": "v",
         "showlegend": true,
         "type": "scatter",
         "x": [
          "2014-05-31"
         ],
         "xaxis": "x",
         "y": [
          3
         ],
         "yaxis": "y"
        },
        {
         "hovertemplate": "mentionedEntity1=13690<br>dateTime=%{x}<br>ct=%{y}<extra></extra>",
         "legendgroup": "13690",
         "line": {
          "color": "#B6E880",
          "dash": "solid"
         },
         "mode": "lines",
         "name": "13690",
         "orientation": "v",
         "showlegend": true,
         "type": "scatter",
         "x": [
          "2014-05-31"
         ],
         "xaxis": "x",
         "y": [
          2
         ],
         "yaxis": "y"
        },
        {
         "hovertemplate": "mentionedEntity1=14931<br>dateTime=%{x}<br>ct=%{y}<extra></extra>",
         "legendgroup": "14931",
         "line": {
          "color": "#FF97FF",
          "dash": "solid"
         },
         "mode": "lines",
         "name": "14931",
         "orientation": "v",
         "showlegend": true,
         "type": "scatter",
         "x": [
          "2014-05-31"
         ],
         "xaxis": "x",
         "y": [
          2
         ],
         "yaxis": "y"
        },
        {
         "hovertemplate": "mentionedEntity1=15498<br>dateTime=%{x}<br>ct=%{y}<extra></extra>",
         "legendgroup": "15498",
         "line": {
          "color": "#FECB52",
          "dash": "solid"
         },
         "mode": "lines",
         "name": "15498",
         "orientation": "v",
         "showlegend": true,
         "type": "scatter",
         "x": [
          "2014-05-31"
         ],
         "xaxis": "x",
         "y": [
          3
         ],
         "yaxis": "y"
        },
        {
         "hovertemplate": "mentionedEntity1=17238<br>dateTime=%{x}<br>ct=%{y}<extra></extra>",
         "legendgroup": "17238",
         "line": {
          "color": "#636efa",
          "dash": "solid"
         },
         "mode": "lines",
         "name": "17238",
         "orientation": "v",
         "showlegend": true,
         "type": "scatter",
         "x": [
          "2014-05-31"
         ],
         "xaxis": "x",
         "y": [
          2
         ],
         "yaxis": "y"
        },
        {
         "hovertemplate": "mentionedEntity1=17268<br>dateTime=%{x}<br>ct=%{y}<extra></extra>",
         "legendgroup": "17268",
         "line": {
          "color": "#EF553B",
          "dash": "solid"
         },
         "mode": "lines",
         "name": "17268",
         "orientation": "v",
         "showlegend": true,
         "type": "scatter",
         "x": [
          "2014-05-31"
         ],
         "xaxis": "x",
         "y": [
          3
         ],
         "yaxis": "y"
        },
        {
         "hovertemplate": "mentionedEntity1=18349<br>dateTime=%{x}<br>ct=%{y}<extra></extra>",
         "legendgroup": "18349",
         "line": {
          "color": "#00cc96",
          "dash": "solid"
         },
         "mode": "lines",
         "name": "18349",
         "orientation": "v",
         "showlegend": true,
         "type": "scatter",
         "x": [
          "2014-05-31"
         ],
         "xaxis": "x",
         "y": [
          3
         ],
         "yaxis": "y"
        },
        {
         "hovertemplate": "mentionedEntity1=20452<br>dateTime=%{x}<br>ct=%{y}<extra></extra>",
         "legendgroup": "20452",
         "line": {
          "color": "#ab63fa",
          "dash": "solid"
         },
         "mode": "lines",
         "name": "20452",
         "orientation": "v",
         "showlegend": true,
         "type": "scatter",
         "x": [
          "2014-05-31"
         ],
         "xaxis": "x",
         "y": [
          2
         ],
         "yaxis": "y"
        },
        {
         "hovertemplate": "mentionedEntity1=23941<br>dateTime=%{x}<br>ct=%{y}<extra></extra>",
         "legendgroup": "23941",
         "line": {
          "color": "#FFA15A",
          "dash": "solid"
         },
         "mode": "lines",
         "name": "23941",
         "orientation": "v",
         "showlegend": true,
         "type": "scatter",
         "x": [
          "2014-05-31"
         ],
         "xaxis": "x",
         "y": [
          2
         ],
         "yaxis": "y"
        },
        {
         "hovertemplate": "mentionedEntity1=25613<br>dateTime=%{x}<br>ct=%{y}<extra></extra>",
         "legendgroup": "25613",
         "line": {
          "color": "#19d3f3",
          "dash": "solid"
         },
         "mode": "lines",
         "name": "25613",
         "orientation": "v",
         "showlegend": true,
         "type": "scatter",
         "x": [
          "2014-05-31"
         ],
         "xaxis": "x",
         "y": [
          5
         ],
         "yaxis": "y"
        },
        {
         "hovertemplate": "mentionedEntity1=26151<br>dateTime=%{x}<br>ct=%{y}<extra></extra>",
         "legendgroup": "26151",
         "line": {
          "color": "#FF6692",
          "dash": "solid"
         },
         "mode": "lines",
         "name": "26151",
         "orientation": "v",
         "showlegend": true,
         "type": "scatter",
         "x": [
          "2014-05-31"
         ],
         "xaxis": "x",
         "y": [
          2
         ],
         "yaxis": "y"
        },
        {
         "hovertemplate": "mentionedEntity1=26317<br>dateTime=%{x}<br>ct=%{y}<extra></extra>",
         "legendgroup": "26317",
         "line": {
          "color": "#B6E880",
          "dash": "solid"
         },
         "mode": "lines",
         "name": "26317",
         "orientation": "v",
         "showlegend": true,
         "type": "scatter",
         "x": [
          "2014-05-31"
         ],
         "xaxis": "x",
         "y": [
          4
         ],
         "yaxis": "y"
        },
        {
         "hovertemplate": "mentionedEntity1=31931<br>dateTime=%{x}<br>ct=%{y}<extra></extra>",
         "legendgroup": "31931",
         "line": {
          "color": "#FF97FF",
          "dash": "solid"
         },
         "mode": "lines",
         "name": "31931",
         "orientation": "v",
         "showlegend": true,
         "type": "scatter",
         "x": [
          "2014-05-31"
         ],
         "xaxis": "x",
         "y": [
          2
         ],
         "yaxis": "y"
        },
        {
         "hovertemplate": "mentionedEntity1=34600<br>dateTime=%{x}<br>ct=%{y}<extra></extra>",
         "legendgroup": "34600",
         "line": {
          "color": "#FECB52",
          "dash": "solid"
         },
         "mode": "lines",
         "name": "34600",
         "orientation": "v",
         "showlegend": true,
         "type": "scatter",
         "x": [
          "2014-05-31"
         ],
         "xaxis": "x",
         "y": [
          2
         ],
         "yaxis": "y"
        },
        {
         "hovertemplate": "mentionedEntity1=36540<br>dateTime=%{x}<br>ct=%{y}<extra></extra>",
         "legendgroup": "36540",
         "line": {
          "color": "#636efa",
          "dash": "solid"
         },
         "mode": "lines",
         "name": "36540",
         "orientation": "v",
         "showlegend": true,
         "type": "scatter",
         "x": [
          "2014-05-31"
         ],
         "xaxis": "x",
         "y": [
          9
         ],
         "yaxis": "y"
        },
        {
         "hovertemplate": "mentionedEntity1=37863<br>dateTime=%{x}<br>ct=%{y}<extra></extra>",
         "legendgroup": "37863",
         "line": {
          "color": "#EF553B",
          "dash": "solid"
         },
         "mode": "lines",
         "name": "37863",
         "orientation": "v",
         "showlegend": true,
         "type": "scatter",
         "x": [
          "2014-05-31"
         ],
         "xaxis": "x",
         "y": [
          1
         ],
         "yaxis": "y"
        },
        {
         "hovertemplate": "mentionedEntity1=38962<br>dateTime=%{x}<br>ct=%{y}<extra></extra>",
         "legendgroup": "38962",
         "line": {
          "color": "#00cc96",
          "dash": "solid"
         },
         "mode": "lines",
         "name": "38962",
         "orientation": "v",
         "showlegend": true,
         "type": "scatter",
         "x": [
          "2014-05-31"
         ],
         "xaxis": "x",
         "y": [
          3
         ],
         "yaxis": "y"
        },
        {
         "hovertemplate": "mentionedEntity1=40765<br>dateTime=%{x}<br>ct=%{y}<extra></extra>",
         "legendgroup": "40765",
         "line": {
          "color": "#ab63fa",
          "dash": "solid"
         },
         "mode": "lines",
         "name": "40765",
         "orientation": "v",
         "showlegend": true,
         "type": "scatter",
         "x": [
          "2014-05-31"
         ],
         "xaxis": "x",
         "y": [
          10
         ],
         "yaxis": "y"
        },
        {
         "hovertemplate": "mentionedEntity1=42442<br>dateTime=%{x}<br>ct=%{y}<extra></extra>",
         "legendgroup": "42442",
         "line": {
          "color": "#FFA15A",
          "dash": "solid"
         },
         "mode": "lines",
         "name": "42442",
         "orientation": "v",
         "showlegend": true,
         "type": "scatter",
         "x": [
          "2014-05-31"
         ],
         "xaxis": "x",
         "y": [
          14
         ],
         "yaxis": "y"
        },
        {
         "hovertemplate": "mentionedEntity1=43451<br>dateTime=%{x}<br>ct=%{y}<extra></extra>",
         "legendgroup": "43451",
         "line": {
          "color": "#19d3f3",
          "dash": "solid"
         },
         "mode": "lines",
         "name": "43451",
         "orientation": "v",
         "showlegend": true,
         "type": "scatter",
         "x": [
          "2014-05-31"
         ],
         "xaxis": "x",
         "y": [
          3
         ],
         "yaxis": "y"
        },
        {
         "hovertemplate": "mentionedEntity1=45034<br>dateTime=%{x}<br>ct=%{y}<extra></extra>",
         "legendgroup": "45034",
         "line": {
          "color": "#FF6692",
          "dash": "solid"
         },
         "mode": "lines",
         "name": "45034",
         "orientation": "v",
         "showlegend": true,
         "type": "scatter",
         "x": [
          "2014-05-31"
         ],
         "xaxis": "x",
         "y": [
          4
         ],
         "yaxis": "y"
        },
        {
         "hovertemplate": "mentionedEntity1=51430<br>dateTime=%{x}<br>ct=%{y}<extra></extra>",
         "legendgroup": "51430",
         "line": {
          "color": "#B6E880",
          "dash": "solid"
         },
         "mode": "lines",
         "name": "51430",
         "orientation": "v",
         "showlegend": true,
         "type": "scatter",
         "x": [
          "2014-05-31"
         ],
         "xaxis": "x",
         "y": [
          3
         ],
         "yaxis": "y"
        },
        {
         "hovertemplate": "mentionedEntity1=51655<br>dateTime=%{x}<br>ct=%{y}<extra></extra>",
         "legendgroup": "51655",
         "line": {
          "color": "#FF97FF",
          "dash": "solid"
         },
         "mode": "lines",
         "name": "51655",
         "orientation": "v",
         "showlegend": true,
         "type": "scatter",
         "x": [
          "2014-05-31"
         ],
         "xaxis": "x",
         "y": [
          12
         ],
         "yaxis": "y"
        }
       ],
       "layout": {
        "legend": {
         "title": {
          "text": "mentionedEntity1"
         },
         "tracegroupgap": 0
        },
        "margin": {
         "t": 60
        },
        "template": {
         "data": {
          "bar": [
           {
            "error_x": {
             "color": "#2a3f5f"
            },
            "error_y": {
             "color": "#2a3f5f"
            },
            "marker": {
             "line": {
              "color": "#E5ECF6",
              "width": 0.5
             }
            },
            "type": "bar"
           }
          ],
          "barpolar": [
           {
            "marker": {
             "line": {
              "color": "#E5ECF6",
              "width": 0.5
             }
            },
            "type": "barpolar"
           }
          ],
          "carpet": [
           {
            "aaxis": {
             "endlinecolor": "#2a3f5f",
             "gridcolor": "white",
             "linecolor": "white",
             "minorgridcolor": "white",
             "startlinecolor": "#2a3f5f"
            },
            "baxis": {
             "endlinecolor": "#2a3f5f",
             "gridcolor": "white",
             "linecolor": "white",
             "minorgridcolor": "white",
             "startlinecolor": "#2a3f5f"
            },
            "type": "carpet"
           }
          ],
          "choropleth": [
           {
            "colorbar": {
             "outlinewidth": 0,
             "ticks": ""
            },
            "type": "choropleth"
           }
          ],
          "contour": [
           {
            "colorbar": {
             "outlinewidth": 0,
             "ticks": ""
            },
            "colorscale": [
             [
              0,
              "#0d0887"
             ],
             [
              0.1111111111111111,
              "#46039f"
             ],
             [
              0.2222222222222222,
              "#7201a8"
             ],
             [
              0.3333333333333333,
              "#9c179e"
             ],
             [
              0.4444444444444444,
              "#bd3786"
             ],
             [
              0.5555555555555556,
              "#d8576b"
             ],
             [
              0.6666666666666666,
              "#ed7953"
             ],
             [
              0.7777777777777778,
              "#fb9f3a"
             ],
             [
              0.8888888888888888,
              "#fdca26"
             ],
             [
              1,
              "#f0f921"
             ]
            ],
            "type": "contour"
           }
          ],
          "contourcarpet": [
           {
            "colorbar": {
             "outlinewidth": 0,
             "ticks": ""
            },
            "type": "contourcarpet"
           }
          ],
          "heatmap": [
           {
            "colorbar": {
             "outlinewidth": 0,
             "ticks": ""
            },
            "colorscale": [
             [
              0,
              "#0d0887"
             ],
             [
              0.1111111111111111,
              "#46039f"
             ],
             [
              0.2222222222222222,
              "#7201a8"
             ],
             [
              0.3333333333333333,
              "#9c179e"
             ],
             [
              0.4444444444444444,
              "#bd3786"
             ],
             [
              0.5555555555555556,
              "#d8576b"
             ],
             [
              0.6666666666666666,
              "#ed7953"
             ],
             [
              0.7777777777777778,
              "#fb9f3a"
             ],
             [
              0.8888888888888888,
              "#fdca26"
             ],
             [
              1,
              "#f0f921"
             ]
            ],
            "type": "heatmap"
           }
          ],
          "heatmapgl": [
           {
            "colorbar": {
             "outlinewidth": 0,
             "ticks": ""
            },
            "colorscale": [
             [
              0,
              "#0d0887"
             ],
             [
              0.1111111111111111,
              "#46039f"
             ],
             [
              0.2222222222222222,
              "#7201a8"
             ],
             [
              0.3333333333333333,
              "#9c179e"
             ],
             [
              0.4444444444444444,
              "#bd3786"
             ],
             [
              0.5555555555555556,
              "#d8576b"
             ],
             [
              0.6666666666666666,
              "#ed7953"
             ],
             [
              0.7777777777777778,
              "#fb9f3a"
             ],
             [
              0.8888888888888888,
              "#fdca26"
             ],
             [
              1,
              "#f0f921"
             ]
            ],
            "type": "heatmapgl"
           }
          ],
          "histogram": [
           {
            "marker": {
             "colorbar": {
              "outlinewidth": 0,
              "ticks": ""
             }
            },
            "type": "histogram"
           }
          ],
          "histogram2d": [
           {
            "colorbar": {
             "outlinewidth": 0,
             "ticks": ""
            },
            "colorscale": [
             [
              0,
              "#0d0887"
             ],
             [
              0.1111111111111111,
              "#46039f"
             ],
             [
              0.2222222222222222,
              "#7201a8"
             ],
             [
              0.3333333333333333,
              "#9c179e"
             ],
             [
              0.4444444444444444,
              "#bd3786"
             ],
             [
              0.5555555555555556,
              "#d8576b"
             ],
             [
              0.6666666666666666,
              "#ed7953"
             ],
             [
              0.7777777777777778,
              "#fb9f3a"
             ],
             [
              0.8888888888888888,
              "#fdca26"
             ],
             [
              1,
              "#f0f921"
             ]
            ],
            "type": "histogram2d"
           }
          ],
          "histogram2dcontour": [
           {
            "colorbar": {
             "outlinewidth": 0,
             "ticks": ""
            },
            "colorscale": [
             [
              0,
              "#0d0887"
             ],
             [
              0.1111111111111111,
              "#46039f"
             ],
             [
              0.2222222222222222,
              "#7201a8"
             ],
             [
              0.3333333333333333,
              "#9c179e"
             ],
             [
              0.4444444444444444,
              "#bd3786"
             ],
             [
              0.5555555555555556,
              "#d8576b"
             ],
             [
              0.6666666666666666,
              "#ed7953"
             ],
             [
              0.7777777777777778,
              "#fb9f3a"
             ],
             [
              0.8888888888888888,
              "#fdca26"
             ],
             [
              1,
              "#f0f921"
             ]
            ],
            "type": "histogram2dcontour"
           }
          ],
          "mesh3d": [
           {
            "colorbar": {
             "outlinewidth": 0,
             "ticks": ""
            },
            "type": "mesh3d"
           }
          ],
          "parcoords": [
           {
            "line": {
             "colorbar": {
              "outlinewidth": 0,
              "ticks": ""
             }
            },
            "type": "parcoords"
           }
          ],
          "pie": [
           {
            "automargin": true,
            "type": "pie"
           }
          ],
          "scatter": [
           {
            "marker": {
             "colorbar": {
              "outlinewidth": 0,
              "ticks": ""
             }
            },
            "type": "scatter"
           }
          ],
          "scatter3d": [
           {
            "line": {
             "colorbar": {
              "outlinewidth": 0,
              "ticks": ""
             }
            },
            "marker": {
             "colorbar": {
              "outlinewidth": 0,
              "ticks": ""
             }
            },
            "type": "scatter3d"
           }
          ],
          "scattercarpet": [
           {
            "marker": {
             "colorbar": {
              "outlinewidth": 0,
              "ticks": ""
             }
            },
            "type": "scattercarpet"
           }
          ],
          "scattergeo": [
           {
            "marker": {
             "colorbar": {
              "outlinewidth": 0,
              "ticks": ""
             }
            },
            "type": "scattergeo"
           }
          ],
          "scattergl": [
           {
            "marker": {
             "colorbar": {
              "outlinewidth": 0,
              "ticks": ""
             }
            },
            "type": "scattergl"
           }
          ],
          "scattermapbox": [
           {
            "marker": {
             "colorbar": {
              "outlinewidth": 0,
              "ticks": ""
             }
            },
            "type": "scattermapbox"
           }
          ],
          "scatterpolar": [
           {
            "marker": {
             "colorbar": {
              "outlinewidth": 0,
              "ticks": ""
             }
            },
            "type": "scatterpolar"
           }
          ],
          "scatterpolargl": [
           {
            "marker": {
             "colorbar": {
              "outlinewidth": 0,
              "ticks": ""
             }
            },
            "type": "scatterpolargl"
           }
          ],
          "scatterternary": [
           {
            "marker": {
             "colorbar": {
              "outlinewidth": 0,
              "ticks": ""
             }
            },
            "type": "scatterternary"
           }
          ],
          "surface": [
           {
            "colorbar": {
             "outlinewidth": 0,
             "ticks": ""
            },
            "colorscale": [
             [
              0,
              "#0d0887"
             ],
             [
              0.1111111111111111,
              "#46039f"
             ],
             [
              0.2222222222222222,
              "#7201a8"
             ],
             [
              0.3333333333333333,
              "#9c179e"
             ],
             [
              0.4444444444444444,
              "#bd3786"
             ],
             [
              0.5555555555555556,
              "#d8576b"
             ],
             [
              0.6666666666666666,
              "#ed7953"
             ],
             [
              0.7777777777777778,
              "#fb9f3a"
             ],
             [
              0.8888888888888888,
              "#fdca26"
             ],
             [
              1,
              "#f0f921"
             ]
            ],
            "type": "surface"
           }
          ],
          "table": [
           {
            "cells": {
             "fill": {
              "color": "#EBF0F8"
             },
             "line": {
              "color": "white"
             }
            },
            "header": {
             "fill": {
              "color": "#C8D4E3"
             },
             "line": {
              "color": "white"
             }
            },
            "type": "table"
           }
          ]
         },
         "layout": {
          "annotationdefaults": {
           "arrowcolor": "#2a3f5f",
           "arrowhead": 0,
           "arrowwidth": 1
          },
          "autotypenumbers": "strict",
          "coloraxis": {
           "colorbar": {
            "outlinewidth": 0,
            "ticks": ""
           }
          },
          "colorscale": {
           "diverging": [
            [
             0,
             "#8e0152"
            ],
            [
             0.1,
             "#c51b7d"
            ],
            [
             0.2,
             "#de77ae"
            ],
            [
             0.3,
             "#f1b6da"
            ],
            [
             0.4,
             "#fde0ef"
            ],
            [
             0.5,
             "#f7f7f7"
            ],
            [
             0.6,
             "#e6f5d0"
            ],
            [
             0.7,
             "#b8e186"
            ],
            [
             0.8,
             "#7fbc41"
            ],
            [
             0.9,
             "#4d9221"
            ],
            [
             1,
             "#276419"
            ]
           ],
           "sequential": [
            [
             0,
             "#0d0887"
            ],
            [
             0.1111111111111111,
             "#46039f"
            ],
            [
             0.2222222222222222,
             "#7201a8"
            ],
            [
             0.3333333333333333,
             "#9c179e"
            ],
            [
             0.4444444444444444,
             "#bd3786"
            ],
            [
             0.5555555555555556,
             "#d8576b"
            ],
            [
             0.6666666666666666,
             "#ed7953"
            ],
            [
             0.7777777777777778,
             "#fb9f3a"
            ],
            [
             0.8888888888888888,
             "#fdca26"
            ],
            [
             1,
             "#f0f921"
            ]
           ],
           "sequentialminus": [
            [
             0,
             "#0d0887"
            ],
            [
             0.1111111111111111,
             "#46039f"
            ],
            [
             0.2222222222222222,
             "#7201a8"
            ],
            [
             0.3333333333333333,
             "#9c179e"
            ],
            [
             0.4444444444444444,
             "#bd3786"
            ],
            [
             0.5555555555555556,
             "#d8576b"
            ],
            [
             0.6666666666666666,
             "#ed7953"
            ],
            [
             0.7777777777777778,
             "#fb9f3a"
            ],
            [
             0.8888888888888888,
             "#fdca26"
            ],
            [
             1,
             "#f0f921"
            ]
           ]
          },
          "colorway": [
           "#636efa",
           "#EF553B",
           "#00cc96",
           "#ab63fa",
           "#FFA15A",
           "#19d3f3",
           "#FF6692",
           "#B6E880",
           "#FF97FF",
           "#FECB52"
          ],
          "font": {
           "color": "#2a3f5f"
          },
          "geo": {
           "bgcolor": "white",
           "lakecolor": "white",
           "landcolor": "#E5ECF6",
           "showlakes": true,
           "showland": true,
           "subunitcolor": "white"
          },
          "hoverlabel": {
           "align": "left"
          },
          "hovermode": "closest",
          "mapbox": {
           "style": "light"
          },
          "paper_bgcolor": "white",
          "plot_bgcolor": "#E5ECF6",
          "polar": {
           "angularaxis": {
            "gridcolor": "white",
            "linecolor": "white",
            "ticks": ""
           },
           "bgcolor": "#E5ECF6",
           "radialaxis": {
            "gridcolor": "white",
            "linecolor": "white",
            "ticks": ""
           }
          },
          "scene": {
           "xaxis": {
            "backgroundcolor": "#E5ECF6",
            "gridcolor": "white",
            "gridwidth": 2,
            "linecolor": "white",
            "showbackground": true,
            "ticks": "",
            "zerolinecolor": "white"
           },
           "yaxis": {
            "backgroundcolor": "#E5ECF6",
            "gridcolor": "white",
            "gridwidth": 2,
            "linecolor": "white",
            "showbackground": true,
            "ticks": "",
            "zerolinecolor": "white"
           },
           "zaxis": {
            "backgroundcolor": "#E5ECF6",
            "gridcolor": "white",
            "gridwidth": 2,
            "linecolor": "white",
            "showbackground": true,
            "ticks": "",
            "zerolinecolor": "white"
           }
          },
          "shapedefaults": {
           "line": {
            "color": "#2a3f5f"
           }
          },
          "ternary": {
           "aaxis": {
            "gridcolor": "white",
            "linecolor": "white",
            "ticks": ""
           },
           "baxis": {
            "gridcolor": "white",
            "linecolor": "white",
            "ticks": ""
           },
           "bgcolor": "#E5ECF6",
           "caxis": {
            "gridcolor": "white",
            "linecolor": "white",
            "ticks": ""
           }
          },
          "title": {
           "x": 0.05
          },
          "xaxis": {
           "automargin": true,
           "gridcolor": "white",
           "linecolor": "white",
           "ticks": "",
           "title": {
            "standoff": 15
           },
           "zerolinecolor": "white",
           "zerolinewidth": 2
          },
          "yaxis": {
           "automargin": true,
           "gridcolor": "white",
           "linecolor": "white",
           "ticks": "",
           "title": {
            "standoff": 15
           },
           "zerolinecolor": "white",
           "zerolinewidth": 2
          }
         }
        },
        "xaxis": {
         "anchor": "y",
         "domain": [
          0,
          1
         ],
         "title": {
          "text": "dateTime"
         }
        },
        "yaxis": {
         "anchor": "x",
         "domain": [
          0,
          1
         ],
         "title": {
          "text": "ct"
         }
        }
       }
      },
      "text/html": [
       "<div>                            <div id=\"bd1c8d0f-bbdd-4332-be66-1ddcf0115ea7\" class=\"plotly-graph-div\" style=\"height:525px; width:100%;\"></div>            <script type=\"text/javascript\">                require([\"plotly\"], function(Plotly) {                    window.PLOTLYENV=window.PLOTLYENV || {};                                    if (document.getElementById(\"bd1c8d0f-bbdd-4332-be66-1ddcf0115ea7\")) {                    Plotly.newPlot(                        \"bd1c8d0f-bbdd-4332-be66-1ddcf0115ea7\",                        [{\"hovertemplate\": \"mentionedEntity1=383<br>dateTime=%{x}<br>ct=%{y}<extra></extra>\", \"legendgroup\": \"383\", \"line\": {\"color\": \"#636efa\", \"dash\": \"solid\"}, \"mode\": \"lines\", \"name\": \"383\", \"orientation\": \"v\", \"showlegend\": true, \"type\": \"scatter\", \"x\": [\"2014-05-12\", \"2014-05-13\", \"2014-05-14\"], \"xaxis\": \"x\", \"y\": [105, 123, 3], \"yaxis\": \"y\"}, {\"hovertemplate\": \"mentionedEntity1=1345<br>dateTime=%{x}<br>ct=%{y}<extra></extra>\", \"legendgroup\": \"1345\", \"line\": {\"color\": \"#EF553B\", \"dash\": \"solid\"}, \"mode\": \"lines\", \"name\": \"1345\", \"orientation\": \"v\", \"showlegend\": true, \"type\": \"scatter\", \"x\": [\"2014-05-12\"], \"xaxis\": \"x\", \"y\": [64], \"yaxis\": \"y\"}, {\"hovertemplate\": \"mentionedEntity1=3608<br>dateTime=%{x}<br>ct=%{y}<extra></extra>\", \"legendgroup\": \"3608\", \"line\": {\"color\": \"#00cc96\", \"dash\": \"solid\"}, \"mode\": \"lines\", \"name\": \"3608\", \"orientation\": \"v\", \"showlegend\": true, \"type\": \"scatter\", \"x\": [\"2014-05-12\", \"2014-05-13\", \"2014-05-29\"], \"xaxis\": \"x\", \"y\": [13, 14, 4], \"yaxis\": \"y\"}, {\"hovertemplate\": \"mentionedEntity1=5182<br>dateTime=%{x}<br>ct=%{y}<extra></extra>\", \"legendgroup\": \"5182\", \"line\": {\"color\": \"#ab63fa\", \"dash\": \"solid\"}, \"mode\": \"lines\", \"name\": \"5182\", \"orientation\": \"v\", \"showlegend\": true, \"type\": \"scatter\", \"x\": [\"2014-05-12\", \"2014-05-21\", \"2014-05-23\", \"2014-05-27\", \"2014-05-29\", \"2014-05-31\"], \"xaxis\": \"x\", \"y\": [2, 2, 4, 17, 4, 4], \"yaxis\": \"y\"}, {\"hovertemplate\": \"mentionedEntity1=17917<br>dateTime=%{x}<br>ct=%{y}<extra></extra>\", \"legendgroup\": \"17917\", \"line\": {\"color\": \"#FFA15A\", \"dash\": \"solid\"}, \"mode\": \"lines\", \"name\": \"17917\", \"orientation\": \"v\", \"showlegend\": true, \"type\": \"scatter\", \"x\": [\"2014-05-12\"], \"xaxis\": \"x\", \"y\": [1], \"yaxis\": \"y\"}, {\"hovertemplate\": \"mentionedEntity1=24210<br>dateTime=%{x}<br>ct=%{y}<extra></extra>\", \"legendgroup\": \"24210\", \"line\": {\"color\": \"#19d3f3\", \"dash\": \"solid\"}, \"mode\": \"lines\", \"name\": \"24210\", \"orientation\": \"v\", \"showlegend\": true, \"type\": \"scatter\", \"x\": [\"2014-05-12\"], \"xaxis\": \"x\", \"y\": [1], \"yaxis\": \"y\"}, {\"hovertemplate\": \"mentionedEntity1=25681<br>dateTime=%{x}<br>ct=%{y}<extra></extra>\", \"legendgroup\": \"25681\", \"line\": {\"color\": \"#FF6692\", \"dash\": \"solid\"}, \"mode\": \"lines\", \"name\": \"25681\", \"orientation\": \"v\", \"showlegend\": true, \"type\": \"scatter\", \"x\": [\"2014-05-12\", \"2014-05-27\", \"2014-05-31\"], \"xaxis\": \"x\", \"y\": [8, 7, 4], \"yaxis\": \"y\"}, {\"hovertemplate\": \"mentionedEntity1=32844<br>dateTime=%{x}<br>ct=%{y}<extra></extra>\", \"legendgroup\": \"32844\", \"line\": {\"color\": \"#B6E880\", \"dash\": \"solid\"}, \"mode\": \"lines\", \"name\": \"32844\", \"orientation\": \"v\", \"showlegend\": true, \"type\": \"scatter\", \"x\": [\"2014-05-12\", \"2014-05-13\", \"2014-05-14\", \"2014-05-15\", \"2014-05-16\", \"2014-05-22\", \"2014-05-24\", \"2014-05-26\", \"2014-05-27\", \"2014-05-28\", \"2014-05-29\", \"2014-05-30\", \"2014-05-31\"], \"xaxis\": \"x\", \"y\": [3, 10, 2, 18, 5, 1, 12, 8, 6, 12, 6, 16, 15], \"yaxis\": \"y\"}, {\"hovertemplate\": \"mentionedEntity1=40015<br>dateTime=%{x}<br>ct=%{y}<extra></extra>\", \"legendgroup\": \"40015\", \"line\": {\"color\": \"#FF97FF\", \"dash\": \"solid\"}, \"mode\": \"lines\", \"name\": \"40015\", \"orientation\": \"v\", \"showlegend\": true, \"type\": \"scatter\", \"x\": [\"2014-05-12\"], \"xaxis\": \"x\", \"y\": [2], \"yaxis\": \"y\"}, {\"hovertemplate\": \"mentionedEntity1=40863<br>dateTime=%{x}<br>ct=%{y}<extra></extra>\", \"legendgroup\": \"40863\", \"line\": {\"color\": \"#FECB52\", \"dash\": \"solid\"}, \"mode\": \"lines\", \"name\": \"40863\", \"orientation\": \"v\", \"showlegend\": true, \"type\": \"scatter\", \"x\": [\"2014-05-12\"], \"xaxis\": \"x\", \"y\": [6], \"yaxis\": \"y\"}, {\"hovertemplate\": \"mentionedEntity1=42629<br>dateTime=%{x}<br>ct=%{y}<extra></extra>\", \"legendgroup\": \"42629\", \"line\": {\"color\": \"#636efa\", \"dash\": \"solid\"}, \"mode\": \"lines\", \"name\": \"42629\", \"orientation\": \"v\", \"showlegend\": true, \"type\": \"scatter\", \"x\": [\"2014-05-12\"], \"xaxis\": \"x\", \"y\": [1], \"yaxis\": \"y\"}, {\"hovertemplate\": \"mentionedEntity1=48634<br>dateTime=%{x}<br>ct=%{y}<extra></extra>\", \"legendgroup\": \"48634\", \"line\": {\"color\": \"#EF553B\", \"dash\": \"solid\"}, \"mode\": \"lines\", \"name\": \"48634\", \"orientation\": \"v\", \"showlegend\": true, \"type\": \"scatter\", \"x\": [\"2014-05-12\"], \"xaxis\": \"x\", \"y\": [3], \"yaxis\": \"y\"}, {\"hovertemplate\": \"mentionedEntity1=51974<br>dateTime=%{x}<br>ct=%{y}<extra></extra>\", \"legendgroup\": \"51974\", \"line\": {\"color\": \"#00cc96\", \"dash\": \"solid\"}, \"mode\": \"lines\", \"name\": \"51974\", \"orientation\": \"v\", \"showlegend\": true, \"type\": \"scatter\", \"x\": [\"2014-05-12\", \"2014-05-22\"], \"xaxis\": \"x\", \"y\": [3, 3], \"yaxis\": \"y\"}, {\"hovertemplate\": \"mentionedEntity1=484<br>dateTime=%{x}<br>ct=%{y}<extra></extra>\", \"legendgroup\": \"484\", \"line\": {\"color\": \"#ab63fa\", \"dash\": \"solid\"}, \"mode\": \"lines\", \"name\": \"484\", \"orientation\": \"v\", \"showlegend\": true, \"type\": \"scatter\", \"x\": [\"2014-05-13\", \"2014-05-27\", \"2014-05-28\", \"2014-05-30\"], \"xaxis\": \"x\", \"y\": [7, 18, 3, 4], \"yaxis\": \"y\"}, {\"hovertemplate\": \"mentionedEntity1=677<br>dateTime=%{x}<br>ct=%{y}<extra></extra>\", \"legendgroup\": \"677\", \"line\": {\"color\": \"#FFA15A\", \"dash\": \"solid\"}, \"mode\": \"lines\", \"name\": \"677\", \"orientation\": \"v\", \"showlegend\": true, \"type\": \"scatter\", \"x\": [\"2014-05-13\", \"2014-05-14\", \"2014-05-23\", \"2014-05-25\", \"2014-05-26\", \"2014-05-27\", \"2014-05-28\"], \"xaxis\": \"x\", \"y\": [8, 5, 4, 21, 8, 5, 3], \"yaxis\": \"y\"}, {\"hovertemplate\": \"mentionedEntity1=689<br>dateTime=%{x}<br>ct=%{y}<extra></extra>\", \"legendgroup\": \"689\", \"line\": {\"color\": \"#19d3f3\", \"dash\": \"solid\"}, \"mode\": \"lines\", \"name\": \"689\", \"orientation\": \"v\", \"showlegend\": true, \"type\": \"scatter\", \"x\": [\"2014-05-13\", \"2014-05-14\", \"2014-05-25\", \"2014-05-26\"], \"xaxis\": \"x\", \"y\": [45, 5, 6, 40], \"yaxis\": \"y\"}, {\"hovertemplate\": \"mentionedEntity1=2104<br>dateTime=%{x}<br>ct=%{y}<extra></extra>\", \"legendgroup\": \"2104\", \"line\": {\"color\": \"#FF6692\", \"dash\": \"solid\"}, \"mode\": \"lines\", \"name\": \"2104\", \"orientation\": \"v\", \"showlegend\": true, \"type\": \"scatter\", \"x\": [\"2014-05-13\"], \"xaxis\": \"x\", \"y\": [3], \"yaxis\": \"y\"}, {\"hovertemplate\": \"mentionedEntity1=2229<br>dateTime=%{x}<br>ct=%{y}<extra></extra>\", \"legendgroup\": \"2229\", \"line\": {\"color\": \"#B6E880\", \"dash\": \"solid\"}, \"mode\": \"lines\", \"name\": \"2229\", \"orientation\": \"v\", \"showlegend\": true, \"type\": \"scatter\", \"x\": [\"2014-05-13\"], \"xaxis\": \"x\", \"y\": [8], \"yaxis\": \"y\"}, {\"hovertemplate\": \"mentionedEntity1=3659<br>dateTime=%{x}<br>ct=%{y}<extra></extra>\", \"legendgroup\": \"3659\", \"line\": {\"color\": \"#FF97FF\", \"dash\": \"solid\"}, \"mode\": \"lines\", \"name\": \"3659\", \"orientation\": \"v\", \"showlegend\": true, \"type\": \"scatter\", \"x\": [\"2014-05-13\", \"2014-05-15\"], \"xaxis\": \"x\", \"y\": [9, 9], \"yaxis\": \"y\"}, {\"hovertemplate\": \"mentionedEntity1=4890<br>dateTime=%{x}<br>ct=%{y}<extra></extra>\", \"legendgroup\": \"4890\", \"line\": {\"color\": \"#FECB52\", \"dash\": \"solid\"}, \"mode\": \"lines\", \"name\": \"4890\", \"orientation\": \"v\", \"showlegend\": true, \"type\": \"scatter\", \"x\": [\"2014-05-13\"], \"xaxis\": \"x\", \"y\": [3], \"yaxis\": \"y\"}, {\"hovertemplate\": \"mentionedEntity1=4942<br>dateTime=%{x}<br>ct=%{y}<extra></extra>\", \"legendgroup\": \"4942\", \"line\": {\"color\": \"#636efa\", \"dash\": \"solid\"}, \"mode\": \"lines\", \"name\": \"4942\", \"orientation\": \"v\", \"showlegend\": true, \"type\": \"scatter\", \"x\": [\"2014-05-13\"], \"xaxis\": \"x\", \"y\": [5], \"yaxis\": \"y\"}, {\"hovertemplate\": \"mentionedEntity1=7323<br>dateTime=%{x}<br>ct=%{y}<extra></extra>\", \"legendgroup\": \"7323\", \"line\": {\"color\": \"#EF553B\", \"dash\": \"solid\"}, \"mode\": \"lines\", \"name\": \"7323\", \"orientation\": \"v\", \"showlegend\": true, \"type\": \"scatter\", \"x\": [\"2014-05-13\"], \"xaxis\": \"x\", \"y\": [1], \"yaxis\": \"y\"}, {\"hovertemplate\": \"mentionedEntity1=8101<br>dateTime=%{x}<br>ct=%{y}<extra></extra>\", \"legendgroup\": \"8101\", \"line\": {\"color\": \"#00cc96\", \"dash\": \"solid\"}, \"mode\": \"lines\", \"name\": \"8101\", \"orientation\": \"v\", \"showlegend\": true, \"type\": \"scatter\", \"x\": [\"2014-05-13\", \"2014-05-14\", \"2014-05-15\", \"2014-05-23\", \"2014-05-24\", \"2014-05-25\", \"2014-05-26\", \"2014-05-27\", \"2014-05-28\", \"2014-05-29\", \"2014-05-30\", \"2014-05-31\"], \"xaxis\": \"x\", \"y\": [8, 14, 9, 4, 26, 4, 10, 16, 24, 23, 21, 26], \"yaxis\": \"y\"}, {\"hovertemplate\": \"mentionedEntity1=8496<br>dateTime=%{x}<br>ct=%{y}<extra></extra>\", \"legendgroup\": \"8496\", \"line\": {\"color\": \"#ab63fa\", \"dash\": \"solid\"}, \"mode\": \"lines\", \"name\": \"8496\", \"orientation\": \"v\", \"showlegend\": true, \"type\": \"scatter\", \"x\": [\"2014-05-13\"], \"xaxis\": \"x\", \"y\": [2], \"yaxis\": \"y\"}, {\"hovertemplate\": \"mentionedEntity1=9951<br>dateTime=%{x}<br>ct=%{y}<extra></extra>\", \"legendgroup\": \"9951\", \"line\": {\"color\": \"#FFA15A\", \"dash\": \"solid\"}, \"mode\": \"lines\", \"name\": \"9951\", \"orientation\": \"v\", \"showlegend\": true, \"type\": \"scatter\", \"x\": [\"2014-05-13\", \"2014-05-14\"], \"xaxis\": \"x\", \"y\": [2, 6], \"yaxis\": \"y\"}, {\"hovertemplate\": \"mentionedEntity1=10204<br>dateTime=%{x}<br>ct=%{y}<extra></extra>\", \"legendgroup\": \"10204\", \"line\": {\"color\": \"#19d3f3\", \"dash\": \"solid\"}, \"mode\": \"lines\", \"name\": \"10204\", \"orientation\": \"v\", \"showlegend\": true, \"type\": \"scatter\", \"x\": [\"2014-05-13\"], \"xaxis\": \"x\", \"y\": [1], \"yaxis\": \"y\"}, {\"hovertemplate\": \"mentionedEntity1=10218<br>dateTime=%{x}<br>ct=%{y}<extra></extra>\", \"legendgroup\": \"10218\", \"line\": {\"color\": \"#FF6692\", \"dash\": \"solid\"}, \"mode\": \"lines\", \"name\": \"10218\", \"orientation\": \"v\", \"showlegend\": true, \"type\": \"scatter\", \"x\": [\"2014-05-13\", \"2014-05-31\"], \"xaxis\": \"x\", \"y\": [1, 1], \"yaxis\": \"y\"}, {\"hovertemplate\": \"mentionedEntity1=10288<br>dateTime=%{x}<br>ct=%{y}<extra></extra>\", \"legendgroup\": \"10288\", \"line\": {\"color\": \"#B6E880\", \"dash\": \"solid\"}, \"mode\": \"lines\", \"name\": \"10288\", \"orientation\": \"v\", \"showlegend\": true, \"type\": \"scatter\", \"x\": [\"2014-05-13\"], \"xaxis\": \"x\", \"y\": [1], \"yaxis\": \"y\"}, {\"hovertemplate\": \"mentionedEntity1=11625<br>dateTime=%{x}<br>ct=%{y}<extra></extra>\", \"legendgroup\": \"11625\", \"line\": {\"color\": \"#FF97FF\", \"dash\": \"solid\"}, \"mode\": \"lines\", \"name\": \"11625\", \"orientation\": \"v\", \"showlegend\": true, \"type\": \"scatter\", \"x\": [\"2014-05-13\"], \"xaxis\": \"x\", \"y\": [1], \"yaxis\": \"y\"}, {\"hovertemplate\": \"mentionedEntity1=11974<br>dateTime=%{x}<br>ct=%{y}<extra></extra>\", \"legendgroup\": \"11974\", \"line\": {\"color\": \"#FECB52\", \"dash\": \"solid\"}, \"mode\": \"lines\", \"name\": \"11974\", \"orientation\": \"v\", \"showlegend\": true, \"type\": \"scatter\", \"x\": [\"2014-05-13\"], \"xaxis\": \"x\", \"y\": [2], \"yaxis\": \"y\"}, {\"hovertemplate\": \"mentionedEntity1=12320<br>dateTime=%{x}<br>ct=%{y}<extra></extra>\", \"legendgroup\": \"12320\", \"line\": {\"color\": \"#636efa\", \"dash\": \"solid\"}, \"mode\": \"lines\", \"name\": \"12320\", \"orientation\": \"v\", \"showlegend\": true, \"type\": \"scatter\", \"x\": [\"2014-05-13\"], \"xaxis\": \"x\", \"y\": [3], \"yaxis\": \"y\"}, {\"hovertemplate\": \"mentionedEntity1=12491<br>dateTime=%{x}<br>ct=%{y}<extra></extra>\", \"legendgroup\": \"12491\", \"line\": {\"color\": \"#EF553B\", \"dash\": \"solid\"}, \"mode\": \"lines\", \"name\": \"12491\", \"orientation\": \"v\", \"showlegend\": true, \"type\": \"scatter\", \"x\": [\"2014-05-13\"], \"xaxis\": \"x\", \"y\": [4], \"yaxis\": \"y\"}, {\"hovertemplate\": \"mentionedEntity1=16427<br>dateTime=%{x}<br>ct=%{y}<extra></extra>\", \"legendgroup\": \"16427\", \"line\": {\"color\": \"#00cc96\", \"dash\": \"solid\"}, \"mode\": \"lines\", \"name\": \"16427\", \"orientation\": \"v\", \"showlegend\": true, \"type\": \"scatter\", \"x\": [\"2014-05-13\"], \"xaxis\": \"x\", \"y\": [4], \"yaxis\": \"y\"}, {\"hovertemplate\": \"mentionedEntity1=16965<br>dateTime=%{x}<br>ct=%{y}<extra></extra>\", \"legendgroup\": \"16965\", \"line\": {\"color\": \"#ab63fa\", \"dash\": \"solid\"}, \"mode\": \"lines\", \"name\": \"16965\", \"orientation\": \"v\", \"showlegend\": true, \"type\": \"scatter\", \"x\": [\"2014-05-13\"], \"xaxis\": \"x\", \"y\": [2], \"yaxis\": \"y\"}, {\"hovertemplate\": \"mentionedEntity1=18151<br>dateTime=%{x}<br>ct=%{y}<extra></extra>\", \"legendgroup\": \"18151\", \"line\": {\"color\": \"#FFA15A\", \"dash\": \"solid\"}, \"mode\": \"lines\", \"name\": \"18151\", \"orientation\": \"v\", \"showlegend\": true, \"type\": \"scatter\", \"x\": [\"2014-05-13\"], \"xaxis\": \"x\", \"y\": [4], \"yaxis\": \"y\"}, {\"hovertemplate\": \"mentionedEntity1=18930<br>dateTime=%{x}<br>ct=%{y}<extra></extra>\", \"legendgroup\": \"18930\", \"line\": {\"color\": \"#19d3f3\", \"dash\": \"solid\"}, \"mode\": \"lines\", \"name\": \"18930\", \"orientation\": \"v\", \"showlegend\": true, \"type\": \"scatter\", \"x\": [\"2014-05-13\", \"2014-05-14\", \"2014-05-16\", \"2014-05-21\", \"2014-05-23\", \"2014-05-24\", \"2014-05-26\", \"2014-05-27\", \"2014-05-29\", \"2014-05-31\"], \"xaxis\": \"x\", \"y\": [3, 2, 2, 2, 2, 2, 2, 2, 2, 2], \"yaxis\": \"y\"}, {\"hovertemplate\": \"mentionedEntity1=19494<br>dateTime=%{x}<br>ct=%{y}<extra></extra>\", \"legendgroup\": \"19494\", \"line\": {\"color\": \"#FF6692\", \"dash\": \"solid\"}, \"mode\": \"lines\", \"name\": \"19494\", \"orientation\": \"v\", \"showlegend\": true, \"type\": \"scatter\", \"x\": [\"2014-05-13\"], \"xaxis\": \"x\", \"y\": [3], \"yaxis\": \"y\"}, {\"hovertemplate\": \"mentionedEntity1=19639<br>dateTime=%{x}<br>ct=%{y}<extra></extra>\", \"legendgroup\": \"19639\", \"line\": {\"color\": \"#B6E880\", \"dash\": \"solid\"}, \"mode\": \"lines\", \"name\": \"19639\", \"orientation\": \"v\", \"showlegend\": true, \"type\": \"scatter\", \"x\": [\"2014-05-13\"], \"xaxis\": \"x\", \"y\": [6], \"yaxis\": \"y\"}, {\"hovertemplate\": \"mentionedEntity1=19784<br>dateTime=%{x}<br>ct=%{y}<extra></extra>\", \"legendgroup\": \"19784\", \"line\": {\"color\": \"#FF97FF\", \"dash\": \"solid\"}, \"mode\": \"lines\", \"name\": \"19784\", \"orientation\": \"v\", \"showlegend\": true, \"type\": \"scatter\", \"x\": [\"2014-05-13\", \"2014-05-14\", \"2014-05-26\", \"2014-05-30\", \"2014-05-31\"], \"xaxis\": \"x\", \"y\": [5, 4, 7, 3, 2], \"yaxis\": \"y\"}, {\"hovertemplate\": \"mentionedEntity1=20476<br>dateTime=%{x}<br>ct=%{y}<extra></extra>\", \"legendgroup\": \"20476\", \"line\": {\"color\": \"#FECB52\", \"dash\": \"solid\"}, \"mode\": \"lines\", \"name\": \"20476\", \"orientation\": \"v\", \"showlegend\": true, \"type\": \"scatter\", \"x\": [\"2014-05-13\"], \"xaxis\": \"x\", \"y\": [4], \"yaxis\": \"y\"}, {\"hovertemplate\": \"mentionedEntity1=20653<br>dateTime=%{x}<br>ct=%{y}<extra></extra>\", \"legendgroup\": \"20653\", \"line\": {\"color\": \"#636efa\", \"dash\": \"solid\"}, \"mode\": \"lines\", \"name\": \"20653\", \"orientation\": \"v\", \"showlegend\": true, \"type\": \"scatter\", \"x\": [\"2014-05-13\"], \"xaxis\": \"x\", \"y\": [1], \"yaxis\": \"y\"}, {\"hovertemplate\": \"mentionedEntity1=20997<br>dateTime=%{x}<br>ct=%{y}<extra></extra>\", \"legendgroup\": \"20997\", \"line\": {\"color\": \"#EF553B\", \"dash\": \"solid\"}, \"mode\": \"lines\", \"name\": \"20997\", \"orientation\": \"v\", \"showlegend\": true, \"type\": \"scatter\", \"x\": [\"2014-05-13\"], \"xaxis\": \"x\", \"y\": [3], \"yaxis\": \"y\"}, {\"hovertemplate\": \"mentionedEntity1=21052<br>dateTime=%{x}<br>ct=%{y}<extra></extra>\", \"legendgroup\": \"21052\", \"line\": {\"color\": \"#00cc96\", \"dash\": \"solid\"}, \"mode\": \"lines\", \"name\": \"21052\", \"orientation\": \"v\", \"showlegend\": true, \"type\": \"scatter\", \"x\": [\"2014-05-13\"], \"xaxis\": \"x\", \"y\": [2], \"yaxis\": \"y\"}, {\"hovertemplate\": \"mentionedEntity1=21130<br>dateTime=%{x}<br>ct=%{y}<extra></extra>\", \"legendgroup\": \"21130\", \"line\": {\"color\": \"#ab63fa\", \"dash\": \"solid\"}, \"mode\": \"lines\", \"name\": \"21130\", \"orientation\": \"v\", \"showlegend\": true, \"type\": \"scatter\", \"x\": [\"2014-05-13\"], \"xaxis\": \"x\", \"y\": [6], \"yaxis\": \"y\"}, {\"hovertemplate\": \"mentionedEntity1=21260<br>dateTime=%{x}<br>ct=%{y}<extra></extra>\", \"legendgroup\": \"21260\", \"line\": {\"color\": \"#FFA15A\", \"dash\": \"solid\"}, \"mode\": \"lines\", \"name\": \"21260\", \"orientation\": \"v\", \"showlegend\": true, \"type\": \"scatter\", \"x\": [\"2014-05-13\"], \"xaxis\": \"x\", \"y\": [3], \"yaxis\": \"y\"}, {\"hovertemplate\": \"mentionedEntity1=24227<br>dateTime=%{x}<br>ct=%{y}<extra></extra>\", \"legendgroup\": \"24227\", \"line\": {\"color\": \"#19d3f3\", \"dash\": \"solid\"}, \"mode\": \"lines\", \"name\": \"24227\", \"orientation\": \"v\", \"showlegend\": true, \"type\": \"scatter\", \"x\": [\"2014-05-13\"], \"xaxis\": \"x\", \"y\": [1], \"yaxis\": \"y\"}, {\"hovertemplate\": \"mentionedEntity1=24457<br>dateTime=%{x}<br>ct=%{y}<extra></extra>\", \"legendgroup\": \"24457\", \"line\": {\"color\": \"#FF6692\", \"dash\": \"solid\"}, \"mode\": \"lines\", \"name\": \"24457\", \"orientation\": \"v\", \"showlegend\": true, \"type\": \"scatter\", \"x\": [\"2014-05-13\", \"2014-05-30\"], \"xaxis\": \"x\", \"y\": [8, 1], \"yaxis\": \"y\"}, {\"hovertemplate\": \"mentionedEntity1=24742<br>dateTime=%{x}<br>ct=%{y}<extra></extra>\", \"legendgroup\": \"24742\", \"line\": {\"color\": \"#B6E880\", \"dash\": \"solid\"}, \"mode\": \"lines\", \"name\": \"24742\", \"orientation\": \"v\", \"showlegend\": true, \"type\": \"scatter\", \"x\": [\"2014-05-13\", \"2014-05-14\", \"2014-05-20\", \"2014-05-21\", \"2014-05-22\", \"2014-05-25\", \"2014-05-27\", \"2014-05-28\", \"2014-05-29\", \"2014-05-30\", \"2014-05-31\"], \"xaxis\": \"x\", \"y\": [6, 3, 2, 4, 22, 8, 6, 3, 3, 9, 16], \"yaxis\": \"y\"}, {\"hovertemplate\": \"mentionedEntity1=25465<br>dateTime=%{x}<br>ct=%{y}<extra></extra>\", \"legendgroup\": \"25465\", \"line\": {\"color\": \"#FF97FF\", \"dash\": \"solid\"}, \"mode\": \"lines\", \"name\": \"25465\", \"orientation\": \"v\", \"showlegend\": true, \"type\": \"scatter\", \"x\": [\"2014-05-13\"], \"xaxis\": \"x\", \"y\": [3], \"yaxis\": \"y\"}, {\"hovertemplate\": \"mentionedEntity1=25908<br>dateTime=%{x}<br>ct=%{y}<extra></extra>\", \"legendgroup\": \"25908\", \"line\": {\"color\": \"#FECB52\", \"dash\": \"solid\"}, \"mode\": \"lines\", \"name\": \"25908\", \"orientation\": \"v\", \"showlegend\": true, \"type\": \"scatter\", \"x\": [\"2014-05-13\"], \"xaxis\": \"x\", \"y\": [4], \"yaxis\": \"y\"}, {\"hovertemplate\": \"mentionedEntity1=26997<br>dateTime=%{x}<br>ct=%{y}<extra></extra>\", \"legendgroup\": \"26997\", \"line\": {\"color\": \"#636efa\", \"dash\": \"solid\"}, \"mode\": \"lines\", \"name\": \"26997\", \"orientation\": \"v\", \"showlegend\": true, \"type\": \"scatter\", \"x\": [\"2014-05-13\"], \"xaxis\": \"x\", \"y\": [3], \"yaxis\": \"y\"}, {\"hovertemplate\": \"mentionedEntity1=27202<br>dateTime=%{x}<br>ct=%{y}<extra></extra>\", \"legendgroup\": \"27202\", \"line\": {\"color\": \"#EF553B\", \"dash\": \"solid\"}, \"mode\": \"lines\", \"name\": \"27202\", \"orientation\": \"v\", \"showlegend\": true, \"type\": \"scatter\", \"x\": [\"2014-05-13\"], \"xaxis\": \"x\", \"y\": [2], \"yaxis\": \"y\"}, {\"hovertemplate\": \"mentionedEntity1=27598<br>dateTime=%{x}<br>ct=%{y}<extra></extra>\", \"legendgroup\": \"27598\", \"line\": {\"color\": \"#00cc96\", \"dash\": \"solid\"}, \"mode\": \"lines\", \"name\": \"27598\", \"orientation\": \"v\", \"showlegend\": true, \"type\": \"scatter\", \"x\": [\"2014-05-13\"], \"xaxis\": \"x\", \"y\": [2], \"yaxis\": \"y\"}, {\"hovertemplate\": \"mentionedEntity1=28081<br>dateTime=%{x}<br>ct=%{y}<extra></extra>\", \"legendgroup\": \"28081\", \"line\": {\"color\": \"#ab63fa\", \"dash\": \"solid\"}, \"mode\": \"lines\", \"name\": \"28081\", \"orientation\": \"v\", \"showlegend\": true, \"type\": \"scatter\", \"x\": [\"2014-05-13\"], \"xaxis\": \"x\", \"y\": [1], \"yaxis\": \"y\"}, {\"hovertemplate\": \"mentionedEntity1=28204<br>dateTime=%{x}<br>ct=%{y}<extra></extra>\", \"legendgroup\": \"28204\", \"line\": {\"color\": \"#FFA15A\", \"dash\": \"solid\"}, \"mode\": \"lines\", \"name\": \"28204\", \"orientation\": \"v\", \"showlegend\": true, \"type\": \"scatter\", \"x\": [\"2014-05-13\"], \"xaxis\": \"x\", \"y\": [2], \"yaxis\": \"y\"}, {\"hovertemplate\": \"mentionedEntity1=29111<br>dateTime=%{x}<br>ct=%{y}<extra></extra>\", \"legendgroup\": \"29111\", \"line\": {\"color\": \"#19d3f3\", \"dash\": \"solid\"}, \"mode\": \"lines\", \"name\": \"29111\", \"orientation\": \"v\", \"showlegend\": true, \"type\": \"scatter\", \"x\": [\"2014-05-13\"], \"xaxis\": \"x\", \"y\": [3], \"yaxis\": \"y\"}, {\"hovertemplate\": \"mentionedEntity1=29735<br>dateTime=%{x}<br>ct=%{y}<extra></extra>\", \"legendgroup\": \"29735\", \"line\": {\"color\": \"#FF6692\", \"dash\": \"solid\"}, \"mode\": \"lines\", \"name\": \"29735\", \"orientation\": \"v\", \"showlegend\": true, \"type\": \"scatter\", \"x\": [\"2014-05-13\", \"2014-05-24\"], \"xaxis\": \"x\", \"y\": [5, 13], \"yaxis\": \"y\"}, {\"hovertemplate\": \"mentionedEntity1=30352<br>dateTime=%{x}<br>ct=%{y}<extra></extra>\", \"legendgroup\": \"30352\", \"line\": {\"color\": \"#B6E880\", \"dash\": \"solid\"}, \"mode\": \"lines\", \"name\": \"30352\", \"orientation\": \"v\", \"showlegend\": true, \"type\": \"scatter\", \"x\": [\"2014-05-13\", \"2014-05-15\", \"2014-05-16\"], \"xaxis\": \"x\", \"y\": [5, 5, 5], \"yaxis\": \"y\"}, {\"hovertemplate\": \"mentionedEntity1=30482<br>dateTime=%{x}<br>ct=%{y}<extra></extra>\", \"legendgroup\": \"30482\", \"line\": {\"color\": \"#FF97FF\", \"dash\": \"solid\"}, \"mode\": \"lines\", \"name\": \"30482\", \"orientation\": \"v\", \"showlegend\": true, \"type\": \"scatter\", \"x\": [\"2014-05-13\"], \"xaxis\": \"x\", \"y\": [3], \"yaxis\": \"y\"}, {\"hovertemplate\": \"mentionedEntity1=31426<br>dateTime=%{x}<br>ct=%{y}<extra></extra>\", \"legendgroup\": \"31426\", \"line\": {\"color\": \"#FECB52\", \"dash\": \"solid\"}, \"mode\": \"lines\", \"name\": \"31426\", \"orientation\": \"v\", \"showlegend\": true, \"type\": \"scatter\", \"x\": [\"2014-05-13\"], \"xaxis\": \"x\", \"y\": [4], \"yaxis\": \"y\"}, {\"hovertemplate\": \"mentionedEntity1=31753<br>dateTime=%{x}<br>ct=%{y}<extra></extra>\", \"legendgroup\": \"31753\", \"line\": {\"color\": \"#636efa\", \"dash\": \"solid\"}, \"mode\": \"lines\", \"name\": \"31753\", \"orientation\": \"v\", \"showlegend\": true, \"type\": \"scatter\", \"x\": [\"2014-05-13\"], \"xaxis\": \"x\", \"y\": [3], \"yaxis\": \"y\"}, {\"hovertemplate\": \"mentionedEntity1=32375<br>dateTime=%{x}<br>ct=%{y}<extra></extra>\", \"legendgroup\": \"32375\", \"line\": {\"color\": \"#EF553B\", \"dash\": \"solid\"}, \"mode\": \"lines\", \"name\": \"32375\", \"orientation\": \"v\", \"showlegend\": true, \"type\": \"scatter\", \"x\": [\"2014-05-13\"], \"xaxis\": \"x\", \"y\": [1], \"yaxis\": \"y\"}, {\"hovertemplate\": \"mentionedEntity1=33775<br>dateTime=%{x}<br>ct=%{y}<extra></extra>\", \"legendgroup\": \"33775\", \"line\": {\"color\": \"#00cc96\", \"dash\": \"solid\"}, \"mode\": \"lines\", \"name\": \"33775\", \"orientation\": \"v\", \"showlegend\": true, \"type\": \"scatter\", \"x\": [\"2014-05-13\", \"2014-05-24\", \"2014-05-25\", \"2014-05-26\", \"2014-05-27\", \"2014-05-28\", \"2014-05-29\", \"2014-05-30\", \"2014-05-31\"], \"xaxis\": \"x\", \"y\": [3, 4, 4, 3, 4, 2, 3, 3, 6], \"yaxis\": \"y\"}, {\"hovertemplate\": \"mentionedEntity1=34242<br>dateTime=%{x}<br>ct=%{y}<extra></extra>\", \"legendgroup\": \"34242\", \"line\": {\"color\": \"#ab63fa\", \"dash\": \"solid\"}, \"mode\": \"lines\", \"name\": \"34242\", \"orientation\": \"v\", \"showlegend\": true, \"type\": \"scatter\", \"x\": [\"2014-05-13\"], \"xaxis\": \"x\", \"y\": [7], \"yaxis\": \"y\"}, {\"hovertemplate\": \"mentionedEntity1=34371<br>dateTime=%{x}<br>ct=%{y}<extra></extra>\", \"legendgroup\": \"34371\", \"line\": {\"color\": \"#FFA15A\", \"dash\": \"solid\"}, \"mode\": \"lines\", \"name\": \"34371\", \"orientation\": \"v\", \"showlegend\": true, \"type\": \"scatter\", \"x\": [\"2014-05-13\"], \"xaxis\": \"x\", \"y\": [6], \"yaxis\": \"y\"}, {\"hovertemplate\": \"mentionedEntity1=37003<br>dateTime=%{x}<br>ct=%{y}<extra></extra>\", \"legendgroup\": \"37003\", \"line\": {\"color\": \"#19d3f3\", \"dash\": \"solid\"}, \"mode\": \"lines\", \"name\": \"37003\", \"orientation\": \"v\", \"showlegend\": true, \"type\": \"scatter\", \"x\": [\"2014-05-13\"], \"xaxis\": \"x\", \"y\": [4], \"yaxis\": \"y\"}, {\"hovertemplate\": \"mentionedEntity1=37170<br>dateTime=%{x}<br>ct=%{y}<extra></extra>\", \"legendgroup\": \"37170\", \"line\": {\"color\": \"#FF6692\", \"dash\": \"solid\"}, \"mode\": \"lines\", \"name\": \"37170\", \"orientation\": \"v\", \"showlegend\": true, \"type\": \"scatter\", \"x\": [\"2014-05-13\"], \"xaxis\": \"x\", \"y\": [2], \"yaxis\": \"y\"}, {\"hovertemplate\": \"mentionedEntity1=38132<br>dateTime=%{x}<br>ct=%{y}<extra></extra>\", \"legendgroup\": \"38132\", \"line\": {\"color\": \"#B6E880\", \"dash\": \"solid\"}, \"mode\": \"lines\", \"name\": \"38132\", \"orientation\": \"v\", \"showlegend\": true, \"type\": \"scatter\", \"x\": [\"2014-05-13\"], \"xaxis\": \"x\", \"y\": [14], \"yaxis\": \"y\"}, {\"hovertemplate\": \"mentionedEntity1=39886<br>dateTime=%{x}<br>ct=%{y}<extra></extra>\", \"legendgroup\": \"39886\", \"line\": {\"color\": \"#FF97FF\", \"dash\": \"solid\"}, \"mode\": \"lines\", \"name\": \"39886\", \"orientation\": \"v\", \"showlegend\": true, \"type\": \"scatter\", \"x\": [\"2014-05-13\"], \"xaxis\": \"x\", \"y\": [8], \"yaxis\": \"y\"}, {\"hovertemplate\": \"mentionedEntity1=40024<br>dateTime=%{x}<br>ct=%{y}<extra></extra>\", \"legendgroup\": \"40024\", \"line\": {\"color\": \"#FECB52\", \"dash\": \"solid\"}, \"mode\": \"lines\", \"name\": \"40024\", \"orientation\": \"v\", \"showlegend\": true, \"type\": \"scatter\", \"x\": [\"2014-05-13\", \"2014-05-15\", \"2014-05-22\", \"2014-05-24\", \"2014-05-27\", \"2014-05-28\"], \"xaxis\": \"x\", \"y\": [7, 2, 18, 2, 11, 10], \"yaxis\": \"y\"}, {\"hovertemplate\": \"mentionedEntity1=42159<br>dateTime=%{x}<br>ct=%{y}<extra></extra>\", \"legendgroup\": \"42159\", \"line\": {\"color\": \"#636efa\", \"dash\": \"solid\"}, \"mode\": \"lines\", \"name\": \"42159\", \"orientation\": \"v\", \"showlegend\": true, \"type\": \"scatter\", \"x\": [\"2014-05-13\"], \"xaxis\": \"x\", \"y\": [3], \"yaxis\": \"y\"}, {\"hovertemplate\": \"mentionedEntity1=42402<br>dateTime=%{x}<br>ct=%{y}<extra></extra>\", \"legendgroup\": \"42402\", \"line\": {\"color\": \"#EF553B\", \"dash\": \"solid\"}, \"mode\": \"lines\", \"name\": \"42402\", \"orientation\": \"v\", \"showlegend\": true, \"type\": \"scatter\", \"x\": [\"2014-05-13\", \"2014-05-26\", \"2014-05-28\", \"2014-05-30\"], \"xaxis\": \"x\", \"y\": [6, 2, 5, 3], \"yaxis\": \"y\"}, {\"hovertemplate\": \"mentionedEntity1=43150<br>dateTime=%{x}<br>ct=%{y}<extra></extra>\", \"legendgroup\": \"43150\", \"line\": {\"color\": \"#00cc96\", \"dash\": \"solid\"}, \"mode\": \"lines\", \"name\": \"43150\", \"orientation\": \"v\", \"showlegend\": true, \"type\": \"scatter\", \"x\": [\"2014-05-13\"], \"xaxis\": \"x\", \"y\": [5], \"yaxis\": \"y\"}, {\"hovertemplate\": \"mentionedEntity1=43434<br>dateTime=%{x}<br>ct=%{y}<extra></extra>\", \"legendgroup\": \"43434\", \"line\": {\"color\": \"#ab63fa\", \"dash\": \"solid\"}, \"mode\": \"lines\", \"name\": \"43434\", \"orientation\": \"v\", \"showlegend\": true, \"type\": \"scatter\", \"x\": [\"2014-05-13\"], \"xaxis\": \"x\", \"y\": [3], \"yaxis\": \"y\"}, {\"hovertemplate\": \"mentionedEntity1=44328<br>dateTime=%{x}<br>ct=%{y}<extra></extra>\", \"legendgroup\": \"44328\", \"line\": {\"color\": \"#FFA15A\", \"dash\": \"solid\"}, \"mode\": \"lines\", \"name\": \"44328\", \"orientation\": \"v\", \"showlegend\": true, \"type\": \"scatter\", \"x\": [\"2014-05-13\"], \"xaxis\": \"x\", \"y\": [1], \"yaxis\": \"y\"}, {\"hovertemplate\": \"mentionedEntity1=46656<br>dateTime=%{x}<br>ct=%{y}<extra></extra>\", \"legendgroup\": \"46656\", \"line\": {\"color\": \"#19d3f3\", \"dash\": \"solid\"}, \"mode\": \"lines\", \"name\": \"46656\", \"orientation\": \"v\", \"showlegend\": true, \"type\": \"scatter\", \"x\": [\"2014-05-13\"], \"xaxis\": \"x\", \"y\": [5], \"yaxis\": \"y\"}, {\"hovertemplate\": \"mentionedEntity1=46858<br>dateTime=%{x}<br>ct=%{y}<extra></extra>\", \"legendgroup\": \"46858\", \"line\": {\"color\": \"#FF6692\", \"dash\": \"solid\"}, \"mode\": \"lines\", \"name\": \"46858\", \"orientation\": \"v\", \"showlegend\": true, \"type\": \"scatter\", \"x\": [\"2014-05-13\"], \"xaxis\": \"x\", \"y\": [3], \"yaxis\": \"y\"}, {\"hovertemplate\": \"mentionedEntity1=48141<br>dateTime=%{x}<br>ct=%{y}<extra></extra>\", \"legendgroup\": \"48141\", \"line\": {\"color\": \"#B6E880\", \"dash\": \"solid\"}, \"mode\": \"lines\", \"name\": \"48141\", \"orientation\": \"v\", \"showlegend\": true, \"type\": \"scatter\", \"x\": [\"2014-05-13\"], \"xaxis\": \"x\", \"y\": [20], \"yaxis\": \"y\"}, {\"hovertemplate\": \"mentionedEntity1=49453<br>dateTime=%{x}<br>ct=%{y}<extra></extra>\", \"legendgroup\": \"49453\", \"line\": {\"color\": \"#FF97FF\", \"dash\": \"solid\"}, \"mode\": \"lines\", \"name\": \"49453\", \"orientation\": \"v\", \"showlegend\": true, \"type\": \"scatter\", \"x\": [\"2014-05-13\"], \"xaxis\": \"x\", \"y\": [6], \"yaxis\": \"y\"}, {\"hovertemplate\": \"mentionedEntity1=51479<br>dateTime=%{x}<br>ct=%{y}<extra></extra>\", \"legendgroup\": \"51479\", \"line\": {\"color\": \"#FECB52\", \"dash\": \"solid\"}, \"mode\": \"lines\", \"name\": \"51479\", \"orientation\": \"v\", \"showlegend\": true, \"type\": \"scatter\", \"x\": [\"2014-05-13\"], \"xaxis\": \"x\", \"y\": [5], \"yaxis\": \"y\"}, {\"hovertemplate\": \"mentionedEntity1=52025<br>dateTime=%{x}<br>ct=%{y}<extra></extra>\", \"legendgroup\": \"52025\", \"line\": {\"color\": \"#636efa\", \"dash\": \"solid\"}, \"mode\": \"lines\", \"name\": \"52025\", \"orientation\": \"v\", \"showlegend\": true, \"type\": \"scatter\", \"x\": [\"2014-05-13\"], \"xaxis\": \"x\", \"y\": [2], \"yaxis\": \"y\"}, {\"hovertemplate\": \"mentionedEntity1=2236<br>dateTime=%{x}<br>ct=%{y}<extra></extra>\", \"legendgroup\": \"2236\", \"line\": {\"color\": \"#EF553B\", \"dash\": \"solid\"}, \"mode\": \"lines\", \"name\": \"2236\", \"orientation\": \"v\", \"showlegend\": true, \"type\": \"scatter\", \"x\": [\"2014-05-14\", \"2014-05-15\", \"2014-05-16\"], \"xaxis\": \"x\", \"y\": [8, 8, 34], \"yaxis\": \"y\"}, {\"hovertemplate\": \"mentionedEntity1=5382<br>dateTime=%{x}<br>ct=%{y}<extra></extra>\", \"legendgroup\": \"5382\", \"line\": {\"color\": \"#00cc96\", \"dash\": \"solid\"}, \"mode\": \"lines\", \"name\": \"5382\", \"orientation\": \"v\", \"showlegend\": true, \"type\": \"scatter\", \"x\": [\"2014-05-14\", \"2014-05-25\", \"2014-05-27\", \"2014-05-29\", \"2014-05-31\"], \"xaxis\": \"x\", \"y\": [3, 3, 2, 1, 2], \"yaxis\": \"y\"}, {\"hovertemplate\": \"mentionedEntity1=6192<br>dateTime=%{x}<br>ct=%{y}<extra></extra>\", \"legendgroup\": \"6192\", \"line\": {\"color\": \"#ab63fa\", \"dash\": \"solid\"}, \"mode\": \"lines\", \"name\": \"6192\", \"orientation\": \"v\", \"showlegend\": true, \"type\": \"scatter\", \"x\": [\"2014-05-14\"], \"xaxis\": \"x\", \"y\": [3], \"yaxis\": \"y\"}, {\"hovertemplate\": \"mentionedEntity1=8700<br>dateTime=%{x}<br>ct=%{y}<extra></extra>\", \"legendgroup\": \"8700\", \"line\": {\"color\": \"#FFA15A\", \"dash\": \"solid\"}, \"mode\": \"lines\", \"name\": \"8700\", \"orientation\": \"v\", \"showlegend\": true, \"type\": \"scatter\", \"x\": [\"2014-05-14\", \"2014-05-27\"], \"xaxis\": \"x\", \"y\": [1, 1], \"yaxis\": \"y\"}, {\"hovertemplate\": \"mentionedEntity1=9942<br>dateTime=%{x}<br>ct=%{y}<extra></extra>\", \"legendgroup\": \"9942\", \"line\": {\"color\": \"#19d3f3\", \"dash\": \"solid\"}, \"mode\": \"lines\", \"name\": \"9942\", \"orientation\": \"v\", \"showlegend\": true, \"type\": \"scatter\", \"x\": [\"2014-05-14\"], \"xaxis\": \"x\", \"y\": [2], \"yaxis\": \"y\"}, {\"hovertemplate\": \"mentionedEntity1=17709<br>dateTime=%{x}<br>ct=%{y}<extra></extra>\", \"legendgroup\": \"17709\", \"line\": {\"color\": \"#FF6692\", \"dash\": \"solid\"}, \"mode\": \"lines\", \"name\": \"17709\", \"orientation\": \"v\", \"showlegend\": true, \"type\": \"scatter\", \"x\": [\"2014-05-14\", \"2014-05-15\", \"2014-05-16\", \"2014-05-20\", \"2014-05-21\"], \"xaxis\": \"x\", \"y\": [3, 3, 3, 3, 6], \"yaxis\": \"y\"}, {\"hovertemplate\": \"mentionedEntity1=21275<br>dateTime=%{x}<br>ct=%{y}<extra></extra>\", \"legendgroup\": \"21275\", \"line\": {\"color\": \"#B6E880\", \"dash\": \"solid\"}, \"mode\": \"lines\", \"name\": \"21275\", \"orientation\": \"v\", \"showlegend\": true, \"type\": \"scatter\", \"x\": [\"2014-05-14\"], \"xaxis\": \"x\", \"y\": [2], \"yaxis\": \"y\"}, {\"hovertemplate\": \"mentionedEntity1=21317<br>dateTime=%{x}<br>ct=%{y}<extra></extra>\", \"legendgroup\": \"21317\", \"line\": {\"color\": \"#FF97FF\", \"dash\": \"solid\"}, \"mode\": \"lines\", \"name\": \"21317\", \"orientation\": \"v\", \"showlegend\": true, \"type\": \"scatter\", \"x\": [\"2014-05-14\"], \"xaxis\": \"x\", \"y\": [3], \"yaxis\": \"y\"}, {\"hovertemplate\": \"mentionedEntity1=21346<br>dateTime=%{x}<br>ct=%{y}<extra></extra>\", \"legendgroup\": \"21346\", \"line\": {\"color\": \"#FECB52\", \"dash\": \"solid\"}, \"mode\": \"lines\", \"name\": \"21346\", \"orientation\": \"v\", \"showlegend\": true, \"type\": \"scatter\", \"x\": [\"2014-05-14\"], \"xaxis\": \"x\", \"y\": [4], \"yaxis\": \"y\"}, {\"hovertemplate\": \"mentionedEntity1=24770<br>dateTime=%{x}<br>ct=%{y}<extra></extra>\", \"legendgroup\": \"24770\", \"line\": {\"color\": \"#636efa\", \"dash\": \"solid\"}, \"mode\": \"lines\", \"name\": \"24770\", \"orientation\": \"v\", \"showlegend\": true, \"type\": \"scatter\", \"x\": [\"2014-05-14\", \"2014-05-31\"], \"xaxis\": \"x\", \"y\": [6, 6], \"yaxis\": \"y\"}, {\"hovertemplate\": \"mentionedEntity1=25001<br>dateTime=%{x}<br>ct=%{y}<extra></extra>\", \"legendgroup\": \"25001\", \"line\": {\"color\": \"#EF553B\", \"dash\": \"solid\"}, \"mode\": \"lines\", \"name\": \"25001\", \"orientation\": \"v\", \"showlegend\": true, \"type\": \"scatter\", \"x\": [\"2014-05-14\"], \"xaxis\": \"x\", \"y\": [2], \"yaxis\": \"y\"}, {\"hovertemplate\": \"mentionedEntity1=31603<br>dateTime=%{x}<br>ct=%{y}<extra></extra>\", \"legendgroup\": \"31603\", \"line\": {\"color\": \"#00cc96\", \"dash\": \"solid\"}, \"mode\": \"lines\", \"name\": \"31603\", \"orientation\": \"v\", \"showlegend\": true, \"type\": \"scatter\", \"x\": [\"2014-05-14\"], \"xaxis\": \"x\", \"y\": [3], \"yaxis\": \"y\"}, {\"hovertemplate\": \"mentionedEntity1=33828<br>dateTime=%{x}<br>ct=%{y}<extra></extra>\", \"legendgroup\": \"33828\", \"line\": {\"color\": \"#ab63fa\", \"dash\": \"solid\"}, \"mode\": \"lines\", \"name\": \"33828\", \"orientation\": \"v\", \"showlegend\": true, \"type\": \"scatter\", \"x\": [\"2014-05-14\"], \"xaxis\": \"x\", \"y\": [3], \"yaxis\": \"y\"}, {\"hovertemplate\": \"mentionedEntity1=35808<br>dateTime=%{x}<br>ct=%{y}<extra></extra>\", \"legendgroup\": \"35808\", \"line\": {\"color\": \"#FFA15A\", \"dash\": \"solid\"}, \"mode\": \"lines\", \"name\": \"35808\", \"orientation\": \"v\", \"showlegend\": true, \"type\": \"scatter\", \"x\": [\"2014-05-14\"], \"xaxis\": \"x\", \"y\": [3], \"yaxis\": \"y\"}, {\"hovertemplate\": \"mentionedEntity1=36517<br>dateTime=%{x}<br>ct=%{y}<extra></extra>\", \"legendgroup\": \"36517\", \"line\": {\"color\": \"#19d3f3\", \"dash\": \"solid\"}, \"mode\": \"lines\", \"name\": \"36517\", \"orientation\": \"v\", \"showlegend\": true, \"type\": \"scatter\", \"x\": [\"2014-05-14\"], \"xaxis\": \"x\", \"y\": [6], \"yaxis\": \"y\"}, {\"hovertemplate\": \"mentionedEntity1=36897<br>dateTime=%{x}<br>ct=%{y}<extra></extra>\", \"legendgroup\": \"36897\", \"line\": {\"color\": \"#FF6692\", \"dash\": \"solid\"}, \"mode\": \"lines\", \"name\": \"36897\", \"orientation\": \"v\", \"showlegend\": true, \"type\": \"scatter\", \"x\": [\"2014-05-14\"], \"xaxis\": \"x\", \"y\": [2], \"yaxis\": \"y\"}, {\"hovertemplate\": \"mentionedEntity1=38275<br>dateTime=%{x}<br>ct=%{y}<extra></extra>\", \"legendgroup\": \"38275\", \"line\": {\"color\": \"#B6E880\", \"dash\": \"solid\"}, \"mode\": \"lines\", \"name\": \"38275\", \"orientation\": \"v\", \"showlegend\": true, \"type\": \"scatter\", \"x\": [\"2014-05-14\"], \"xaxis\": \"x\", \"y\": [3], \"yaxis\": \"y\"}, {\"hovertemplate\": \"mentionedEntity1=38445<br>dateTime=%{x}<br>ct=%{y}<extra></extra>\", \"legendgroup\": \"38445\", \"line\": {\"color\": \"#FF97FF\", \"dash\": \"solid\"}, \"mode\": \"lines\", \"name\": \"38445\", \"orientation\": \"v\", \"showlegend\": true, \"type\": \"scatter\", \"x\": [\"2014-05-14\"], \"xaxis\": \"x\", \"y\": [2], \"yaxis\": \"y\"}, {\"hovertemplate\": \"mentionedEntity1=45160<br>dateTime=%{x}<br>ct=%{y}<extra></extra>\", \"legendgroup\": \"45160\", \"line\": {\"color\": \"#FECB52\", \"dash\": \"solid\"}, \"mode\": \"lines\", \"name\": \"45160\", \"orientation\": \"v\", \"showlegend\": true, \"type\": \"scatter\", \"x\": [\"2014-05-14\"], \"xaxis\": \"x\", \"y\": [14], \"yaxis\": \"y\"}, {\"hovertemplate\": \"mentionedEntity1=47621<br>dateTime=%{x}<br>ct=%{y}<extra></extra>\", \"legendgroup\": \"47621\", \"line\": {\"color\": \"#636efa\", \"dash\": \"solid\"}, \"mode\": \"lines\", \"name\": \"47621\", \"orientation\": \"v\", \"showlegend\": true, \"type\": \"scatter\", \"x\": [\"2014-05-14\"], \"xaxis\": \"x\", \"y\": [8], \"yaxis\": \"y\"}, {\"hovertemplate\": \"mentionedEntity1=51030<br>dateTime=%{x}<br>ct=%{y}<extra></extra>\", \"legendgroup\": \"51030\", \"line\": {\"color\": \"#EF553B\", \"dash\": \"solid\"}, \"mode\": \"lines\", \"name\": \"51030\", \"orientation\": \"v\", \"showlegend\": true, \"type\": \"scatter\", \"x\": [\"2014-05-14\"], \"xaxis\": \"x\", \"y\": [4], \"yaxis\": \"y\"}, {\"hovertemplate\": \"mentionedEntity1=965<br>dateTime=%{x}<br>ct=%{y}<extra></extra>\", \"legendgroup\": \"965\", \"line\": {\"color\": \"#00cc96\", \"dash\": \"solid\"}, \"mode\": \"lines\", \"name\": \"965\", \"orientation\": \"v\", \"showlegend\": true, \"type\": \"scatter\", \"x\": [\"2014-05-15\", \"2014-05-22\"], \"xaxis\": \"x\", \"y\": [1, 2], \"yaxis\": \"y\"}, {\"hovertemplate\": \"mentionedEntity1=1400<br>dateTime=%{x}<br>ct=%{y}<extra></extra>\", \"legendgroup\": \"1400\", \"line\": {\"color\": \"#ab63fa\", \"dash\": \"solid\"}, \"mode\": \"lines\", \"name\": \"1400\", \"orientation\": \"v\", \"showlegend\": true, \"type\": \"scatter\", \"x\": [\"2014-05-15\"], \"xaxis\": \"x\", \"y\": [3], \"yaxis\": \"y\"}, {\"hovertemplate\": \"mentionedEntity1=3744<br>dateTime=%{x}<br>ct=%{y}<extra></extra>\", \"legendgroup\": \"3744\", \"line\": {\"color\": \"#FFA15A\", \"dash\": \"solid\"}, \"mode\": \"lines\", \"name\": \"3744\", \"orientation\": \"v\", \"showlegend\": true, \"type\": \"scatter\", \"x\": [\"2014-05-15\"], \"xaxis\": \"x\", \"y\": [4], \"yaxis\": \"y\"}, {\"hovertemplate\": \"mentionedEntity1=4120<br>dateTime=%{x}<br>ct=%{y}<extra></extra>\", \"legendgroup\": \"4120\", \"line\": {\"color\": \"#19d3f3\", \"dash\": \"solid\"}, \"mode\": \"lines\", \"name\": \"4120\", \"orientation\": \"v\", \"showlegend\": true, \"type\": \"scatter\", \"x\": [\"2014-05-15\", \"2014-05-16\"], \"xaxis\": \"x\", \"y\": [3, 3], \"yaxis\": \"y\"}, {\"hovertemplate\": \"mentionedEntity1=5379<br>dateTime=%{x}<br>ct=%{y}<extra></extra>\", \"legendgroup\": \"5379\", \"line\": {\"color\": \"#FF6692\", \"dash\": \"solid\"}, \"mode\": \"lines\", \"name\": \"5379\", \"orientation\": \"v\", \"showlegend\": true, \"type\": \"scatter\", \"x\": [\"2014-05-15\"], \"xaxis\": \"x\", \"y\": [3], \"yaxis\": \"y\"}, {\"hovertemplate\": \"mentionedEntity1=7054<br>dateTime=%{x}<br>ct=%{y}<extra></extra>\", \"legendgroup\": \"7054\", \"line\": {\"color\": \"#B6E880\", \"dash\": \"solid\"}, \"mode\": \"lines\", \"name\": \"7054\", \"orientation\": \"v\", \"showlegend\": true, \"type\": \"scatter\", \"x\": [\"2014-05-15\"], \"xaxis\": \"x\", \"y\": [9], \"yaxis\": \"y\"}, {\"hovertemplate\": \"mentionedEntity1=7956<br>dateTime=%{x}<br>ct=%{y}<extra></extra>\", \"legendgroup\": \"7956\", \"line\": {\"color\": \"#FF97FF\", \"dash\": \"solid\"}, \"mode\": \"lines\", \"name\": \"7956\", \"orientation\": \"v\", \"showlegend\": true, \"type\": \"scatter\", \"x\": [\"2014-05-15\"], \"xaxis\": \"x\", \"y\": [7], \"yaxis\": \"y\"}, {\"hovertemplate\": \"mentionedEntity1=8068<br>dateTime=%{x}<br>ct=%{y}<extra></extra>\", \"legendgroup\": \"8068\", \"line\": {\"color\": \"#FECB52\", \"dash\": \"solid\"}, \"mode\": \"lines\", \"name\": \"8068\", \"orientation\": \"v\", \"showlegend\": true, \"type\": \"scatter\", \"x\": [\"2014-05-15\"], \"xaxis\": \"x\", \"y\": [1], \"yaxis\": \"y\"}, {\"hovertemplate\": \"mentionedEntity1=9197<br>dateTime=%{x}<br>ct=%{y}<extra></extra>\", \"legendgroup\": \"9197\", \"line\": {\"color\": \"#636efa\", \"dash\": \"solid\"}, \"mode\": \"lines\", \"name\": \"9197\", \"orientation\": \"v\", \"showlegend\": true, \"type\": \"scatter\", \"x\": [\"2014-05-15\"], \"xaxis\": \"x\", \"y\": [1], \"yaxis\": \"y\"}, {\"hovertemplate\": \"mentionedEntity1=11973<br>dateTime=%{x}<br>ct=%{y}<extra></extra>\", \"legendgroup\": \"11973\", \"line\": {\"color\": \"#EF553B\", \"dash\": \"solid\"}, \"mode\": \"lines\", \"name\": \"11973\", \"orientation\": \"v\", \"showlegend\": true, \"type\": \"scatter\", \"x\": [\"2014-05-15\"], \"xaxis\": \"x\", \"y\": [2], \"yaxis\": \"y\"}, {\"hovertemplate\": \"mentionedEntity1=12128<br>dateTime=%{x}<br>ct=%{y}<extra></extra>\", \"legendgroup\": \"12128\", \"line\": {\"color\": \"#00cc96\", \"dash\": \"solid\"}, \"mode\": \"lines\", \"name\": \"12128\", \"orientation\": \"v\", \"showlegend\": true, \"type\": \"scatter\", \"x\": [\"2014-05-15\"], \"xaxis\": \"x\", \"y\": [2], \"yaxis\": \"y\"}, {\"hovertemplate\": \"mentionedEntity1=12492<br>dateTime=%{x}<br>ct=%{y}<extra></extra>\", \"legendgroup\": \"12492\", \"line\": {\"color\": \"#ab63fa\", \"dash\": \"solid\"}, \"mode\": \"lines\", \"name\": \"12492\", \"orientation\": \"v\", \"showlegend\": true, \"type\": \"scatter\", \"x\": [\"2014-05-15\"], \"xaxis\": \"x\", \"y\": [1], \"yaxis\": \"y\"}, {\"hovertemplate\": \"mentionedEntity1=13877<br>dateTime=%{x}<br>ct=%{y}<extra></extra>\", \"legendgroup\": \"13877\", \"line\": {\"color\": \"#FFA15A\", \"dash\": \"solid\"}, \"mode\": \"lines\", \"name\": \"13877\", \"orientation\": \"v\", \"showlegend\": true, \"type\": \"scatter\", \"x\": [\"2014-05-15\"], \"xaxis\": \"x\", \"y\": [3], \"yaxis\": \"y\"}, {\"hovertemplate\": \"mentionedEntity1=14364<br>dateTime=%{x}<br>ct=%{y}<extra></extra>\", \"legendgroup\": \"14364\", \"line\": {\"color\": \"#19d3f3\", \"dash\": \"solid\"}, \"mode\": \"lines\", \"name\": \"14364\", \"orientation\": \"v\", \"showlegend\": true, \"type\": \"scatter\", \"x\": [\"2014-05-15\"], \"xaxis\": \"x\", \"y\": [3], \"yaxis\": \"y\"}, {\"hovertemplate\": \"mentionedEntity1=15477<br>dateTime=%{x}<br>ct=%{y}<extra></extra>\", \"legendgroup\": \"15477\", \"line\": {\"color\": \"#FF6692\", \"dash\": \"solid\"}, \"mode\": \"lines\", \"name\": \"15477\", \"orientation\": \"v\", \"showlegend\": true, \"type\": \"scatter\", \"x\": [\"2014-05-15\"], \"xaxis\": \"x\", \"y\": [3], \"yaxis\": \"y\"}, {\"hovertemplate\": \"mentionedEntity1=15835<br>dateTime=%{x}<br>ct=%{y}<extra></extra>\", \"legendgroup\": \"15835\", \"line\": {\"color\": \"#B6E880\", \"dash\": \"solid\"}, \"mode\": \"lines\", \"name\": \"15835\", \"orientation\": \"v\", \"showlegend\": true, \"type\": \"scatter\", \"x\": [\"2014-05-15\", \"2014-05-27\"], \"xaxis\": \"x\", \"y\": [2, 2], \"yaxis\": \"y\"}, {\"hovertemplate\": \"mentionedEntity1=16684<br>dateTime=%{x}<br>ct=%{y}<extra></extra>\", \"legendgroup\": \"16684\", \"line\": {\"color\": \"#FF97FF\", \"dash\": \"solid\"}, \"mode\": \"lines\", \"name\": \"16684\", \"orientation\": \"v\", \"showlegend\": true, \"type\": \"scatter\", \"x\": [\"2014-05-15\"], \"xaxis\": \"x\", \"y\": [3], \"yaxis\": \"y\"}, {\"hovertemplate\": \"mentionedEntity1=17434<br>dateTime=%{x}<br>ct=%{y}<extra></extra>\", \"legendgroup\": \"17434\", \"line\": {\"color\": \"#FECB52\", \"dash\": \"solid\"}, \"mode\": \"lines\", \"name\": \"17434\", \"orientation\": \"v\", \"showlegend\": true, \"type\": \"scatter\", \"x\": [\"2014-05-15\"], \"xaxis\": \"x\", \"y\": [6], \"yaxis\": \"y\"}, {\"hovertemplate\": \"mentionedEntity1=17444<br>dateTime=%{x}<br>ct=%{y}<extra></extra>\", \"legendgroup\": \"17444\", \"line\": {\"color\": \"#636efa\", \"dash\": \"solid\"}, \"mode\": \"lines\", \"name\": \"17444\", \"orientation\": \"v\", \"showlegend\": true, \"type\": \"scatter\", \"x\": [\"2014-05-15\"], \"xaxis\": \"x\", \"y\": [2], \"yaxis\": \"y\"}, {\"hovertemplate\": \"mentionedEntity1=17708<br>dateTime=%{x}<br>ct=%{y}<extra></extra>\", \"legendgroup\": \"17708\", \"line\": {\"color\": \"#EF553B\", \"dash\": \"solid\"}, \"mode\": \"lines\", \"name\": \"17708\", \"orientation\": \"v\", \"showlegend\": true, \"type\": \"scatter\", \"x\": [\"2014-05-15\"], \"xaxis\": \"x\", \"y\": [1], \"yaxis\": \"y\"}, {\"hovertemplate\": \"mentionedEntity1=19638<br>dateTime=%{x}<br>ct=%{y}<extra></extra>\", \"legendgroup\": \"19638\", \"line\": {\"color\": \"#00cc96\", \"dash\": \"solid\"}, \"mode\": \"lines\", \"name\": \"19638\", \"orientation\": \"v\", \"showlegend\": true, \"type\": \"scatter\", \"x\": [\"2014-05-15\", \"2014-05-30\"], \"xaxis\": \"x\", \"y\": [7, 2], \"yaxis\": \"y\"}, {\"hovertemplate\": \"mentionedEntity1=21501<br>dateTime=%{x}<br>ct=%{y}<extra></extra>\", \"legendgroup\": \"21501\", \"line\": {\"color\": \"#ab63fa\", \"dash\": \"solid\"}, \"mode\": \"lines\", \"name\": \"21501\", \"orientation\": \"v\", \"showlegend\": true, \"type\": \"scatter\", \"x\": [\"2014-05-15\"], \"xaxis\": \"x\", \"y\": [2], \"yaxis\": \"y\"}, {\"hovertemplate\": \"mentionedEntity1=21529<br>dateTime=%{x}<br>ct=%{y}<extra></extra>\", \"legendgroup\": \"21529\", \"line\": {\"color\": \"#FFA15A\", \"dash\": \"solid\"}, \"mode\": \"lines\", \"name\": \"21529\", \"orientation\": \"v\", \"showlegend\": true, \"type\": \"scatter\", \"x\": [\"2014-05-15\"], \"xaxis\": \"x\", \"y\": [6], \"yaxis\": \"y\"}, {\"hovertemplate\": \"mentionedEntity1=21540<br>dateTime=%{x}<br>ct=%{y}<extra></extra>\", \"legendgroup\": \"21540\", \"line\": {\"color\": \"#19d3f3\", \"dash\": \"solid\"}, \"mode\": \"lines\", \"name\": \"21540\", \"orientation\": \"v\", \"showlegend\": true, \"type\": \"scatter\", \"x\": [\"2014-05-15\"], \"xaxis\": \"x\", \"y\": [3], \"yaxis\": \"y\"}, {\"hovertemplate\": \"mentionedEntity1=21698<br>dateTime=%{x}<br>ct=%{y}<extra></extra>\", \"legendgroup\": \"21698\", \"line\": {\"color\": \"#FF6692\", \"dash\": \"solid\"}, \"mode\": \"lines\", \"name\": \"21698\", \"orientation\": \"v\", \"showlegend\": true, \"type\": \"scatter\", \"x\": [\"2014-05-15\"], \"xaxis\": \"x\", \"y\": [2], \"yaxis\": \"y\"}, {\"hovertemplate\": \"mentionedEntity1=25358<br>dateTime=%{x}<br>ct=%{y}<extra></extra>\", \"legendgroup\": \"25358\", \"line\": {\"color\": \"#B6E880\", \"dash\": \"solid\"}, \"mode\": \"lines\", \"name\": \"25358\", \"orientation\": \"v\", \"showlegend\": true, \"type\": \"scatter\", \"x\": [\"2014-05-15\"], \"xaxis\": \"x\", \"y\": [4], \"yaxis\": \"y\"}, {\"hovertemplate\": \"mentionedEntity1=26107<br>dateTime=%{x}<br>ct=%{y}<extra></extra>\", \"legendgroup\": \"26107\", \"line\": {\"color\": \"#FF97FF\", \"dash\": \"solid\"}, \"mode\": \"lines\", \"name\": \"26107\", \"orientation\": \"v\", \"showlegend\": true, \"type\": \"scatter\", \"x\": [\"2014-05-15\", \"2014-05-21\"], \"xaxis\": \"x\", \"y\": [3, 1], \"yaxis\": \"y\"}, {\"hovertemplate\": \"mentionedEntity1=26322<br>dateTime=%{x}<br>ct=%{y}<extra></extra>\", \"legendgroup\": \"26322\", \"line\": {\"color\": \"#FECB52\", \"dash\": \"solid\"}, \"mode\": \"lines\", \"name\": \"26322\", \"orientation\": \"v\", \"showlegend\": true, \"type\": \"scatter\", \"x\": [\"2014-05-15\"], \"xaxis\": \"x\", \"y\": [2], \"yaxis\": \"y\"}, {\"hovertemplate\": \"mentionedEntity1=26936<br>dateTime=%{x}<br>ct=%{y}<extra></extra>\", \"legendgroup\": \"26936\", \"line\": {\"color\": \"#636efa\", \"dash\": \"solid\"}, \"mode\": \"lines\", \"name\": \"26936\", \"orientation\": \"v\", \"showlegend\": true, \"type\": \"scatter\", \"x\": [\"2014-05-15\"], \"xaxis\": \"x\", \"y\": [1], \"yaxis\": \"y\"}, {\"hovertemplate\": \"mentionedEntity1=27916<br>dateTime=%{x}<br>ct=%{y}<extra></extra>\", \"legendgroup\": \"27916\", \"line\": {\"color\": \"#EF553B\", \"dash\": \"solid\"}, \"mode\": \"lines\", \"name\": \"27916\", \"orientation\": \"v\", \"showlegend\": true, \"type\": \"scatter\", \"x\": [\"2014-05-15\"], \"xaxis\": \"x\", \"y\": [3], \"yaxis\": \"y\"}, {\"hovertemplate\": \"mentionedEntity1=27917<br>dateTime=%{x}<br>ct=%{y}<extra></extra>\", \"legendgroup\": \"27917\", \"line\": {\"color\": \"#00cc96\", \"dash\": \"solid\"}, \"mode\": \"lines\", \"name\": \"27917\", \"orientation\": \"v\", \"showlegend\": true, \"type\": \"scatter\", \"x\": [\"2014-05-15\"], \"xaxis\": \"x\", \"y\": [1], \"yaxis\": \"y\"}, {\"hovertemplate\": \"mentionedEntity1=28300<br>dateTime=%{x}<br>ct=%{y}<extra></extra>\", \"legendgroup\": \"28300\", \"line\": {\"color\": \"#ab63fa\", \"dash\": \"solid\"}, \"mode\": \"lines\", \"name\": \"28300\", \"orientation\": \"v\", \"showlegend\": true, \"type\": \"scatter\", \"x\": [\"2014-05-15\"], \"xaxis\": \"x\", \"y\": [45], \"yaxis\": \"y\"}, {\"hovertemplate\": \"mentionedEntity1=28319<br>dateTime=%{x}<br>ct=%{y}<extra></extra>\", \"legendgroup\": \"28319\", \"line\": {\"color\": \"#FFA15A\", \"dash\": \"solid\"}, \"mode\": \"lines\", \"name\": \"28319\", \"orientation\": \"v\", \"showlegend\": true, \"type\": \"scatter\", \"x\": [\"2014-05-15\"], \"xaxis\": \"x\", \"y\": [4], \"yaxis\": \"y\"}, {\"hovertemplate\": \"mentionedEntity1=32050<br>dateTime=%{x}<br>ct=%{y}<extra></extra>\", \"legendgroup\": \"32050\", \"line\": {\"color\": \"#19d3f3\", \"dash\": \"solid\"}, \"mode\": \"lines\", \"name\": \"32050\", \"orientation\": \"v\", \"showlegend\": true, \"type\": \"scatter\", \"x\": [\"2014-05-15\"], \"xaxis\": \"x\", \"y\": [12], \"yaxis\": \"y\"}, {\"hovertemplate\": \"mentionedEntity1=32201<br>dateTime=%{x}<br>ct=%{y}<extra></extra>\", \"legendgroup\": \"32201\", \"line\": {\"color\": \"#FF6692\", \"dash\": \"solid\"}, \"mode\": \"lines\", \"name\": \"32201\", \"orientation\": \"v\", \"showlegend\": true, \"type\": \"scatter\", \"x\": [\"2014-05-15\", \"2014-05-24\", \"2014-05-25\", \"2014-05-27\", \"2014-05-29\", \"2014-05-30\"], \"xaxis\": \"x\", \"y\": [30, 14, 15, 6, 6, 11], \"yaxis\": \"y\"}, {\"hovertemplate\": \"mentionedEntity1=32345<br>dateTime=%{x}<br>ct=%{y}<extra></extra>\", \"legendgroup\": \"32345\", \"line\": {\"color\": \"#B6E880\", \"dash\": \"solid\"}, \"mode\": \"lines\", \"name\": \"32345\", \"orientation\": \"v\", \"showlegend\": true, \"type\": \"scatter\", \"x\": [\"2014-05-15\"], \"xaxis\": \"x\", \"y\": [2], \"yaxis\": \"y\"}, {\"hovertemplate\": \"mentionedEntity1=32450<br>dateTime=%{x}<br>ct=%{y}<extra></extra>\", \"legendgroup\": \"32450\", \"line\": {\"color\": \"#FF97FF\", \"dash\": \"solid\"}, \"mode\": \"lines\", \"name\": \"32450\", \"orientation\": \"v\", \"showlegend\": true, \"type\": \"scatter\", \"x\": [\"2014-05-15\"], \"xaxis\": \"x\", \"y\": [4], \"yaxis\": \"y\"}, {\"hovertemplate\": \"mentionedEntity1=33097<br>dateTime=%{x}<br>ct=%{y}<extra></extra>\", \"legendgroup\": \"33097\", \"line\": {\"color\": \"#FECB52\", \"dash\": \"solid\"}, \"mode\": \"lines\", \"name\": \"33097\", \"orientation\": \"v\", \"showlegend\": true, \"type\": \"scatter\", \"x\": [\"2014-05-15\", \"2014-05-25\"], \"xaxis\": \"x\", \"y\": [2, 3], \"yaxis\": \"y\"}, {\"hovertemplate\": \"mentionedEntity1=33935<br>dateTime=%{x}<br>ct=%{y}<extra></extra>\", \"legendgroup\": \"33935\", \"line\": {\"color\": \"#636efa\", \"dash\": \"solid\"}, \"mode\": \"lines\", \"name\": \"33935\", \"orientation\": \"v\", \"showlegend\": true, \"type\": \"scatter\", \"x\": [\"2014-05-15\"], \"xaxis\": \"x\", \"y\": [6], \"yaxis\": \"y\"}, {\"hovertemplate\": \"mentionedEntity1=36665<br>dateTime=%{x}<br>ct=%{y}<extra></extra>\", \"legendgroup\": \"36665\", \"line\": {\"color\": \"#EF553B\", \"dash\": \"solid\"}, \"mode\": \"lines\", \"name\": \"36665\", \"orientation\": \"v\", \"showlegend\": true, \"type\": \"scatter\", \"x\": [\"2014-05-15\"], \"xaxis\": \"x\", \"y\": [1], \"yaxis\": \"y\"}, {\"hovertemplate\": \"mentionedEntity1=36674<br>dateTime=%{x}<br>ct=%{y}<extra></extra>\", \"legendgroup\": \"36674\", \"line\": {\"color\": \"#00cc96\", \"dash\": \"solid\"}, \"mode\": \"lines\", \"name\": \"36674\", \"orientation\": \"v\", \"showlegend\": true, \"type\": \"scatter\", \"x\": [\"2014-05-15\"], \"xaxis\": \"x\", \"y\": [7], \"yaxis\": \"y\"}, {\"hovertemplate\": \"mentionedEntity1=37751<br>dateTime=%{x}<br>ct=%{y}<extra></extra>\", \"legendgroup\": \"37751\", \"line\": {\"color\": \"#ab63fa\", \"dash\": \"solid\"}, \"mode\": \"lines\", \"name\": \"37751\", \"orientation\": \"v\", \"showlegend\": true, \"type\": \"scatter\", \"x\": [\"2014-05-15\"], \"xaxis\": \"x\", \"y\": [2], \"yaxis\": \"y\"}, {\"hovertemplate\": \"mentionedEntity1=39511<br>dateTime=%{x}<br>ct=%{y}<extra></extra>\", \"legendgroup\": \"39511\", \"line\": {\"color\": \"#FFA15A\", \"dash\": \"solid\"}, \"mode\": \"lines\", \"name\": \"39511\", \"orientation\": \"v\", \"showlegend\": true, \"type\": \"scatter\", \"x\": [\"2014-05-15\"], \"xaxis\": \"x\", \"y\": [1], \"yaxis\": \"y\"}, {\"hovertemplate\": \"mentionedEntity1=42205<br>dateTime=%{x}<br>ct=%{y}<extra></extra>\", \"legendgroup\": \"42205\", \"line\": {\"color\": \"#19d3f3\", \"dash\": \"solid\"}, \"mode\": \"lines\", \"name\": \"42205\", \"orientation\": \"v\", \"showlegend\": true, \"type\": \"scatter\", \"x\": [\"2014-05-15\"], \"xaxis\": \"x\", \"y\": [4], \"yaxis\": \"y\"}, {\"hovertemplate\": \"mentionedEntity1=42376<br>dateTime=%{x}<br>ct=%{y}<extra></extra>\", \"legendgroup\": \"42376\", \"line\": {\"color\": \"#FF6692\", \"dash\": \"solid\"}, \"mode\": \"lines\", \"name\": \"42376\", \"orientation\": \"v\", \"showlegend\": true, \"type\": \"scatter\", \"x\": [\"2014-05-15\"], \"xaxis\": \"x\", \"y\": [9], \"yaxis\": \"y\"}, {\"hovertemplate\": \"mentionedEntity1=42413<br>dateTime=%{x}<br>ct=%{y}<extra></extra>\", \"legendgroup\": \"42413\", \"line\": {\"color\": \"#B6E880\", \"dash\": \"solid\"}, \"mode\": \"lines\", \"name\": \"42413\", \"orientation\": \"v\", \"showlegend\": true, \"type\": \"scatter\", \"x\": [\"2014-05-15\", \"2014-05-24\"], \"xaxis\": \"x\", \"y\": [4, 12], \"yaxis\": \"y\"}, {\"hovertemplate\": \"mentionedEntity1=42642<br>dateTime=%{x}<br>ct=%{y}<extra></extra>\", \"legendgroup\": \"42642\", \"line\": {\"color\": \"#FF97FF\", \"dash\": \"solid\"}, \"mode\": \"lines\", \"name\": \"42642\", \"orientation\": \"v\", \"showlegend\": true, \"type\": \"scatter\", \"x\": [\"2014-05-15\", \"2014-05-16\"], \"xaxis\": \"x\", \"y\": [4, 8], \"yaxis\": \"y\"}, {\"hovertemplate\": \"mentionedEntity1=43562<br>dateTime=%{x}<br>ct=%{y}<extra></extra>\", \"legendgroup\": \"43562\", \"line\": {\"color\": \"#FECB52\", \"dash\": \"solid\"}, \"mode\": \"lines\", \"name\": \"43562\", \"orientation\": \"v\", \"showlegend\": true, \"type\": \"scatter\", \"x\": [\"2014-05-15\"], \"xaxis\": \"x\", \"y\": [3], \"yaxis\": \"y\"}, {\"hovertemplate\": \"mentionedEntity1=45135<br>dateTime=%{x}<br>ct=%{y}<extra></extra>\", \"legendgroup\": \"45135\", \"line\": {\"color\": \"#636efa\", \"dash\": \"solid\"}, \"mode\": \"lines\", \"name\": \"45135\", \"orientation\": \"v\", \"showlegend\": true, \"type\": \"scatter\", \"x\": [\"2014-05-15\"], \"xaxis\": \"x\", \"y\": [5], \"yaxis\": \"y\"}, {\"hovertemplate\": \"mentionedEntity1=45832<br>dateTime=%{x}<br>ct=%{y}<extra></extra>\", \"legendgroup\": \"45832\", \"line\": {\"color\": \"#EF553B\", \"dash\": \"solid\"}, \"mode\": \"lines\", \"name\": \"45832\", \"orientation\": \"v\", \"showlegend\": true, \"type\": \"scatter\", \"x\": [\"2014-05-15\"], \"xaxis\": \"x\", \"y\": [3], \"yaxis\": \"y\"}, {\"hovertemplate\": \"mentionedEntity1=46709<br>dateTime=%{x}<br>ct=%{y}<extra></extra>\", \"legendgroup\": \"46709\", \"line\": {\"color\": \"#00cc96\", \"dash\": \"solid\"}, \"mode\": \"lines\", \"name\": \"46709\", \"orientation\": \"v\", \"showlegend\": true, \"type\": \"scatter\", \"x\": [\"2014-05-15\", \"2014-05-27\"], \"xaxis\": \"x\", \"y\": [24, 20], \"yaxis\": \"y\"}, {\"hovertemplate\": \"mentionedEntity1=47003<br>dateTime=%{x}<br>ct=%{y}<extra></extra>\", \"legendgroup\": \"47003\", \"line\": {\"color\": \"#ab63fa\", \"dash\": \"solid\"}, \"mode\": \"lines\", \"name\": \"47003\", \"orientation\": \"v\", \"showlegend\": true, \"type\": \"scatter\", \"x\": [\"2014-05-15\"], \"xaxis\": \"x\", \"y\": [2], \"yaxis\": \"y\"}, {\"hovertemplate\": \"mentionedEntity1=50104<br>dateTime=%{x}<br>ct=%{y}<extra></extra>\", \"legendgroup\": \"50104\", \"line\": {\"color\": \"#FFA15A\", \"dash\": \"solid\"}, \"mode\": \"lines\", \"name\": \"50104\", \"orientation\": \"v\", \"showlegend\": true, \"type\": \"scatter\", \"x\": [\"2014-05-15\"], \"xaxis\": \"x\", \"y\": [5], \"yaxis\": \"y\"}, {\"hovertemplate\": \"mentionedEntity1=50121<br>dateTime=%{x}<br>ct=%{y}<extra></extra>\", \"legendgroup\": \"50121\", \"line\": {\"color\": \"#19d3f3\", \"dash\": \"solid\"}, \"mode\": \"lines\", \"name\": \"50121\", \"orientation\": \"v\", \"showlegend\": true, \"type\": \"scatter\", \"x\": [\"2014-05-15\"], \"xaxis\": \"x\", \"y\": [1], \"yaxis\": \"y\"}, {\"hovertemplate\": \"mentionedEntity1=1185<br>dateTime=%{x}<br>ct=%{y}<extra></extra>\", \"legendgroup\": \"1185\", \"line\": {\"color\": \"#FF6692\", \"dash\": \"solid\"}, \"mode\": \"lines\", \"name\": \"1185\", \"orientation\": \"v\", \"showlegend\": true, \"type\": \"scatter\", \"x\": [\"2014-05-16\"], \"xaxis\": \"x\", \"y\": [1], \"yaxis\": \"y\"}, {\"hovertemplate\": \"mentionedEntity1=1342<br>dateTime=%{x}<br>ct=%{y}<extra></extra>\", \"legendgroup\": \"1342\", \"line\": {\"color\": \"#B6E880\", \"dash\": \"solid\"}, \"mode\": \"lines\", \"name\": \"1342\", \"orientation\": \"v\", \"showlegend\": true, \"type\": \"scatter\", \"x\": [\"2014-05-16\", \"2014-05-28\"], \"xaxis\": \"x\", \"y\": [4, 4], \"yaxis\": \"y\"}, {\"hovertemplate\": \"mentionedEntity1=1735<br>dateTime=%{x}<br>ct=%{y}<extra></extra>\", \"legendgroup\": \"1735\", \"line\": {\"color\": \"#FF97FF\", \"dash\": \"solid\"}, \"mode\": \"lines\", \"name\": \"1735\", \"orientation\": \"v\", \"showlegend\": true, \"type\": \"scatter\", \"x\": [\"2014-05-16\", \"2014-05-25\", \"2014-05-26\", \"2014-05-27\"], \"xaxis\": \"x\", \"y\": [2, 19, 3, 2], \"yaxis\": \"y\"}, {\"hovertemplate\": \"mentionedEntity1=2743<br>dateTime=%{x}<br>ct=%{y}<extra></extra>\", \"legendgroup\": \"2743\", \"line\": {\"color\": \"#FECB52\", \"dash\": \"solid\"}, \"mode\": \"lines\", \"name\": \"2743\", \"orientation\": \"v\", \"showlegend\": true, \"type\": \"scatter\", \"x\": [\"2014-05-16\", \"2014-05-22\"], \"xaxis\": \"x\", \"y\": [5, 5], \"yaxis\": \"y\"}, {\"hovertemplate\": \"mentionedEntity1=3059<br>dateTime=%{x}<br>ct=%{y}<extra></extra>\", \"legendgroup\": \"3059\", \"line\": {\"color\": \"#636efa\", \"dash\": \"solid\"}, \"mode\": \"lines\", \"name\": \"3059\", \"orientation\": \"v\", \"showlegend\": true, \"type\": \"scatter\", \"x\": [\"2014-05-16\", \"2014-05-22\"], \"xaxis\": \"x\", \"y\": [2, 11], \"yaxis\": \"y\"}, {\"hovertemplate\": \"mentionedEntity1=3086<br>dateTime=%{x}<br>ct=%{y}<extra></extra>\", \"legendgroup\": \"3086\", \"line\": {\"color\": \"#EF553B\", \"dash\": \"solid\"}, \"mode\": \"lines\", \"name\": \"3086\", \"orientation\": \"v\", \"showlegend\": true, \"type\": \"scatter\", \"x\": [\"2014-05-16\"], \"xaxis\": \"x\", \"y\": [5], \"yaxis\": \"y\"}, {\"hovertemplate\": \"mentionedEntity1=4716<br>dateTime=%{x}<br>ct=%{y}<extra></extra>\", \"legendgroup\": \"4716\", \"line\": {\"color\": \"#00cc96\", \"dash\": \"solid\"}, \"mode\": \"lines\", \"name\": \"4716\", \"orientation\": \"v\", \"showlegend\": true, \"type\": \"scatter\", \"x\": [\"2014-05-16\"], \"xaxis\": \"x\", \"y\": [5], \"yaxis\": \"y\"}, {\"hovertemplate\": \"mentionedEntity1=4941<br>dateTime=%{x}<br>ct=%{y}<extra></extra>\", \"legendgroup\": \"4941\", \"line\": {\"color\": \"#ab63fa\", \"dash\": \"solid\"}, \"mode\": \"lines\", \"name\": \"4941\", \"orientation\": \"v\", \"showlegend\": true, \"type\": \"scatter\", \"x\": [\"2014-05-16\"], \"xaxis\": \"x\", \"y\": [3], \"yaxis\": \"y\"}, {\"hovertemplate\": \"mentionedEntity1=6070<br>dateTime=%{x}<br>ct=%{y}<extra></extra>\", \"legendgroup\": \"6070\", \"line\": {\"color\": \"#FFA15A\", \"dash\": \"solid\"}, \"mode\": \"lines\", \"name\": \"6070\", \"orientation\": \"v\", \"showlegend\": true, \"type\": \"scatter\", \"x\": [\"2014-05-16\"], \"xaxis\": \"x\", \"y\": [4], \"yaxis\": \"y\"}, {\"hovertemplate\": \"mentionedEntity1=6762<br>dateTime=%{x}<br>ct=%{y}<extra></extra>\", \"legendgroup\": \"6762\", \"line\": {\"color\": \"#19d3f3\", \"dash\": \"solid\"}, \"mode\": \"lines\", \"name\": \"6762\", \"orientation\": \"v\", \"showlegend\": true, \"type\": \"scatter\", \"x\": [\"2014-05-16\"], \"xaxis\": \"x\", \"y\": [4], \"yaxis\": \"y\"}, {\"hovertemplate\": \"mentionedEntity1=7412<br>dateTime=%{x}<br>ct=%{y}<extra></extra>\", \"legendgroup\": \"7412\", \"line\": {\"color\": \"#FF6692\", \"dash\": \"solid\"}, \"mode\": \"lines\", \"name\": \"7412\", \"orientation\": \"v\", \"showlegend\": true, \"type\": \"scatter\", \"x\": [\"2014-05-16\", \"2014-05-28\"], \"xaxis\": \"x\", \"y\": [3, 8], \"yaxis\": \"y\"}, {\"hovertemplate\": \"mentionedEntity1=8577<br>dateTime=%{x}<br>ct=%{y}<extra></extra>\", \"legendgroup\": \"8577\", \"line\": {\"color\": \"#B6E880\", \"dash\": \"solid\"}, \"mode\": \"lines\", \"name\": \"8577\", \"orientation\": \"v\", \"showlegend\": true, \"type\": \"scatter\", \"x\": [\"2014-05-16\"], \"xaxis\": \"x\", \"y\": [1], \"yaxis\": \"y\"}, {\"hovertemplate\": \"mentionedEntity1=9124<br>dateTime=%{x}<br>ct=%{y}<extra></extra>\", \"legendgroup\": \"9124\", \"line\": {\"color\": \"#FF97FF\", \"dash\": \"solid\"}, \"mode\": \"lines\", \"name\": \"9124\", \"orientation\": \"v\", \"showlegend\": true, \"type\": \"scatter\", \"x\": [\"2014-05-16\"], \"xaxis\": \"x\", \"y\": [2], \"yaxis\": \"y\"}, {\"hovertemplate\": \"mentionedEntity1=9319<br>dateTime=%{x}<br>ct=%{y}<extra></extra>\", \"legendgroup\": \"9319\", \"line\": {\"color\": \"#FECB52\", \"dash\": \"solid\"}, \"mode\": \"lines\", \"name\": \"9319\", \"orientation\": \"v\", \"showlegend\": true, \"type\": \"scatter\", \"x\": [\"2014-05-16\"], \"xaxis\": \"x\", \"y\": [2], \"yaxis\": \"y\"}, {\"hovertemplate\": \"mentionedEntity1=12214<br>dateTime=%{x}<br>ct=%{y}<extra></extra>\", \"legendgroup\": \"12214\", \"line\": {\"color\": \"#636efa\", \"dash\": \"solid\"}, \"mode\": \"lines\", \"name\": \"12214\", \"orientation\": \"v\", \"showlegend\": true, \"type\": \"scatter\", \"x\": [\"2014-05-16\"], \"xaxis\": \"x\", \"y\": [1], \"yaxis\": \"y\"}, {\"hovertemplate\": \"mentionedEntity1=13897<br>dateTime=%{x}<br>ct=%{y}<extra></extra>\", \"legendgroup\": \"13897\", \"line\": {\"color\": \"#EF553B\", \"dash\": \"solid\"}, \"mode\": \"lines\", \"name\": \"13897\", \"orientation\": \"v\", \"showlegend\": true, \"type\": \"scatter\", \"x\": [\"2014-05-16\"], \"xaxis\": \"x\", \"y\": [1], \"yaxis\": \"y\"}, {\"hovertemplate\": \"mentionedEntity1=14091<br>dateTime=%{x}<br>ct=%{y}<extra></extra>\", \"legendgroup\": \"14091\", \"line\": {\"color\": \"#00cc96\", \"dash\": \"solid\"}, \"mode\": \"lines\", \"name\": \"14091\", \"orientation\": \"v\", \"showlegend\": true, \"type\": \"scatter\", \"x\": [\"2014-05-16\"], \"xaxis\": \"x\", \"y\": [1], \"yaxis\": \"y\"}, {\"hovertemplate\": \"mentionedEntity1=14840<br>dateTime=%{x}<br>ct=%{y}<extra></extra>\", \"legendgroup\": \"14840\", \"line\": {\"color\": \"#ab63fa\", \"dash\": \"solid\"}, \"mode\": \"lines\", \"name\": \"14840\", \"orientation\": \"v\", \"showlegend\": true, \"type\": \"scatter\", \"x\": [\"2014-05-16\"], \"xaxis\": \"x\", \"y\": [1], \"yaxis\": \"y\"}, {\"hovertemplate\": \"mentionedEntity1=15290<br>dateTime=%{x}<br>ct=%{y}<extra></extra>\", \"legendgroup\": \"15290\", \"line\": {\"color\": \"#FFA15A\", \"dash\": \"solid\"}, \"mode\": \"lines\", \"name\": \"15290\", \"orientation\": \"v\", \"showlegend\": true, \"type\": \"scatter\", \"x\": [\"2014-05-16\"], \"xaxis\": \"x\", \"y\": [2], \"yaxis\": \"y\"}, {\"hovertemplate\": \"mentionedEntity1=16532<br>dateTime=%{x}<br>ct=%{y}<extra></extra>\", \"legendgroup\": \"16532\", \"line\": {\"color\": \"#19d3f3\", \"dash\": \"solid\"}, \"mode\": \"lines\", \"name\": \"16532\", \"orientation\": \"v\", \"showlegend\": true, \"type\": \"scatter\", \"x\": [\"2014-05-16\"], \"xaxis\": \"x\", \"y\": [3], \"yaxis\": \"y\"}, {\"hovertemplate\": \"mentionedEntity1=17450<br>dateTime=%{x}<br>ct=%{y}<extra></extra>\", \"legendgroup\": \"17450\", \"line\": {\"color\": \"#FF6692\", \"dash\": \"solid\"}, \"mode\": \"lines\", \"name\": \"17450\", \"orientation\": \"v\", \"showlegend\": true, \"type\": \"scatter\", \"x\": [\"2014-05-16\"], \"xaxis\": \"x\", \"y\": [2], \"yaxis\": \"y\"}, {\"hovertemplate\": \"mentionedEntity1=17527<br>dateTime=%{x}<br>ct=%{y}<extra></extra>\", \"legendgroup\": \"17527\", \"line\": {\"color\": \"#B6E880\", \"dash\": \"solid\"}, \"mode\": \"lines\", \"name\": \"17527\", \"orientation\": \"v\", \"showlegend\": true, \"type\": \"scatter\", \"x\": [\"2014-05-16\"], \"xaxis\": \"x\", \"y\": [1], \"yaxis\": \"y\"}, {\"hovertemplate\": \"mentionedEntity1=20865<br>dateTime=%{x}<br>ct=%{y}<extra></extra>\", \"legendgroup\": \"20865\", \"line\": {\"color\": \"#FF97FF\", \"dash\": \"solid\"}, \"mode\": \"lines\", \"name\": \"20865\", \"orientation\": \"v\", \"showlegend\": true, \"type\": \"scatter\", \"x\": [\"2014-05-16\"], \"xaxis\": \"x\", \"y\": [1], \"yaxis\": \"y\"}, {\"hovertemplate\": \"mentionedEntity1=26335<br>dateTime=%{x}<br>ct=%{y}<extra></extra>\", \"legendgroup\": \"26335\", \"line\": {\"color\": \"#FECB52\", \"dash\": \"solid\"}, \"mode\": \"lines\", \"name\": \"26335\", \"orientation\": \"v\", \"showlegend\": true, \"type\": \"scatter\", \"x\": [\"2014-05-16\"], \"xaxis\": \"x\", \"y\": [3], \"yaxis\": \"y\"}, {\"hovertemplate\": \"mentionedEntity1=30014<br>dateTime=%{x}<br>ct=%{y}<extra></extra>\", \"legendgroup\": \"30014\", \"line\": {\"color\": \"#636efa\", \"dash\": \"solid\"}, \"mode\": \"lines\", \"name\": \"30014\", \"orientation\": \"v\", \"showlegend\": true, \"type\": \"scatter\", \"x\": [\"2014-05-16\"], \"xaxis\": \"x\", \"y\": [1], \"yaxis\": \"y\"}, {\"hovertemplate\": \"mentionedEntity1=31221<br>dateTime=%{x}<br>ct=%{y}<extra></extra>\", \"legendgroup\": \"31221\", \"line\": {\"color\": \"#EF553B\", \"dash\": \"solid\"}, \"mode\": \"lines\", \"name\": \"31221\", \"orientation\": \"v\", \"showlegend\": true, \"type\": \"scatter\", \"x\": [\"2014-05-16\"], \"xaxis\": \"x\", \"y\": [1], \"yaxis\": \"y\"}, {\"hovertemplate\": \"mentionedEntity1=33360<br>dateTime=%{x}<br>ct=%{y}<extra></extra>\", \"legendgroup\": \"33360\", \"line\": {\"color\": \"#00cc96\", \"dash\": \"solid\"}, \"mode\": \"lines\", \"name\": \"33360\", \"orientation\": \"v\", \"showlegend\": true, \"type\": \"scatter\", \"x\": [\"2014-05-16\"], \"xaxis\": \"x\", \"y\": [3], \"yaxis\": \"y\"}, {\"hovertemplate\": \"mentionedEntity1=35885<br>dateTime=%{x}<br>ct=%{y}<extra></extra>\", \"legendgroup\": \"35885\", \"line\": {\"color\": \"#ab63fa\", \"dash\": \"solid\"}, \"mode\": \"lines\", \"name\": \"35885\", \"orientation\": \"v\", \"showlegend\": true, \"type\": \"scatter\", \"x\": [\"2014-05-16\"], \"xaxis\": \"x\", \"y\": [1], \"yaxis\": \"y\"}, {\"hovertemplate\": \"mentionedEntity1=37319<br>dateTime=%{x}<br>ct=%{y}<extra></extra>\", \"legendgroup\": \"37319\", \"line\": {\"color\": \"#FFA15A\", \"dash\": \"solid\"}, \"mode\": \"lines\", \"name\": \"37319\", \"orientation\": \"v\", \"showlegend\": true, \"type\": \"scatter\", \"x\": [\"2014-05-16\"], \"xaxis\": \"x\", \"y\": [4], \"yaxis\": \"y\"}, {\"hovertemplate\": \"mentionedEntity1=40686<br>dateTime=%{x}<br>ct=%{y}<extra></extra>\", \"legendgroup\": \"40686\", \"line\": {\"color\": \"#19d3f3\", \"dash\": \"solid\"}, \"mode\": \"lines\", \"name\": \"40686\", \"orientation\": \"v\", \"showlegend\": true, \"type\": \"scatter\", \"x\": [\"2014-05-16\"], \"xaxis\": \"x\", \"y\": [4], \"yaxis\": \"y\"}, {\"hovertemplate\": \"mentionedEntity1=41210<br>dateTime=%{x}<br>ct=%{y}<extra></extra>\", \"legendgroup\": \"41210\", \"line\": {\"color\": \"#FF6692\", \"dash\": \"solid\"}, \"mode\": \"lines\", \"name\": \"41210\", \"orientation\": \"v\", \"showlegend\": true, \"type\": \"scatter\", \"x\": [\"2014-05-16\"], \"xaxis\": \"x\", \"y\": [1], \"yaxis\": \"y\"}, {\"hovertemplate\": \"mentionedEntity1=43315<br>dateTime=%{x}<br>ct=%{y}<extra></extra>\", \"legendgroup\": \"43315\", \"line\": {\"color\": \"#B6E880\", \"dash\": \"solid\"}, \"mode\": \"lines\", \"name\": \"43315\", \"orientation\": \"v\", \"showlegend\": true, \"type\": \"scatter\", \"x\": [\"2014-05-16\"], \"xaxis\": \"x\", \"y\": [3], \"yaxis\": \"y\"}, {\"hovertemplate\": \"mentionedEntity1=43711<br>dateTime=%{x}<br>ct=%{y}<extra></extra>\", \"legendgroup\": \"43711\", \"line\": {\"color\": \"#FF97FF\", \"dash\": \"solid\"}, \"mode\": \"lines\", \"name\": \"43711\", \"orientation\": \"v\", \"showlegend\": true, \"type\": \"scatter\", \"x\": [\"2014-05-16\", \"2014-05-22\", \"2014-05-23\", \"2014-05-24\", \"2014-05-27\", \"2014-05-29\"], \"xaxis\": \"x\", \"y\": [2, 8, 1, 3, 5, 3], \"yaxis\": \"y\"}, {\"hovertemplate\": \"mentionedEntity1=44291<br>dateTime=%{x}<br>ct=%{y}<extra></extra>\", \"legendgroup\": \"44291\", \"line\": {\"color\": \"#FECB52\", \"dash\": \"solid\"}, \"mode\": \"lines\", \"name\": \"44291\", \"orientation\": \"v\", \"showlegend\": true, \"type\": \"scatter\", \"x\": [\"2014-05-16\"], \"xaxis\": \"x\", \"y\": [7], \"yaxis\": \"y\"}, {\"hovertemplate\": \"mentionedEntity1=44818<br>dateTime=%{x}<br>ct=%{y}<extra></extra>\", \"legendgroup\": \"44818\", \"line\": {\"color\": \"#636efa\", \"dash\": \"solid\"}, \"mode\": \"lines\", \"name\": \"44818\", \"orientation\": \"v\", \"showlegend\": true, \"type\": \"scatter\", \"x\": [\"2014-05-16\"], \"xaxis\": \"x\", \"y\": [4], \"yaxis\": \"y\"}, {\"hovertemplate\": \"mentionedEntity1=49530<br>dateTime=%{x}<br>ct=%{y}<extra></extra>\", \"legendgroup\": \"49530\", \"line\": {\"color\": \"#EF553B\", \"dash\": \"solid\"}, \"mode\": \"lines\", \"name\": \"49530\", \"orientation\": \"v\", \"showlegend\": true, \"type\": \"scatter\", \"x\": [\"2014-05-16\"], \"xaxis\": \"x\", \"y\": [1], \"yaxis\": \"y\"}, {\"hovertemplate\": \"mentionedEntity1=50269<br>dateTime=%{x}<br>ct=%{y}<extra></extra>\", \"legendgroup\": \"50269\", \"line\": {\"color\": \"#00cc96\", \"dash\": \"solid\"}, \"mode\": \"lines\", \"name\": \"50269\", \"orientation\": \"v\", \"showlegend\": true, \"type\": \"scatter\", \"x\": [\"2014-05-16\"], \"xaxis\": \"x\", \"y\": [3], \"yaxis\": \"y\"}, {\"hovertemplate\": \"mentionedEntity1=50835<br>dateTime=%{x}<br>ct=%{y}<extra></extra>\", \"legendgroup\": \"50835\", \"line\": {\"color\": \"#ab63fa\", \"dash\": \"solid\"}, \"mode\": \"lines\", \"name\": \"50835\", \"orientation\": \"v\", \"showlegend\": true, \"type\": \"scatter\", \"x\": [\"2014-05-16\"], \"xaxis\": \"x\", \"y\": [1], \"yaxis\": \"y\"}, {\"hovertemplate\": \"mentionedEntity1=4551<br>dateTime=%{x}<br>ct=%{y}<extra></extra>\", \"legendgroup\": \"4551\", \"line\": {\"color\": \"#FFA15A\", \"dash\": \"solid\"}, \"mode\": \"lines\", \"name\": \"4551\", \"orientation\": \"v\", \"showlegend\": true, \"type\": \"scatter\", \"x\": [\"2014-05-20\", \"2014-05-23\"], \"xaxis\": \"x\", \"y\": [3, 7], \"yaxis\": \"y\"}, {\"hovertemplate\": \"mentionedEntity1=5663<br>dateTime=%{x}<br>ct=%{y}<extra></extra>\", \"legendgroup\": \"5663\", \"line\": {\"color\": \"#19d3f3\", \"dash\": \"solid\"}, \"mode\": \"lines\", \"name\": \"5663\", \"orientation\": \"v\", \"showlegend\": true, \"type\": \"scatter\", \"x\": [\"2014-05-20\"], \"xaxis\": \"x\", \"y\": [3], \"yaxis\": \"y\"}, {\"hovertemplate\": \"mentionedEntity1=5889<br>dateTime=%{x}<br>ct=%{y}<extra></extra>\", \"legendgroup\": \"5889\", \"line\": {\"color\": \"#FF6692\", \"dash\": \"solid\"}, \"mode\": \"lines\", \"name\": \"5889\", \"orientation\": \"v\", \"showlegend\": true, \"type\": \"scatter\", \"x\": [\"2014-05-20\", \"2014-05-22\", \"2014-05-30\"], \"xaxis\": \"x\", \"y\": [2, 5, 6], \"yaxis\": \"y\"}, {\"hovertemplate\": \"mentionedEntity1=10759<br>dateTime=%{x}<br>ct=%{y}<extra></extra>\", \"legendgroup\": \"10759\", \"line\": {\"color\": \"#B6E880\", \"dash\": \"solid\"}, \"mode\": \"lines\", \"name\": \"10759\", \"orientation\": \"v\", \"showlegend\": true, \"type\": \"scatter\", \"x\": [\"2014-05-20\"], \"xaxis\": \"x\", \"y\": [2], \"yaxis\": \"y\"}, {\"hovertemplate\": \"mentionedEntity1=10762<br>dateTime=%{x}<br>ct=%{y}<extra></extra>\", \"legendgroup\": \"10762\", \"line\": {\"color\": \"#FF97FF\", \"dash\": \"solid\"}, \"mode\": \"lines\", \"name\": \"10762\", \"orientation\": \"v\", \"showlegend\": true, \"type\": \"scatter\", \"x\": [\"2014-05-20\"], \"xaxis\": \"x\", \"y\": [2], \"yaxis\": \"y\"}, {\"hovertemplate\": \"mentionedEntity1=12468<br>dateTime=%{x}<br>ct=%{y}<extra></extra>\", \"legendgroup\": \"12468\", \"line\": {\"color\": \"#FECB52\", \"dash\": \"solid\"}, \"mode\": \"lines\", \"name\": \"12468\", \"orientation\": \"v\", \"showlegend\": true, \"type\": \"scatter\", \"x\": [\"2014-05-20\"], \"xaxis\": \"x\", \"y\": [1], \"yaxis\": \"y\"}, {\"hovertemplate\": \"mentionedEntity1=13059<br>dateTime=%{x}<br>ct=%{y}<extra></extra>\", \"legendgroup\": \"13059\", \"line\": {\"color\": \"#636efa\", \"dash\": \"solid\"}, \"mode\": \"lines\", \"name\": \"13059\", \"orientation\": \"v\", \"showlegend\": true, \"type\": \"scatter\", \"x\": [\"2014-05-20\"], \"xaxis\": \"x\", \"y\": [5], \"yaxis\": \"y\"}, {\"hovertemplate\": \"mentionedEntity1=13855<br>dateTime=%{x}<br>ct=%{y}<extra></extra>\", \"legendgroup\": \"13855\", \"line\": {\"color\": \"#EF553B\", \"dash\": \"solid\"}, \"mode\": \"lines\", \"name\": \"13855\", \"orientation\": \"v\", \"showlegend\": true, \"type\": \"scatter\", \"x\": [\"2014-05-20\"], \"xaxis\": \"x\", \"y\": [2], \"yaxis\": \"y\"}, {\"hovertemplate\": \"mentionedEntity1=13861<br>dateTime=%{x}<br>ct=%{y}<extra></extra>\", \"legendgroup\": \"13861\", \"line\": {\"color\": \"#00cc96\", \"dash\": \"solid\"}, \"mode\": \"lines\", \"name\": \"13861\", \"orientation\": \"v\", \"showlegend\": true, \"type\": \"scatter\", \"x\": [\"2014-05-20\"], \"xaxis\": \"x\", \"y\": [1], \"yaxis\": \"y\"}, {\"hovertemplate\": \"mentionedEntity1=13870<br>dateTime=%{x}<br>ct=%{y}<extra></extra>\", \"legendgroup\": \"13870\", \"line\": {\"color\": \"#ab63fa\", \"dash\": \"solid\"}, \"mode\": \"lines\", \"name\": \"13870\", \"orientation\": \"v\", \"showlegend\": true, \"type\": \"scatter\", \"x\": [\"2014-05-20\"], \"xaxis\": \"x\", \"y\": [1], \"yaxis\": \"y\"}, {\"hovertemplate\": \"mentionedEntity1=15941<br>dateTime=%{x}<br>ct=%{y}<extra></extra>\", \"legendgroup\": \"15941\", \"line\": {\"color\": \"#FFA15A\", \"dash\": \"solid\"}, \"mode\": \"lines\", \"name\": \"15941\", \"orientation\": \"v\", \"showlegend\": true, \"type\": \"scatter\", \"x\": [\"2014-05-20\"], \"xaxis\": \"x\", \"y\": [1], \"yaxis\": \"y\"}, {\"hovertemplate\": \"mentionedEntity1=19085<br>dateTime=%{x}<br>ct=%{y}<extra></extra>\", \"legendgroup\": \"19085\", \"line\": {\"color\": \"#19d3f3\", \"dash\": \"solid\"}, \"mode\": \"lines\", \"name\": \"19085\", \"orientation\": \"v\", \"showlegend\": true, \"type\": \"scatter\", \"x\": [\"2014-05-20\"], \"xaxis\": \"x\", \"y\": [1], \"yaxis\": \"y\"}, {\"hovertemplate\": \"mentionedEntity1=19369<br>dateTime=%{x}<br>ct=%{y}<extra></extra>\", \"legendgroup\": \"19369\", \"line\": {\"color\": \"#FF6692\", \"dash\": \"solid\"}, \"mode\": \"lines\", \"name\": \"19369\", \"orientation\": \"v\", \"showlegend\": true, \"type\": \"scatter\", \"x\": [\"2014-05-20\", \"2014-05-26\"], \"xaxis\": \"x\", \"y\": [4, 4], \"yaxis\": \"y\"}, {\"hovertemplate\": \"mentionedEntity1=21901<br>dateTime=%{x}<br>ct=%{y}<extra></extra>\", \"legendgroup\": \"21901\", \"line\": {\"color\": \"#B6E880\", \"dash\": \"solid\"}, \"mode\": \"lines\", \"name\": \"21901\", \"orientation\": \"v\", \"showlegend\": true, \"type\": \"scatter\", \"x\": [\"2014-05-20\"], \"xaxis\": \"x\", \"y\": [6], \"yaxis\": \"y\"}, {\"hovertemplate\": \"mentionedEntity1=27873<br>dateTime=%{x}<br>ct=%{y}<extra></extra>\", \"legendgroup\": \"27873\", \"line\": {\"color\": \"#FF97FF\", \"dash\": \"solid\"}, \"mode\": \"lines\", \"name\": \"27873\", \"orientation\": \"v\", \"showlegend\": true, \"type\": \"scatter\", \"x\": [\"2014-05-20\"], \"xaxis\": \"x\", \"y\": [5], \"yaxis\": \"y\"}, {\"hovertemplate\": \"mentionedEntity1=29112<br>dateTime=%{x}<br>ct=%{y}<extra></extra>\", \"legendgroup\": \"29112\", \"line\": {\"color\": \"#FECB52\", \"dash\": \"solid\"}, \"mode\": \"lines\", \"name\": \"29112\", \"orientation\": \"v\", \"showlegend\": true, \"type\": \"scatter\", \"x\": [\"2014-05-20\"], \"xaxis\": \"x\", \"y\": [6], \"yaxis\": \"y\"}, {\"hovertemplate\": \"mentionedEntity1=29820<br>dateTime=%{x}<br>ct=%{y}<extra></extra>\", \"legendgroup\": \"29820\", \"line\": {\"color\": \"#636efa\", \"dash\": \"solid\"}, \"mode\": \"lines\", \"name\": \"29820\", \"orientation\": \"v\", \"showlegend\": true, \"type\": \"scatter\", \"x\": [\"2014-05-20\"], \"xaxis\": \"x\", \"y\": [2], \"yaxis\": \"y\"}, {\"hovertemplate\": \"mentionedEntity1=33599<br>dateTime=%{x}<br>ct=%{y}<extra></extra>\", \"legendgroup\": \"33599\", \"line\": {\"color\": \"#EF553B\", \"dash\": \"solid\"}, \"mode\": \"lines\", \"name\": \"33599\", \"orientation\": \"v\", \"showlegend\": true, \"type\": \"scatter\", \"x\": [\"2014-05-20\"], \"xaxis\": \"x\", \"y\": [2], \"yaxis\": \"y\"}, {\"hovertemplate\": \"mentionedEntity1=35560<br>dateTime=%{x}<br>ct=%{y}<extra></extra>\", \"legendgroup\": \"35560\", \"line\": {\"color\": \"#00cc96\", \"dash\": \"solid\"}, \"mode\": \"lines\", \"name\": \"35560\", \"orientation\": \"v\", \"showlegend\": true, \"type\": \"scatter\", \"x\": [\"2014-05-20\"], \"xaxis\": \"x\", \"y\": [2], \"yaxis\": \"y\"}, {\"hovertemplate\": \"mentionedEntity1=39928<br>dateTime=%{x}<br>ct=%{y}<extra></extra>\", \"legendgroup\": \"39928\", \"line\": {\"color\": \"#ab63fa\", \"dash\": \"solid\"}, \"mode\": \"lines\", \"name\": \"39928\", \"orientation\": \"v\", \"showlegend\": true, \"type\": \"scatter\", \"x\": [\"2014-05-20\"], \"xaxis\": \"x\", \"y\": [4], \"yaxis\": \"y\"}, {\"hovertemplate\": \"mentionedEntity1=40865<br>dateTime=%{x}<br>ct=%{y}<extra></extra>\", \"legendgroup\": \"40865\", \"line\": {\"color\": \"#FFA15A\", \"dash\": \"solid\"}, \"mode\": \"lines\", \"name\": \"40865\", \"orientation\": \"v\", \"showlegend\": true, \"type\": \"scatter\", \"x\": [\"2014-05-20\"], \"xaxis\": \"x\", \"y\": [2], \"yaxis\": \"y\"}, {\"hovertemplate\": \"mentionedEntity1=42335<br>dateTime=%{x}<br>ct=%{y}<extra></extra>\", \"legendgroup\": \"42335\", \"line\": {\"color\": \"#19d3f3\", \"dash\": \"solid\"}, \"mode\": \"lines\", \"name\": \"42335\", \"orientation\": \"v\", \"showlegend\": true, \"type\": \"scatter\", \"x\": [\"2014-05-20\"], \"xaxis\": \"x\", \"y\": [5], \"yaxis\": \"y\"}, {\"hovertemplate\": \"mentionedEntity1=45127<br>dateTime=%{x}<br>ct=%{y}<extra></extra>\", \"legendgroup\": \"45127\", \"line\": {\"color\": \"#FF6692\", \"dash\": \"solid\"}, \"mode\": \"lines\", \"name\": \"45127\", \"orientation\": \"v\", \"showlegend\": true, \"type\": \"scatter\", \"x\": [\"2014-05-20\"], \"xaxis\": \"x\", \"y\": [10], \"yaxis\": \"y\"}, {\"hovertemplate\": \"mentionedEntity1=46100<br>dateTime=%{x}<br>ct=%{y}<extra></extra>\", \"legendgroup\": \"46100\", \"line\": {\"color\": \"#B6E880\", \"dash\": \"solid\"}, \"mode\": \"lines\", \"name\": \"46100\", \"orientation\": \"v\", \"showlegend\": true, \"type\": \"scatter\", \"x\": [\"2014-05-20\", \"2014-05-21\"], \"xaxis\": \"x\", \"y\": [3, 9], \"yaxis\": \"y\"}, {\"hovertemplate\": \"mentionedEntity1=48004<br>dateTime=%{x}<br>ct=%{y}<extra></extra>\", \"legendgroup\": \"48004\", \"line\": {\"color\": \"#FF97FF\", \"dash\": \"solid\"}, \"mode\": \"lines\", \"name\": \"48004\", \"orientation\": \"v\", \"showlegend\": true, \"type\": \"scatter\", \"x\": [\"2014-05-20\"], \"xaxis\": \"x\", \"y\": [3], \"yaxis\": \"y\"}, {\"hovertemplate\": \"mentionedEntity1=3144<br>dateTime=%{x}<br>ct=%{y}<extra></extra>\", \"legendgroup\": \"3144\", \"line\": {\"color\": \"#FECB52\", \"dash\": \"solid\"}, \"mode\": \"lines\", \"name\": \"3144\", \"orientation\": \"v\", \"showlegend\": true, \"type\": \"scatter\", \"x\": [\"2014-05-21\"], \"xaxis\": \"x\", \"y\": [7], \"yaxis\": \"y\"}, {\"hovertemplate\": \"mentionedEntity1=3592<br>dateTime=%{x}<br>ct=%{y}<extra></extra>\", \"legendgroup\": \"3592\", \"line\": {\"color\": \"#636efa\", \"dash\": \"solid\"}, \"mode\": \"lines\", \"name\": \"3592\", \"orientation\": \"v\", \"showlegend\": true, \"type\": \"scatter\", \"x\": [\"2014-05-21\"], \"xaxis\": \"x\", \"y\": [17], \"yaxis\": \"y\"}, {\"hovertemplate\": \"mentionedEntity1=7955<br>dateTime=%{x}<br>ct=%{y}<extra></extra>\", \"legendgroup\": \"7955\", \"line\": {\"color\": \"#EF553B\", \"dash\": \"solid\"}, \"mode\": \"lines\", \"name\": \"7955\", \"orientation\": \"v\", \"showlegend\": true, \"type\": \"scatter\", \"x\": [\"2014-05-21\"], \"xaxis\": \"x\", \"y\": [2], \"yaxis\": \"y\"}, {\"hovertemplate\": \"mentionedEntity1=9038<br>dateTime=%{x}<br>ct=%{y}<extra></extra>\", \"legendgroup\": \"9038\", \"line\": {\"color\": \"#00cc96\", \"dash\": \"solid\"}, \"mode\": \"lines\", \"name\": \"9038\", \"orientation\": \"v\", \"showlegend\": true, \"type\": \"scatter\", \"x\": [\"2014-05-21\"], \"xaxis\": \"x\", \"y\": [2], \"yaxis\": \"y\"}, {\"hovertemplate\": \"mentionedEntity1=11949<br>dateTime=%{x}<br>ct=%{y}<extra></extra>\", \"legendgroup\": \"11949\", \"line\": {\"color\": \"#ab63fa\", \"dash\": \"solid\"}, \"mode\": \"lines\", \"name\": \"11949\", \"orientation\": \"v\", \"showlegend\": true, \"type\": \"scatter\", \"x\": [\"2014-05-21\"], \"xaxis\": \"x\", \"y\": [2], \"yaxis\": \"y\"}, {\"hovertemplate\": \"mentionedEntity1=14724<br>dateTime=%{x}<br>ct=%{y}<extra></extra>\", \"legendgroup\": \"14724\", \"line\": {\"color\": \"#FFA15A\", \"dash\": \"solid\"}, \"mode\": \"lines\", \"name\": \"14724\", \"orientation\": \"v\", \"showlegend\": true, \"type\": \"scatter\", \"x\": [\"2014-05-21\"], \"xaxis\": \"x\", \"y\": [2], \"yaxis\": \"y\"}, {\"hovertemplate\": \"mentionedEntity1=15763<br>dateTime=%{x}<br>ct=%{y}<extra></extra>\", \"legendgroup\": \"15763\", \"line\": {\"color\": \"#19d3f3\", \"dash\": \"solid\"}, \"mode\": \"lines\", \"name\": \"15763\", \"orientation\": \"v\", \"showlegend\": true, \"type\": \"scatter\", \"x\": [\"2014-05-21\"], \"xaxis\": \"x\", \"y\": [2], \"yaxis\": \"y\"}, {\"hovertemplate\": \"mentionedEntity1=16893<br>dateTime=%{x}<br>ct=%{y}<extra></extra>\", \"legendgroup\": \"16893\", \"line\": {\"color\": \"#FF6692\", \"dash\": \"solid\"}, \"mode\": \"lines\", \"name\": \"16893\", \"orientation\": \"v\", \"showlegend\": true, \"type\": \"scatter\", \"x\": [\"2014-05-21\"], \"xaxis\": \"x\", \"y\": [1], \"yaxis\": \"y\"}, {\"hovertemplate\": \"mentionedEntity1=18312<br>dateTime=%{x}<br>ct=%{y}<extra></extra>\", \"legendgroup\": \"18312\", \"line\": {\"color\": \"#B6E880\", \"dash\": \"solid\"}, \"mode\": \"lines\", \"name\": \"18312\", \"orientation\": \"v\", \"showlegend\": true, \"type\": \"scatter\", \"x\": [\"2014-05-21\", \"2014-05-23\", \"2014-05-24\"], \"xaxis\": \"x\", \"y\": [3, 1, 1], \"yaxis\": \"y\"}, {\"hovertemplate\": \"mentionedEntity1=21970<br>dateTime=%{x}<br>ct=%{y}<extra></extra>\", \"legendgroup\": \"21970\", \"line\": {\"color\": \"#FF97FF\", \"dash\": \"solid\"}, \"mode\": \"lines\", \"name\": \"21970\", \"orientation\": \"v\", \"showlegend\": true, \"type\": \"scatter\", \"x\": [\"2014-05-21\"], \"xaxis\": \"x\", \"y\": [5], \"yaxis\": \"y\"}, {\"hovertemplate\": \"mentionedEntity1=22014<br>dateTime=%{x}<br>ct=%{y}<extra></extra>\", \"legendgroup\": \"22014\", \"line\": {\"color\": \"#FECB52\", \"dash\": \"solid\"}, \"mode\": \"lines\", \"name\": \"22014\", \"orientation\": \"v\", \"showlegend\": true, \"type\": \"scatter\", \"x\": [\"2014-05-21\"], \"xaxis\": \"x\", \"y\": [2], \"yaxis\": \"y\"}, {\"hovertemplate\": \"mentionedEntity1=22022<br>dateTime=%{x}<br>ct=%{y}<extra></extra>\", \"legendgroup\": \"22022\", \"line\": {\"color\": \"#636efa\", \"dash\": \"solid\"}, \"mode\": \"lines\", \"name\": \"22022\", \"orientation\": \"v\", \"showlegend\": true, \"type\": \"scatter\", \"x\": [\"2014-05-21\"], \"xaxis\": \"x\", \"y\": [7], \"yaxis\": \"y\"}, {\"hovertemplate\": \"mentionedEntity1=26428<br>dateTime=%{x}<br>ct=%{y}<extra></extra>\", \"legendgroup\": \"26428\", \"line\": {\"color\": \"#EF553B\", \"dash\": \"solid\"}, \"mode\": \"lines\", \"name\": \"26428\", \"orientation\": \"v\", \"showlegend\": true, \"type\": \"scatter\", \"x\": [\"2014-05-21\"], \"xaxis\": \"x\", \"y\": [2], \"yaxis\": \"y\"}, {\"hovertemplate\": \"mentionedEntity1=28465<br>dateTime=%{x}<br>ct=%{y}<extra></extra>\", \"legendgroup\": \"28465\", \"line\": {\"color\": \"#00cc96\", \"dash\": \"solid\"}, \"mode\": \"lines\", \"name\": \"28465\", \"orientation\": \"v\", \"showlegend\": true, \"type\": \"scatter\", \"x\": [\"2014-05-21\"], \"xaxis\": \"x\", \"y\": [3], \"yaxis\": \"y\"}, {\"hovertemplate\": \"mentionedEntity1=31139<br>dateTime=%{x}<br>ct=%{y}<extra></extra>\", \"legendgroup\": \"31139\", \"line\": {\"color\": \"#ab63fa\", \"dash\": \"solid\"}, \"mode\": \"lines\", \"name\": \"31139\", \"orientation\": \"v\", \"showlegend\": true, \"type\": \"scatter\", \"x\": [\"2014-05-21\"], \"xaxis\": \"x\", \"y\": [4], \"yaxis\": \"y\"}, {\"hovertemplate\": \"mentionedEntity1=32551<br>dateTime=%{x}<br>ct=%{y}<extra></extra>\", \"legendgroup\": \"32551\", \"line\": {\"color\": \"#FFA15A\", \"dash\": \"solid\"}, \"mode\": \"lines\", \"name\": \"32551\", \"orientation\": \"v\", \"showlegend\": true, \"type\": \"scatter\", \"x\": [\"2014-05-21\"], \"xaxis\": \"x\", \"y\": [5], \"yaxis\": \"y\"}, {\"hovertemplate\": \"mentionedEntity1=33222<br>dateTime=%{x}<br>ct=%{y}<extra></extra>\", \"legendgroup\": \"33222\", \"line\": {\"color\": \"#19d3f3\", \"dash\": \"solid\"}, \"mode\": \"lines\", \"name\": \"33222\", \"orientation\": \"v\", \"showlegend\": true, \"type\": \"scatter\", \"x\": [\"2014-05-21\"], \"xaxis\": \"x\", \"y\": [4], \"yaxis\": \"y\"}, {\"hovertemplate\": \"mentionedEntity1=35535<br>dateTime=%{x}<br>ct=%{y}<extra></extra>\", \"legendgroup\": \"35535\", \"line\": {\"color\": \"#FF6692\", \"dash\": \"solid\"}, \"mode\": \"lines\", \"name\": \"35535\", \"orientation\": \"v\", \"showlegend\": true, \"type\": \"scatter\", \"x\": [\"2014-05-21\"], \"xaxis\": \"x\", \"y\": [2], \"yaxis\": \"y\"}, {\"hovertemplate\": \"mentionedEntity1=35840<br>dateTime=%{x}<br>ct=%{y}<extra></extra>\", \"legendgroup\": \"35840\", \"line\": {\"color\": \"#B6E880\", \"dash\": \"solid\"}, \"mode\": \"lines\", \"name\": \"35840\", \"orientation\": \"v\", \"showlegend\": true, \"type\": \"scatter\", \"x\": [\"2014-05-21\"], \"xaxis\": \"x\", \"y\": [8], \"yaxis\": \"y\"}, {\"hovertemplate\": \"mentionedEntity1=36062<br>dateTime=%{x}<br>ct=%{y}<extra></extra>\", \"legendgroup\": \"36062\", \"line\": {\"color\": \"#FF97FF\", \"dash\": \"solid\"}, \"mode\": \"lines\", \"name\": \"36062\", \"orientation\": \"v\", \"showlegend\": true, \"type\": \"scatter\", \"x\": [\"2014-05-21\"], \"xaxis\": \"x\", \"y\": [2], \"yaxis\": \"y\"}, {\"hovertemplate\": \"mentionedEntity1=36738<br>dateTime=%{x}<br>ct=%{y}<extra></extra>\", \"legendgroup\": \"36738\", \"line\": {\"color\": \"#FECB52\", \"dash\": \"solid\"}, \"mode\": \"lines\", \"name\": \"36738\", \"orientation\": \"v\", \"showlegend\": true, \"type\": \"scatter\", \"x\": [\"2014-05-21\"], \"xaxis\": \"x\", \"y\": [5], \"yaxis\": \"y\"}, {\"hovertemplate\": \"mentionedEntity1=37659<br>dateTime=%{x}<br>ct=%{y}<extra></extra>\", \"legendgroup\": \"37659\", \"line\": {\"color\": \"#636efa\", \"dash\": \"solid\"}, \"mode\": \"lines\", \"name\": \"37659\", \"orientation\": \"v\", \"showlegend\": true, \"type\": \"scatter\", \"x\": [\"2014-05-21\"], \"xaxis\": \"x\", \"y\": [4], \"yaxis\": \"y\"}, {\"hovertemplate\": \"mentionedEntity1=38823<br>dateTime=%{x}<br>ct=%{y}<extra></extra>\", \"legendgroup\": \"38823\", \"line\": {\"color\": \"#EF553B\", \"dash\": \"solid\"}, \"mode\": \"lines\", \"name\": \"38823\", \"orientation\": \"v\", \"showlegend\": true, \"type\": \"scatter\", \"x\": [\"2014-05-21\"], \"xaxis\": \"x\", \"y\": [4], \"yaxis\": \"y\"}, {\"hovertemplate\": \"mentionedEntity1=41485<br>dateTime=%{x}<br>ct=%{y}<extra></extra>\", \"legendgroup\": \"41485\", \"line\": {\"color\": \"#00cc96\", \"dash\": \"solid\"}, \"mode\": \"lines\", \"name\": \"41485\", \"orientation\": \"v\", \"showlegend\": true, \"type\": \"scatter\", \"x\": [\"2014-05-21\"], \"xaxis\": \"x\", \"y\": [4], \"yaxis\": \"y\"}, {\"hovertemplate\": \"mentionedEntity1=43292<br>dateTime=%{x}<br>ct=%{y}<extra></extra>\", \"legendgroup\": \"43292\", \"line\": {\"color\": \"#ab63fa\", \"dash\": \"solid\"}, \"mode\": \"lines\", \"name\": \"43292\", \"orientation\": \"v\", \"showlegend\": true, \"type\": \"scatter\", \"x\": [\"2014-05-21\"], \"xaxis\": \"x\", \"y\": [3], \"yaxis\": \"y\"}, {\"hovertemplate\": \"mentionedEntity1=43303<br>dateTime=%{x}<br>ct=%{y}<extra></extra>\", \"legendgroup\": \"43303\", \"line\": {\"color\": \"#FFA15A\", \"dash\": \"solid\"}, \"mode\": \"lines\", \"name\": \"43303\", \"orientation\": \"v\", \"showlegend\": true, \"type\": \"scatter\", \"x\": [\"2014-05-21\"], \"xaxis\": \"x\", \"y\": [1], \"yaxis\": \"y\"}, {\"hovertemplate\": \"mentionedEntity1=43664<br>dateTime=%{x}<br>ct=%{y}<extra></extra>\", \"legendgroup\": \"43664\", \"line\": {\"color\": \"#19d3f3\", \"dash\": \"solid\"}, \"mode\": \"lines\", \"name\": \"43664\", \"orientation\": \"v\", \"showlegend\": true, \"type\": \"scatter\", \"x\": [\"2014-05-21\"], \"xaxis\": \"x\", \"y\": [2], \"yaxis\": \"y\"}, {\"hovertemplate\": \"mentionedEntity1=44298<br>dateTime=%{x}<br>ct=%{y}<extra></extra>\", \"legendgroup\": \"44298\", \"line\": {\"color\": \"#FF6692\", \"dash\": \"solid\"}, \"mode\": \"lines\", \"name\": \"44298\", \"orientation\": \"v\", \"showlegend\": true, \"type\": \"scatter\", \"x\": [\"2014-05-21\", \"2014-05-24\"], \"xaxis\": \"x\", \"y\": [1, 2], \"yaxis\": \"y\"}, {\"hovertemplate\": \"mentionedEntity1=44784<br>dateTime=%{x}<br>ct=%{y}<extra></extra>\", \"legendgroup\": \"44784\", \"line\": {\"color\": \"#B6E880\", \"dash\": \"solid\"}, \"mode\": \"lines\", \"name\": \"44784\", \"orientation\": \"v\", \"showlegend\": true, \"type\": \"scatter\", \"x\": [\"2014-05-21\"], \"xaxis\": \"x\", \"y\": [2], \"yaxis\": \"y\"}, {\"hovertemplate\": \"mentionedEntity1=45231<br>dateTime=%{x}<br>ct=%{y}<extra></extra>\", \"legendgroup\": \"45231\", \"line\": {\"color\": \"#FF97FF\", \"dash\": \"solid\"}, \"mode\": \"lines\", \"name\": \"45231\", \"orientation\": \"v\", \"showlegend\": true, \"type\": \"scatter\", \"x\": [\"2014-05-21\"], \"xaxis\": \"x\", \"y\": [2], \"yaxis\": \"y\"}, {\"hovertemplate\": \"mentionedEntity1=46510<br>dateTime=%{x}<br>ct=%{y}<extra></extra>\", \"legendgroup\": \"46510\", \"line\": {\"color\": \"#FECB52\", \"dash\": \"solid\"}, \"mode\": \"lines\", \"name\": \"46510\", \"orientation\": \"v\", \"showlegend\": true, \"type\": \"scatter\", \"x\": [\"2014-05-21\"], \"xaxis\": \"x\", \"y\": [4], \"yaxis\": \"y\"}, {\"hovertemplate\": \"mentionedEntity1=48161<br>dateTime=%{x}<br>ct=%{y}<extra></extra>\", \"legendgroup\": \"48161\", \"line\": {\"color\": \"#636efa\", \"dash\": \"solid\"}, \"mode\": \"lines\", \"name\": \"48161\", \"orientation\": \"v\", \"showlegend\": true, \"type\": \"scatter\", \"x\": [\"2014-05-21\"], \"xaxis\": \"x\", \"y\": [2], \"yaxis\": \"y\"}, {\"hovertemplate\": \"mentionedEntity1=49717<br>dateTime=%{x}<br>ct=%{y}<extra></extra>\", \"legendgroup\": \"49717\", \"line\": {\"color\": \"#EF553B\", \"dash\": \"solid\"}, \"mode\": \"lines\", \"name\": \"49717\", \"orientation\": \"v\", \"showlegend\": true, \"type\": \"scatter\", \"x\": [\"2014-05-21\"], \"xaxis\": \"x\", \"y\": [5], \"yaxis\": \"y\"}, {\"hovertemplate\": \"mentionedEntity1=50379<br>dateTime=%{x}<br>ct=%{y}<extra></extra>\", \"legendgroup\": \"50379\", \"line\": {\"color\": \"#00cc96\", \"dash\": \"solid\"}, \"mode\": \"lines\", \"name\": \"50379\", \"orientation\": \"v\", \"showlegend\": true, \"type\": \"scatter\", \"x\": [\"2014-05-21\"], \"xaxis\": \"x\", \"y\": [4], \"yaxis\": \"y\"}, {\"hovertemplate\": \"mentionedEntity1=51071<br>dateTime=%{x}<br>ct=%{y}<extra></extra>\", \"legendgroup\": \"51071\", \"line\": {\"color\": \"#ab63fa\", \"dash\": \"solid\"}, \"mode\": \"lines\", \"name\": \"51071\", \"orientation\": \"v\", \"showlegend\": true, \"type\": \"scatter\", \"x\": [\"2014-05-21\"], \"xaxis\": \"x\", \"y\": [1], \"yaxis\": \"y\"}, {\"hovertemplate\": \"mentionedEntity1=52168<br>dateTime=%{x}<br>ct=%{y}<extra></extra>\", \"legendgroup\": \"52168\", \"line\": {\"color\": \"#FFA15A\", \"dash\": \"solid\"}, \"mode\": \"lines\", \"name\": \"52168\", \"orientation\": \"v\", \"showlegend\": true, \"type\": \"scatter\", \"x\": [\"2014-05-21\", \"2014-05-22\"], \"xaxis\": \"x\", \"y\": [1, 3], \"yaxis\": \"y\"}, {\"hovertemplate\": \"mentionedEntity1=3632<br>dateTime=%{x}<br>ct=%{y}<extra></extra>\", \"legendgroup\": \"3632\", \"line\": {\"color\": \"#19d3f3\", \"dash\": \"solid\"}, \"mode\": \"lines\", \"name\": \"3632\", \"orientation\": \"v\", \"showlegend\": true, \"type\": \"scatter\", \"x\": [\"2014-05-22\", \"2014-05-24\", \"2014-05-25\"], \"xaxis\": \"x\", \"y\": [3, 3, 5], \"yaxis\": \"y\"}, {\"hovertemplate\": \"mentionedEntity1=8446<br>dateTime=%{x}<br>ct=%{y}<extra></extra>\", \"legendgroup\": \"8446\", \"line\": {\"color\": \"#FF6692\", \"dash\": \"solid\"}, \"mode\": \"lines\", \"name\": \"8446\", \"orientation\": \"v\", \"showlegend\": true, \"type\": \"scatter\", \"x\": [\"2014-05-22\"], \"xaxis\": \"x\", \"y\": [1], \"yaxis\": \"y\"}, {\"hovertemplate\": \"mentionedEntity1=9167<br>dateTime=%{x}<br>ct=%{y}<extra></extra>\", \"legendgroup\": \"9167\", \"line\": {\"color\": \"#B6E880\", \"dash\": \"solid\"}, \"mode\": \"lines\", \"name\": \"9167\", \"orientation\": \"v\", \"showlegend\": true, \"type\": \"scatter\", \"x\": [\"2014-05-22\", \"2014-05-28\"], \"xaxis\": \"x\", \"y\": [4, 3], \"yaxis\": \"y\"}, {\"hovertemplate\": \"mentionedEntity1=12007<br>dateTime=%{x}<br>ct=%{y}<extra></extra>\", \"legendgroup\": \"12007\", \"line\": {\"color\": \"#FF97FF\", \"dash\": \"solid\"}, \"mode\": \"lines\", \"name\": \"12007\", \"orientation\": \"v\", \"showlegend\": true, \"type\": \"scatter\", \"x\": [\"2014-05-22\"], \"xaxis\": \"x\", \"y\": [1], \"yaxis\": \"y\"}, {\"hovertemplate\": \"mentionedEntity1=12861<br>dateTime=%{x}<br>ct=%{y}<extra></extra>\", \"legendgroup\": \"12861\", \"line\": {\"color\": \"#FECB52\", \"dash\": \"solid\"}, \"mode\": \"lines\", \"name\": \"12861\", \"orientation\": \"v\", \"showlegend\": true, \"type\": \"scatter\", \"x\": [\"2014-05-22\"], \"xaxis\": \"x\", \"y\": [2], \"yaxis\": \"y\"}, {\"hovertemplate\": \"mentionedEntity1=15829<br>dateTime=%{x}<br>ct=%{y}<extra></extra>\", \"legendgroup\": \"15829\", \"line\": {\"color\": \"#636efa\", \"dash\": \"solid\"}, \"mode\": \"lines\", \"name\": \"15829\", \"orientation\": \"v\", \"showlegend\": true, \"type\": \"scatter\", \"x\": [\"2014-05-22\"], \"xaxis\": \"x\", \"y\": [5], \"yaxis\": \"y\"}, {\"hovertemplate\": \"mentionedEntity1=16199<br>dateTime=%{x}<br>ct=%{y}<extra></extra>\", \"legendgroup\": \"16199\", \"line\": {\"color\": \"#EF553B\", \"dash\": \"solid\"}, \"mode\": \"lines\", \"name\": \"16199\", \"orientation\": \"v\", \"showlegend\": true, \"type\": \"scatter\", \"x\": [\"2014-05-22\"], \"xaxis\": \"x\", \"y\": [1], \"yaxis\": \"y\"}, {\"hovertemplate\": \"mentionedEntity1=17965<br>dateTime=%{x}<br>ct=%{y}<extra></extra>\", \"legendgroup\": \"17965\", \"line\": {\"color\": \"#00cc96\", \"dash\": \"solid\"}, \"mode\": \"lines\", \"name\": \"17965\", \"orientation\": \"v\", \"showlegend\": true, \"type\": \"scatter\", \"x\": [\"2014-05-22\"], \"xaxis\": \"x\", \"y\": [2], \"yaxis\": \"y\"}, {\"hovertemplate\": \"mentionedEntity1=20613<br>dateTime=%{x}<br>ct=%{y}<extra></extra>\", \"legendgroup\": \"20613\", \"line\": {\"color\": \"#ab63fa\", \"dash\": \"solid\"}, \"mode\": \"lines\", \"name\": \"20613\", \"orientation\": \"v\", \"showlegend\": true, \"type\": \"scatter\", \"x\": [\"2014-05-22\"], \"xaxis\": \"x\", \"y\": [1], \"yaxis\": \"y\"}, {\"hovertemplate\": \"mentionedEntity1=20665<br>dateTime=%{x}<br>ct=%{y}<extra></extra>\", \"legendgroup\": \"20665\", \"line\": {\"color\": \"#FFA15A\", \"dash\": \"solid\"}, \"mode\": \"lines\", \"name\": \"20665\", \"orientation\": \"v\", \"showlegend\": true, \"type\": \"scatter\", \"x\": [\"2014-05-22\"], \"xaxis\": \"x\", \"y\": [4], \"yaxis\": \"y\"}, {\"hovertemplate\": \"mentionedEntity1=22041<br>dateTime=%{x}<br>ct=%{y}<extra></extra>\", \"legendgroup\": \"22041\", \"line\": {\"color\": \"#19d3f3\", \"dash\": \"solid\"}, \"mode\": \"lines\", \"name\": \"22041\", \"orientation\": \"v\", \"showlegend\": true, \"type\": \"scatter\", \"x\": [\"2014-05-22\"], \"xaxis\": \"x\", \"y\": [2], \"yaxis\": \"y\"}, {\"hovertemplate\": \"mentionedEntity1=22109<br>dateTime=%{x}<br>ct=%{y}<extra></extra>\", \"legendgroup\": \"22109\", \"line\": {\"color\": \"#FF6692\", \"dash\": \"solid\"}, \"mode\": \"lines\", \"name\": \"22109\", \"orientation\": \"v\", \"showlegend\": true, \"type\": \"scatter\", \"x\": [\"2014-05-22\"], \"xaxis\": \"x\", \"y\": [2], \"yaxis\": \"y\"}, {\"hovertemplate\": \"mentionedEntity1=22118<br>dateTime=%{x}<br>ct=%{y}<extra></extra>\", \"legendgroup\": \"22118\", \"line\": {\"color\": \"#B6E880\", \"dash\": \"solid\"}, \"mode\": \"lines\", \"name\": \"22118\", \"orientation\": \"v\", \"showlegend\": true, \"type\": \"scatter\", \"x\": [\"2014-05-22\"], \"xaxis\": \"x\", \"y\": [3], \"yaxis\": \"y\"}, {\"hovertemplate\": \"mentionedEntity1=24179<br>dateTime=%{x}<br>ct=%{y}<extra></extra>\", \"legendgroup\": \"24179\", \"line\": {\"color\": \"#FF97FF\", \"dash\": \"solid\"}, \"mode\": \"lines\", \"name\": \"24179\", \"orientation\": \"v\", \"showlegend\": true, \"type\": \"scatter\", \"x\": [\"2014-05-22\", \"2014-05-29\", \"2014-05-30\"], \"xaxis\": \"x\", \"y\": [5, 2, 1], \"yaxis\": \"y\"}, {\"hovertemplate\": \"mentionedEntity1=25382<br>dateTime=%{x}<br>ct=%{y}<extra></extra>\", \"legendgroup\": \"25382\", \"line\": {\"color\": \"#FECB52\", \"dash\": \"solid\"}, \"mode\": \"lines\", \"name\": \"25382\", \"orientation\": \"v\", \"showlegend\": true, \"type\": \"scatter\", \"x\": [\"2014-05-22\"], \"xaxis\": \"x\", \"y\": [4], \"yaxis\": \"y\"}, {\"hovertemplate\": \"mentionedEntity1=25891<br>dateTime=%{x}<br>ct=%{y}<extra></extra>\", \"legendgroup\": \"25891\", \"line\": {\"color\": \"#636efa\", \"dash\": \"solid\"}, \"mode\": \"lines\", \"name\": \"25891\", \"orientation\": \"v\", \"showlegend\": true, \"type\": \"scatter\", \"x\": [\"2014-05-22\"], \"xaxis\": \"x\", \"y\": [3], \"yaxis\": \"y\"}, {\"hovertemplate\": \"mentionedEntity1=28374<br>dateTime=%{x}<br>ct=%{y}<extra></extra>\", \"legendgroup\": \"28374\", \"line\": {\"color\": \"#EF553B\", \"dash\": \"solid\"}, \"mode\": \"lines\", \"name\": \"28374\", \"orientation\": \"v\", \"showlegend\": true, \"type\": \"scatter\", \"x\": [\"2014-05-22\"], \"xaxis\": \"x\", \"y\": [6], \"yaxis\": \"y\"}, {\"hovertemplate\": \"mentionedEntity1=28615<br>dateTime=%{x}<br>ct=%{y}<extra></extra>\", \"legendgroup\": \"28615\", \"line\": {\"color\": \"#00cc96\", \"dash\": \"solid\"}, \"mode\": \"lines\", \"name\": \"28615\", \"orientation\": \"v\", \"showlegend\": true, \"type\": \"scatter\", \"x\": [\"2014-05-22\"], \"xaxis\": \"x\", \"y\": [3], \"yaxis\": \"y\"}, {\"hovertemplate\": \"mentionedEntity1=34458<br>dateTime=%{x}<br>ct=%{y}<extra></extra>\", \"legendgroup\": \"34458\", \"line\": {\"color\": \"#ab63fa\", \"dash\": \"solid\"}, \"mode\": \"lines\", \"name\": \"34458\", \"orientation\": \"v\", \"showlegend\": true, \"type\": \"scatter\", \"x\": [\"2014-05-22\"], \"xaxis\": \"x\", \"y\": [5], \"yaxis\": \"y\"}, {\"hovertemplate\": \"mentionedEntity1=35015<br>dateTime=%{x}<br>ct=%{y}<extra></extra>\", \"legendgroup\": \"35015\", \"line\": {\"color\": \"#FFA15A\", \"dash\": \"solid\"}, \"mode\": \"lines\", \"name\": \"35015\", \"orientation\": \"v\", \"showlegend\": true, \"type\": \"scatter\", \"x\": [\"2014-05-22\"], \"xaxis\": \"x\", \"y\": [2], \"yaxis\": \"y\"}, {\"hovertemplate\": \"mentionedEntity1=35475<br>dateTime=%{x}<br>ct=%{y}<extra></extra>\", \"legendgroup\": \"35475\", \"line\": {\"color\": \"#19d3f3\", \"dash\": \"solid\"}, \"mode\": \"lines\", \"name\": \"35475\", \"orientation\": \"v\", \"showlegend\": true, \"type\": \"scatter\", \"x\": [\"2014-05-22\", \"2014-05-23\", \"2014-05-25\", \"2014-05-27\", \"2014-05-30\"], \"xaxis\": \"x\", \"y\": [3, 8, 1, 17, 8], \"yaxis\": \"y\"}, {\"hovertemplate\": \"mentionedEntity1=35972<br>dateTime=%{x}<br>ct=%{y}<extra></extra>\", \"legendgroup\": \"35972\", \"line\": {\"color\": \"#FF6692\", \"dash\": \"solid\"}, \"mode\": \"lines\", \"name\": \"35972\", \"orientation\": \"v\", \"showlegend\": true, \"type\": \"scatter\", \"x\": [\"2014-05-22\"], \"xaxis\": \"x\", \"y\": [2], \"yaxis\": \"y\"}, {\"hovertemplate\": \"mentionedEntity1=36200<br>dateTime=%{x}<br>ct=%{y}<extra></extra>\", \"legendgroup\": \"36200\", \"line\": {\"color\": \"#B6E880\", \"dash\": \"solid\"}, \"mode\": \"lines\", \"name\": \"36200\", \"orientation\": \"v\", \"showlegend\": true, \"type\": \"scatter\", \"x\": [\"2014-05-22\"], \"xaxis\": \"x\", \"y\": [1], \"yaxis\": \"y\"}, {\"hovertemplate\": \"mentionedEntity1=38170<br>dateTime=%{x}<br>ct=%{y}<extra></extra>\", \"legendgroup\": \"38170\", \"line\": {\"color\": \"#FF97FF\", \"dash\": \"solid\"}, \"mode\": \"lines\", \"name\": \"38170\", \"orientation\": \"v\", \"showlegend\": true, \"type\": \"scatter\", \"x\": [\"2014-05-22\"], \"xaxis\": \"x\", \"y\": [7], \"yaxis\": \"y\"}, {\"hovertemplate\": \"mentionedEntity1=38499<br>dateTime=%{x}<br>ct=%{y}<extra></extra>\", \"legendgroup\": \"38499\", \"line\": {\"color\": \"#FECB52\", \"dash\": \"solid\"}, \"mode\": \"lines\", \"name\": \"38499\", \"orientation\": \"v\", \"showlegend\": true, \"type\": \"scatter\", \"x\": [\"2014-05-22\"], \"xaxis\": \"x\", \"y\": [2], \"yaxis\": \"y\"}, {\"hovertemplate\": \"mentionedEntity1=39948<br>dateTime=%{x}<br>ct=%{y}<extra></extra>\", \"legendgroup\": \"39948\", \"line\": {\"color\": \"#636efa\", \"dash\": \"solid\"}, \"mode\": \"lines\", \"name\": \"39948\", \"orientation\": \"v\", \"showlegend\": true, \"type\": \"scatter\", \"x\": [\"2014-05-22\"], \"xaxis\": \"x\", \"y\": [4], \"yaxis\": \"y\"}, {\"hovertemplate\": \"mentionedEntity1=40357<br>dateTime=%{x}<br>ct=%{y}<extra></extra>\", \"legendgroup\": \"40357\", \"line\": {\"color\": \"#EF553B\", \"dash\": \"solid\"}, \"mode\": \"lines\", \"name\": \"40357\", \"orientation\": \"v\", \"showlegend\": true, \"type\": \"scatter\", \"x\": [\"2014-05-22\"], \"xaxis\": \"x\", \"y\": [2], \"yaxis\": \"y\"}, {\"hovertemplate\": \"mentionedEntity1=40860<br>dateTime=%{x}<br>ct=%{y}<extra></extra>\", \"legendgroup\": \"40860\", \"line\": {\"color\": \"#00cc96\", \"dash\": \"solid\"}, \"mode\": \"lines\", \"name\": \"40860\", \"orientation\": \"v\", \"showlegend\": true, \"type\": \"scatter\", \"x\": [\"2014-05-22\"], \"xaxis\": \"x\", \"y\": [6], \"yaxis\": \"y\"}, {\"hovertemplate\": \"mentionedEntity1=41225<br>dateTime=%{x}<br>ct=%{y}<extra></extra>\", \"legendgroup\": \"41225\", \"line\": {\"color\": \"#ab63fa\", \"dash\": \"solid\"}, \"mode\": \"lines\", \"name\": \"41225\", \"orientation\": \"v\", \"showlegend\": true, \"type\": \"scatter\", \"x\": [\"2014-05-22\"], \"xaxis\": \"x\", \"y\": [2], \"yaxis\": \"y\"}, {\"hovertemplate\": \"mentionedEntity1=43629<br>dateTime=%{x}<br>ct=%{y}<extra></extra>\", \"legendgroup\": \"43629\", \"line\": {\"color\": \"#FFA15A\", \"dash\": \"solid\"}, \"mode\": \"lines\", \"name\": \"43629\", \"orientation\": \"v\", \"showlegend\": true, \"type\": \"scatter\", \"x\": [\"2014-05-22\"], \"xaxis\": \"x\", \"y\": [1], \"yaxis\": \"y\"}, {\"hovertemplate\": \"mentionedEntity1=44194<br>dateTime=%{x}<br>ct=%{y}<extra></extra>\", \"legendgroup\": \"44194\", \"line\": {\"color\": \"#19d3f3\", \"dash\": \"solid\"}, \"mode\": \"lines\", \"name\": \"44194\", \"orientation\": \"v\", \"showlegend\": true, \"type\": \"scatter\", \"x\": [\"2014-05-22\"], \"xaxis\": \"x\", \"y\": [10], \"yaxis\": \"y\"}, {\"hovertemplate\": \"mentionedEntity1=45264<br>dateTime=%{x}<br>ct=%{y}<extra></extra>\", \"legendgroup\": \"45264\", \"line\": {\"color\": \"#FF6692\", \"dash\": \"solid\"}, \"mode\": \"lines\", \"name\": \"45264\", \"orientation\": \"v\", \"showlegend\": true, \"type\": \"scatter\", \"x\": [\"2014-05-22\"], \"xaxis\": \"x\", \"y\": [2], \"yaxis\": \"y\"}, {\"hovertemplate\": \"mentionedEntity1=47816<br>dateTime=%{x}<br>ct=%{y}<extra></extra>\", \"legendgroup\": \"47816\", \"line\": {\"color\": \"#B6E880\", \"dash\": \"solid\"}, \"mode\": \"lines\", \"name\": \"47816\", \"orientation\": \"v\", \"showlegend\": true, \"type\": \"scatter\", \"x\": [\"2014-05-22\"], \"xaxis\": \"x\", \"y\": [1], \"yaxis\": \"y\"}, {\"hovertemplate\": \"mentionedEntity1=49452<br>dateTime=%{x}<br>ct=%{y}<extra></extra>\", \"legendgroup\": \"49452\", \"line\": {\"color\": \"#FF97FF\", \"dash\": \"solid\"}, \"mode\": \"lines\", \"name\": \"49452\", \"orientation\": \"v\", \"showlegend\": true, \"type\": \"scatter\", \"x\": [\"2014-05-22\"], \"xaxis\": \"x\", \"y\": [6], \"yaxis\": \"y\"}, {\"hovertemplate\": \"mentionedEntity1=909<br>dateTime=%{x}<br>ct=%{y}<extra></extra>\", \"legendgroup\": \"909\", \"line\": {\"color\": \"#FECB52\", \"dash\": \"solid\"}, \"mode\": \"lines\", \"name\": \"909\", \"orientation\": \"v\", \"showlegend\": true, \"type\": \"scatter\", \"x\": [\"2014-05-23\"], \"xaxis\": \"x\", \"y\": [2], \"yaxis\": \"y\"}, {\"hovertemplate\": \"mentionedEntity1=1396<br>dateTime=%{x}<br>ct=%{y}<extra></extra>\", \"legendgroup\": \"1396\", \"line\": {\"color\": \"#636efa\", \"dash\": \"solid\"}, \"mode\": \"lines\", \"name\": \"1396\", \"orientation\": \"v\", \"showlegend\": true, \"type\": \"scatter\", \"x\": [\"2014-05-23\", \"2014-05-24\"], \"xaxis\": \"x\", \"y\": [2, 2], \"yaxis\": \"y\"}, {\"hovertemplate\": \"mentionedEntity1=3301<br>dateTime=%{x}<br>ct=%{y}<extra></extra>\", \"legendgroup\": \"3301\", \"line\": {\"color\": \"#EF553B\", \"dash\": \"solid\"}, \"mode\": \"lines\", \"name\": \"3301\", \"orientation\": \"v\", \"showlegend\": true, \"type\": \"scatter\", \"x\": [\"2014-05-23\"], \"xaxis\": \"x\", \"y\": [8], \"yaxis\": \"y\"}, {\"hovertemplate\": \"mentionedEntity1=9929<br>dateTime=%{x}<br>ct=%{y}<extra></extra>\", \"legendgroup\": \"9929\", \"line\": {\"color\": \"#00cc96\", \"dash\": \"solid\"}, \"mode\": \"lines\", \"name\": \"9929\", \"orientation\": \"v\", \"showlegend\": true, \"type\": \"scatter\", \"x\": [\"2014-05-23\", \"2014-05-24\"], \"xaxis\": \"x\", \"y\": [5, 1], \"yaxis\": \"y\"}, {\"hovertemplate\": \"mentionedEntity1=11350<br>dateTime=%{x}<br>ct=%{y}<extra></extra>\", \"legendgroup\": \"11350\", \"line\": {\"color\": \"#ab63fa\", \"dash\": \"solid\"}, \"mode\": \"lines\", \"name\": \"11350\", \"orientation\": \"v\", \"showlegend\": true, \"type\": \"scatter\", \"x\": [\"2014-05-23\"], \"xaxis\": \"x\", \"y\": [2], \"yaxis\": \"y\"}, {\"hovertemplate\": \"mentionedEntity1=11694<br>dateTime=%{x}<br>ct=%{y}<extra></extra>\", \"legendgroup\": \"11694\", \"line\": {\"color\": \"#FFA15A\", \"dash\": \"solid\"}, \"mode\": \"lines\", \"name\": \"11694\", \"orientation\": \"v\", \"showlegend\": true, \"type\": \"scatter\", \"x\": [\"2014-05-23\"], \"xaxis\": \"x\", \"y\": [1], \"yaxis\": \"y\"}, {\"hovertemplate\": \"mentionedEntity1=11987<br>dateTime=%{x}<br>ct=%{y}<extra></extra>\", \"legendgroup\": \"11987\", \"line\": {\"color\": \"#19d3f3\", \"dash\": \"solid\"}, \"mode\": \"lines\", \"name\": \"11987\", \"orientation\": \"v\", \"showlegend\": true, \"type\": \"scatter\", \"x\": [\"2014-05-23\"], \"xaxis\": \"x\", \"y\": [2], \"yaxis\": \"y\"}, {\"hovertemplate\": \"mentionedEntity1=13701<br>dateTime=%{x}<br>ct=%{y}<extra></extra>\", \"legendgroup\": \"13701\", \"line\": {\"color\": \"#FF6692\", \"dash\": \"solid\"}, \"mode\": \"lines\", \"name\": \"13701\", \"orientation\": \"v\", \"showlegend\": true, \"type\": \"scatter\", \"x\": [\"2014-05-23\"], \"xaxis\": \"x\", \"y\": [1], \"yaxis\": \"y\"}, {\"hovertemplate\": \"mentionedEntity1=16864<br>dateTime=%{x}<br>ct=%{y}<extra></extra>\", \"legendgroup\": \"16864\", \"line\": {\"color\": \"#B6E880\", \"dash\": \"solid\"}, \"mode\": \"lines\", \"name\": \"16864\", \"orientation\": \"v\", \"showlegend\": true, \"type\": \"scatter\", \"x\": [\"2014-05-23\"], \"xaxis\": \"x\", \"y\": [3], \"yaxis\": \"y\"}, {\"hovertemplate\": \"mentionedEntity1=18211<br>dateTime=%{x}<br>ct=%{y}<extra></extra>\", \"legendgroup\": \"18211\", \"line\": {\"color\": \"#FF97FF\", \"dash\": \"solid\"}, \"mode\": \"lines\", \"name\": \"18211\", \"orientation\": \"v\", \"showlegend\": true, \"type\": \"scatter\", \"x\": [\"2014-05-23\"], \"xaxis\": \"x\", \"y\": [3], \"yaxis\": \"y\"}, {\"hovertemplate\": \"mentionedEntity1=18542<br>dateTime=%{x}<br>ct=%{y}<extra></extra>\", \"legendgroup\": \"18542\", \"line\": {\"color\": \"#FECB52\", \"dash\": \"solid\"}, \"mode\": \"lines\", \"name\": \"18542\", \"orientation\": \"v\", \"showlegend\": true, \"type\": \"scatter\", \"x\": [\"2014-05-23\", \"2014-05-29\"], \"xaxis\": \"x\", \"y\": [2, 2], \"yaxis\": \"y\"}, {\"hovertemplate\": \"mentionedEntity1=20027<br>dateTime=%{x}<br>ct=%{y}<extra></extra>\", \"legendgroup\": \"20027\", \"line\": {\"color\": \"#636efa\", \"dash\": \"solid\"}, \"mode\": \"lines\", \"name\": \"20027\", \"orientation\": \"v\", \"showlegend\": true, \"type\": \"scatter\", \"x\": [\"2014-05-23\"], \"xaxis\": \"x\", \"y\": [4], \"yaxis\": \"y\"}, {\"hovertemplate\": \"mentionedEntity1=20393<br>dateTime=%{x}<br>ct=%{y}<extra></extra>\", \"legendgroup\": \"20393\", \"line\": {\"color\": \"#EF553B\", \"dash\": \"solid\"}, \"mode\": \"lines\", \"name\": \"20393\", \"orientation\": \"v\", \"showlegend\": true, \"type\": \"scatter\", \"x\": [\"2014-05-23\"], \"xaxis\": \"x\", \"y\": [2], \"yaxis\": \"y\"}, {\"hovertemplate\": \"mentionedEntity1=20542<br>dateTime=%{x}<br>ct=%{y}<extra></extra>\", \"legendgroup\": \"20542\", \"line\": {\"color\": \"#00cc96\", \"dash\": \"solid\"}, \"mode\": \"lines\", \"name\": \"20542\", \"orientation\": \"v\", \"showlegend\": true, \"type\": \"scatter\", \"x\": [\"2014-05-23\", \"2014-05-24\", \"2014-05-25\", \"2014-05-30\"], \"xaxis\": \"x\", \"y\": [9, 4, 4, 1], \"yaxis\": \"y\"}, {\"hovertemplate\": \"mentionedEntity1=20667<br>dateTime=%{x}<br>ct=%{y}<extra></extra>\", \"legendgroup\": \"20667\", \"line\": {\"color\": \"#ab63fa\", \"dash\": \"solid\"}, \"mode\": \"lines\", \"name\": \"20667\", \"orientation\": \"v\", \"showlegend\": true, \"type\": \"scatter\", \"x\": [\"2014-05-23\"], \"xaxis\": \"x\", \"y\": [9], \"yaxis\": \"y\"}, {\"hovertemplate\": \"mentionedEntity1=22214<br>dateTime=%{x}<br>ct=%{y}<extra></extra>\", \"legendgroup\": \"22214\", \"line\": {\"color\": \"#FFA15A\", \"dash\": \"solid\"}, \"mode\": \"lines\", \"name\": \"22214\", \"orientation\": \"v\", \"showlegend\": true, \"type\": \"scatter\", \"x\": [\"2014-05-23\"], \"xaxis\": \"x\", \"y\": [4], \"yaxis\": \"y\"}, {\"hovertemplate\": \"mentionedEntity1=24432<br>dateTime=%{x}<br>ct=%{y}<extra></extra>\", \"legendgroup\": \"24432\", \"line\": {\"color\": \"#19d3f3\", \"dash\": \"solid\"}, \"mode\": \"lines\", \"name\": \"24432\", \"orientation\": \"v\", \"showlegend\": true, \"type\": \"scatter\", \"x\": [\"2014-05-23\"], \"xaxis\": \"x\", \"y\": [1], \"yaxis\": \"y\"}, {\"hovertemplate\": \"mentionedEntity1=31274<br>dateTime=%{x}<br>ct=%{y}<extra></extra>\", \"legendgroup\": \"31274\", \"line\": {\"color\": \"#FF6692\", \"dash\": \"solid\"}, \"mode\": \"lines\", \"name\": \"31274\", \"orientation\": \"v\", \"showlegend\": true, \"type\": \"scatter\", \"x\": [\"2014-05-23\"], \"xaxis\": \"x\", \"y\": [1], \"yaxis\": \"y\"}, {\"hovertemplate\": \"mentionedEntity1=31927<br>dateTime=%{x}<br>ct=%{y}<extra></extra>\", \"legendgroup\": \"31927\", \"line\": {\"color\": \"#B6E880\", \"dash\": \"solid\"}, \"mode\": \"lines\", \"name\": \"31927\", \"orientation\": \"v\", \"showlegend\": true, \"type\": \"scatter\", \"x\": [\"2014-05-23\"], \"xaxis\": \"x\", \"y\": [2], \"yaxis\": \"y\"}, {\"hovertemplate\": \"mentionedEntity1=33715<br>dateTime=%{x}<br>ct=%{y}<extra></extra>\", \"legendgroup\": \"33715\", \"line\": {\"color\": \"#FF97FF\", \"dash\": \"solid\"}, \"mode\": \"lines\", \"name\": \"33715\", \"orientation\": \"v\", \"showlegend\": true, \"type\": \"scatter\", \"x\": [\"2014-05-23\", \"2014-05-27\"], \"xaxis\": \"x\", \"y\": [4, 7], \"yaxis\": \"y\"}, {\"hovertemplate\": \"mentionedEntity1=34867<br>dateTime=%{x}<br>ct=%{y}<extra></extra>\", \"legendgroup\": \"34867\", \"line\": {\"color\": \"#FECB52\", \"dash\": \"solid\"}, \"mode\": \"lines\", \"name\": \"34867\", \"orientation\": \"v\", \"showlegend\": true, \"type\": \"scatter\", \"x\": [\"2014-05-23\"], \"xaxis\": \"x\", \"y\": [6], \"yaxis\": \"y\"}, {\"hovertemplate\": \"mentionedEntity1=38469<br>dateTime=%{x}<br>ct=%{y}<extra></extra>\", \"legendgroup\": \"38469\", \"line\": {\"color\": \"#636efa\", \"dash\": \"solid\"}, \"mode\": \"lines\", \"name\": \"38469\", \"orientation\": \"v\", \"showlegend\": true, \"type\": \"scatter\", \"x\": [\"2014-05-23\"], \"xaxis\": \"x\", \"y\": [5], \"yaxis\": \"y\"}, {\"hovertemplate\": \"mentionedEntity1=44018<br>dateTime=%{x}<br>ct=%{y}<extra></extra>\", \"legendgroup\": \"44018\", \"line\": {\"color\": \"#EF553B\", \"dash\": \"solid\"}, \"mode\": \"lines\", \"name\": \"44018\", \"orientation\": \"v\", \"showlegend\": true, \"type\": \"scatter\", \"x\": [\"2014-05-23\"], \"xaxis\": \"x\", \"y\": [6], \"yaxis\": \"y\"}, {\"hovertemplate\": \"mentionedEntity1=49276<br>dateTime=%{x}<br>ct=%{y}<extra></extra>\", \"legendgroup\": \"49276\", \"line\": {\"color\": \"#00cc96\", \"dash\": \"solid\"}, \"mode\": \"lines\", \"name\": \"49276\", \"orientation\": \"v\", \"showlegend\": true, \"type\": \"scatter\", \"x\": [\"2014-05-23\"], \"xaxis\": \"x\", \"y\": [6], \"yaxis\": \"y\"}, {\"hovertemplate\": \"mentionedEntity1=52083<br>dateTime=%{x}<br>ct=%{y}<extra></extra>\", \"legendgroup\": \"52083\", \"line\": {\"color\": \"#ab63fa\", \"dash\": \"solid\"}, \"mode\": \"lines\", \"name\": \"52083\", \"orientation\": \"v\", \"showlegend\": true, \"type\": \"scatter\", \"x\": [\"2014-05-23\"], \"xaxis\": \"x\", \"y\": [1], \"yaxis\": \"y\"}, {\"hovertemplate\": \"mentionedEntity1=656<br>dateTime=%{x}<br>ct=%{y}<extra></extra>\", \"legendgroup\": \"656\", \"line\": {\"color\": \"#FFA15A\", \"dash\": \"solid\"}, \"mode\": \"lines\", \"name\": \"656\", \"orientation\": \"v\", \"showlegend\": true, \"type\": \"scatter\", \"x\": [\"2014-05-24\"], \"xaxis\": \"x\", \"y\": [11], \"yaxis\": \"y\"}, {\"hovertemplate\": \"mentionedEntity1=1649<br>dateTime=%{x}<br>ct=%{y}<extra></extra>\", \"legendgroup\": \"1649\", \"line\": {\"color\": \"#19d3f3\", \"dash\": \"solid\"}, \"mode\": \"lines\", \"name\": \"1649\", \"orientation\": \"v\", \"showlegend\": true, \"type\": \"scatter\", \"x\": [\"2014-05-24\"], \"xaxis\": \"x\", \"y\": [8], \"yaxis\": \"y\"}, {\"hovertemplate\": \"mentionedEntity1=1732<br>dateTime=%{x}<br>ct=%{y}<extra></extra>\", \"legendgroup\": \"1732\", \"line\": {\"color\": \"#FF6692\", \"dash\": \"solid\"}, \"mode\": \"lines\", \"name\": \"1732\", \"orientation\": \"v\", \"showlegend\": true, \"type\": \"scatter\", \"x\": [\"2014-05-24\"], \"xaxis\": \"x\", \"y\": [7], \"yaxis\": \"y\"}, {\"hovertemplate\": \"mentionedEntity1=1860<br>dateTime=%{x}<br>ct=%{y}<extra></extra>\", \"legendgroup\": \"1860\", \"line\": {\"color\": \"#B6E880\", \"dash\": \"solid\"}, \"mode\": \"lines\", \"name\": \"1860\", \"orientation\": \"v\", \"showlegend\": true, \"type\": \"scatter\", \"x\": [\"2014-05-24\", \"2014-05-26\"], \"xaxis\": \"x\", \"y\": [20, 3], \"yaxis\": \"y\"}, {\"hovertemplate\": \"mentionedEntity1=2670<br>dateTime=%{x}<br>ct=%{y}<extra></extra>\", \"legendgroup\": \"2670\", \"line\": {\"color\": \"#FF97FF\", \"dash\": \"solid\"}, \"mode\": \"lines\", \"name\": \"2670\", \"orientation\": \"v\", \"showlegend\": true, \"type\": \"scatter\", \"x\": [\"2014-05-24\"], \"xaxis\": \"x\", \"y\": [4], \"yaxis\": \"y\"}, {\"hovertemplate\": \"mentionedEntity1=3084<br>dateTime=%{x}<br>ct=%{y}<extra></extra>\", \"legendgroup\": \"3084\", \"line\": {\"color\": \"#FECB52\", \"dash\": \"solid\"}, \"mode\": \"lines\", \"name\": \"3084\", \"orientation\": \"v\", \"showlegend\": true, \"type\": \"scatter\", \"x\": [\"2014-05-24\"], \"xaxis\": \"x\", \"y\": [3], \"yaxis\": \"y\"}, {\"hovertemplate\": \"mentionedEntity1=4917<br>dateTime=%{x}<br>ct=%{y}<extra></extra>\", \"legendgroup\": \"4917\", \"line\": {\"color\": \"#636efa\", \"dash\": \"solid\"}, \"mode\": \"lines\", \"name\": \"4917\", \"orientation\": \"v\", \"showlegend\": true, \"type\": \"scatter\", \"x\": [\"2014-05-24\"], \"xaxis\": \"x\", \"y\": [6], \"yaxis\": \"y\"}, {\"hovertemplate\": \"mentionedEntity1=5041<br>dateTime=%{x}<br>ct=%{y}<extra></extra>\", \"legendgroup\": \"5041\", \"line\": {\"color\": \"#EF553B\", \"dash\": \"solid\"}, \"mode\": \"lines\", \"name\": \"5041\", \"orientation\": \"v\", \"showlegend\": true, \"type\": \"scatter\", \"x\": [\"2014-05-24\"], \"xaxis\": \"x\", \"y\": [4], \"yaxis\": \"y\"}, {\"hovertemplate\": \"mentionedEntity1=5757<br>dateTime=%{x}<br>ct=%{y}<extra></extra>\", \"legendgroup\": \"5757\", \"line\": {\"color\": \"#00cc96\", \"dash\": \"solid\"}, \"mode\": \"lines\", \"name\": \"5757\", \"orientation\": \"v\", \"showlegend\": true, \"type\": \"scatter\", \"x\": [\"2014-05-24\"], \"xaxis\": \"x\", \"y\": [5], \"yaxis\": \"y\"}, {\"hovertemplate\": \"mentionedEntity1=5863<br>dateTime=%{x}<br>ct=%{y}<extra></extra>\", \"legendgroup\": \"5863\", \"line\": {\"color\": \"#ab63fa\", \"dash\": \"solid\"}, \"mode\": \"lines\", \"name\": \"5863\", \"orientation\": \"v\", \"showlegend\": true, \"type\": \"scatter\", \"x\": [\"2014-05-24\"], \"xaxis\": \"x\", \"y\": [4], \"yaxis\": \"y\"}, {\"hovertemplate\": \"mentionedEntity1=7094<br>dateTime=%{x}<br>ct=%{y}<extra></extra>\", \"legendgroup\": \"7094\", \"line\": {\"color\": \"#FFA15A\", \"dash\": \"solid\"}, \"mode\": \"lines\", \"name\": \"7094\", \"orientation\": \"v\", \"showlegend\": true, \"type\": \"scatter\", \"x\": [\"2014-05-24\", \"2014-05-26\"], \"xaxis\": \"x\", \"y\": [8, 3], \"yaxis\": \"y\"}, {\"hovertemplate\": \"mentionedEntity1=7772<br>dateTime=%{x}<br>ct=%{y}<extra></extra>\", \"legendgroup\": \"7772\", \"line\": {\"color\": \"#19d3f3\", \"dash\": \"solid\"}, \"mode\": \"lines\", \"name\": \"7772\", \"orientation\": \"v\", \"showlegend\": true, \"type\": \"scatter\", \"x\": [\"2014-05-24\"], \"xaxis\": \"x\", \"y\": [2], \"yaxis\": \"y\"}, {\"hovertemplate\": \"mentionedEntity1=7841<br>dateTime=%{x}<br>ct=%{y}<extra></extra>\", \"legendgroup\": \"7841\", \"line\": {\"color\": \"#FF6692\", \"dash\": \"solid\"}, \"mode\": \"lines\", \"name\": \"7841\", \"orientation\": \"v\", \"showlegend\": true, \"type\": \"scatter\", \"x\": [\"2014-05-24\"], \"xaxis\": \"x\", \"y\": [2], \"yaxis\": \"y\"}, {\"hovertemplate\": \"mentionedEntity1=8081<br>dateTime=%{x}<br>ct=%{y}<extra></extra>\", \"legendgroup\": \"8081\", \"line\": {\"color\": \"#B6E880\", \"dash\": \"solid\"}, \"mode\": \"lines\", \"name\": \"8081\", \"orientation\": \"v\", \"showlegend\": true, \"type\": \"scatter\", \"x\": [\"2014-05-24\"], \"xaxis\": \"x\", \"y\": [10], \"yaxis\": \"y\"}, {\"hovertemplate\": \"mentionedEntity1=8899<br>dateTime=%{x}<br>ct=%{y}<extra></extra>\", \"legendgroup\": \"8899\", \"line\": {\"color\": \"#FF97FF\", \"dash\": \"solid\"}, \"mode\": \"lines\", \"name\": \"8899\", \"orientation\": \"v\", \"showlegend\": true, \"type\": \"scatter\", \"x\": [\"2014-05-24\"], \"xaxis\": \"x\", \"y\": [2], \"yaxis\": \"y\"}, {\"hovertemplate\": \"mentionedEntity1=11509<br>dateTime=%{x}<br>ct=%{y}<extra></extra>\", \"legendgroup\": \"11509\", \"line\": {\"color\": \"#FECB52\", \"dash\": \"solid\"}, \"mode\": \"lines\", \"name\": \"11509\", \"orientation\": \"v\", \"showlegend\": true, \"type\": \"scatter\", \"x\": [\"2014-05-24\"], \"xaxis\": \"x\", \"y\": [3], \"yaxis\": \"y\"}, {\"hovertemplate\": \"mentionedEntity1=11745<br>dateTime=%{x}<br>ct=%{y}<extra></extra>\", \"legendgroup\": \"11745\", \"line\": {\"color\": \"#636efa\", \"dash\": \"solid\"}, \"mode\": \"lines\", \"name\": \"11745\", \"orientation\": \"v\", \"showlegend\": true, \"type\": \"scatter\", \"x\": [\"2014-05-24\"], \"xaxis\": \"x\", \"y\": [1], \"yaxis\": \"y\"}, {\"hovertemplate\": \"mentionedEntity1=12250<br>dateTime=%{x}<br>ct=%{y}<extra></extra>\", \"legendgroup\": \"12250\", \"line\": {\"color\": \"#EF553B\", \"dash\": \"solid\"}, \"mode\": \"lines\", \"name\": \"12250\", \"orientation\": \"v\", \"showlegend\": true, \"type\": \"scatter\", \"x\": [\"2014-05-24\"], \"xaxis\": \"x\", \"y\": [3], \"yaxis\": \"y\"}, {\"hovertemplate\": \"mentionedEntity1=12505<br>dateTime=%{x}<br>ct=%{y}<extra></extra>\", \"legendgroup\": \"12505\", \"line\": {\"color\": \"#00cc96\", \"dash\": \"solid\"}, \"mode\": \"lines\", \"name\": \"12505\", \"orientation\": \"v\", \"showlegend\": true, \"type\": \"scatter\", \"x\": [\"2014-05-24\"], \"xaxis\": \"x\", \"y\": [3], \"yaxis\": \"y\"}, {\"hovertemplate\": \"mentionedEntity1=13424<br>dateTime=%{x}<br>ct=%{y}<extra></extra>\", \"legendgroup\": \"13424\", \"line\": {\"color\": \"#ab63fa\", \"dash\": \"solid\"}, \"mode\": \"lines\", \"name\": \"13424\", \"orientation\": \"v\", \"showlegend\": true, \"type\": \"scatter\", \"x\": [\"2014-05-24\"], \"xaxis\": \"x\", \"y\": [2], \"yaxis\": \"y\"}, {\"hovertemplate\": \"mentionedEntity1=14914<br>dateTime=%{x}<br>ct=%{y}<extra></extra>\", \"legendgroup\": \"14914\", \"line\": {\"color\": \"#FFA15A\", \"dash\": \"solid\"}, \"mode\": \"lines\", \"name\": \"14914\", \"orientation\": \"v\", \"showlegend\": true, \"type\": \"scatter\", \"x\": [\"2014-05-24\"], \"xaxis\": \"x\", \"y\": [2], \"yaxis\": \"y\"}, {\"hovertemplate\": \"mentionedEntity1=15816<br>dateTime=%{x}<br>ct=%{y}<extra></extra>\", \"legendgroup\": \"15816\", \"line\": {\"color\": \"#19d3f3\", \"dash\": \"solid\"}, \"mode\": \"lines\", \"name\": \"15816\", \"orientation\": \"v\", \"showlegend\": true, \"type\": \"scatter\", \"x\": [\"2014-05-24\"], \"xaxis\": \"x\", \"y\": [3], \"yaxis\": \"y\"}, {\"hovertemplate\": \"mentionedEntity1=16901<br>dateTime=%{x}<br>ct=%{y}<extra></extra>\", \"legendgroup\": \"16901\", \"line\": {\"color\": \"#FF6692\", \"dash\": \"solid\"}, \"mode\": \"lines\", \"name\": \"16901\", \"orientation\": \"v\", \"showlegend\": true, \"type\": \"scatter\", \"x\": [\"2014-05-24\"], \"xaxis\": \"x\", \"y\": [2], \"yaxis\": \"y\"}, {\"hovertemplate\": \"mentionedEntity1=17064<br>dateTime=%{x}<br>ct=%{y}<extra></extra>\", \"legendgroup\": \"17064\", \"line\": {\"color\": \"#B6E880\", \"dash\": \"solid\"}, \"mode\": \"lines\", \"name\": \"17064\", \"orientation\": \"v\", \"showlegend\": true, \"type\": \"scatter\", \"x\": [\"2014-05-24\"], \"xaxis\": \"x\", \"y\": [1], \"yaxis\": \"y\"}, {\"hovertemplate\": \"mentionedEntity1=17351<br>dateTime=%{x}<br>ct=%{y}<extra></extra>\", \"legendgroup\": \"17351\", \"line\": {\"color\": \"#FF97FF\", \"dash\": \"solid\"}, \"mode\": \"lines\", \"name\": \"17351\", \"orientation\": \"v\", \"showlegend\": true, \"type\": \"scatter\", \"x\": [\"2014-05-24\"], \"xaxis\": \"x\", \"y\": [3], \"yaxis\": \"y\"}, {\"hovertemplate\": \"mentionedEntity1=22308<br>dateTime=%{x}<br>ct=%{y}<extra></extra>\", \"legendgroup\": \"22308\", \"line\": {\"color\": \"#FECB52\", \"dash\": \"solid\"}, \"mode\": \"lines\", \"name\": \"22308\", \"orientation\": \"v\", \"showlegend\": true, \"type\": \"scatter\", \"x\": [\"2014-05-24\"], \"xaxis\": \"x\", \"y\": [4], \"yaxis\": \"y\"}, {\"hovertemplate\": \"mentionedEntity1=22365<br>dateTime=%{x}<br>ct=%{y}<extra></extra>\", \"legendgroup\": \"22365\", \"line\": {\"color\": \"#636efa\", \"dash\": \"solid\"}, \"mode\": \"lines\", \"name\": \"22365\", \"orientation\": \"v\", \"showlegend\": true, \"type\": \"scatter\", \"x\": [\"2014-05-24\"], \"xaxis\": \"x\", \"y\": [5], \"yaxis\": \"y\"}, {\"hovertemplate\": \"mentionedEntity1=22450<br>dateTime=%{x}<br>ct=%{y}<extra></extra>\", \"legendgroup\": \"22450\", \"line\": {\"color\": \"#EF553B\", \"dash\": \"solid\"}, \"mode\": \"lines\", \"name\": \"22450\", \"orientation\": \"v\", \"showlegend\": true, \"type\": \"scatter\", \"x\": [\"2014-05-24\"], \"xaxis\": \"x\", \"y\": [3], \"yaxis\": \"y\"}, {\"hovertemplate\": \"mentionedEntity1=22534<br>dateTime=%{x}<br>ct=%{y}<extra></extra>\", \"legendgroup\": \"22534\", \"line\": {\"color\": \"#00cc96\", \"dash\": \"solid\"}, \"mode\": \"lines\", \"name\": \"22534\", \"orientation\": \"v\", \"showlegend\": true, \"type\": \"scatter\", \"x\": [\"2014-05-24\"], \"xaxis\": \"x\", \"y\": [3], \"yaxis\": \"y\"}, {\"hovertemplate\": \"mentionedEntity1=24329<br>dateTime=%{x}<br>ct=%{y}<extra></extra>\", \"legendgroup\": \"24329\", \"line\": {\"color\": \"#ab63fa\", \"dash\": \"solid\"}, \"mode\": \"lines\", \"name\": \"24329\", \"orientation\": \"v\", \"showlegend\": true, \"type\": \"scatter\", \"x\": [\"2014-05-24\"], \"xaxis\": \"x\", \"y\": [1], \"yaxis\": \"y\"}, {\"hovertemplate\": \"mentionedEntity1=26979<br>dateTime=%{x}<br>ct=%{y}<extra></extra>\", \"legendgroup\": \"26979\", \"line\": {\"color\": \"#FFA15A\", \"dash\": \"solid\"}, \"mode\": \"lines\", \"name\": \"26979\", \"orientation\": \"v\", \"showlegend\": true, \"type\": \"scatter\", \"x\": [\"2014-05-24\"], \"xaxis\": \"x\", \"y\": [4], \"yaxis\": \"y\"}, {\"hovertemplate\": \"mentionedEntity1=27591<br>dateTime=%{x}<br>ct=%{y}<extra></extra>\", \"legendgroup\": \"27591\", \"line\": {\"color\": \"#19d3f3\", \"dash\": \"solid\"}, \"mode\": \"lines\", \"name\": \"27591\", \"orientation\": \"v\", \"showlegend\": true, \"type\": \"scatter\", \"x\": [\"2014-05-24\"], \"xaxis\": \"x\", \"y\": [4], \"yaxis\": \"y\"}, {\"hovertemplate\": \"mentionedEntity1=27650<br>dateTime=%{x}<br>ct=%{y}<extra></extra>\", \"legendgroup\": \"27650\", \"line\": {\"color\": \"#FF6692\", \"dash\": \"solid\"}, \"mode\": \"lines\", \"name\": \"27650\", \"orientation\": \"v\", \"showlegend\": true, \"type\": \"scatter\", \"x\": [\"2014-05-24\"], \"xaxis\": \"x\", \"y\": [9], \"yaxis\": \"y\"}, {\"hovertemplate\": \"mentionedEntity1=28253<br>dateTime=%{x}<br>ct=%{y}<extra></extra>\", \"legendgroup\": \"28253\", \"line\": {\"color\": \"#B6E880\", \"dash\": \"solid\"}, \"mode\": \"lines\", \"name\": \"28253\", \"orientation\": \"v\", \"showlegend\": true, \"type\": \"scatter\", \"x\": [\"2014-05-24\"], \"xaxis\": \"x\", \"y\": [1], \"yaxis\": \"y\"}, {\"hovertemplate\": \"mentionedEntity1=29375<br>dateTime=%{x}<br>ct=%{y}<extra></extra>\", \"legendgroup\": \"29375\", \"line\": {\"color\": \"#FF97FF\", \"dash\": \"solid\"}, \"mode\": \"lines\", \"name\": \"29375\", \"orientation\": \"v\", \"showlegend\": true, \"type\": \"scatter\", \"x\": [\"2014-05-24\"], \"xaxis\": \"x\", \"y\": [2], \"yaxis\": \"y\"}, {\"hovertemplate\": \"mentionedEntity1=31555<br>dateTime=%{x}<br>ct=%{y}<extra></extra>\", \"legendgroup\": \"31555\", \"line\": {\"color\": \"#FECB52\", \"dash\": \"solid\"}, \"mode\": \"lines\", \"name\": \"31555\", \"orientation\": \"v\", \"showlegend\": true, \"type\": \"scatter\", \"x\": [\"2014-05-24\"], \"xaxis\": \"x\", \"y\": [4], \"yaxis\": \"y\"}, {\"hovertemplate\": \"mentionedEntity1=35412<br>dateTime=%{x}<br>ct=%{y}<extra></extra>\", \"legendgroup\": \"35412\", \"line\": {\"color\": \"#636efa\", \"dash\": \"solid\"}, \"mode\": \"lines\", \"name\": \"35412\", \"orientation\": \"v\", \"showlegend\": true, \"type\": \"scatter\", \"x\": [\"2014-05-24\"], \"xaxis\": \"x\", \"y\": [8], \"yaxis\": \"y\"}, {\"hovertemplate\": \"mentionedEntity1=35778<br>dateTime=%{x}<br>ct=%{y}<extra></extra>\", \"legendgroup\": \"35778\", \"line\": {\"color\": \"#EF553B\", \"dash\": \"solid\"}, \"mode\": \"lines\", \"name\": \"35778\", \"orientation\": \"v\", \"showlegend\": true, \"type\": \"scatter\", \"x\": [\"2014-05-24\"], \"xaxis\": \"x\", \"y\": [1], \"yaxis\": \"y\"}, {\"hovertemplate\": \"mentionedEntity1=38405<br>dateTime=%{x}<br>ct=%{y}<extra></extra>\", \"legendgroup\": \"38405\", \"line\": {\"color\": \"#00cc96\", \"dash\": \"solid\"}, \"mode\": \"lines\", \"name\": \"38405\", \"orientation\": \"v\", \"showlegend\": true, \"type\": \"scatter\", \"x\": [\"2014-05-24\"], \"xaxis\": \"x\", \"y\": [2], \"yaxis\": \"y\"}, {\"hovertemplate\": \"mentionedEntity1=39696<br>dateTime=%{x}<br>ct=%{y}<extra></extra>\", \"legendgroup\": \"39696\", \"line\": {\"color\": \"#ab63fa\", \"dash\": \"solid\"}, \"mode\": \"lines\", \"name\": \"39696\", \"orientation\": \"v\", \"showlegend\": true, \"type\": \"scatter\", \"x\": [\"2014-05-24\", \"2014-05-25\"], \"xaxis\": \"x\", \"y\": [2, 2], \"yaxis\": \"y\"}, {\"hovertemplate\": \"mentionedEntity1=39934<br>dateTime=%{x}<br>ct=%{y}<extra></extra>\", \"legendgroup\": \"39934\", \"line\": {\"color\": \"#FFA15A\", \"dash\": \"solid\"}, \"mode\": \"lines\", \"name\": \"39934\", \"orientation\": \"v\", \"showlegend\": true, \"type\": \"scatter\", \"x\": [\"2014-05-24\"], \"xaxis\": \"x\", \"y\": [6], \"yaxis\": \"y\"}, {\"hovertemplate\": \"mentionedEntity1=40399<br>dateTime=%{x}<br>ct=%{y}<extra></extra>\", \"legendgroup\": \"40399\", \"line\": {\"color\": \"#19d3f3\", \"dash\": \"solid\"}, \"mode\": \"lines\", \"name\": \"40399\", \"orientation\": \"v\", \"showlegend\": true, \"type\": \"scatter\", \"x\": [\"2014-05-24\"], \"xaxis\": \"x\", \"y\": [1], \"yaxis\": \"y\"}, {\"hovertemplate\": \"mentionedEntity1=41574<br>dateTime=%{x}<br>ct=%{y}<extra></extra>\", \"legendgroup\": \"41574\", \"line\": {\"color\": \"#FF6692\", \"dash\": \"solid\"}, \"mode\": \"lines\", \"name\": \"41574\", \"orientation\": \"v\", \"showlegend\": true, \"type\": \"scatter\", \"x\": [\"2014-05-24\"], \"xaxis\": \"x\", \"y\": [1], \"yaxis\": \"y\"}, {\"hovertemplate\": \"mentionedEntity1=42739<br>dateTime=%{x}<br>ct=%{y}<extra></extra>\", \"legendgroup\": \"42739\", \"line\": {\"color\": \"#B6E880\", \"dash\": \"solid\"}, \"mode\": \"lines\", \"name\": \"42739\", \"orientation\": \"v\", \"showlegend\": true, \"type\": \"scatter\", \"x\": [\"2014-05-24\"], \"xaxis\": \"x\", \"y\": [3], \"yaxis\": \"y\"}, {\"hovertemplate\": \"mentionedEntity1=42784<br>dateTime=%{x}<br>ct=%{y}<extra></extra>\", \"legendgroup\": \"42784\", \"line\": {\"color\": \"#FF97FF\", \"dash\": \"solid\"}, \"mode\": \"lines\", \"name\": \"42784\", \"orientation\": \"v\", \"showlegend\": true, \"type\": \"scatter\", \"x\": [\"2014-05-24\"], \"xaxis\": \"x\", \"y\": [1], \"yaxis\": \"y\"}, {\"hovertemplate\": \"mentionedEntity1=44073<br>dateTime=%{x}<br>ct=%{y}<extra></extra>\", \"legendgroup\": \"44073\", \"line\": {\"color\": \"#FECB52\", \"dash\": \"solid\"}, \"mode\": \"lines\", \"name\": \"44073\", \"orientation\": \"v\", \"showlegend\": true, \"type\": \"scatter\", \"x\": [\"2014-05-24\"], \"xaxis\": \"x\", \"y\": [9], \"yaxis\": \"y\"}, {\"hovertemplate\": \"mentionedEntity1=44562<br>dateTime=%{x}<br>ct=%{y}<extra></extra>\", \"legendgroup\": \"44562\", \"line\": {\"color\": \"#636efa\", \"dash\": \"solid\"}, \"mode\": \"lines\", \"name\": \"44562\", \"orientation\": \"v\", \"showlegend\": true, \"type\": \"scatter\", \"x\": [\"2014-05-24\"], \"xaxis\": \"x\", \"y\": [1], \"yaxis\": \"y\"}, {\"hovertemplate\": \"mentionedEntity1=45353<br>dateTime=%{x}<br>ct=%{y}<extra></extra>\", \"legendgroup\": \"45353\", \"line\": {\"color\": \"#EF553B\", \"dash\": \"solid\"}, \"mode\": \"lines\", \"name\": \"45353\", \"orientation\": \"v\", \"showlegend\": true, \"type\": \"scatter\", \"x\": [\"2014-05-24\"], \"xaxis\": \"x\", \"y\": [5], \"yaxis\": \"y\"}, {\"hovertemplate\": \"mentionedEntity1=47083<br>dateTime=%{x}<br>ct=%{y}<extra></extra>\", \"legendgroup\": \"47083\", \"line\": {\"color\": \"#00cc96\", \"dash\": \"solid\"}, \"mode\": \"lines\", \"name\": \"47083\", \"orientation\": \"v\", \"showlegend\": true, \"type\": \"scatter\", \"x\": [\"2014-05-24\"], \"xaxis\": \"x\", \"y\": [4], \"yaxis\": \"y\"}, {\"hovertemplate\": \"mentionedEntity1=48523<br>dateTime=%{x}<br>ct=%{y}<extra></extra>\", \"legendgroup\": \"48523\", \"line\": {\"color\": \"#ab63fa\", \"dash\": \"solid\"}, \"mode\": \"lines\", \"name\": \"48523\", \"orientation\": \"v\", \"showlegend\": true, \"type\": \"scatter\", \"x\": [\"2014-05-24\", \"2014-05-27\"], \"xaxis\": \"x\", \"y\": [4, 2], \"yaxis\": \"y\"}, {\"hovertemplate\": \"mentionedEntity1=48687<br>dateTime=%{x}<br>ct=%{y}<extra></extra>\", \"legendgroup\": \"48687\", \"line\": {\"color\": \"#FFA15A\", \"dash\": \"solid\"}, \"mode\": \"lines\", \"name\": \"48687\", \"orientation\": \"v\", \"showlegend\": true, \"type\": \"scatter\", \"x\": [\"2014-05-24\"], \"xaxis\": \"x\", \"y\": [6], \"yaxis\": \"y\"}, {\"hovertemplate\": \"mentionedEntity1=50143<br>dateTime=%{x}<br>ct=%{y}<extra></extra>\", \"legendgroup\": \"50143\", \"line\": {\"color\": \"#19d3f3\", \"dash\": \"solid\"}, \"mode\": \"lines\", \"name\": \"50143\", \"orientation\": \"v\", \"showlegend\": true, \"type\": \"scatter\", \"x\": [\"2014-05-24\"], \"xaxis\": \"x\", \"y\": [3], \"yaxis\": \"y\"}, {\"hovertemplate\": \"mentionedEntity1=50147<br>dateTime=%{x}<br>ct=%{y}<extra></extra>\", \"legendgroup\": \"50147\", \"line\": {\"color\": \"#FF6692\", \"dash\": \"solid\"}, \"mode\": \"lines\", \"name\": \"50147\", \"orientation\": \"v\", \"showlegend\": true, \"type\": \"scatter\", \"x\": [\"2014-05-24\"], \"xaxis\": \"x\", \"y\": [7], \"yaxis\": \"y\"}, {\"hovertemplate\": \"mentionedEntity1=50171<br>dateTime=%{x}<br>ct=%{y}<extra></extra>\", \"legendgroup\": \"50171\", \"line\": {\"color\": \"#B6E880\", \"dash\": \"solid\"}, \"mode\": \"lines\", \"name\": \"50171\", \"orientation\": \"v\", \"showlegend\": true, \"type\": \"scatter\", \"x\": [\"2014-05-24\", \"2014-05-25\"], \"xaxis\": \"x\", \"y\": [3, 7], \"yaxis\": \"y\"}, {\"hovertemplate\": \"mentionedEntity1=50744<br>dateTime=%{x}<br>ct=%{y}<extra></extra>\", \"legendgroup\": \"50744\", \"line\": {\"color\": \"#FF97FF\", \"dash\": \"solid\"}, \"mode\": \"lines\", \"name\": \"50744\", \"orientation\": \"v\", \"showlegend\": true, \"type\": \"scatter\", \"x\": [\"2014-05-24\"], \"xaxis\": \"x\", \"y\": [8], \"yaxis\": \"y\"}, {\"hovertemplate\": \"mentionedEntity1=201<br>dateTime=%{x}<br>ct=%{y}<extra></extra>\", \"legendgroup\": \"201\", \"line\": {\"color\": \"#FECB52\", \"dash\": \"solid\"}, \"mode\": \"lines\", \"name\": \"201\", \"orientation\": \"v\", \"showlegend\": true, \"type\": \"scatter\", \"x\": [\"2014-05-25\"], \"xaxis\": \"x\", \"y\": [5], \"yaxis\": \"y\"}, {\"hovertemplate\": \"mentionedEntity1=1559<br>dateTime=%{x}<br>ct=%{y}<extra></extra>\", \"legendgroup\": \"1559\", \"line\": {\"color\": \"#636efa\", \"dash\": \"solid\"}, \"mode\": \"lines\", \"name\": \"1559\", \"orientation\": \"v\", \"showlegend\": true, \"type\": \"scatter\", \"x\": [\"2014-05-25\"], \"xaxis\": \"x\", \"y\": [2], \"yaxis\": \"y\"}, {\"hovertemplate\": \"mentionedEntity1=2681<br>dateTime=%{x}<br>ct=%{y}<extra></extra>\", \"legendgroup\": \"2681\", \"line\": {\"color\": \"#EF553B\", \"dash\": \"solid\"}, \"mode\": \"lines\", \"name\": \"2681\", \"orientation\": \"v\", \"showlegend\": true, \"type\": \"scatter\", \"x\": [\"2014-05-25\"], \"xaxis\": \"x\", \"y\": [2], \"yaxis\": \"y\"}, {\"hovertemplate\": \"mentionedEntity1=4086<br>dateTime=%{x}<br>ct=%{y}<extra></extra>\", \"legendgroup\": \"4086\", \"line\": {\"color\": \"#00cc96\", \"dash\": \"solid\"}, \"mode\": \"lines\", \"name\": \"4086\", \"orientation\": \"v\", \"showlegend\": true, \"type\": \"scatter\", \"x\": [\"2014-05-25\"], \"xaxis\": \"x\", \"y\": [1], \"yaxis\": \"y\"}, {\"hovertemplate\": \"mentionedEntity1=5021<br>dateTime=%{x}<br>ct=%{y}<extra></extra>\", \"legendgroup\": \"5021\", \"line\": {\"color\": \"#ab63fa\", \"dash\": \"solid\"}, \"mode\": \"lines\", \"name\": \"5021\", \"orientation\": \"v\", \"showlegend\": true, \"type\": \"scatter\", \"x\": [\"2014-05-25\"], \"xaxis\": \"x\", \"y\": [3], \"yaxis\": \"y\"}, {\"hovertemplate\": \"mentionedEntity1=7376<br>dateTime=%{x}<br>ct=%{y}<extra></extra>\", \"legendgroup\": \"7376\", \"line\": {\"color\": \"#FFA15A\", \"dash\": \"solid\"}, \"mode\": \"lines\", \"name\": \"7376\", \"orientation\": \"v\", \"showlegend\": true, \"type\": \"scatter\", \"x\": [\"2014-05-25\", \"2014-05-30\"], \"xaxis\": \"x\", \"y\": [3, 23], \"yaxis\": \"y\"}, {\"hovertemplate\": \"mentionedEntity1=7680<br>dateTime=%{x}<br>ct=%{y}<extra></extra>\", \"legendgroup\": \"7680\", \"line\": {\"color\": \"#19d3f3\", \"dash\": \"solid\"}, \"mode\": \"lines\", \"name\": \"7680\", \"orientation\": \"v\", \"showlegend\": true, \"type\": \"scatter\", \"x\": [\"2014-05-25\"], \"xaxis\": \"x\", \"y\": [5], \"yaxis\": \"y\"}, {\"hovertemplate\": \"mentionedEntity1=9389<br>dateTime=%{x}<br>ct=%{y}<extra></extra>\", \"legendgroup\": \"9389\", \"line\": {\"color\": \"#FF6692\", \"dash\": \"solid\"}, \"mode\": \"lines\", \"name\": \"9389\", \"orientation\": \"v\", \"showlegend\": true, \"type\": \"scatter\", \"x\": [\"2014-05-25\"], \"xaxis\": \"x\", \"y\": [1], \"yaxis\": \"y\"}, {\"hovertemplate\": \"mentionedEntity1=10791<br>dateTime=%{x}<br>ct=%{y}<extra></extra>\", \"legendgroup\": \"10791\", \"line\": {\"color\": \"#B6E880\", \"dash\": \"solid\"}, \"mode\": \"lines\", \"name\": \"10791\", \"orientation\": \"v\", \"showlegend\": true, \"type\": \"scatter\", \"x\": [\"2014-05-25\"], \"xaxis\": \"x\", \"y\": [2], \"yaxis\": \"y\"}, {\"hovertemplate\": \"mentionedEntity1=12165<br>dateTime=%{x}<br>ct=%{y}<extra></extra>\", \"legendgroup\": \"12165\", \"line\": {\"color\": \"#FF97FF\", \"dash\": \"solid\"}, \"mode\": \"lines\", \"name\": \"12165\", \"orientation\": \"v\", \"showlegend\": true, \"type\": \"scatter\", \"x\": [\"2014-05-25\"], \"xaxis\": \"x\", \"y\": [2], \"yaxis\": \"y\"}, {\"hovertemplate\": \"mentionedEntity1=14197<br>dateTime=%{x}<br>ct=%{y}<extra></extra>\", \"legendgroup\": \"14197\", \"line\": {\"color\": \"#FECB52\", \"dash\": \"solid\"}, \"mode\": \"lines\", \"name\": \"14197\", \"orientation\": \"v\", \"showlegend\": true, \"type\": \"scatter\", \"x\": [\"2014-05-25\"], \"xaxis\": \"x\", \"y\": [10], \"yaxis\": \"y\"}, {\"hovertemplate\": \"mentionedEntity1=14611<br>dateTime=%{x}<br>ct=%{y}<extra></extra>\", \"legendgroup\": \"14611\", \"line\": {\"color\": \"#636efa\", \"dash\": \"solid\"}, \"mode\": \"lines\", \"name\": \"14611\", \"orientation\": \"v\", \"showlegend\": true, \"type\": \"scatter\", \"x\": [\"2014-05-25\"], \"xaxis\": \"x\", \"y\": [9], \"yaxis\": \"y\"}, {\"hovertemplate\": \"mentionedEntity1=14779<br>dateTime=%{x}<br>ct=%{y}<extra></extra>\", \"legendgroup\": \"14779\", \"line\": {\"color\": \"#EF553B\", \"dash\": \"solid\"}, \"mode\": \"lines\", \"name\": \"14779\", \"orientation\": \"v\", \"showlegend\": true, \"type\": \"scatter\", \"x\": [\"2014-05-25\"], \"xaxis\": \"x\", \"y\": [3], \"yaxis\": \"y\"}, {\"hovertemplate\": \"mentionedEntity1=15133<br>dateTime=%{x}<br>ct=%{y}<extra></extra>\", \"legendgroup\": \"15133\", \"line\": {\"color\": \"#00cc96\", \"dash\": \"solid\"}, \"mode\": \"lines\", \"name\": \"15133\", \"orientation\": \"v\", \"showlegend\": true, \"type\": \"scatter\", \"x\": [\"2014-05-25\"], \"xaxis\": \"x\", \"y\": [3], \"yaxis\": \"y\"}, {\"hovertemplate\": \"mentionedEntity1=19523<br>dateTime=%{x}<br>ct=%{y}<extra></extra>\", \"legendgroup\": \"19523\", \"line\": {\"color\": \"#ab63fa\", \"dash\": \"solid\"}, \"mode\": \"lines\", \"name\": \"19523\", \"orientation\": \"v\", \"showlegend\": true, \"type\": \"scatter\", \"x\": [\"2014-05-25\"], \"xaxis\": \"x\", \"y\": [2], \"yaxis\": \"y\"}, {\"hovertemplate\": \"mentionedEntity1=19598<br>dateTime=%{x}<br>ct=%{y}<extra></extra>\", \"legendgroup\": \"19598\", \"line\": {\"color\": \"#FFA15A\", \"dash\": \"solid\"}, \"mode\": \"lines\", \"name\": \"19598\", \"orientation\": \"v\", \"showlegend\": true, \"type\": \"scatter\", \"x\": [\"2014-05-25\"], \"xaxis\": \"x\", \"y\": [9], \"yaxis\": \"y\"}, {\"hovertemplate\": \"mentionedEntity1=20067<br>dateTime=%{x}<br>ct=%{y}<extra></extra>\", \"legendgroup\": \"20067\", \"line\": {\"color\": \"#19d3f3\", \"dash\": \"solid\"}, \"mode\": \"lines\", \"name\": \"20067\", \"orientation\": \"v\", \"showlegend\": true, \"type\": \"scatter\", \"x\": [\"2014-05-25\"], \"xaxis\": \"x\", \"y\": [4], \"yaxis\": \"y\"}, {\"hovertemplate\": \"mentionedEntity1=20910<br>dateTime=%{x}<br>ct=%{y}<extra></extra>\", \"legendgroup\": \"20910\", \"line\": {\"color\": \"#FF6692\", \"dash\": \"solid\"}, \"mode\": \"lines\", \"name\": \"20910\", \"orientation\": \"v\", \"showlegend\": true, \"type\": \"scatter\", \"x\": [\"2014-05-25\"], \"xaxis\": \"x\", \"y\": [3], \"yaxis\": \"y\"}, {\"hovertemplate\": \"mentionedEntity1=28478<br>dateTime=%{x}<br>ct=%{y}<extra></extra>\", \"legendgroup\": \"28478\", \"line\": {\"color\": \"#B6E880\", \"dash\": \"solid\"}, \"mode\": \"lines\", \"name\": \"28478\", \"orientation\": \"v\", \"showlegend\": true, \"type\": \"scatter\", \"x\": [\"2014-05-25\"], \"xaxis\": \"x\", \"y\": [2], \"yaxis\": \"y\"}, {\"hovertemplate\": \"mentionedEntity1=29522<br>dateTime=%{x}<br>ct=%{y}<extra></extra>\", \"legendgroup\": \"29522\", \"line\": {\"color\": \"#FF97FF\", \"dash\": \"solid\"}, \"mode\": \"lines\", \"name\": \"29522\", \"orientation\": \"v\", \"showlegend\": true, \"type\": \"scatter\", \"x\": [\"2014-05-25\"], \"xaxis\": \"x\", \"y\": [2], \"yaxis\": \"y\"}, {\"hovertemplate\": \"mentionedEntity1=29720<br>dateTime=%{x}<br>ct=%{y}<extra></extra>\", \"legendgroup\": \"29720\", \"line\": {\"color\": \"#FECB52\", \"dash\": \"solid\"}, \"mode\": \"lines\", \"name\": \"29720\", \"orientation\": \"v\", \"showlegend\": true, \"type\": \"scatter\", \"x\": [\"2014-05-25\"], \"xaxis\": \"x\", \"y\": [5], \"yaxis\": \"y\"}, {\"hovertemplate\": \"mentionedEntity1=29884<br>dateTime=%{x}<br>ct=%{y}<extra></extra>\", \"legendgroup\": \"29884\", \"line\": {\"color\": \"#636efa\", \"dash\": \"solid\"}, \"mode\": \"lines\", \"name\": \"29884\", \"orientation\": \"v\", \"showlegend\": true, \"type\": \"scatter\", \"x\": [\"2014-05-25\"], \"xaxis\": \"x\", \"y\": [3], \"yaxis\": \"y\"}, {\"hovertemplate\": \"mentionedEntity1=30281<br>dateTime=%{x}<br>ct=%{y}<extra></extra>\", \"legendgroup\": \"30281\", \"line\": {\"color\": \"#EF553B\", \"dash\": \"solid\"}, \"mode\": \"lines\", \"name\": \"30281\", \"orientation\": \"v\", \"showlegend\": true, \"type\": \"scatter\", \"x\": [\"2014-05-25\"], \"xaxis\": \"x\", \"y\": [2], \"yaxis\": \"y\"}, {\"hovertemplate\": \"mentionedEntity1=31171<br>dateTime=%{x}<br>ct=%{y}<extra></extra>\", \"legendgroup\": \"31171\", \"line\": {\"color\": \"#00cc96\", \"dash\": \"solid\"}, \"mode\": \"lines\", \"name\": \"31171\", \"orientation\": \"v\", \"showlegend\": true, \"type\": \"scatter\", \"x\": [\"2014-05-25\"], \"xaxis\": \"x\", \"y\": [2], \"yaxis\": \"y\"}, {\"hovertemplate\": \"mentionedEntity1=35318<br>dateTime=%{x}<br>ct=%{y}<extra></extra>\", \"legendgroup\": \"35318\", \"line\": {\"color\": \"#ab63fa\", \"dash\": \"solid\"}, \"mode\": \"lines\", \"name\": \"35318\", \"orientation\": \"v\", \"showlegend\": true, \"type\": \"scatter\", \"x\": [\"2014-05-25\"], \"xaxis\": \"x\", \"y\": [3], \"yaxis\": \"y\"}, {\"hovertemplate\": \"mentionedEntity1=38722<br>dateTime=%{x}<br>ct=%{y}<extra></extra>\", \"legendgroup\": \"38722\", \"line\": {\"color\": \"#FFA15A\", \"dash\": \"solid\"}, \"mode\": \"lines\", \"name\": \"38722\", \"orientation\": \"v\", \"showlegend\": true, \"type\": \"scatter\", \"x\": [\"2014-05-25\"], \"xaxis\": \"x\", \"y\": [3], \"yaxis\": \"y\"}, {\"hovertemplate\": \"mentionedEntity1=41136<br>dateTime=%{x}<br>ct=%{y}<extra></extra>\", \"legendgroup\": \"41136\", \"line\": {\"color\": \"#19d3f3\", \"dash\": \"solid\"}, \"mode\": \"lines\", \"name\": \"41136\", \"orientation\": \"v\", \"showlegend\": true, \"type\": \"scatter\", \"x\": [\"2014-05-25\"], \"xaxis\": \"x\", \"y\": [2], \"yaxis\": \"y\"}, {\"hovertemplate\": \"mentionedEntity1=42097<br>dateTime=%{x}<br>ct=%{y}<extra></extra>\", \"legendgroup\": \"42097\", \"line\": {\"color\": \"#FF6692\", \"dash\": \"solid\"}, \"mode\": \"lines\", \"name\": \"42097\", \"orientation\": \"v\", \"showlegend\": true, \"type\": \"scatter\", \"x\": [\"2014-05-25\"], \"xaxis\": \"x\", \"y\": [2], \"yaxis\": \"y\"}, {\"hovertemplate\": \"mentionedEntity1=42680<br>dateTime=%{x}<br>ct=%{y}<extra></extra>\", \"legendgroup\": \"42680\", \"line\": {\"color\": \"#B6E880\", \"dash\": \"solid\"}, \"mode\": \"lines\", \"name\": \"42680\", \"orientation\": \"v\", \"showlegend\": true, \"type\": \"scatter\", \"x\": [\"2014-05-25\"], \"xaxis\": \"x\", \"y\": [10], \"yaxis\": \"y\"}, {\"hovertemplate\": \"mentionedEntity1=44338<br>dateTime=%{x}<br>ct=%{y}<extra></extra>\", \"legendgroup\": \"44338\", \"line\": {\"color\": \"#FF97FF\", \"dash\": \"solid\"}, \"mode\": \"lines\", \"name\": \"44338\", \"orientation\": \"v\", \"showlegend\": true, \"type\": \"scatter\", \"x\": [\"2014-05-25\"], \"xaxis\": \"x\", \"y\": [2], \"yaxis\": \"y\"}, {\"hovertemplate\": \"mentionedEntity1=47000<br>dateTime=%{x}<br>ct=%{y}<extra></extra>\", \"legendgroup\": \"47000\", \"line\": {\"color\": \"#FECB52\", \"dash\": \"solid\"}, \"mode\": \"lines\", \"name\": \"47000\", \"orientation\": \"v\", \"showlegend\": true, \"type\": \"scatter\", \"x\": [\"2014-05-25\"], \"xaxis\": \"x\", \"y\": [2], \"yaxis\": \"y\"}, {\"hovertemplate\": \"mentionedEntity1=47789<br>dateTime=%{x}<br>ct=%{y}<extra></extra>\", \"legendgroup\": \"47789\", \"line\": {\"color\": \"#636efa\", \"dash\": \"solid\"}, \"mode\": \"lines\", \"name\": \"47789\", \"orientation\": \"v\", \"showlegend\": true, \"type\": \"scatter\", \"x\": [\"2014-05-25\"], \"xaxis\": \"x\", \"y\": [2], \"yaxis\": \"y\"}, {\"hovertemplate\": \"mentionedEntity1=47917<br>dateTime=%{x}<br>ct=%{y}<extra></extra>\", \"legendgroup\": \"47917\", \"line\": {\"color\": \"#EF553B\", \"dash\": \"solid\"}, \"mode\": \"lines\", \"name\": \"47917\", \"orientation\": \"v\", \"showlegend\": true, \"type\": \"scatter\", \"x\": [\"2014-05-25\"], \"xaxis\": \"x\", \"y\": [3], \"yaxis\": \"y\"}, {\"hovertemplate\": \"mentionedEntity1=48966<br>dateTime=%{x}<br>ct=%{y}<extra></extra>\", \"legendgroup\": \"48966\", \"line\": {\"color\": \"#00cc96\", \"dash\": \"solid\"}, \"mode\": \"lines\", \"name\": \"48966\", \"orientation\": \"v\", \"showlegend\": true, \"type\": \"scatter\", \"x\": [\"2014-05-25\"], \"xaxis\": \"x\", \"y\": [1], \"yaxis\": \"y\"}, {\"hovertemplate\": \"mentionedEntity1=49256<br>dateTime=%{x}<br>ct=%{y}<extra></extra>\", \"legendgroup\": \"49256\", \"line\": {\"color\": \"#ab63fa\", \"dash\": \"solid\"}, \"mode\": \"lines\", \"name\": \"49256\", \"orientation\": \"v\", \"showlegend\": true, \"type\": \"scatter\", \"x\": [\"2014-05-25\"], \"xaxis\": \"x\", \"y\": [4], \"yaxis\": \"y\"}, {\"hovertemplate\": \"mentionedEntity1=51707<br>dateTime=%{x}<br>ct=%{y}<extra></extra>\", \"legendgroup\": \"51707\", \"line\": {\"color\": \"#FFA15A\", \"dash\": \"solid\"}, \"mode\": \"lines\", \"name\": \"51707\", \"orientation\": \"v\", \"showlegend\": true, \"type\": \"scatter\", \"x\": [\"2014-05-25\"], \"xaxis\": \"x\", \"y\": [3], \"yaxis\": \"y\"}, {\"hovertemplate\": \"mentionedEntity1=1924<br>dateTime=%{x}<br>ct=%{y}<extra></extra>\", \"legendgroup\": \"1924\", \"line\": {\"color\": \"#19d3f3\", \"dash\": \"solid\"}, \"mode\": \"lines\", \"name\": \"1924\", \"orientation\": \"v\", \"showlegend\": true, \"type\": \"scatter\", \"x\": [\"2014-05-26\"], \"xaxis\": \"x\", \"y\": [3], \"yaxis\": \"y\"}, {\"hovertemplate\": \"mentionedEntity1=2145<br>dateTime=%{x}<br>ct=%{y}<extra></extra>\", \"legendgroup\": \"2145\", \"line\": {\"color\": \"#FF6692\", \"dash\": \"solid\"}, \"mode\": \"lines\", \"name\": \"2145\", \"orientation\": \"v\", \"showlegend\": true, \"type\": \"scatter\", \"x\": [\"2014-05-26\"], \"xaxis\": \"x\", \"y\": [2], \"yaxis\": \"y\"}, {\"hovertemplate\": \"mentionedEntity1=4208<br>dateTime=%{x}<br>ct=%{y}<extra></extra>\", \"legendgroup\": \"4208\", \"line\": {\"color\": \"#B6E880\", \"dash\": \"solid\"}, \"mode\": \"lines\", \"name\": \"4208\", \"orientation\": \"v\", \"showlegend\": true, \"type\": \"scatter\", \"x\": [\"2014-05-26\"], \"xaxis\": \"x\", \"y\": [2], \"yaxis\": \"y\"}, {\"hovertemplate\": \"mentionedEntity1=4245<br>dateTime=%{x}<br>ct=%{y}<extra></extra>\", \"legendgroup\": \"4245\", \"line\": {\"color\": \"#FF97FF\", \"dash\": \"solid\"}, \"mode\": \"lines\", \"name\": \"4245\", \"orientation\": \"v\", \"showlegend\": true, \"type\": \"scatter\", \"x\": [\"2014-05-26\"], \"xaxis\": \"x\", \"y\": [2], \"yaxis\": \"y\"}, {\"hovertemplate\": \"mentionedEntity1=5113<br>dateTime=%{x}<br>ct=%{y}<extra></extra>\", \"legendgroup\": \"5113\", \"line\": {\"color\": \"#FECB52\", \"dash\": \"solid\"}, \"mode\": \"lines\", \"name\": \"5113\", \"orientation\": \"v\", \"showlegend\": true, \"type\": \"scatter\", \"x\": [\"2014-05-26\"], \"xaxis\": \"x\", \"y\": [5], \"yaxis\": \"y\"}, {\"hovertemplate\": \"mentionedEntity1=7688<br>dateTime=%{x}<br>ct=%{y}<extra></extra>\", \"legendgroup\": \"7688\", \"line\": {\"color\": \"#636efa\", \"dash\": \"solid\"}, \"mode\": \"lines\", \"name\": \"7688\", \"orientation\": \"v\", \"showlegend\": true, \"type\": \"scatter\", \"x\": [\"2014-05-26\"], \"xaxis\": \"x\", \"y\": [4], \"yaxis\": \"y\"}, {\"hovertemplate\": \"mentionedEntity1=8185<br>dateTime=%{x}<br>ct=%{y}<extra></extra>\", \"legendgroup\": \"8185\", \"line\": {\"color\": \"#EF553B\", \"dash\": \"solid\"}, \"mode\": \"lines\", \"name\": \"8185\", \"orientation\": \"v\", \"showlegend\": true, \"type\": \"scatter\", \"x\": [\"2014-05-26\"], \"xaxis\": \"x\", \"y\": [3], \"yaxis\": \"y\"}, {\"hovertemplate\": \"mentionedEntity1=9673<br>dateTime=%{x}<br>ct=%{y}<extra></extra>\", \"legendgroup\": \"9673\", \"line\": {\"color\": \"#00cc96\", \"dash\": \"solid\"}, \"mode\": \"lines\", \"name\": \"9673\", \"orientation\": \"v\", \"showlegend\": true, \"type\": \"scatter\", \"x\": [\"2014-05-26\"], \"xaxis\": \"x\", \"y\": [1], \"yaxis\": \"y\"}, {\"hovertemplate\": \"mentionedEntity1=10831<br>dateTime=%{x}<br>ct=%{y}<extra></extra>\", \"legendgroup\": \"10831\", \"line\": {\"color\": \"#ab63fa\", \"dash\": \"solid\"}, \"mode\": \"lines\", \"name\": \"10831\", \"orientation\": \"v\", \"showlegend\": true, \"type\": \"scatter\", \"x\": [\"2014-05-26\"], \"xaxis\": \"x\", \"y\": [4], \"yaxis\": \"y\"}, {\"hovertemplate\": \"mentionedEntity1=10848<br>dateTime=%{x}<br>ct=%{y}<extra></extra>\", \"legendgroup\": \"10848\", \"line\": {\"color\": \"#FFA15A\", \"dash\": \"solid\"}, \"mode\": \"lines\", \"name\": \"10848\", \"orientation\": \"v\", \"showlegend\": true, \"type\": \"scatter\", \"x\": [\"2014-05-26\"], \"xaxis\": \"x\", \"y\": [1], \"yaxis\": \"y\"}, {\"hovertemplate\": \"mentionedEntity1=10903<br>dateTime=%{x}<br>ct=%{y}<extra></extra>\", \"legendgroup\": \"10903\", \"line\": {\"color\": \"#19d3f3\", \"dash\": \"solid\"}, \"mode\": \"lines\", \"name\": \"10903\", \"orientation\": \"v\", \"showlegend\": true, \"type\": \"scatter\", \"x\": [\"2014-05-26\"], \"xaxis\": \"x\", \"y\": [1], \"yaxis\": \"y\"}, {\"hovertemplate\": \"mentionedEntity1=12123<br>dateTime=%{x}<br>ct=%{y}<extra></extra>\", \"legendgroup\": \"12123\", \"line\": {\"color\": \"#FF6692\", \"dash\": \"solid\"}, \"mode\": \"lines\", \"name\": \"12123\", \"orientation\": \"v\", \"showlegend\": true, \"type\": \"scatter\", \"x\": [\"2014-05-26\"], \"xaxis\": \"x\", \"y\": [4], \"yaxis\": \"y\"}, {\"hovertemplate\": \"mentionedEntity1=12643<br>dateTime=%{x}<br>ct=%{y}<extra></extra>\", \"legendgroup\": \"12643\", \"line\": {\"color\": \"#B6E880\", \"dash\": \"solid\"}, \"mode\": \"lines\", \"name\": \"12643\", \"orientation\": \"v\", \"showlegend\": true, \"type\": \"scatter\", \"x\": [\"2014-05-26\"], \"xaxis\": \"x\", \"y\": [3], \"yaxis\": \"y\"}, {\"hovertemplate\": \"mentionedEntity1=12754<br>dateTime=%{x}<br>ct=%{y}<extra></extra>\", \"legendgroup\": \"12754\", \"line\": {\"color\": \"#FF97FF\", \"dash\": \"solid\"}, \"mode\": \"lines\", \"name\": \"12754\", \"orientation\": \"v\", \"showlegend\": true, \"type\": \"scatter\", \"x\": [\"2014-05-26\"], \"xaxis\": \"x\", \"y\": [1], \"yaxis\": \"y\"}, {\"hovertemplate\": \"mentionedEntity1=14090<br>dateTime=%{x}<br>ct=%{y}<extra></extra>\", \"legendgroup\": \"14090\", \"line\": {\"color\": \"#FECB52\", \"dash\": \"solid\"}, \"mode\": \"lines\", \"name\": \"14090\", \"orientation\": \"v\", \"showlegend\": true, \"type\": \"scatter\", \"x\": [\"2014-05-26\"], \"xaxis\": \"x\", \"y\": [4], \"yaxis\": \"y\"}, {\"hovertemplate\": \"mentionedEntity1=16718<br>dateTime=%{x}<br>ct=%{y}<extra></extra>\", \"legendgroup\": \"16718\", \"line\": {\"color\": \"#636efa\", \"dash\": \"solid\"}, \"mode\": \"lines\", \"name\": \"16718\", \"orientation\": \"v\", \"showlegend\": true, \"type\": \"scatter\", \"x\": [\"2014-05-26\"], \"xaxis\": \"x\", \"y\": [2], \"yaxis\": \"y\"}, {\"hovertemplate\": \"mentionedEntity1=20331<br>dateTime=%{x}<br>ct=%{y}<extra></extra>\", \"legendgroup\": \"20331\", \"line\": {\"color\": \"#EF553B\", \"dash\": \"solid\"}, \"mode\": \"lines\", \"name\": \"20331\", \"orientation\": \"v\", \"showlegend\": true, \"type\": \"scatter\", \"x\": [\"2014-05-26\"], \"xaxis\": \"x\", \"y\": [2], \"yaxis\": \"y\"}, {\"hovertemplate\": \"mentionedEntity1=20397<br>dateTime=%{x}<br>ct=%{y}<extra></extra>\", \"legendgroup\": \"20397\", \"line\": {\"color\": \"#00cc96\", \"dash\": \"solid\"}, \"mode\": \"lines\", \"name\": \"20397\", \"orientation\": \"v\", \"showlegend\": true, \"type\": \"scatter\", \"x\": [\"2014-05-26\"], \"xaxis\": \"x\", \"y\": [2], \"yaxis\": \"y\"}, {\"hovertemplate\": \"mentionedEntity1=22835<br>dateTime=%{x}<br>ct=%{y}<extra></extra>\", \"legendgroup\": \"22835\", \"line\": {\"color\": \"#ab63fa\", \"dash\": \"solid\"}, \"mode\": \"lines\", \"name\": \"22835\", \"orientation\": \"v\", \"showlegend\": true, \"type\": \"scatter\", \"x\": [\"2014-05-26\"], \"xaxis\": \"x\", \"y\": [2], \"yaxis\": \"y\"}, {\"hovertemplate\": \"mentionedEntity1=24455<br>dateTime=%{x}<br>ct=%{y}<extra></extra>\", \"legendgroup\": \"24455\", \"line\": {\"color\": \"#FFA15A\", \"dash\": \"solid\"}, \"mode\": \"lines\", \"name\": \"24455\", \"orientation\": \"v\", \"showlegend\": true, \"type\": \"scatter\", \"x\": [\"2014-05-26\"], \"xaxis\": \"x\", \"y\": [6], \"yaxis\": \"y\"}, {\"hovertemplate\": \"mentionedEntity1=24785<br>dateTime=%{x}<br>ct=%{y}<extra></extra>\", \"legendgroup\": \"24785\", \"line\": {\"color\": \"#19d3f3\", \"dash\": \"solid\"}, \"mode\": \"lines\", \"name\": \"24785\", \"orientation\": \"v\", \"showlegend\": true, \"type\": \"scatter\", \"x\": [\"2014-05-26\"], \"xaxis\": \"x\", \"y\": [2], \"yaxis\": \"y\"}, {\"hovertemplate\": \"mentionedEntity1=25456<br>dateTime=%{x}<br>ct=%{y}<extra></extra>\", \"legendgroup\": \"25456\", \"line\": {\"color\": \"#FF6692\", \"dash\": \"solid\"}, \"mode\": \"lines\", \"name\": \"25456\", \"orientation\": \"v\", \"showlegend\": true, \"type\": \"scatter\", \"x\": [\"2014-05-26\"], \"xaxis\": \"x\", \"y\": [3], \"yaxis\": \"y\"}, {\"hovertemplate\": \"mentionedEntity1=26105<br>dateTime=%{x}<br>ct=%{y}<extra></extra>\", \"legendgroup\": \"26105\", \"line\": {\"color\": \"#B6E880\", \"dash\": \"solid\"}, \"mode\": \"lines\", \"name\": \"26105\", \"orientation\": \"v\", \"showlegend\": true, \"type\": \"scatter\", \"x\": [\"2014-05-26\"], \"xaxis\": \"x\", \"y\": [9], \"yaxis\": \"y\"}, {\"hovertemplate\": \"mentionedEntity1=27353<br>dateTime=%{x}<br>ct=%{y}<extra></extra>\", \"legendgroup\": \"27353\", \"line\": {\"color\": \"#FF97FF\", \"dash\": \"solid\"}, \"mode\": \"lines\", \"name\": \"27353\", \"orientation\": \"v\", \"showlegend\": true, \"type\": \"scatter\", \"x\": [\"2014-05-26\"], \"xaxis\": \"x\", \"y\": [5], \"yaxis\": \"y\"}, {\"hovertemplate\": \"mentionedEntity1=29023<br>dateTime=%{x}<br>ct=%{y}<extra></extra>\", \"legendgroup\": \"29023\", \"line\": {\"color\": \"#FECB52\", \"dash\": \"solid\"}, \"mode\": \"lines\", \"name\": \"29023\", \"orientation\": \"v\", \"showlegend\": true, \"type\": \"scatter\", \"x\": [\"2014-05-26\"], \"xaxis\": \"x\", \"y\": [5], \"yaxis\": \"y\"}, {\"hovertemplate\": \"mentionedEntity1=30195<br>dateTime=%{x}<br>ct=%{y}<extra></extra>\", \"legendgroup\": \"30195\", \"line\": {\"color\": \"#636efa\", \"dash\": \"solid\"}, \"mode\": \"lines\", \"name\": \"30195\", \"orientation\": \"v\", \"showlegend\": true, \"type\": \"scatter\", \"x\": [\"2014-05-26\"], \"xaxis\": \"x\", \"y\": [7], \"yaxis\": \"y\"}, {\"hovertemplate\": \"mentionedEntity1=30624<br>dateTime=%{x}<br>ct=%{y}<extra></extra>\", \"legendgroup\": \"30624\", \"line\": {\"color\": \"#EF553B\", \"dash\": \"solid\"}, \"mode\": \"lines\", \"name\": \"30624\", \"orientation\": \"v\", \"showlegend\": true, \"type\": \"scatter\", \"x\": [\"2014-05-26\"], \"xaxis\": \"x\", \"y\": [5], \"yaxis\": \"y\"}, {\"hovertemplate\": \"mentionedEntity1=30760<br>dateTime=%{x}<br>ct=%{y}<extra></extra>\", \"legendgroup\": \"30760\", \"line\": {\"color\": \"#00cc96\", \"dash\": \"solid\"}, \"mode\": \"lines\", \"name\": \"30760\", \"orientation\": \"v\", \"showlegend\": true, \"type\": \"scatter\", \"x\": [\"2014-05-26\"], \"xaxis\": \"x\", \"y\": [6], \"yaxis\": \"y\"}, {\"hovertemplate\": \"mentionedEntity1=31456<br>dateTime=%{x}<br>ct=%{y}<extra></extra>\", \"legendgroup\": \"31456\", \"line\": {\"color\": \"#ab63fa\", \"dash\": \"solid\"}, \"mode\": \"lines\", \"name\": \"31456\", \"orientation\": \"v\", \"showlegend\": true, \"type\": \"scatter\", \"x\": [\"2014-05-26\"], \"xaxis\": \"x\", \"y\": [7], \"yaxis\": \"y\"}, {\"hovertemplate\": \"mentionedEntity1=33529<br>dateTime=%{x}<br>ct=%{y}<extra></extra>\", \"legendgroup\": \"33529\", \"line\": {\"color\": \"#FFA15A\", \"dash\": \"solid\"}, \"mode\": \"lines\", \"name\": \"33529\", \"orientation\": \"v\", \"showlegend\": true, \"type\": \"scatter\", \"x\": [\"2014-05-26\"], \"xaxis\": \"x\", \"y\": [3], \"yaxis\": \"y\"}, {\"hovertemplate\": \"mentionedEntity1=33841<br>dateTime=%{x}<br>ct=%{y}<extra></extra>\", \"legendgroup\": \"33841\", \"line\": {\"color\": \"#19d3f3\", \"dash\": \"solid\"}, \"mode\": \"lines\", \"name\": \"33841\", \"orientation\": \"v\", \"showlegend\": true, \"type\": \"scatter\", \"x\": [\"2014-05-26\"], \"xaxis\": \"x\", \"y\": [4], \"yaxis\": \"y\"}, {\"hovertemplate\": \"mentionedEntity1=33967<br>dateTime=%{x}<br>ct=%{y}<extra></extra>\", \"legendgroup\": \"33967\", \"line\": {\"color\": \"#FF6692\", \"dash\": \"solid\"}, \"mode\": \"lines\", \"name\": \"33967\", \"orientation\": \"v\", \"showlegend\": true, \"type\": \"scatter\", \"x\": [\"2014-05-26\", \"2014-05-27\"], \"xaxis\": \"x\", \"y\": [4, 4], \"yaxis\": \"y\"}, {\"hovertemplate\": \"mentionedEntity1=35047<br>dateTime=%{x}<br>ct=%{y}<extra></extra>\", \"legendgroup\": \"35047\", \"line\": {\"color\": \"#B6E880\", \"dash\": \"solid\"}, \"mode\": \"lines\", \"name\": \"35047\", \"orientation\": \"v\", \"showlegend\": true, \"type\": \"scatter\", \"x\": [\"2014-05-26\"], \"xaxis\": \"x\", \"y\": [4], \"yaxis\": \"y\"}, {\"hovertemplate\": \"mentionedEntity1=36353<br>dateTime=%{x}<br>ct=%{y}<extra></extra>\", \"legendgroup\": \"36353\", \"line\": {\"color\": \"#FF97FF\", \"dash\": \"solid\"}, \"mode\": \"lines\", \"name\": \"36353\", \"orientation\": \"v\", \"showlegend\": true, \"type\": \"scatter\", \"x\": [\"2014-05-26\"], \"xaxis\": \"x\", \"y\": [4], \"yaxis\": \"y\"}, {\"hovertemplate\": \"mentionedEntity1=36999<br>dateTime=%{x}<br>ct=%{y}<extra></extra>\", \"legendgroup\": \"36999\", \"line\": {\"color\": \"#FECB52\", \"dash\": \"solid\"}, \"mode\": \"lines\", \"name\": \"36999\", \"orientation\": \"v\", \"showlegend\": true, \"type\": \"scatter\", \"x\": [\"2014-05-26\"], \"xaxis\": \"x\", \"y\": [4], \"yaxis\": \"y\"}, {\"hovertemplate\": \"mentionedEntity1=37323<br>dateTime=%{x}<br>ct=%{y}<extra></extra>\", \"legendgroup\": \"37323\", \"line\": {\"color\": \"#636efa\", \"dash\": \"solid\"}, \"mode\": \"lines\", \"name\": \"37323\", \"orientation\": \"v\", \"showlegend\": true, \"type\": \"scatter\", \"x\": [\"2014-05-26\"], \"xaxis\": \"x\", \"y\": [3], \"yaxis\": \"y\"}, {\"hovertemplate\": \"mentionedEntity1=37700<br>dateTime=%{x}<br>ct=%{y}<extra></extra>\", \"legendgroup\": \"37700\", \"line\": {\"color\": \"#EF553B\", \"dash\": \"solid\"}, \"mode\": \"lines\", \"name\": \"37700\", \"orientation\": \"v\", \"showlegend\": true, \"type\": \"scatter\", \"x\": [\"2014-05-26\"], \"xaxis\": \"x\", \"y\": [2], \"yaxis\": \"y\"}, {\"hovertemplate\": \"mentionedEntity1=38306<br>dateTime=%{x}<br>ct=%{y}<extra></extra>\", \"legendgroup\": \"38306\", \"line\": {\"color\": \"#00cc96\", \"dash\": \"solid\"}, \"mode\": \"lines\", \"name\": \"38306\", \"orientation\": \"v\", \"showlegend\": true, \"type\": \"scatter\", \"x\": [\"2014-05-26\"], \"xaxis\": \"x\", \"y\": [2], \"yaxis\": \"y\"}, {\"hovertemplate\": \"mentionedEntity1=38325<br>dateTime=%{x}<br>ct=%{y}<extra></extra>\", \"legendgroup\": \"38325\", \"line\": {\"color\": \"#ab63fa\", \"dash\": \"solid\"}, \"mode\": \"lines\", \"name\": \"38325\", \"orientation\": \"v\", \"showlegend\": true, \"type\": \"scatter\", \"x\": [\"2014-05-26\"], \"xaxis\": \"x\", \"y\": [6], \"yaxis\": \"y\"}, {\"hovertemplate\": \"mentionedEntity1=38754<br>dateTime=%{x}<br>ct=%{y}<extra></extra>\", \"legendgroup\": \"38754\", \"line\": {\"color\": \"#FFA15A\", \"dash\": \"solid\"}, \"mode\": \"lines\", \"name\": \"38754\", \"orientation\": \"v\", \"showlegend\": true, \"type\": \"scatter\", \"x\": [\"2014-05-26\"], \"xaxis\": \"x\", \"y\": [6], \"yaxis\": \"y\"}, {\"hovertemplate\": \"mentionedEntity1=38858<br>dateTime=%{x}<br>ct=%{y}<extra></extra>\", \"legendgroup\": \"38858\", \"line\": {\"color\": \"#19d3f3\", \"dash\": \"solid\"}, \"mode\": \"lines\", \"name\": \"38858\", \"orientation\": \"v\", \"showlegend\": true, \"type\": \"scatter\", \"x\": [\"2014-05-26\"], \"xaxis\": \"x\", \"y\": [4], \"yaxis\": \"y\"}, {\"hovertemplate\": \"mentionedEntity1=41420<br>dateTime=%{x}<br>ct=%{y}<extra></extra>\", \"legendgroup\": \"41420\", \"line\": {\"color\": \"#FF6692\", \"dash\": \"solid\"}, \"mode\": \"lines\", \"name\": \"41420\", \"orientation\": \"v\", \"showlegend\": true, \"type\": \"scatter\", \"x\": [\"2014-05-26\"], \"xaxis\": \"x\", \"y\": [6], \"yaxis\": \"y\"}, {\"hovertemplate\": \"mentionedEntity1=42041<br>dateTime=%{x}<br>ct=%{y}<extra></extra>\", \"legendgroup\": \"42041\", \"line\": {\"color\": \"#B6E880\", \"dash\": \"solid\"}, \"mode\": \"lines\", \"name\": \"42041\", \"orientation\": \"v\", \"showlegend\": true, \"type\": \"scatter\", \"x\": [\"2014-05-26\"], \"xaxis\": \"x\", \"y\": [7], \"yaxis\": \"y\"}, {\"hovertemplate\": \"mentionedEntity1=42280<br>dateTime=%{x}<br>ct=%{y}<extra></extra>\", \"legendgroup\": \"42280\", \"line\": {\"color\": \"#FF97FF\", \"dash\": \"solid\"}, \"mode\": \"lines\", \"name\": \"42280\", \"orientation\": \"v\", \"showlegend\": true, \"type\": \"scatter\", \"x\": [\"2014-05-26\"], \"xaxis\": \"x\", \"y\": [6], \"yaxis\": \"y\"}, {\"hovertemplate\": \"mentionedEntity1=42342<br>dateTime=%{x}<br>ct=%{y}<extra></extra>\", \"legendgroup\": \"42342\", \"line\": {\"color\": \"#FECB52\", \"dash\": \"solid\"}, \"mode\": \"lines\", \"name\": \"42342\", \"orientation\": \"v\", \"showlegend\": true, \"type\": \"scatter\", \"x\": [\"2014-05-26\"], \"xaxis\": \"x\", \"y\": [2], \"yaxis\": \"y\"}, {\"hovertemplate\": \"mentionedEntity1=44908<br>dateTime=%{x}<br>ct=%{y}<extra></extra>\", \"legendgroup\": \"44908\", \"line\": {\"color\": \"#636efa\", \"dash\": \"solid\"}, \"mode\": \"lines\", \"name\": \"44908\", \"orientation\": \"v\", \"showlegend\": true, \"type\": \"scatter\", \"x\": [\"2014-05-26\"], \"xaxis\": \"x\", \"y\": [6], \"yaxis\": \"y\"}, {\"hovertemplate\": \"mentionedEntity1=46021<br>dateTime=%{x}<br>ct=%{y}<extra></extra>\", \"legendgroup\": \"46021\", \"line\": {\"color\": \"#EF553B\", \"dash\": \"solid\"}, \"mode\": \"lines\", \"name\": \"46021\", \"orientation\": \"v\", \"showlegend\": true, \"type\": \"scatter\", \"x\": [\"2014-05-26\"], \"xaxis\": \"x\", \"y\": [8], \"yaxis\": \"y\"}, {\"hovertemplate\": \"mentionedEntity1=46268<br>dateTime=%{x}<br>ct=%{y}<extra></extra>\", \"legendgroup\": \"46268\", \"line\": {\"color\": \"#00cc96\", \"dash\": \"solid\"}, \"mode\": \"lines\", \"name\": \"46268\", \"orientation\": \"v\", \"showlegend\": true, \"type\": \"scatter\", \"x\": [\"2014-05-26\"], \"xaxis\": \"x\", \"y\": [6], \"yaxis\": \"y\"}, {\"hovertemplate\": \"mentionedEntity1=47698<br>dateTime=%{x}<br>ct=%{y}<extra></extra>\", \"legendgroup\": \"47698\", \"line\": {\"color\": \"#ab63fa\", \"dash\": \"solid\"}, \"mode\": \"lines\", \"name\": \"47698\", \"orientation\": \"v\", \"showlegend\": true, \"type\": \"scatter\", \"x\": [\"2014-05-26\"], \"xaxis\": \"x\", \"y\": [6], \"yaxis\": \"y\"}, {\"hovertemplate\": \"mentionedEntity1=47760<br>dateTime=%{x}<br>ct=%{y}<extra></extra>\", \"legendgroup\": \"47760\", \"line\": {\"color\": \"#FFA15A\", \"dash\": \"solid\"}, \"mode\": \"lines\", \"name\": \"47760\", \"orientation\": \"v\", \"showlegend\": true, \"type\": \"scatter\", \"x\": [\"2014-05-26\"], \"xaxis\": \"x\", \"y\": [7], \"yaxis\": \"y\"}, {\"hovertemplate\": \"mentionedEntity1=49896<br>dateTime=%{x}<br>ct=%{y}<extra></extra>\", \"legendgroup\": \"49896\", \"line\": {\"color\": \"#19d3f3\", \"dash\": \"solid\"}, \"mode\": \"lines\", \"name\": \"49896\", \"orientation\": \"v\", \"showlegend\": true, \"type\": \"scatter\", \"x\": [\"2014-05-26\"], \"xaxis\": \"x\", \"y\": [6], \"yaxis\": \"y\"}, {\"hovertemplate\": \"mentionedEntity1=50669<br>dateTime=%{x}<br>ct=%{y}<extra></extra>\", \"legendgroup\": \"50669\", \"line\": {\"color\": \"#FF6692\", \"dash\": \"solid\"}, \"mode\": \"lines\", \"name\": \"50669\", \"orientation\": \"v\", \"showlegend\": true, \"type\": \"scatter\", \"x\": [\"2014-05-26\"], \"xaxis\": \"x\", \"y\": [3], \"yaxis\": \"y\"}, {\"hovertemplate\": \"mentionedEntity1=50754<br>dateTime=%{x}<br>ct=%{y}<extra></extra>\", \"legendgroup\": \"50754\", \"line\": {\"color\": \"#B6E880\", \"dash\": \"solid\"}, \"mode\": \"lines\", \"name\": \"50754\", \"orientation\": \"v\", \"showlegend\": true, \"type\": \"scatter\", \"x\": [\"2014-05-26\"], \"xaxis\": \"x\", \"y\": [1], \"yaxis\": \"y\"}, {\"hovertemplate\": \"mentionedEntity1=50789<br>dateTime=%{x}<br>ct=%{y}<extra></extra>\", \"legendgroup\": \"50789\", \"line\": {\"color\": \"#FF97FF\", \"dash\": \"solid\"}, \"mode\": \"lines\", \"name\": \"50789\", \"orientation\": \"v\", \"showlegend\": true, \"type\": \"scatter\", \"x\": [\"2014-05-26\"], \"xaxis\": \"x\", \"y\": [5], \"yaxis\": \"y\"}, {\"hovertemplate\": \"mentionedEntity1=381<br>dateTime=%{x}<br>ct=%{y}<extra></extra>\", \"legendgroup\": \"381\", \"line\": {\"color\": \"#FECB52\", \"dash\": \"solid\"}, \"mode\": \"lines\", \"name\": \"381\", \"orientation\": \"v\", \"showlegend\": true, \"type\": \"scatter\", \"x\": [\"2014-05-27\"], \"xaxis\": \"x\", \"y\": [12], \"yaxis\": \"y\"}, {\"hovertemplate\": \"mentionedEntity1=838<br>dateTime=%{x}<br>ct=%{y}<extra></extra>\", \"legendgroup\": \"838\", \"line\": {\"color\": \"#636efa\", \"dash\": \"solid\"}, \"mode\": \"lines\", \"name\": \"838\", \"orientation\": \"v\", \"showlegend\": true, \"type\": \"scatter\", \"x\": [\"2014-05-27\"], \"xaxis\": \"x\", \"y\": [5], \"yaxis\": \"y\"}, {\"hovertemplate\": \"mentionedEntity1=1799<br>dateTime=%{x}<br>ct=%{y}<extra></extra>\", \"legendgroup\": \"1799\", \"line\": {\"color\": \"#EF553B\", \"dash\": \"solid\"}, \"mode\": \"lines\", \"name\": \"1799\", \"orientation\": \"v\", \"showlegend\": true, \"type\": \"scatter\", \"x\": [\"2014-05-27\"], \"xaxis\": \"x\", \"y\": [5], \"yaxis\": \"y\"}, {\"hovertemplate\": \"mentionedEntity1=1914<br>dateTime=%{x}<br>ct=%{y}<extra></extra>\", \"legendgroup\": \"1914\", \"line\": {\"color\": \"#00cc96\", \"dash\": \"solid\"}, \"mode\": \"lines\", \"name\": \"1914\", \"orientation\": \"v\", \"showlegend\": true, \"type\": \"scatter\", \"x\": [\"2014-05-27\"], \"xaxis\": \"x\", \"y\": [2], \"yaxis\": \"y\"}, {\"hovertemplate\": \"mentionedEntity1=4837<br>dateTime=%{x}<br>ct=%{y}<extra></extra>\", \"legendgroup\": \"4837\", \"line\": {\"color\": \"#ab63fa\", \"dash\": \"solid\"}, \"mode\": \"lines\", \"name\": \"4837\", \"orientation\": \"v\", \"showlegend\": true, \"type\": \"scatter\", \"x\": [\"2014-05-27\"], \"xaxis\": \"x\", \"y\": [6], \"yaxis\": \"y\"}, {\"hovertemplate\": \"mentionedEntity1=4963<br>dateTime=%{x}<br>ct=%{y}<extra></extra>\", \"legendgroup\": \"4963\", \"line\": {\"color\": \"#FFA15A\", \"dash\": \"solid\"}, \"mode\": \"lines\", \"name\": \"4963\", \"orientation\": \"v\", \"showlegend\": true, \"type\": \"scatter\", \"x\": [\"2014-05-27\"], \"xaxis\": \"x\", \"y\": [2], \"yaxis\": \"y\"}, {\"hovertemplate\": \"mentionedEntity1=5696<br>dateTime=%{x}<br>ct=%{y}<extra></extra>\", \"legendgroup\": \"5696\", \"line\": {\"color\": \"#19d3f3\", \"dash\": \"solid\"}, \"mode\": \"lines\", \"name\": \"5696\", \"orientation\": \"v\", \"showlegend\": true, \"type\": \"scatter\", \"x\": [\"2014-05-27\"], \"xaxis\": \"x\", \"y\": [3], \"yaxis\": \"y\"}, {\"hovertemplate\": \"mentionedEntity1=5858<br>dateTime=%{x}<br>ct=%{y}<extra></extra>\", \"legendgroup\": \"5858\", \"line\": {\"color\": \"#FF6692\", \"dash\": \"solid\"}, \"mode\": \"lines\", \"name\": \"5858\", \"orientation\": \"v\", \"showlegend\": true, \"type\": \"scatter\", \"x\": [\"2014-05-27\"], \"xaxis\": \"x\", \"y\": [3], \"yaxis\": \"y\"}, {\"hovertemplate\": \"mentionedEntity1=5970<br>dateTime=%{x}<br>ct=%{y}<extra></extra>\", \"legendgroup\": \"5970\", \"line\": {\"color\": \"#B6E880\", \"dash\": \"solid\"}, \"mode\": \"lines\", \"name\": \"5970\", \"orientation\": \"v\", \"showlegend\": true, \"type\": \"scatter\", \"x\": [\"2014-05-27\"], \"xaxis\": \"x\", \"y\": [5], \"yaxis\": \"y\"}, {\"hovertemplate\": \"mentionedEntity1=7183<br>dateTime=%{x}<br>ct=%{y}<extra></extra>\", \"legendgroup\": \"7183\", \"line\": {\"color\": \"#FF97FF\", \"dash\": \"solid\"}, \"mode\": \"lines\", \"name\": \"7183\", \"orientation\": \"v\", \"showlegend\": true, \"type\": \"scatter\", \"x\": [\"2014-05-27\"], \"xaxis\": \"x\", \"y\": [41], \"yaxis\": \"y\"}, {\"hovertemplate\": \"mentionedEntity1=7222<br>dateTime=%{x}<br>ct=%{y}<extra></extra>\", \"legendgroup\": \"7222\", \"line\": {\"color\": \"#FECB52\", \"dash\": \"solid\"}, \"mode\": \"lines\", \"name\": \"7222\", \"orientation\": \"v\", \"showlegend\": true, \"type\": \"scatter\", \"x\": [\"2014-05-27\"], \"xaxis\": \"x\", \"y\": [1], \"yaxis\": \"y\"}, {\"hovertemplate\": \"mentionedEntity1=7263<br>dateTime=%{x}<br>ct=%{y}<extra></extra>\", \"legendgroup\": \"7263\", \"line\": {\"color\": \"#636efa\", \"dash\": \"solid\"}, \"mode\": \"lines\", \"name\": \"7263\", \"orientation\": \"v\", \"showlegend\": true, \"type\": \"scatter\", \"x\": [\"2014-05-27\", \"2014-05-28\"], \"xaxis\": \"x\", \"y\": [3, 3], \"yaxis\": \"y\"}, {\"hovertemplate\": \"mentionedEntity1=7842<br>dateTime=%{x}<br>ct=%{y}<extra></extra>\", \"legendgroup\": \"7842\", \"line\": {\"color\": \"#EF553B\", \"dash\": \"solid\"}, \"mode\": \"lines\", \"name\": \"7842\", \"orientation\": \"v\", \"showlegend\": true, \"type\": \"scatter\", \"x\": [\"2014-05-27\"], \"xaxis\": \"x\", \"y\": [3], \"yaxis\": \"y\"}, {\"hovertemplate\": \"mentionedEntity1=9913<br>dateTime=%{x}<br>ct=%{y}<extra></extra>\", \"legendgroup\": \"9913\", \"line\": {\"color\": \"#00cc96\", \"dash\": \"solid\"}, \"mode\": \"lines\", \"name\": \"9913\", \"orientation\": \"v\", \"showlegend\": true, \"type\": \"scatter\", \"x\": [\"2014-05-27\"], \"xaxis\": \"x\", \"y\": [1], \"yaxis\": \"y\"}, {\"hovertemplate\": \"mentionedEntity1=10869<br>dateTime=%{x}<br>ct=%{y}<extra></extra>\", \"legendgroup\": \"10869\", \"line\": {\"color\": \"#ab63fa\", \"dash\": \"solid\"}, \"mode\": \"lines\", \"name\": \"10869\", \"orientation\": \"v\", \"showlegend\": true, \"type\": \"scatter\", \"x\": [\"2014-05-27\"], \"xaxis\": \"x\", \"y\": [1], \"yaxis\": \"y\"}, {\"hovertemplate\": \"mentionedEntity1=10971<br>dateTime=%{x}<br>ct=%{y}<extra></extra>\", \"legendgroup\": \"10971\", \"line\": {\"color\": \"#FFA15A\", \"dash\": \"solid\"}, \"mode\": \"lines\", \"name\": \"10971\", \"orientation\": \"v\", \"showlegend\": true, \"type\": \"scatter\", \"x\": [\"2014-05-27\"], \"xaxis\": \"x\", \"y\": [3], \"yaxis\": \"y\"}, {\"hovertemplate\": \"mentionedEntity1=11029<br>dateTime=%{x}<br>ct=%{y}<extra></extra>\", \"legendgroup\": \"11029\", \"line\": {\"color\": \"#19d3f3\", \"dash\": \"solid\"}, \"mode\": \"lines\", \"name\": \"11029\", \"orientation\": \"v\", \"showlegend\": true, \"type\": \"scatter\", \"x\": [\"2014-05-27\"], \"xaxis\": \"x\", \"y\": [1], \"yaxis\": \"y\"}, {\"hovertemplate\": \"mentionedEntity1=11107<br>dateTime=%{x}<br>ct=%{y}<extra></extra>\", \"legendgroup\": \"11107\", \"line\": {\"color\": \"#FF6692\", \"dash\": \"solid\"}, \"mode\": \"lines\", \"name\": \"11107\", \"orientation\": \"v\", \"showlegend\": true, \"type\": \"scatter\", \"x\": [\"2014-05-27\"], \"xaxis\": \"x\", \"y\": [2], \"yaxis\": \"y\"}, {\"hovertemplate\": \"mentionedEntity1=11762<br>dateTime=%{x}<br>ct=%{y}<extra></extra>\", \"legendgroup\": \"11762\", \"line\": {\"color\": \"#B6E880\", \"dash\": \"solid\"}, \"mode\": \"lines\", \"name\": \"11762\", \"orientation\": \"v\", \"showlegend\": true, \"type\": \"scatter\", \"x\": [\"2014-05-27\"], \"xaxis\": \"x\", \"y\": [1], \"yaxis\": \"y\"}, {\"hovertemplate\": \"mentionedEntity1=12252<br>dateTime=%{x}<br>ct=%{y}<extra></extra>\", \"legendgroup\": \"12252\", \"line\": {\"color\": \"#FF97FF\", \"dash\": \"solid\"}, \"mode\": \"lines\", \"name\": \"12252\", \"orientation\": \"v\", \"showlegend\": true, \"type\": \"scatter\", \"x\": [\"2014-05-27\"], \"xaxis\": \"x\", \"y\": [5], \"yaxis\": \"y\"}, {\"hovertemplate\": \"mentionedEntity1=12286<br>dateTime=%{x}<br>ct=%{y}<extra></extra>\", \"legendgroup\": \"12286\", \"line\": {\"color\": \"#FECB52\", \"dash\": \"solid\"}, \"mode\": \"lines\", \"name\": \"12286\", \"orientation\": \"v\", \"showlegend\": true, \"type\": \"scatter\", \"x\": [\"2014-05-27\"], \"xaxis\": \"x\", \"y\": [3], \"yaxis\": \"y\"}, {\"hovertemplate\": \"mentionedEntity1=12352<br>dateTime=%{x}<br>ct=%{y}<extra></extra>\", \"legendgroup\": \"12352\", \"line\": {\"color\": \"#636efa\", \"dash\": \"solid\"}, \"mode\": \"lines\", \"name\": \"12352\", \"orientation\": \"v\", \"showlegend\": true, \"type\": \"scatter\", \"x\": [\"2014-05-27\"], \"xaxis\": \"x\", \"y\": [2], \"yaxis\": \"y\"}, {\"hovertemplate\": \"mentionedEntity1=17285<br>dateTime=%{x}<br>ct=%{y}<extra></extra>\", \"legendgroup\": \"17285\", \"line\": {\"color\": \"#EF553B\", \"dash\": \"solid\"}, \"mode\": \"lines\", \"name\": \"17285\", \"orientation\": \"v\", \"showlegend\": true, \"type\": \"scatter\", \"x\": [\"2014-05-27\"], \"xaxis\": \"x\", \"y\": [4], \"yaxis\": \"y\"}, {\"hovertemplate\": \"mentionedEntity1=18980<br>dateTime=%{x}<br>ct=%{y}<extra></extra>\", \"legendgroup\": \"18980\", \"line\": {\"color\": \"#00cc96\", \"dash\": \"solid\"}, \"mode\": \"lines\", \"name\": \"18980\", \"orientation\": \"v\", \"showlegend\": true, \"type\": \"scatter\", \"x\": [\"2014-05-27\"], \"xaxis\": \"x\", \"y\": [1], \"yaxis\": \"y\"}, {\"hovertemplate\": \"mentionedEntity1=19578<br>dateTime=%{x}<br>ct=%{y}<extra></extra>\", \"legendgroup\": \"19578\", \"line\": {\"color\": \"#ab63fa\", \"dash\": \"solid\"}, \"mode\": \"lines\", \"name\": \"19578\", \"orientation\": \"v\", \"showlegend\": true, \"type\": \"scatter\", \"x\": [\"2014-05-27\"], \"xaxis\": \"x\", \"y\": [2], \"yaxis\": \"y\"}, {\"hovertemplate\": \"mentionedEntity1=20522<br>dateTime=%{x}<br>ct=%{y}<extra></extra>\", \"legendgroup\": \"20522\", \"line\": {\"color\": \"#FFA15A\", \"dash\": \"solid\"}, \"mode\": \"lines\", \"name\": \"20522\", \"orientation\": \"v\", \"showlegend\": true, \"type\": \"scatter\", \"x\": [\"2014-05-27\"], \"xaxis\": \"x\", \"y\": [3], \"yaxis\": \"y\"}, {\"hovertemplate\": \"mentionedEntity1=20913<br>dateTime=%{x}<br>ct=%{y}<extra></extra>\", \"legendgroup\": \"20913\", \"line\": {\"color\": \"#19d3f3\", \"dash\": \"solid\"}, \"mode\": \"lines\", \"name\": \"20913\", \"orientation\": \"v\", \"showlegend\": true, \"type\": \"scatter\", \"x\": [\"2014-05-27\"], \"xaxis\": \"x\", \"y\": [2], \"yaxis\": \"y\"}, {\"hovertemplate\": \"mentionedEntity1=25078<br>dateTime=%{x}<br>ct=%{y}<extra></extra>\", \"legendgroup\": \"25078\", \"line\": {\"color\": \"#FF6692\", \"dash\": \"solid\"}, \"mode\": \"lines\", \"name\": \"25078\", \"orientation\": \"v\", \"showlegend\": true, \"type\": \"scatter\", \"x\": [\"2014-05-27\"], \"xaxis\": \"x\", \"y\": [8], \"yaxis\": \"y\"}, {\"hovertemplate\": \"mentionedEntity1=25871<br>dateTime=%{x}<br>ct=%{y}<extra></extra>\", \"legendgroup\": \"25871\", \"line\": {\"color\": \"#B6E880\", \"dash\": \"solid\"}, \"mode\": \"lines\", \"name\": \"25871\", \"orientation\": \"v\", \"showlegend\": true, \"type\": \"scatter\", \"x\": [\"2014-05-27\"], \"xaxis\": \"x\", \"y\": [6], \"yaxis\": \"y\"}, {\"hovertemplate\": \"mentionedEntity1=26180<br>dateTime=%{x}<br>ct=%{y}<extra></extra>\", \"legendgroup\": \"26180\", \"line\": {\"color\": \"#FF97FF\", \"dash\": \"solid\"}, \"mode\": \"lines\", \"name\": \"26180\", \"orientation\": \"v\", \"showlegend\": true, \"type\": \"scatter\", \"x\": [\"2014-05-27\"], \"xaxis\": \"x\", \"y\": [3], \"yaxis\": \"y\"}, {\"hovertemplate\": \"mentionedEntity1=26924<br>dateTime=%{x}<br>ct=%{y}<extra></extra>\", \"legendgroup\": \"26924\", \"line\": {\"color\": \"#FECB52\", \"dash\": \"solid\"}, \"mode\": \"lines\", \"name\": \"26924\", \"orientation\": \"v\", \"showlegend\": true, \"type\": \"scatter\", \"x\": [\"2014-05-27\"], \"xaxis\": \"x\", \"y\": [4], \"yaxis\": \"y\"}, {\"hovertemplate\": \"mentionedEntity1=27093<br>dateTime=%{x}<br>ct=%{y}<extra></extra>\", \"legendgroup\": \"27093\", \"line\": {\"color\": \"#636efa\", \"dash\": \"solid\"}, \"mode\": \"lines\", \"name\": \"27093\", \"orientation\": \"v\", \"showlegend\": true, \"type\": \"scatter\", \"x\": [\"2014-05-27\"], \"xaxis\": \"x\", \"y\": [2], \"yaxis\": \"y\"}, {\"hovertemplate\": \"mentionedEntity1=27829<br>dateTime=%{x}<br>ct=%{y}<extra></extra>\", \"legendgroup\": \"27829\", \"line\": {\"color\": \"#EF553B\", \"dash\": \"solid\"}, \"mode\": \"lines\", \"name\": \"27829\", \"orientation\": \"v\", \"showlegend\": true, \"type\": \"scatter\", \"x\": [\"2014-05-27\"], \"xaxis\": \"x\", \"y\": [6], \"yaxis\": \"y\"}, {\"hovertemplate\": \"mentionedEntity1=28574<br>dateTime=%{x}<br>ct=%{y}<extra></extra>\", \"legendgroup\": \"28574\", \"line\": {\"color\": \"#00cc96\", \"dash\": \"solid\"}, \"mode\": \"lines\", \"name\": \"28574\", \"orientation\": \"v\", \"showlegend\": true, \"type\": \"scatter\", \"x\": [\"2014-05-27\"], \"xaxis\": \"x\", \"y\": [9], \"yaxis\": \"y\"}, {\"hovertemplate\": \"mentionedEntity1=29772<br>dateTime=%{x}<br>ct=%{y}<extra></extra>\", \"legendgroup\": \"29772\", \"line\": {\"color\": \"#ab63fa\", \"dash\": \"solid\"}, \"mode\": \"lines\", \"name\": \"29772\", \"orientation\": \"v\", \"showlegend\": true, \"type\": \"scatter\", \"x\": [\"2014-05-27\"], \"xaxis\": \"x\", \"y\": [5], \"yaxis\": \"y\"}, {\"hovertemplate\": \"mentionedEntity1=30009<br>dateTime=%{x}<br>ct=%{y}<extra></extra>\", \"legendgroup\": \"30009\", \"line\": {\"color\": \"#FFA15A\", \"dash\": \"solid\"}, \"mode\": \"lines\", \"name\": \"30009\", \"orientation\": \"v\", \"showlegend\": true, \"type\": \"scatter\", \"x\": [\"2014-05-27\"], \"xaxis\": \"x\", \"y\": [6], \"yaxis\": \"y\"}, {\"hovertemplate\": \"mentionedEntity1=31134<br>dateTime=%{x}<br>ct=%{y}<extra></extra>\", \"legendgroup\": \"31134\", \"line\": {\"color\": \"#19d3f3\", \"dash\": \"solid\"}, \"mode\": \"lines\", \"name\": \"31134\", \"orientation\": \"v\", \"showlegend\": true, \"type\": \"scatter\", \"x\": [\"2014-05-27\"], \"xaxis\": \"x\", \"y\": [1], \"yaxis\": \"y\"}, {\"hovertemplate\": \"mentionedEntity1=31517<br>dateTime=%{x}<br>ct=%{y}<extra></extra>\", \"legendgroup\": \"31517\", \"line\": {\"color\": \"#FF6692\", \"dash\": \"solid\"}, \"mode\": \"lines\", \"name\": \"31517\", \"orientation\": \"v\", \"showlegend\": true, \"type\": \"scatter\", \"x\": [\"2014-05-27\"], \"xaxis\": \"x\", \"y\": [1], \"yaxis\": \"y\"}, {\"hovertemplate\": \"mentionedEntity1=32986<br>dateTime=%{x}<br>ct=%{y}<extra></extra>\", \"legendgroup\": \"32986\", \"line\": {\"color\": \"#B6E880\", \"dash\": \"solid\"}, \"mode\": \"lines\", \"name\": \"32986\", \"orientation\": \"v\", \"showlegend\": true, \"type\": \"scatter\", \"x\": [\"2014-05-27\"], \"xaxis\": \"x\", \"y\": [2], \"yaxis\": \"y\"}, {\"hovertemplate\": \"mentionedEntity1=33252<br>dateTime=%{x}<br>ct=%{y}<extra></extra>\", \"legendgroup\": \"33252\", \"line\": {\"color\": \"#FF97FF\", \"dash\": \"solid\"}, \"mode\": \"lines\", \"name\": \"33252\", \"orientation\": \"v\", \"showlegend\": true, \"type\": \"scatter\", \"x\": [\"2014-05-27\"], \"xaxis\": \"x\", \"y\": [4], \"yaxis\": \"y\"}, {\"hovertemplate\": \"mentionedEntity1=33917<br>dateTime=%{x}<br>ct=%{y}<extra></extra>\", \"legendgroup\": \"33917\", \"line\": {\"color\": \"#FECB52\", \"dash\": \"solid\"}, \"mode\": \"lines\", \"name\": \"33917\", \"orientation\": \"v\", \"showlegend\": true, \"type\": \"scatter\", \"x\": [\"2014-05-27\"], \"xaxis\": \"x\", \"y\": [2], \"yaxis\": \"y\"}, {\"hovertemplate\": \"mentionedEntity1=34832<br>dateTime=%{x}<br>ct=%{y}<extra></extra>\", \"legendgroup\": \"34832\", \"line\": {\"color\": \"#636efa\", \"dash\": \"solid\"}, \"mode\": \"lines\", \"name\": \"34832\", \"orientation\": \"v\", \"showlegend\": true, \"type\": \"scatter\", \"x\": [\"2014-05-27\"], \"xaxis\": \"x\", \"y\": [8], \"yaxis\": \"y\"}, {\"hovertemplate\": \"mentionedEntity1=35367<br>dateTime=%{x}<br>ct=%{y}<extra></extra>\", \"legendgroup\": \"35367\", \"line\": {\"color\": \"#EF553B\", \"dash\": \"solid\"}, \"mode\": \"lines\", \"name\": \"35367\", \"orientation\": \"v\", \"showlegend\": true, \"type\": \"scatter\", \"x\": [\"2014-05-27\"], \"xaxis\": \"x\", \"y\": [6], \"yaxis\": \"y\"}, {\"hovertemplate\": \"mentionedEntity1=37236<br>dateTime=%{x}<br>ct=%{y}<extra></extra>\", \"legendgroup\": \"37236\", \"line\": {\"color\": \"#00cc96\", \"dash\": \"solid\"}, \"mode\": \"lines\", \"name\": \"37236\", \"orientation\": \"v\", \"showlegend\": true, \"type\": \"scatter\", \"x\": [\"2014-05-27\"], \"xaxis\": \"x\", \"y\": [17], \"yaxis\": \"y\"}, {\"hovertemplate\": \"mentionedEntity1=37990<br>dateTime=%{x}<br>ct=%{y}<extra></extra>\", \"legendgroup\": \"37990\", \"line\": {\"color\": \"#ab63fa\", \"dash\": \"solid\"}, \"mode\": \"lines\", \"name\": \"37990\", \"orientation\": \"v\", \"showlegend\": true, \"type\": \"scatter\", \"x\": [\"2014-05-27\"], \"xaxis\": \"x\", \"y\": [2], \"yaxis\": \"y\"}, {\"hovertemplate\": \"mentionedEntity1=38056<br>dateTime=%{x}<br>ct=%{y}<extra></extra>\", \"legendgroup\": \"38056\", \"line\": {\"color\": \"#FFA15A\", \"dash\": \"solid\"}, \"mode\": \"lines\", \"name\": \"38056\", \"orientation\": \"v\", \"showlegend\": true, \"type\": \"scatter\", \"x\": [\"2014-05-27\"], \"xaxis\": \"x\", \"y\": [4], \"yaxis\": \"y\"}, {\"hovertemplate\": \"mentionedEntity1=38980<br>dateTime=%{x}<br>ct=%{y}<extra></extra>\", \"legendgroup\": \"38980\", \"line\": {\"color\": \"#19d3f3\", \"dash\": \"solid\"}, \"mode\": \"lines\", \"name\": \"38980\", \"orientation\": \"v\", \"showlegend\": true, \"type\": \"scatter\", \"x\": [\"2014-05-27\"], \"xaxis\": \"x\", \"y\": [4], \"yaxis\": \"y\"}, {\"hovertemplate\": \"mentionedEntity1=39079<br>dateTime=%{x}<br>ct=%{y}<extra></extra>\", \"legendgroup\": \"39079\", \"line\": {\"color\": \"#FF6692\", \"dash\": \"solid\"}, \"mode\": \"lines\", \"name\": \"39079\", \"orientation\": \"v\", \"showlegend\": true, \"type\": \"scatter\", \"x\": [\"2014-05-27\", \"2014-05-29\", \"2014-05-30\", \"2014-05-31\"], \"xaxis\": \"x\", \"y\": [4, 4, 4, 4], \"yaxis\": \"y\"}, {\"hovertemplate\": \"mentionedEntity1=39574<br>dateTime=%{x}<br>ct=%{y}<extra></extra>\", \"legendgroup\": \"39574\", \"line\": {\"color\": \"#B6E880\", \"dash\": \"solid\"}, \"mode\": \"lines\", \"name\": \"39574\", \"orientation\": \"v\", \"showlegend\": true, \"type\": \"scatter\", \"x\": [\"2014-05-27\"], \"xaxis\": \"x\", \"y\": [3], \"yaxis\": \"y\"}, {\"hovertemplate\": \"mentionedEntity1=40694<br>dateTime=%{x}<br>ct=%{y}<extra></extra>\", \"legendgroup\": \"40694\", \"line\": {\"color\": \"#FF97FF\", \"dash\": \"solid\"}, \"mode\": \"lines\", \"name\": \"40694\", \"orientation\": \"v\", \"showlegend\": true, \"type\": \"scatter\", \"x\": [\"2014-05-27\"], \"xaxis\": \"x\", \"y\": [6], \"yaxis\": \"y\"}, {\"hovertemplate\": \"mentionedEntity1=41058<br>dateTime=%{x}<br>ct=%{y}<extra></extra>\", \"legendgroup\": \"41058\", \"line\": {\"color\": \"#FECB52\", \"dash\": \"solid\"}, \"mode\": \"lines\", \"name\": \"41058\", \"orientation\": \"v\", \"showlegend\": true, \"type\": \"scatter\", \"x\": [\"2014-05-27\"], \"xaxis\": \"x\", \"y\": [1], \"yaxis\": \"y\"}, {\"hovertemplate\": \"mentionedEntity1=41854<br>dateTime=%{x}<br>ct=%{y}<extra></extra>\", \"legendgroup\": \"41854\", \"line\": {\"color\": \"#636efa\", \"dash\": \"solid\"}, \"mode\": \"lines\", \"name\": \"41854\", \"orientation\": \"v\", \"showlegend\": true, \"type\": \"scatter\", \"x\": [\"2014-05-27\"], \"xaxis\": \"x\", \"y\": [5], \"yaxis\": \"y\"}, {\"hovertemplate\": \"mentionedEntity1=42399<br>dateTime=%{x}<br>ct=%{y}<extra></extra>\", \"legendgroup\": \"42399\", \"line\": {\"color\": \"#EF553B\", \"dash\": \"solid\"}, \"mode\": \"lines\", \"name\": \"42399\", \"orientation\": \"v\", \"showlegend\": true, \"type\": \"scatter\", \"x\": [\"2014-05-27\"], \"xaxis\": \"x\", \"y\": [1], \"yaxis\": \"y\"}, {\"hovertemplate\": \"mentionedEntity1=44324<br>dateTime=%{x}<br>ct=%{y}<extra></extra>\", \"legendgroup\": \"44324\", \"line\": {\"color\": \"#00cc96\", \"dash\": \"solid\"}, \"mode\": \"lines\", \"name\": \"44324\", \"orientation\": \"v\", \"showlegend\": true, \"type\": \"scatter\", \"x\": [\"2014-05-27\"], \"xaxis\": \"x\", \"y\": [5], \"yaxis\": \"y\"}, {\"hovertemplate\": \"mentionedEntity1=46215<br>dateTime=%{x}<br>ct=%{y}<extra></extra>\", \"legendgroup\": \"46215\", \"line\": {\"color\": \"#ab63fa\", \"dash\": \"solid\"}, \"mode\": \"lines\", \"name\": \"46215\", \"orientation\": \"v\", \"showlegend\": true, \"type\": \"scatter\", \"x\": [\"2014-05-27\"], \"xaxis\": \"x\", \"y\": [1], \"yaxis\": \"y\"}, {\"hovertemplate\": \"mentionedEntity1=47931<br>dateTime=%{x}<br>ct=%{y}<extra></extra>\", \"legendgroup\": \"47931\", \"line\": {\"color\": \"#FFA15A\", \"dash\": \"solid\"}, \"mode\": \"lines\", \"name\": \"47931\", \"orientation\": \"v\", \"showlegend\": true, \"type\": \"scatter\", \"x\": [\"2014-05-27\"], \"xaxis\": \"x\", \"y\": [4], \"yaxis\": \"y\"}, {\"hovertemplate\": \"mentionedEntity1=49207<br>dateTime=%{x}<br>ct=%{y}<extra></extra>\", \"legendgroup\": \"49207\", \"line\": {\"color\": \"#19d3f3\", \"dash\": \"solid\"}, \"mode\": \"lines\", \"name\": \"49207\", \"orientation\": \"v\", \"showlegend\": true, \"type\": \"scatter\", \"x\": [\"2014-05-27\"], \"xaxis\": \"x\", \"y\": [5], \"yaxis\": \"y\"}, {\"hovertemplate\": \"mentionedEntity1=50120<br>dateTime=%{x}<br>ct=%{y}<extra></extra>\", \"legendgroup\": \"50120\", \"line\": {\"color\": \"#FF6692\", \"dash\": \"solid\"}, \"mode\": \"lines\", \"name\": \"50120\", \"orientation\": \"v\", \"showlegend\": true, \"type\": \"scatter\", \"x\": [\"2014-05-27\"], \"xaxis\": \"x\", \"y\": [9], \"yaxis\": \"y\"}, {\"hovertemplate\": \"mentionedEntity1=50550<br>dateTime=%{x}<br>ct=%{y}<extra></extra>\", \"legendgroup\": \"50550\", \"line\": {\"color\": \"#B6E880\", \"dash\": \"solid\"}, \"mode\": \"lines\", \"name\": \"50550\", \"orientation\": \"v\", \"showlegend\": true, \"type\": \"scatter\", \"x\": [\"2014-05-27\"], \"xaxis\": \"x\", \"y\": [6], \"yaxis\": \"y\"}, {\"hovertemplate\": \"mentionedEntity1=5<br>dateTime=%{x}<br>ct=%{y}<extra></extra>\", \"legendgroup\": \"5\", \"line\": {\"color\": \"#FF97FF\", \"dash\": \"solid\"}, \"mode\": \"lines\", \"name\": \"5\", \"orientation\": \"v\", \"showlegend\": true, \"type\": \"scatter\", \"x\": [\"2014-05-28\"], \"xaxis\": \"x\", \"y\": [64], \"yaxis\": \"y\"}, {\"hovertemplate\": \"mentionedEntity1=5440<br>dateTime=%{x}<br>ct=%{y}<extra></extra>\", \"legendgroup\": \"5440\", \"line\": {\"color\": \"#FECB52\", \"dash\": \"solid\"}, \"mode\": \"lines\", \"name\": \"5440\", \"orientation\": \"v\", \"showlegend\": true, \"type\": \"scatter\", \"x\": [\"2014-05-28\"], \"xaxis\": \"x\", \"y\": [1], \"yaxis\": \"y\"}, {\"hovertemplate\": \"mentionedEntity1=5487<br>dateTime=%{x}<br>ct=%{y}<extra></extra>\", \"legendgroup\": \"5487\", \"line\": {\"color\": \"#636efa\", \"dash\": \"solid\"}, \"mode\": \"lines\", \"name\": \"5487\", \"orientation\": \"v\", \"showlegend\": true, \"type\": \"scatter\", \"x\": [\"2014-05-28\"], \"xaxis\": \"x\", \"y\": [5], \"yaxis\": \"y\"}, {\"hovertemplate\": \"mentionedEntity1=7543<br>dateTime=%{x}<br>ct=%{y}<extra></extra>\", \"legendgroup\": \"7543\", \"line\": {\"color\": \"#EF553B\", \"dash\": \"solid\"}, \"mode\": \"lines\", \"name\": \"7543\", \"orientation\": \"v\", \"showlegend\": true, \"type\": \"scatter\", \"x\": [\"2014-05-28\"], \"xaxis\": \"x\", \"y\": [4], \"yaxis\": \"y\"}, {\"hovertemplate\": \"mentionedEntity1=9540<br>dateTime=%{x}<br>ct=%{y}<extra></extra>\", \"legendgroup\": \"9540\", \"line\": {\"color\": \"#00cc96\", \"dash\": \"solid\"}, \"mode\": \"lines\", \"name\": \"9540\", \"orientation\": \"v\", \"showlegend\": true, \"type\": \"scatter\", \"x\": [\"2014-05-28\"], \"xaxis\": \"x\", \"y\": [4], \"yaxis\": \"y\"}, {\"hovertemplate\": \"mentionedEntity1=10179<br>dateTime=%{x}<br>ct=%{y}<extra></extra>\", \"legendgroup\": \"10179\", \"line\": {\"color\": \"#ab63fa\", \"dash\": \"solid\"}, \"mode\": \"lines\", \"name\": \"10179\", \"orientation\": \"v\", \"showlegend\": true, \"type\": \"scatter\", \"x\": [\"2014-05-28\"], \"xaxis\": \"x\", \"y\": [4], \"yaxis\": \"y\"}, {\"hovertemplate\": \"mentionedEntity1=11189<br>dateTime=%{x}<br>ct=%{y}<extra></extra>\", \"legendgroup\": \"11189\", \"line\": {\"color\": \"#FFA15A\", \"dash\": \"solid\"}, \"mode\": \"lines\", \"name\": \"11189\", \"orientation\": \"v\", \"showlegend\": true, \"type\": \"scatter\", \"x\": [\"2014-05-28\"], \"xaxis\": \"x\", \"y\": [3], \"yaxis\": \"y\"}, {\"hovertemplate\": \"mentionedEntity1=11228<br>dateTime=%{x}<br>ct=%{y}<extra></extra>\", \"legendgroup\": \"11228\", \"line\": {\"color\": \"#19d3f3\", \"dash\": \"solid\"}, \"mode\": \"lines\", \"name\": \"11228\", \"orientation\": \"v\", \"showlegend\": true, \"type\": \"scatter\", \"x\": [\"2014-05-28\"], \"xaxis\": \"x\", \"y\": [3], \"yaxis\": \"y\"}, {\"hovertemplate\": \"mentionedEntity1=11287<br>dateTime=%{x}<br>ct=%{y}<extra></extra>\", \"legendgroup\": \"11287\", \"line\": {\"color\": \"#FF6692\", \"dash\": \"solid\"}, \"mode\": \"lines\", \"name\": \"11287\", \"orientation\": \"v\", \"showlegend\": true, \"type\": \"scatter\", \"x\": [\"2014-05-28\"], \"xaxis\": \"x\", \"y\": [3], \"yaxis\": \"y\"}, {\"hovertemplate\": \"mentionedEntity1=11756<br>dateTime=%{x}<br>ct=%{y}<extra></extra>\", \"legendgroup\": \"11756\", \"line\": {\"color\": \"#B6E880\", \"dash\": \"solid\"}, \"mode\": \"lines\", \"name\": \"11756\", \"orientation\": \"v\", \"showlegend\": true, \"type\": \"scatter\", \"x\": [\"2014-05-28\"], \"xaxis\": \"x\", \"y\": [4], \"yaxis\": \"y\"}, {\"hovertemplate\": \"mentionedEntity1=11906<br>dateTime=%{x}<br>ct=%{y}<extra></extra>\", \"legendgroup\": \"11906\", \"line\": {\"color\": \"#FF97FF\", \"dash\": \"solid\"}, \"mode\": \"lines\", \"name\": \"11906\", \"orientation\": \"v\", \"showlegend\": true, \"type\": \"scatter\", \"x\": [\"2014-05-28\"], \"xaxis\": \"x\", \"y\": [5], \"yaxis\": \"y\"}, {\"hovertemplate\": \"mentionedEntity1=12658<br>dateTime=%{x}<br>ct=%{y}<extra></extra>\", \"legendgroup\": \"12658\", \"line\": {\"color\": \"#FECB52\", \"dash\": \"solid\"}, \"mode\": \"lines\", \"name\": \"12658\", \"orientation\": \"v\", \"showlegend\": true, \"type\": \"scatter\", \"x\": [\"2014-05-28\"], \"xaxis\": \"x\", \"y\": [5], \"yaxis\": \"y\"}, {\"hovertemplate\": \"mentionedEntity1=13691<br>dateTime=%{x}<br>ct=%{y}<extra></extra>\", \"legendgroup\": \"13691\", \"line\": {\"color\": \"#636efa\", \"dash\": \"solid\"}, \"mode\": \"lines\", \"name\": \"13691\", \"orientation\": \"v\", \"showlegend\": true, \"type\": \"scatter\", \"x\": [\"2014-05-28\"], \"xaxis\": \"x\", \"y\": [1], \"yaxis\": \"y\"}, {\"hovertemplate\": \"mentionedEntity1=14870<br>dateTime=%{x}<br>ct=%{y}<extra></extra>\", \"legendgroup\": \"14870\", \"line\": {\"color\": \"#EF553B\", \"dash\": \"solid\"}, \"mode\": \"lines\", \"name\": \"14870\", \"orientation\": \"v\", \"showlegend\": true, \"type\": \"scatter\", \"x\": [\"2014-05-28\"], \"xaxis\": \"x\", \"y\": [2], \"yaxis\": \"y\"}, {\"hovertemplate\": \"mentionedEntity1=15892<br>dateTime=%{x}<br>ct=%{y}<extra></extra>\", \"legendgroup\": \"15892\", \"line\": {\"color\": \"#00cc96\", \"dash\": \"solid\"}, \"mode\": \"lines\", \"name\": \"15892\", \"orientation\": \"v\", \"showlegend\": true, \"type\": \"scatter\", \"x\": [\"2014-05-28\"], \"xaxis\": \"x\", \"y\": [1], \"yaxis\": \"y\"}, {\"hovertemplate\": \"mentionedEntity1=16758<br>dateTime=%{x}<br>ct=%{y}<extra></extra>\", \"legendgroup\": \"16758\", \"line\": {\"color\": \"#ab63fa\", \"dash\": \"solid\"}, \"mode\": \"lines\", \"name\": \"16758\", \"orientation\": \"v\", \"showlegend\": true, \"type\": \"scatter\", \"x\": [\"2014-05-28\"], \"xaxis\": \"x\", \"y\": [3], \"yaxis\": \"y\"}, {\"hovertemplate\": \"mentionedEntity1=18091<br>dateTime=%{x}<br>ct=%{y}<extra></extra>\", \"legendgroup\": \"18091\", \"line\": {\"color\": \"#FFA15A\", \"dash\": \"solid\"}, \"mode\": \"lines\", \"name\": \"18091\", \"orientation\": \"v\", \"showlegend\": true, \"type\": \"scatter\", \"x\": [\"2014-05-28\"], \"xaxis\": \"x\", \"y\": [2], \"yaxis\": \"y\"}, {\"hovertemplate\": \"mentionedEntity1=23198<br>dateTime=%{x}<br>ct=%{y}<extra></extra>\", \"legendgroup\": \"23198\", \"line\": {\"color\": \"#19d3f3\", \"dash\": \"solid\"}, \"mode\": \"lines\", \"name\": \"23198\", \"orientation\": \"v\", \"showlegend\": true, \"type\": \"scatter\", \"x\": [\"2014-05-28\"], \"xaxis\": \"x\", \"y\": [7], \"yaxis\": \"y\"}, {\"hovertemplate\": \"mentionedEntity1=23222<br>dateTime=%{x}<br>ct=%{y}<extra></extra>\", \"legendgroup\": \"23222\", \"line\": {\"color\": \"#FF6692\", \"dash\": \"solid\"}, \"mode\": \"lines\", \"name\": \"23222\", \"orientation\": \"v\", \"showlegend\": true, \"type\": \"scatter\", \"x\": [\"2014-05-28\"], \"xaxis\": \"x\", \"y\": [2], \"yaxis\": \"y\"}, {\"hovertemplate\": \"mentionedEntity1=23240<br>dateTime=%{x}<br>ct=%{y}<extra></extra>\", \"legendgroup\": \"23240\", \"line\": {\"color\": \"#B6E880\", \"dash\": \"solid\"}, \"mode\": \"lines\", \"name\": \"23240\", \"orientation\": \"v\", \"showlegend\": true, \"type\": \"scatter\", \"x\": [\"2014-05-28\"], \"xaxis\": \"x\", \"y\": [2], \"yaxis\": \"y\"}, {\"hovertemplate\": \"mentionedEntity1=23335<br>dateTime=%{x}<br>ct=%{y}<extra></extra>\", \"legendgroup\": \"23335\", \"line\": {\"color\": \"#FF97FF\", \"dash\": \"solid\"}, \"mode\": \"lines\", \"name\": \"23335\", \"orientation\": \"v\", \"showlegend\": true, \"type\": \"scatter\", \"x\": [\"2014-05-28\"], \"xaxis\": \"x\", \"y\": [3], \"yaxis\": \"y\"}, {\"hovertemplate\": \"mentionedEntity1=24166<br>dateTime=%{x}<br>ct=%{y}<extra></extra>\", \"legendgroup\": \"24166\", \"line\": {\"color\": \"#FECB52\", \"dash\": \"solid\"}, \"mode\": \"lines\", \"name\": \"24166\", \"orientation\": \"v\", \"showlegend\": true, \"type\": \"scatter\", \"x\": [\"2014-05-28\"], \"xaxis\": \"x\", \"y\": [1], \"yaxis\": \"y\"}, {\"hovertemplate\": \"mentionedEntity1=24562<br>dateTime=%{x}<br>ct=%{y}<extra></extra>\", \"legendgroup\": \"24562\", \"line\": {\"color\": \"#636efa\", \"dash\": \"solid\"}, \"mode\": \"lines\", \"name\": \"24562\", \"orientation\": \"v\", \"showlegend\": true, \"type\": \"scatter\", \"x\": [\"2014-05-28\"], \"xaxis\": \"x\", \"y\": [8], \"yaxis\": \"y\"}, {\"hovertemplate\": \"mentionedEntity1=26753<br>dateTime=%{x}<br>ct=%{y}<extra></extra>\", \"legendgroup\": \"26753\", \"line\": {\"color\": \"#EF553B\", \"dash\": \"solid\"}, \"mode\": \"lines\", \"name\": \"26753\", \"orientation\": \"v\", \"showlegend\": true, \"type\": \"scatter\", \"x\": [\"2014-05-28\"], \"xaxis\": \"x\", \"y\": [3], \"yaxis\": \"y\"}, {\"hovertemplate\": \"mentionedEntity1=27042<br>dateTime=%{x}<br>ct=%{y}<extra></extra>\", \"legendgroup\": \"27042\", \"line\": {\"color\": \"#00cc96\", \"dash\": \"solid\"}, \"mode\": \"lines\", \"name\": \"27042\", \"orientation\": \"v\", \"showlegend\": true, \"type\": \"scatter\", \"x\": [\"2014-05-28\"], \"xaxis\": \"x\", \"y\": [1], \"yaxis\": \"y\"}, {\"hovertemplate\": \"mentionedEntity1=27876<br>dateTime=%{x}<br>ct=%{y}<extra></extra>\", \"legendgroup\": \"27876\", \"line\": {\"color\": \"#ab63fa\", \"dash\": \"solid\"}, \"mode\": \"lines\", \"name\": \"27876\", \"orientation\": \"v\", \"showlegend\": true, \"type\": \"scatter\", \"x\": [\"2014-05-28\"], \"xaxis\": \"x\", \"y\": [2], \"yaxis\": \"y\"}, {\"hovertemplate\": \"mentionedEntity1=28291<br>dateTime=%{x}<br>ct=%{y}<extra></extra>\", \"legendgroup\": \"28291\", \"line\": {\"color\": \"#FFA15A\", \"dash\": \"solid\"}, \"mode\": \"lines\", \"name\": \"28291\", \"orientation\": \"v\", \"showlegend\": true, \"type\": \"scatter\", \"x\": [\"2014-05-28\"], \"xaxis\": \"x\", \"y\": [1], \"yaxis\": \"y\"}, {\"hovertemplate\": \"mentionedEntity1=28321<br>dateTime=%{x}<br>ct=%{y}<extra></extra>\", \"legendgroup\": \"28321\", \"line\": {\"color\": \"#19d3f3\", \"dash\": \"solid\"}, \"mode\": \"lines\", \"name\": \"28321\", \"orientation\": \"v\", \"showlegend\": true, \"type\": \"scatter\", \"x\": [\"2014-05-28\"], \"xaxis\": \"x\", \"y\": [2], \"yaxis\": \"y\"}, {\"hovertemplate\": \"mentionedEntity1=29052<br>dateTime=%{x}<br>ct=%{y}<extra></extra>\", \"legendgroup\": \"29052\", \"line\": {\"color\": \"#FF6692\", \"dash\": \"solid\"}, \"mode\": \"lines\", \"name\": \"29052\", \"orientation\": \"v\", \"showlegend\": true, \"type\": \"scatter\", \"x\": [\"2014-05-28\"], \"xaxis\": \"x\", \"y\": [5], \"yaxis\": \"y\"}, {\"hovertemplate\": \"mentionedEntity1=30025<br>dateTime=%{x}<br>ct=%{y}<extra></extra>\", \"legendgroup\": \"30025\", \"line\": {\"color\": \"#B6E880\", \"dash\": \"solid\"}, \"mode\": \"lines\", \"name\": \"30025\", \"orientation\": \"v\", \"showlegend\": true, \"type\": \"scatter\", \"x\": [\"2014-05-28\"], \"xaxis\": \"x\", \"y\": [1], \"yaxis\": \"y\"}, {\"hovertemplate\": \"mentionedEntity1=30579<br>dateTime=%{x}<br>ct=%{y}<extra></extra>\", \"legendgroup\": \"30579\", \"line\": {\"color\": \"#FF97FF\", \"dash\": \"solid\"}, \"mode\": \"lines\", \"name\": \"30579\", \"orientation\": \"v\", \"showlegend\": true, \"type\": \"scatter\", \"x\": [\"2014-05-28\"], \"xaxis\": \"x\", \"y\": [3], \"yaxis\": \"y\"}, {\"hovertemplate\": \"mentionedEntity1=31997<br>dateTime=%{x}<br>ct=%{y}<extra></extra>\", \"legendgroup\": \"31997\", \"line\": {\"color\": \"#FECB52\", \"dash\": \"solid\"}, \"mode\": \"lines\", \"name\": \"31997\", \"orientation\": \"v\", \"showlegend\": true, \"type\": \"scatter\", \"x\": [\"2014-05-28\"], \"xaxis\": \"x\", \"y\": [6], \"yaxis\": \"y\"}, {\"hovertemplate\": \"mentionedEntity1=32513<br>dateTime=%{x}<br>ct=%{y}<extra></extra>\", \"legendgroup\": \"32513\", \"line\": {\"color\": \"#636efa\", \"dash\": \"solid\"}, \"mode\": \"lines\", \"name\": \"32513\", \"orientation\": \"v\", \"showlegend\": true, \"type\": \"scatter\", \"x\": [\"2014-05-28\"], \"xaxis\": \"x\", \"y\": [1], \"yaxis\": \"y\"}, {\"hovertemplate\": \"mentionedEntity1=33059<br>dateTime=%{x}<br>ct=%{y}<extra></extra>\", \"legendgroup\": \"33059\", \"line\": {\"color\": \"#EF553B\", \"dash\": \"solid\"}, \"mode\": \"lines\", \"name\": \"33059\", \"orientation\": \"v\", \"showlegend\": true, \"type\": \"scatter\", \"x\": [\"2014-05-28\"], \"xaxis\": \"x\", \"y\": [8], \"yaxis\": \"y\"}, {\"hovertemplate\": \"mentionedEntity1=33837<br>dateTime=%{x}<br>ct=%{y}<extra></extra>\", \"legendgroup\": \"33837\", \"line\": {\"color\": \"#00cc96\", \"dash\": \"solid\"}, \"mode\": \"lines\", \"name\": \"33837\", \"orientation\": \"v\", \"showlegend\": true, \"type\": \"scatter\", \"x\": [\"2014-05-28\"], \"xaxis\": \"x\", \"y\": [3], \"yaxis\": \"y\"}, {\"hovertemplate\": \"mentionedEntity1=34334<br>dateTime=%{x}<br>ct=%{y}<extra></extra>\", \"legendgroup\": \"34334\", \"line\": {\"color\": \"#ab63fa\", \"dash\": \"solid\"}, \"mode\": \"lines\", \"name\": \"34334\", \"orientation\": \"v\", \"showlegend\": true, \"type\": \"scatter\", \"x\": [\"2014-05-28\"], \"xaxis\": \"x\", \"y\": [1], \"yaxis\": \"y\"}, {\"hovertemplate\": \"mentionedEntity1=35992<br>dateTime=%{x}<br>ct=%{y}<extra></extra>\", \"legendgroup\": \"35992\", \"line\": {\"color\": \"#FFA15A\", \"dash\": \"solid\"}, \"mode\": \"lines\", \"name\": \"35992\", \"orientation\": \"v\", \"showlegend\": true, \"type\": \"scatter\", \"x\": [\"2014-05-28\"], \"xaxis\": \"x\", \"y\": [5], \"yaxis\": \"y\"}, {\"hovertemplate\": \"mentionedEntity1=36417<br>dateTime=%{x}<br>ct=%{y}<extra></extra>\", \"legendgroup\": \"36417\", \"line\": {\"color\": \"#19d3f3\", \"dash\": \"solid\"}, \"mode\": \"lines\", \"name\": \"36417\", \"orientation\": \"v\", \"showlegend\": true, \"type\": \"scatter\", \"x\": [\"2014-05-28\"], \"xaxis\": \"x\", \"y\": [1], \"yaxis\": \"y\"}, {\"hovertemplate\": \"mentionedEntity1=37381<br>dateTime=%{x}<br>ct=%{y}<extra></extra>\", \"legendgroup\": \"37381\", \"line\": {\"color\": \"#FF6692\", \"dash\": \"solid\"}, \"mode\": \"lines\", \"name\": \"37381\", \"orientation\": \"v\", \"showlegend\": true, \"type\": \"scatter\", \"x\": [\"2014-05-28\"], \"xaxis\": \"x\", \"y\": [6], \"yaxis\": \"y\"}, {\"hovertemplate\": \"mentionedEntity1=38424<br>dateTime=%{x}<br>ct=%{y}<extra></extra>\", \"legendgroup\": \"38424\", \"line\": {\"color\": \"#B6E880\", \"dash\": \"solid\"}, \"mode\": \"lines\", \"name\": \"38424\", \"orientation\": \"v\", \"showlegend\": true, \"type\": \"scatter\", \"x\": [\"2014-05-28\"], \"xaxis\": \"x\", \"y\": [4], \"yaxis\": \"y\"}, {\"hovertemplate\": \"mentionedEntity1=39219<br>dateTime=%{x}<br>ct=%{y}<extra></extra>\", \"legendgroup\": \"39219\", \"line\": {\"color\": \"#FF97FF\", \"dash\": \"solid\"}, \"mode\": \"lines\", \"name\": \"39219\", \"orientation\": \"v\", \"showlegend\": true, \"type\": \"scatter\", \"x\": [\"2014-05-28\", \"2014-05-30\"], \"xaxis\": \"x\", \"y\": [4, 4], \"yaxis\": \"y\"}, {\"hovertemplate\": \"mentionedEntity1=39515<br>dateTime=%{x}<br>ct=%{y}<extra></extra>\", \"legendgroup\": \"39515\", \"line\": {\"color\": \"#FECB52\", \"dash\": \"solid\"}, \"mode\": \"lines\", \"name\": \"39515\", \"orientation\": \"v\", \"showlegend\": true, \"type\": \"scatter\", \"x\": [\"2014-05-28\"], \"xaxis\": \"x\", \"y\": [4], \"yaxis\": \"y\"}, {\"hovertemplate\": \"mentionedEntity1=39618<br>dateTime=%{x}<br>ct=%{y}<extra></extra>\", \"legendgroup\": \"39618\", \"line\": {\"color\": \"#636efa\", \"dash\": \"solid\"}, \"mode\": \"lines\", \"name\": \"39618\", \"orientation\": \"v\", \"showlegend\": true, \"type\": \"scatter\", \"x\": [\"2014-05-28\"], \"xaxis\": \"x\", \"y\": [5], \"yaxis\": \"y\"}, {\"hovertemplate\": \"mentionedEntity1=40097<br>dateTime=%{x}<br>ct=%{y}<extra></extra>\", \"legendgroup\": \"40097\", \"line\": {\"color\": \"#EF553B\", \"dash\": \"solid\"}, \"mode\": \"lines\", \"name\": \"40097\", \"orientation\": \"v\", \"showlegend\": true, \"type\": \"scatter\", \"x\": [\"2014-05-28\"], \"xaxis\": \"x\", \"y\": [3], \"yaxis\": \"y\"}, {\"hovertemplate\": \"mentionedEntity1=42620<br>dateTime=%{x}<br>ct=%{y}<extra></extra>\", \"legendgroup\": \"42620\", \"line\": {\"color\": \"#00cc96\", \"dash\": \"solid\"}, \"mode\": \"lines\", \"name\": \"42620\", \"orientation\": \"v\", \"showlegend\": true, \"type\": \"scatter\", \"x\": [\"2014-05-28\"], \"xaxis\": \"x\", \"y\": [1], \"yaxis\": \"y\"}, {\"hovertemplate\": \"mentionedEntity1=42714<br>dateTime=%{x}<br>ct=%{y}<extra></extra>\", \"legendgroup\": \"42714\", \"line\": {\"color\": \"#ab63fa\", \"dash\": \"solid\"}, \"mode\": \"lines\", \"name\": \"42714\", \"orientation\": \"v\", \"showlegend\": true, \"type\": \"scatter\", \"x\": [\"2014-05-28\"], \"xaxis\": \"x\", \"y\": [3], \"yaxis\": \"y\"}, {\"hovertemplate\": \"mentionedEntity1=43038<br>dateTime=%{x}<br>ct=%{y}<extra></extra>\", \"legendgroup\": \"43038\", \"line\": {\"color\": \"#FFA15A\", \"dash\": \"solid\"}, \"mode\": \"lines\", \"name\": \"43038\", \"orientation\": \"v\", \"showlegend\": true, \"type\": \"scatter\", \"x\": [\"2014-05-28\"], \"xaxis\": \"x\", \"y\": [2], \"yaxis\": \"y\"}, {\"hovertemplate\": \"mentionedEntity1=44796<br>dateTime=%{x}<br>ct=%{y}<extra></extra>\", \"legendgroup\": \"44796\", \"line\": {\"color\": \"#19d3f3\", \"dash\": \"solid\"}, \"mode\": \"lines\", \"name\": \"44796\", \"orientation\": \"v\", \"showlegend\": true, \"type\": \"scatter\", \"x\": [\"2014-05-28\"], \"xaxis\": \"x\", \"y\": [1], \"yaxis\": \"y\"}, {\"hovertemplate\": \"mentionedEntity1=45019<br>dateTime=%{x}<br>ct=%{y}<extra></extra>\", \"legendgroup\": \"45019\", \"line\": {\"color\": \"#FF6692\", \"dash\": \"solid\"}, \"mode\": \"lines\", \"name\": \"45019\", \"orientation\": \"v\", \"showlegend\": true, \"type\": \"scatter\", \"x\": [\"2014-05-28\"], \"xaxis\": \"x\", \"y\": [1], \"yaxis\": \"y\"}, {\"hovertemplate\": \"mentionedEntity1=47537<br>dateTime=%{x}<br>ct=%{y}<extra></extra>\", \"legendgroup\": \"47537\", \"line\": {\"color\": \"#B6E880\", \"dash\": \"solid\"}, \"mode\": \"lines\", \"name\": \"47537\", \"orientation\": \"v\", \"showlegend\": true, \"type\": \"scatter\", \"x\": [\"2014-05-28\"], \"xaxis\": \"x\", \"y\": [6], \"yaxis\": \"y\"}, {\"hovertemplate\": \"mentionedEntity1=49345<br>dateTime=%{x}<br>ct=%{y}<extra></extra>\", \"legendgroup\": \"49345\", \"line\": {\"color\": \"#FF97FF\", \"dash\": \"solid\"}, \"mode\": \"lines\", \"name\": \"49345\", \"orientation\": \"v\", \"showlegend\": true, \"type\": \"scatter\", \"x\": [\"2014-05-28\"], \"xaxis\": \"x\", \"y\": [8], \"yaxis\": \"y\"}, {\"hovertemplate\": \"mentionedEntity1=50347<br>dateTime=%{x}<br>ct=%{y}<extra></extra>\", \"legendgroup\": \"50347\", \"line\": {\"color\": \"#FECB52\", \"dash\": \"solid\"}, \"mode\": \"lines\", \"name\": \"50347\", \"orientation\": \"v\", \"showlegend\": true, \"type\": \"scatter\", \"x\": [\"2014-05-28\"], \"xaxis\": \"x\", \"y\": [5], \"yaxis\": \"y\"}, {\"hovertemplate\": \"mentionedEntity1=51831<br>dateTime=%{x}<br>ct=%{y}<extra></extra>\", \"legendgroup\": \"51831\", \"line\": {\"color\": \"#636efa\", \"dash\": \"solid\"}, \"mode\": \"lines\", \"name\": \"51831\", \"orientation\": \"v\", \"showlegend\": true, \"type\": \"scatter\", \"x\": [\"2014-05-28\"], \"xaxis\": \"x\", \"y\": [3], \"yaxis\": \"y\"}, {\"hovertemplate\": \"mentionedEntity1=316<br>dateTime=%{x}<br>ct=%{y}<extra></extra>\", \"legendgroup\": \"316\", \"line\": {\"color\": \"#EF553B\", \"dash\": \"solid\"}, \"mode\": \"lines\", \"name\": \"316\", \"orientation\": \"v\", \"showlegend\": true, \"type\": \"scatter\", \"x\": [\"2014-05-29\"], \"xaxis\": \"x\", \"y\": [2], \"yaxis\": \"y\"}, {\"hovertemplate\": \"mentionedEntity1=3215<br>dateTime=%{x}<br>ct=%{y}<extra></extra>\", \"legendgroup\": \"3215\", \"line\": {\"color\": \"#00cc96\", \"dash\": \"solid\"}, \"mode\": \"lines\", \"name\": \"3215\", \"orientation\": \"v\", \"showlegend\": true, \"type\": \"scatter\", \"x\": [\"2014-05-29\"], \"xaxis\": \"x\", \"y\": [2], \"yaxis\": \"y\"}, {\"hovertemplate\": \"mentionedEntity1=3648<br>dateTime=%{x}<br>ct=%{y}<extra></extra>\", \"legendgroup\": \"3648\", \"line\": {\"color\": \"#ab63fa\", \"dash\": \"solid\"}, \"mode\": \"lines\", \"name\": \"3648\", \"orientation\": \"v\", \"showlegend\": true, \"type\": \"scatter\", \"x\": [\"2014-05-29\"], \"xaxis\": \"x\", \"y\": [7], \"yaxis\": \"y\"}, {\"hovertemplate\": \"mentionedEntity1=3824<br>dateTime=%{x}<br>ct=%{y}<extra></extra>\", \"legendgroup\": \"3824\", \"line\": {\"color\": \"#FFA15A\", \"dash\": \"solid\"}, \"mode\": \"lines\", \"name\": \"3824\", \"orientation\": \"v\", \"showlegend\": true, \"type\": \"scatter\", \"x\": [\"2014-05-29\"], \"xaxis\": \"x\", \"y\": [6], \"yaxis\": \"y\"}, {\"hovertemplate\": \"mentionedEntity1=8556<br>dateTime=%{x}<br>ct=%{y}<extra></extra>\", \"legendgroup\": \"8556\", \"line\": {\"color\": \"#19d3f3\", \"dash\": \"solid\"}, \"mode\": \"lines\", \"name\": \"8556\", \"orientation\": \"v\", \"showlegend\": true, \"type\": \"scatter\", \"x\": [\"2014-05-29\", \"2014-05-30\", \"2014-05-31\"], \"xaxis\": \"x\", \"y\": [2, 3, 4], \"yaxis\": \"y\"}, {\"hovertemplate\": \"mentionedEntity1=9851<br>dateTime=%{x}<br>ct=%{y}<extra></extra>\", \"legendgroup\": \"9851\", \"line\": {\"color\": \"#FF6692\", \"dash\": \"solid\"}, \"mode\": \"lines\", \"name\": \"9851\", \"orientation\": \"v\", \"showlegend\": true, \"type\": \"scatter\", \"x\": [\"2014-05-29\", \"2014-05-31\"], \"xaxis\": \"x\", \"y\": [2, 1], \"yaxis\": \"y\"}, {\"hovertemplate\": \"mentionedEntity1=10526<br>dateTime=%{x}<br>ct=%{y}<extra></extra>\", \"legendgroup\": \"10526\", \"line\": {\"color\": \"#B6E880\", \"dash\": \"solid\"}, \"mode\": \"lines\", \"name\": \"10526\", \"orientation\": \"v\", \"showlegend\": true, \"type\": \"scatter\", \"x\": [\"2014-05-29\"], \"xaxis\": \"x\", \"y\": [3], \"yaxis\": \"y\"}, {\"hovertemplate\": \"mentionedEntity1=11758<br>dateTime=%{x}<br>ct=%{y}<extra></extra>\", \"legendgroup\": \"11758\", \"line\": {\"color\": \"#FF97FF\", \"dash\": \"solid\"}, \"mode\": \"lines\", \"name\": \"11758\", \"orientation\": \"v\", \"showlegend\": true, \"type\": \"scatter\", \"x\": [\"2014-05-29\"], \"xaxis\": \"x\", \"y\": [2], \"yaxis\": \"y\"}, {\"hovertemplate\": \"mentionedEntity1=12814<br>dateTime=%{x}<br>ct=%{y}<extra></extra>\", \"legendgroup\": \"12814\", \"line\": {\"color\": \"#FECB52\", \"dash\": \"solid\"}, \"mode\": \"lines\", \"name\": \"12814\", \"orientation\": \"v\", \"showlegend\": true, \"type\": \"scatter\", \"x\": [\"2014-05-29\"], \"xaxis\": \"x\", \"y\": [3], \"yaxis\": \"y\"}, {\"hovertemplate\": \"mentionedEntity1=12926<br>dateTime=%{x}<br>ct=%{y}<extra></extra>\", \"legendgroup\": \"12926\", \"line\": {\"color\": \"#636efa\", \"dash\": \"solid\"}, \"mode\": \"lines\", \"name\": \"12926\", \"orientation\": \"v\", \"showlegend\": true, \"type\": \"scatter\", \"x\": [\"2014-05-29\"], \"xaxis\": \"x\", \"y\": [2], \"yaxis\": \"y\"}, {\"hovertemplate\": \"mentionedEntity1=13131<br>dateTime=%{x}<br>ct=%{y}<extra></extra>\", \"legendgroup\": \"13131\", \"line\": {\"color\": \"#EF553B\", \"dash\": \"solid\"}, \"mode\": \"lines\", \"name\": \"13131\", \"orientation\": \"v\", \"showlegend\": true, \"type\": \"scatter\", \"x\": [\"2014-05-29\"], \"xaxis\": \"x\", \"y\": [3], \"yaxis\": \"y\"}, {\"hovertemplate\": \"mentionedEntity1=14349<br>dateTime=%{x}<br>ct=%{y}<extra></extra>\", \"legendgroup\": \"14349\", \"line\": {\"color\": \"#00cc96\", \"dash\": \"solid\"}, \"mode\": \"lines\", \"name\": \"14349\", \"orientation\": \"v\", \"showlegend\": true, \"type\": \"scatter\", \"x\": [\"2014-05-29\"], \"xaxis\": \"x\", \"y\": [2], \"yaxis\": \"y\"}, {\"hovertemplate\": \"mentionedEntity1=14605<br>dateTime=%{x}<br>ct=%{y}<extra></extra>\", \"legendgroup\": \"14605\", \"line\": {\"color\": \"#ab63fa\", \"dash\": \"solid\"}, \"mode\": \"lines\", \"name\": \"14605\", \"orientation\": \"v\", \"showlegend\": true, \"type\": \"scatter\", \"x\": [\"2014-05-29\"], \"xaxis\": \"x\", \"y\": [1], \"yaxis\": \"y\"}, {\"hovertemplate\": \"mentionedEntity1=15257<br>dateTime=%{x}<br>ct=%{y}<extra></extra>\", \"legendgroup\": \"15257\", \"line\": {\"color\": \"#FFA15A\", \"dash\": \"solid\"}, \"mode\": \"lines\", \"name\": \"15257\", \"orientation\": \"v\", \"showlegend\": true, \"type\": \"scatter\", \"x\": [\"2014-05-29\"], \"xaxis\": \"x\", \"y\": [1], \"yaxis\": \"y\"}, {\"hovertemplate\": \"mentionedEntity1=16056<br>dateTime=%{x}<br>ct=%{y}<extra></extra>\", \"legendgroup\": \"16056\", \"line\": {\"color\": \"#19d3f3\", \"dash\": \"solid\"}, \"mode\": \"lines\", \"name\": \"16056\", \"orientation\": \"v\", \"showlegend\": true, \"type\": \"scatter\", \"x\": [\"2014-05-29\"], \"xaxis\": \"x\", \"y\": [1], \"yaxis\": \"y\"}, {\"hovertemplate\": \"mentionedEntity1=16062<br>dateTime=%{x}<br>ct=%{y}<extra></extra>\", \"legendgroup\": \"16062\", \"line\": {\"color\": \"#FF6692\", \"dash\": \"solid\"}, \"mode\": \"lines\", \"name\": \"16062\", \"orientation\": \"v\", \"showlegend\": true, \"type\": \"scatter\", \"x\": [\"2014-05-29\"], \"xaxis\": \"x\", \"y\": [6], \"yaxis\": \"y\"}, {\"hovertemplate\": \"mentionedEntity1=16289<br>dateTime=%{x}<br>ct=%{y}<extra></extra>\", \"legendgroup\": \"16289\", \"line\": {\"color\": \"#B6E880\", \"dash\": \"solid\"}, \"mode\": \"lines\", \"name\": \"16289\", \"orientation\": \"v\", \"showlegend\": true, \"type\": \"scatter\", \"x\": [\"2014-05-29\"], \"xaxis\": \"x\", \"y\": [1], \"yaxis\": \"y\"}, {\"hovertemplate\": \"mentionedEntity1=16401<br>dateTime=%{x}<br>ct=%{y}<extra></extra>\", \"legendgroup\": \"16401\", \"line\": {\"color\": \"#FF97FF\", \"dash\": \"solid\"}, \"mode\": \"lines\", \"name\": \"16401\", \"orientation\": \"v\", \"showlegend\": true, \"type\": \"scatter\", \"x\": [\"2014-05-29\"], \"xaxis\": \"x\", \"y\": [3], \"yaxis\": \"y\"}, {\"hovertemplate\": \"mentionedEntity1=16905<br>dateTime=%{x}<br>ct=%{y}<extra></extra>\", \"legendgroup\": \"16905\", \"line\": {\"color\": \"#FECB52\", \"dash\": \"solid\"}, \"mode\": \"lines\", \"name\": \"16905\", \"orientation\": \"v\", \"showlegend\": true, \"type\": \"scatter\", \"x\": [\"2014-05-29\"], \"xaxis\": \"x\", \"y\": [1], \"yaxis\": \"y\"}, {\"hovertemplate\": \"mentionedEntity1=18660<br>dateTime=%{x}<br>ct=%{y}<extra></extra>\", \"legendgroup\": \"18660\", \"line\": {\"color\": \"#636efa\", \"dash\": \"solid\"}, \"mode\": \"lines\", \"name\": \"18660\", \"orientation\": \"v\", \"showlegend\": true, \"type\": \"scatter\", \"x\": [\"2014-05-29\"], \"xaxis\": \"x\", \"y\": [1], \"yaxis\": \"y\"}, {\"hovertemplate\": \"mentionedEntity1=19197<br>dateTime=%{x}<br>ct=%{y}<extra></extra>\", \"legendgroup\": \"19197\", \"line\": {\"color\": \"#EF553B\", \"dash\": \"solid\"}, \"mode\": \"lines\", \"name\": \"19197\", \"orientation\": \"v\", \"showlegend\": true, \"type\": \"scatter\", \"x\": [\"2014-05-29\"], \"xaxis\": \"x\", \"y\": [7], \"yaxis\": \"y\"}, {\"hovertemplate\": \"mentionedEntity1=19833<br>dateTime=%{x}<br>ct=%{y}<extra></extra>\", \"legendgroup\": \"19833\", \"line\": {\"color\": \"#00cc96\", \"dash\": \"solid\"}, \"mode\": \"lines\", \"name\": \"19833\", \"orientation\": \"v\", \"showlegend\": true, \"type\": \"scatter\", \"x\": [\"2014-05-29\"], \"xaxis\": \"x\", \"y\": [3], \"yaxis\": \"y\"}, {\"hovertemplate\": \"mentionedEntity1=20389<br>dateTime=%{x}<br>ct=%{y}<extra></extra>\", \"legendgroup\": \"20389\", \"line\": {\"color\": \"#ab63fa\", \"dash\": \"solid\"}, \"mode\": \"lines\", \"name\": \"20389\", \"orientation\": \"v\", \"showlegend\": true, \"type\": \"scatter\", \"x\": [\"2014-05-29\"], \"xaxis\": \"x\", \"y\": [1], \"yaxis\": \"y\"}, {\"hovertemplate\": \"mentionedEntity1=23525<br>dateTime=%{x}<br>ct=%{y}<extra></extra>\", \"legendgroup\": \"23525\", \"line\": {\"color\": \"#FFA15A\", \"dash\": \"solid\"}, \"mode\": \"lines\", \"name\": \"23525\", \"orientation\": \"v\", \"showlegend\": true, \"type\": \"scatter\", \"x\": [\"2014-05-29\"], \"xaxis\": \"x\", \"y\": [4], \"yaxis\": \"y\"}, {\"hovertemplate\": \"mentionedEntity1=23540<br>dateTime=%{x}<br>ct=%{y}<extra></extra>\", \"legendgroup\": \"23540\", \"line\": {\"color\": \"#19d3f3\", \"dash\": \"solid\"}, \"mode\": \"lines\", \"name\": \"23540\", \"orientation\": \"v\", \"showlegend\": true, \"type\": \"scatter\", \"x\": [\"2014-05-29\"], \"xaxis\": \"x\", \"y\": [2], \"yaxis\": \"y\"}, {\"hovertemplate\": \"mentionedEntity1=23552<br>dateTime=%{x}<br>ct=%{y}<extra></extra>\", \"legendgroup\": \"23552\", \"line\": {\"color\": \"#FF6692\", \"dash\": \"solid\"}, \"mode\": \"lines\", \"name\": \"23552\", \"orientation\": \"v\", \"showlegend\": true, \"type\": \"scatter\", \"x\": [\"2014-05-29\"], \"xaxis\": \"x\", \"y\": [4], \"yaxis\": \"y\"}, {\"hovertemplate\": \"mentionedEntity1=24759<br>dateTime=%{x}<br>ct=%{y}<extra></extra>\", \"legendgroup\": \"24759\", \"line\": {\"color\": \"#B6E880\", \"dash\": \"solid\"}, \"mode\": \"lines\", \"name\": \"24759\", \"orientation\": \"v\", \"showlegend\": true, \"type\": \"scatter\", \"x\": [\"2014-05-29\"], \"xaxis\": \"x\", \"y\": [2], \"yaxis\": \"y\"}, {\"hovertemplate\": \"mentionedEntity1=29917<br>dateTime=%{x}<br>ct=%{y}<extra></extra>\", \"legendgroup\": \"29917\", \"line\": {\"color\": \"#FF97FF\", \"dash\": \"solid\"}, \"mode\": \"lines\", \"name\": \"29917\", \"orientation\": \"v\", \"showlegend\": true, \"type\": \"scatter\", \"x\": [\"2014-05-29\"], \"xaxis\": \"x\", \"y\": [1], \"yaxis\": \"y\"}, {\"hovertemplate\": \"mentionedEntity1=32117<br>dateTime=%{x}<br>ct=%{y}<extra></extra>\", \"legendgroup\": \"32117\", \"line\": {\"color\": \"#FECB52\", \"dash\": \"solid\"}, \"mode\": \"lines\", \"name\": \"32117\", \"orientation\": \"v\", \"showlegend\": true, \"type\": \"scatter\", \"x\": [\"2014-05-29\"], \"xaxis\": \"x\", \"y\": [4], \"yaxis\": \"y\"}, {\"hovertemplate\": \"mentionedEntity1=33744<br>dateTime=%{x}<br>ct=%{y}<extra></extra>\", \"legendgroup\": \"33744\", \"line\": {\"color\": \"#636efa\", \"dash\": \"solid\"}, \"mode\": \"lines\", \"name\": \"33744\", \"orientation\": \"v\", \"showlegend\": true, \"type\": \"scatter\", \"x\": [\"2014-05-29\"], \"xaxis\": \"x\", \"y\": [2], \"yaxis\": \"y\"}, {\"hovertemplate\": \"mentionedEntity1=34052<br>dateTime=%{x}<br>ct=%{y}<extra></extra>\", \"legendgroup\": \"34052\", \"line\": {\"color\": \"#EF553B\", \"dash\": \"solid\"}, \"mode\": \"lines\", \"name\": \"34052\", \"orientation\": \"v\", \"showlegend\": true, \"type\": \"scatter\", \"x\": [\"2014-05-29\"], \"xaxis\": \"x\", \"y\": [1], \"yaxis\": \"y\"}, {\"hovertemplate\": \"mentionedEntity1=39279<br>dateTime=%{x}<br>ct=%{y}<extra></extra>\", \"legendgroup\": \"39279\", \"line\": {\"color\": \"#00cc96\", \"dash\": \"solid\"}, \"mode\": \"lines\", \"name\": \"39279\", \"orientation\": \"v\", \"showlegend\": true, \"type\": \"scatter\", \"x\": [\"2014-05-29\"], \"xaxis\": \"x\", \"y\": [1], \"yaxis\": \"y\"}, {\"hovertemplate\": \"mentionedEntity1=40502<br>dateTime=%{x}<br>ct=%{y}<extra></extra>\", \"legendgroup\": \"40502\", \"line\": {\"color\": \"#ab63fa\", \"dash\": \"solid\"}, \"mode\": \"lines\", \"name\": \"40502\", \"orientation\": \"v\", \"showlegend\": true, \"type\": \"scatter\", \"x\": [\"2014-05-29\"], \"xaxis\": \"x\", \"y\": [12], \"yaxis\": \"y\"}, {\"hovertemplate\": \"mentionedEntity1=40990<br>dateTime=%{x}<br>ct=%{y}<extra></extra>\", \"legendgroup\": \"40990\", \"line\": {\"color\": \"#FFA15A\", \"dash\": \"solid\"}, \"mode\": \"lines\", \"name\": \"40990\", \"orientation\": \"v\", \"showlegend\": true, \"type\": \"scatter\", \"x\": [\"2014-05-29\"], \"xaxis\": \"x\", \"y\": [5], \"yaxis\": \"y\"}, {\"hovertemplate\": \"mentionedEntity1=41450<br>dateTime=%{x}<br>ct=%{y}<extra></extra>\", \"legendgroup\": \"41450\", \"line\": {\"color\": \"#19d3f3\", \"dash\": \"solid\"}, \"mode\": \"lines\", \"name\": \"41450\", \"orientation\": \"v\", \"showlegend\": true, \"type\": \"scatter\", \"x\": [\"2014-05-29\"], \"xaxis\": \"x\", \"y\": [10], \"yaxis\": \"y\"}, {\"hovertemplate\": \"mentionedEntity1=45648<br>dateTime=%{x}<br>ct=%{y}<extra></extra>\", \"legendgroup\": \"45648\", \"line\": {\"color\": \"#FF6692\", \"dash\": \"solid\"}, \"mode\": \"lines\", \"name\": \"45648\", \"orientation\": \"v\", \"showlegend\": true, \"type\": \"scatter\", \"x\": [\"2014-05-29\"], \"xaxis\": \"x\", \"y\": [6], \"yaxis\": \"y\"}, {\"hovertemplate\": \"mentionedEntity1=47523<br>dateTime=%{x}<br>ct=%{y}<extra></extra>\", \"legendgroup\": \"47523\", \"line\": {\"color\": \"#B6E880\", \"dash\": \"solid\"}, \"mode\": \"lines\", \"name\": \"47523\", \"orientation\": \"v\", \"showlegend\": true, \"type\": \"scatter\", \"x\": [\"2014-05-29\"], \"xaxis\": \"x\", \"y\": [5], \"yaxis\": \"y\"}, {\"hovertemplate\": \"mentionedEntity1=47692<br>dateTime=%{x}<br>ct=%{y}<extra></extra>\", \"legendgroup\": \"47692\", \"line\": {\"color\": \"#FF97FF\", \"dash\": \"solid\"}, \"mode\": \"lines\", \"name\": \"47692\", \"orientation\": \"v\", \"showlegend\": true, \"type\": \"scatter\", \"x\": [\"2014-05-29\"], \"xaxis\": \"x\", \"y\": [1], \"yaxis\": \"y\"}, {\"hovertemplate\": \"mentionedEntity1=47944<br>dateTime=%{x}<br>ct=%{y}<extra></extra>\", \"legendgroup\": \"47944\", \"line\": {\"color\": \"#FECB52\", \"dash\": \"solid\"}, \"mode\": \"lines\", \"name\": \"47944\", \"orientation\": \"v\", \"showlegend\": true, \"type\": \"scatter\", \"x\": [\"2014-05-29\"], \"xaxis\": \"x\", \"y\": [2], \"yaxis\": \"y\"}, {\"hovertemplate\": \"mentionedEntity1=48973<br>dateTime=%{x}<br>ct=%{y}<extra></extra>\", \"legendgroup\": \"48973\", \"line\": {\"color\": \"#636efa\", \"dash\": \"solid\"}, \"mode\": \"lines\", \"name\": \"48973\", \"orientation\": \"v\", \"showlegend\": true, \"type\": \"scatter\", \"x\": [\"2014-05-29\"], \"xaxis\": \"x\", \"y\": [5], \"yaxis\": \"y\"}, {\"hovertemplate\": \"mentionedEntity1=49243<br>dateTime=%{x}<br>ct=%{y}<extra></extra>\", \"legendgroup\": \"49243\", \"line\": {\"color\": \"#EF553B\", \"dash\": \"solid\"}, \"mode\": \"lines\", \"name\": \"49243\", \"orientation\": \"v\", \"showlegend\": true, \"type\": \"scatter\", \"x\": [\"2014-05-29\"], \"xaxis\": \"x\", \"y\": [1], \"yaxis\": \"y\"}, {\"hovertemplate\": \"mentionedEntity1=50663<br>dateTime=%{x}<br>ct=%{y}<extra></extra>\", \"legendgroup\": \"50663\", \"line\": {\"color\": \"#00cc96\", \"dash\": \"solid\"}, \"mode\": \"lines\", \"name\": \"50663\", \"orientation\": \"v\", \"showlegend\": true, \"type\": \"scatter\", \"x\": [\"2014-05-29\"], \"xaxis\": \"x\", \"y\": [2], \"yaxis\": \"y\"}, {\"hovertemplate\": \"mentionedEntity1=50667<br>dateTime=%{x}<br>ct=%{y}<extra></extra>\", \"legendgroup\": \"50667\", \"line\": {\"color\": \"#ab63fa\", \"dash\": \"solid\"}, \"mode\": \"lines\", \"name\": \"50667\", \"orientation\": \"v\", \"showlegend\": true, \"type\": \"scatter\", \"x\": [\"2014-05-29\"], \"xaxis\": \"x\", \"y\": [1], \"yaxis\": \"y\"}, {\"hovertemplate\": \"mentionedEntity1=6399<br>dateTime=%{x}<br>ct=%{y}<extra></extra>\", \"legendgroup\": \"6399\", \"line\": {\"color\": \"#FFA15A\", \"dash\": \"solid\"}, \"mode\": \"lines\", \"name\": \"6399\", \"orientation\": \"v\", \"showlegend\": true, \"type\": \"scatter\", \"x\": [\"2014-05-30\"], \"xaxis\": \"x\", \"y\": [5], \"yaxis\": \"y\"}, {\"hovertemplate\": \"mentionedEntity1=6508<br>dateTime=%{x}<br>ct=%{y}<extra></extra>\", \"legendgroup\": \"6508\", \"line\": {\"color\": \"#19d3f3\", \"dash\": \"solid\"}, \"mode\": \"lines\", \"name\": \"6508\", \"orientation\": \"v\", \"showlegend\": true, \"type\": \"scatter\", \"x\": [\"2014-05-30\"], \"xaxis\": \"x\", \"y\": [11], \"yaxis\": \"y\"}, {\"hovertemplate\": \"mentionedEntity1=6741<br>dateTime=%{x}<br>ct=%{y}<extra></extra>\", \"legendgroup\": \"6741\", \"line\": {\"color\": \"#FF6692\", \"dash\": \"solid\"}, \"mode\": \"lines\", \"name\": \"6741\", \"orientation\": \"v\", \"showlegend\": true, \"type\": \"scatter\", \"x\": [\"2014-05-30\"], \"xaxis\": \"x\", \"y\": [4], \"yaxis\": \"y\"}, {\"hovertemplate\": \"mentionedEntity1=7217<br>dateTime=%{x}<br>ct=%{y}<extra></extra>\", \"legendgroup\": \"7217\", \"line\": {\"color\": \"#B6E880\", \"dash\": \"solid\"}, \"mode\": \"lines\", \"name\": \"7217\", \"orientation\": \"v\", \"showlegend\": true, \"type\": \"scatter\", \"x\": [\"2014-05-30\"], \"xaxis\": \"x\", \"y\": [1], \"yaxis\": \"y\"}, {\"hovertemplate\": \"mentionedEntity1=7838<br>dateTime=%{x}<br>ct=%{y}<extra></extra>\", \"legendgroup\": \"7838\", \"line\": {\"color\": \"#FF97FF\", \"dash\": \"solid\"}, \"mode\": \"lines\", \"name\": \"7838\", \"orientation\": \"v\", \"showlegend\": true, \"type\": \"scatter\", \"x\": [\"2014-05-30\"], \"xaxis\": \"x\", \"y\": [1], \"yaxis\": \"y\"}, {\"hovertemplate\": \"mentionedEntity1=10116<br>dateTime=%{x}<br>ct=%{y}<extra></extra>\", \"legendgroup\": \"10116\", \"line\": {\"color\": \"#FECB52\", \"dash\": \"solid\"}, \"mode\": \"lines\", \"name\": \"10116\", \"orientation\": \"v\", \"showlegend\": true, \"type\": \"scatter\", \"x\": [\"2014-05-30\"], \"xaxis\": \"x\", \"y\": [3], \"yaxis\": \"y\"}, {\"hovertemplate\": \"mentionedEntity1=10553<br>dateTime=%{x}<br>ct=%{y}<extra></extra>\", \"legendgroup\": \"10553\", \"line\": {\"color\": \"#636efa\", \"dash\": \"solid\"}, \"mode\": \"lines\", \"name\": \"10553\", \"orientation\": \"v\", \"showlegend\": true, \"type\": \"scatter\", \"x\": [\"2014-05-30\"], \"xaxis\": \"x\", \"y\": [1], \"yaxis\": \"y\"}, {\"hovertemplate\": \"mentionedEntity1=14157<br>dateTime=%{x}<br>ct=%{y}<extra></extra>\", \"legendgroup\": \"14157\", \"line\": {\"color\": \"#EF553B\", \"dash\": \"solid\"}, \"mode\": \"lines\", \"name\": \"14157\", \"orientation\": \"v\", \"showlegend\": true, \"type\": \"scatter\", \"x\": [\"2014-05-30\"], \"xaxis\": \"x\", \"y\": [3], \"yaxis\": \"y\"}, {\"hovertemplate\": \"mentionedEntity1=15602<br>dateTime=%{x}<br>ct=%{y}<extra></extra>\", \"legendgroup\": \"15602\", \"line\": {\"color\": \"#00cc96\", \"dash\": \"solid\"}, \"mode\": \"lines\", \"name\": \"15602\", \"orientation\": \"v\", \"showlegend\": true, \"type\": \"scatter\", \"x\": [\"2014-05-30\"], \"xaxis\": \"x\", \"y\": [2], \"yaxis\": \"y\"}, {\"hovertemplate\": \"mentionedEntity1=16986<br>dateTime=%{x}<br>ct=%{y}<extra></extra>\", \"legendgroup\": \"16986\", \"line\": {\"color\": \"#ab63fa\", \"dash\": \"solid\"}, \"mode\": \"lines\", \"name\": \"16986\", \"orientation\": \"v\", \"showlegend\": true, \"type\": \"scatter\", \"x\": [\"2014-05-30\"], \"xaxis\": \"x\", \"y\": [1], \"yaxis\": \"y\"}, {\"hovertemplate\": \"mentionedEntity1=17441<br>dateTime=%{x}<br>ct=%{y}<extra></extra>\", \"legendgroup\": \"17441\", \"line\": {\"color\": \"#FFA15A\", \"dash\": \"solid\"}, \"mode\": \"lines\", \"name\": \"17441\", \"orientation\": \"v\", \"showlegend\": true, \"type\": \"scatter\", \"x\": [\"2014-05-30\"], \"xaxis\": \"x\", \"y\": [1], \"yaxis\": \"y\"}, {\"hovertemplate\": \"mentionedEntity1=18845<br>dateTime=%{x}<br>ct=%{y}<extra></extra>\", \"legendgroup\": \"18845\", \"line\": {\"color\": \"#19d3f3\", \"dash\": \"solid\"}, \"mode\": \"lines\", \"name\": \"18845\", \"orientation\": \"v\", \"showlegend\": true, \"type\": \"scatter\", \"x\": [\"2014-05-30\", \"2014-05-31\"], \"xaxis\": \"x\", \"y\": [17, 2], \"yaxis\": \"y\"}, {\"hovertemplate\": \"mentionedEntity1=23722<br>dateTime=%{x}<br>ct=%{y}<extra></extra>\", \"legendgroup\": \"23722\", \"line\": {\"color\": \"#FF6692\", \"dash\": \"solid\"}, \"mode\": \"lines\", \"name\": \"23722\", \"orientation\": \"v\", \"showlegend\": true, \"type\": \"scatter\", \"x\": [\"2014-05-30\"], \"xaxis\": \"x\", \"y\": [2], \"yaxis\": \"y\"}, {\"hovertemplate\": \"mentionedEntity1=23726<br>dateTime=%{x}<br>ct=%{y}<extra></extra>\", \"legendgroup\": \"23726\", \"line\": {\"color\": \"#B6E880\", \"dash\": \"solid\"}, \"mode\": \"lines\", \"name\": \"23726\", \"orientation\": \"v\", \"showlegend\": true, \"type\": \"scatter\", \"x\": [\"2014-05-30\"], \"xaxis\": \"x\", \"y\": [2], \"yaxis\": \"y\"}, {\"hovertemplate\": \"mentionedEntity1=23785<br>dateTime=%{x}<br>ct=%{y}<extra></extra>\", \"legendgroup\": \"23785\", \"line\": {\"color\": \"#FF97FF\", \"dash\": \"solid\"}, \"mode\": \"lines\", \"name\": \"23785\", \"orientation\": \"v\", \"showlegend\": true, \"type\": \"scatter\", \"x\": [\"2014-05-30\"], \"xaxis\": \"x\", \"y\": [4], \"yaxis\": \"y\"}, {\"hovertemplate\": \"mentionedEntity1=28019<br>dateTime=%{x}<br>ct=%{y}<extra></extra>\", \"legendgroup\": \"28019\", \"line\": {\"color\": \"#FECB52\", \"dash\": \"solid\"}, \"mode\": \"lines\", \"name\": \"28019\", \"orientation\": \"v\", \"showlegend\": true, \"type\": \"scatter\", \"x\": [\"2014-05-30\"], \"xaxis\": \"x\", \"y\": [1], \"yaxis\": \"y\"}, {\"hovertemplate\": \"mentionedEntity1=30040<br>dateTime=%{x}<br>ct=%{y}<extra></extra>\", \"legendgroup\": \"30040\", \"line\": {\"color\": \"#636efa\", \"dash\": \"solid\"}, \"mode\": \"lines\", \"name\": \"30040\", \"orientation\": \"v\", \"showlegend\": true, \"type\": \"scatter\", \"x\": [\"2014-05-30\"], \"xaxis\": \"x\", \"y\": [12], \"yaxis\": \"y\"}, {\"hovertemplate\": \"mentionedEntity1=30316<br>dateTime=%{x}<br>ct=%{y}<extra></extra>\", \"legendgroup\": \"30316\", \"line\": {\"color\": \"#EF553B\", \"dash\": \"solid\"}, \"mode\": \"lines\", \"name\": \"30316\", \"orientation\": \"v\", \"showlegend\": true, \"type\": \"scatter\", \"x\": [\"2014-05-30\"], \"xaxis\": \"x\", \"y\": [2], \"yaxis\": \"y\"}, {\"hovertemplate\": \"mentionedEntity1=30611<br>dateTime=%{x}<br>ct=%{y}<extra></extra>\", \"legendgroup\": \"30611\", \"line\": {\"color\": \"#00cc96\", \"dash\": \"solid\"}, \"mode\": \"lines\", \"name\": \"30611\", \"orientation\": \"v\", \"showlegend\": true, \"type\": \"scatter\", \"x\": [\"2014-05-30\"], \"xaxis\": \"x\", \"y\": [3], \"yaxis\": \"y\"}, {\"hovertemplate\": \"mentionedEntity1=31193<br>dateTime=%{x}<br>ct=%{y}<extra></extra>\", \"legendgroup\": \"31193\", \"line\": {\"color\": \"#ab63fa\", \"dash\": \"solid\"}, \"mode\": \"lines\", \"name\": \"31193\", \"orientation\": \"v\", \"showlegend\": true, \"type\": \"scatter\", \"x\": [\"2014-05-30\"], \"xaxis\": \"x\", \"y\": [6], \"yaxis\": \"y\"}, {\"hovertemplate\": \"mentionedEntity1=31742<br>dateTime=%{x}<br>ct=%{y}<extra></extra>\", \"legendgroup\": \"31742\", \"line\": {\"color\": \"#FFA15A\", \"dash\": \"solid\"}, \"mode\": \"lines\", \"name\": \"31742\", \"orientation\": \"v\", \"showlegend\": true, \"type\": \"scatter\", \"x\": [\"2014-05-30\"], \"xaxis\": \"x\", \"y\": [4], \"yaxis\": \"y\"}, {\"hovertemplate\": \"mentionedEntity1=34335<br>dateTime=%{x}<br>ct=%{y}<extra></extra>\", \"legendgroup\": \"34335\", \"line\": {\"color\": \"#19d3f3\", \"dash\": \"solid\"}, \"mode\": \"lines\", \"name\": \"34335\", \"orientation\": \"v\", \"showlegend\": true, \"type\": \"scatter\", \"x\": [\"2014-05-30\"], \"xaxis\": \"x\", \"y\": [4], \"yaxis\": \"y\"}, {\"hovertemplate\": \"mentionedEntity1=34476<br>dateTime=%{x}<br>ct=%{y}<extra></extra>\", \"legendgroup\": \"34476\", \"line\": {\"color\": \"#FF6692\", \"dash\": \"solid\"}, \"mode\": \"lines\", \"name\": \"34476\", \"orientation\": \"v\", \"showlegend\": true, \"type\": \"scatter\", \"x\": [\"2014-05-30\"], \"xaxis\": \"x\", \"y\": [4], \"yaxis\": \"y\"}, {\"hovertemplate\": \"mentionedEntity1=34593<br>dateTime=%{x}<br>ct=%{y}<extra></extra>\", \"legendgroup\": \"34593\", \"line\": {\"color\": \"#B6E880\", \"dash\": \"solid\"}, \"mode\": \"lines\", \"name\": \"34593\", \"orientation\": \"v\", \"showlegend\": true, \"type\": \"scatter\", \"x\": [\"2014-05-30\"], \"xaxis\": \"x\", \"y\": [1], \"yaxis\": \"y\"}, {\"hovertemplate\": \"mentionedEntity1=34777<br>dateTime=%{x}<br>ct=%{y}<extra></extra>\", \"legendgroup\": \"34777\", \"line\": {\"color\": \"#FF97FF\", \"dash\": \"solid\"}, \"mode\": \"lines\", \"name\": \"34777\", \"orientation\": \"v\", \"showlegend\": true, \"type\": \"scatter\", \"x\": [\"2014-05-30\"], \"xaxis\": \"x\", \"y\": [2], \"yaxis\": \"y\"}, {\"hovertemplate\": \"mentionedEntity1=36489<br>dateTime=%{x}<br>ct=%{y}<extra></extra>\", \"legendgroup\": \"36489\", \"line\": {\"color\": \"#FECB52\", \"dash\": \"solid\"}, \"mode\": \"lines\", \"name\": \"36489\", \"orientation\": \"v\", \"showlegend\": true, \"type\": \"scatter\", \"x\": [\"2014-05-30\"], \"xaxis\": \"x\", \"y\": [3], \"yaxis\": \"y\"}, {\"hovertemplate\": \"mentionedEntity1=36785<br>dateTime=%{x}<br>ct=%{y}<extra></extra>\", \"legendgroup\": \"36785\", \"line\": {\"color\": \"#636efa\", \"dash\": \"solid\"}, \"mode\": \"lines\", \"name\": \"36785\", \"orientation\": \"v\", \"showlegend\": true, \"type\": \"scatter\", \"x\": [\"2014-05-30\"], \"xaxis\": \"x\", \"y\": [1], \"yaxis\": \"y\"}, {\"hovertemplate\": \"mentionedEntity1=39078<br>dateTime=%{x}<br>ct=%{y}<extra></extra>\", \"legendgroup\": \"39078\", \"line\": {\"color\": \"#EF553B\", \"dash\": \"solid\"}, \"mode\": \"lines\", \"name\": \"39078\", \"orientation\": \"v\", \"showlegend\": true, \"type\": \"scatter\", \"x\": [\"2014-05-30\"], \"xaxis\": \"x\", \"y\": [3], \"yaxis\": \"y\"}, {\"hovertemplate\": \"mentionedEntity1=39690<br>dateTime=%{x}<br>ct=%{y}<extra></extra>\", \"legendgroup\": \"39690\", \"line\": {\"color\": \"#00cc96\", \"dash\": \"solid\"}, \"mode\": \"lines\", \"name\": \"39690\", \"orientation\": \"v\", \"showlegend\": true, \"type\": \"scatter\", \"x\": [\"2014-05-30\"], \"xaxis\": \"x\", \"y\": [1], \"yaxis\": \"y\"}, {\"hovertemplate\": \"mentionedEntity1=43247<br>dateTime=%{x}<br>ct=%{y}<extra></extra>\", \"legendgroup\": \"43247\", \"line\": {\"color\": \"#ab63fa\", \"dash\": \"solid\"}, \"mode\": \"lines\", \"name\": \"43247\", \"orientation\": \"v\", \"showlegend\": true, \"type\": \"scatter\", \"x\": [\"2014-05-30\"], \"xaxis\": \"x\", \"y\": [50], \"yaxis\": \"y\"}, {\"hovertemplate\": \"mentionedEntity1=43644<br>dateTime=%{x}<br>ct=%{y}<extra></extra>\", \"legendgroup\": \"43644\", \"line\": {\"color\": \"#FFA15A\", \"dash\": \"solid\"}, \"mode\": \"lines\", \"name\": \"43644\", \"orientation\": \"v\", \"showlegend\": true, \"type\": \"scatter\", \"x\": [\"2014-05-30\"], \"xaxis\": \"x\", \"y\": [2], \"yaxis\": \"y\"}, {\"hovertemplate\": \"mentionedEntity1=43969<br>dateTime=%{x}<br>ct=%{y}<extra></extra>\", \"legendgroup\": \"43969\", \"line\": {\"color\": \"#19d3f3\", \"dash\": \"solid\"}, \"mode\": \"lines\", \"name\": \"43969\", \"orientation\": \"v\", \"showlegend\": true, \"type\": \"scatter\", \"x\": [\"2014-05-30\"], \"xaxis\": \"x\", \"y\": [1], \"yaxis\": \"y\"}, {\"hovertemplate\": \"mentionedEntity1=46052<br>dateTime=%{x}<br>ct=%{y}<extra></extra>\", \"legendgroup\": \"46052\", \"line\": {\"color\": \"#FF6692\", \"dash\": \"solid\"}, \"mode\": \"lines\", \"name\": \"46052\", \"orientation\": \"v\", \"showlegend\": true, \"type\": \"scatter\", \"x\": [\"2014-05-30\"], \"xaxis\": \"x\", \"y\": [1], \"yaxis\": \"y\"}, {\"hovertemplate\": \"mentionedEntity1=48052<br>dateTime=%{x}<br>ct=%{y}<extra></extra>\", \"legendgroup\": \"48052\", \"line\": {\"color\": \"#B6E880\", \"dash\": \"solid\"}, \"mode\": \"lines\", \"name\": \"48052\", \"orientation\": \"v\", \"showlegend\": true, \"type\": \"scatter\", \"x\": [\"2014-05-30\"], \"xaxis\": \"x\", \"y\": [1], \"yaxis\": \"y\"}, {\"hovertemplate\": \"mentionedEntity1=49383<br>dateTime=%{x}<br>ct=%{y}<extra></extra>\", \"legendgroup\": \"49383\", \"line\": {\"color\": \"#FF97FF\", \"dash\": \"solid\"}, \"mode\": \"lines\", \"name\": \"49383\", \"orientation\": \"v\", \"showlegend\": true, \"type\": \"scatter\", \"x\": [\"2014-05-30\"], \"xaxis\": \"x\", \"y\": [3], \"yaxis\": \"y\"}, {\"hovertemplate\": \"mentionedEntity1=49520<br>dateTime=%{x}<br>ct=%{y}<extra></extra>\", \"legendgroup\": \"49520\", \"line\": {\"color\": \"#FECB52\", \"dash\": \"solid\"}, \"mode\": \"lines\", \"name\": \"49520\", \"orientation\": \"v\", \"showlegend\": true, \"type\": \"scatter\", \"x\": [\"2014-05-30\"], \"xaxis\": \"x\", \"y\": [1], \"yaxis\": \"y\"}, {\"hovertemplate\": \"mentionedEntity1=49644<br>dateTime=%{x}<br>ct=%{y}<extra></extra>\", \"legendgroup\": \"49644\", \"line\": {\"color\": \"#636efa\", \"dash\": \"solid\"}, \"mode\": \"lines\", \"name\": \"49644\", \"orientation\": \"v\", \"showlegend\": true, \"type\": \"scatter\", \"x\": [\"2014-05-30\"], \"xaxis\": \"x\", \"y\": [1], \"yaxis\": \"y\"}, {\"hovertemplate\": \"mentionedEntity1=49836<br>dateTime=%{x}<br>ct=%{y}<extra></extra>\", \"legendgroup\": \"49836\", \"line\": {\"color\": \"#EF553B\", \"dash\": \"solid\"}, \"mode\": \"lines\", \"name\": \"49836\", \"orientation\": \"v\", \"showlegend\": true, \"type\": \"scatter\", \"x\": [\"2014-05-30\"], \"xaxis\": \"x\", \"y\": [6], \"yaxis\": \"y\"}, {\"hovertemplate\": \"mentionedEntity1=208<br>dateTime=%{x}<br>ct=%{y}<extra></extra>\", \"legendgroup\": \"208\", \"line\": {\"color\": \"#00cc96\", \"dash\": \"solid\"}, \"mode\": \"lines\", \"name\": \"208\", \"orientation\": \"v\", \"showlegend\": true, \"type\": \"scatter\", \"x\": [\"2014-05-31\"], \"xaxis\": \"x\", \"y\": [7], \"yaxis\": \"y\"}, {\"hovertemplate\": \"mentionedEntity1=579<br>dateTime=%{x}<br>ct=%{y}<extra></extra>\", \"legendgroup\": \"579\", \"line\": {\"color\": \"#ab63fa\", \"dash\": \"solid\"}, \"mode\": \"lines\", \"name\": \"579\", \"orientation\": \"v\", \"showlegend\": true, \"type\": \"scatter\", \"x\": [\"2014-05-31\"], \"xaxis\": \"x\", \"y\": [25], \"yaxis\": \"y\"}, {\"hovertemplate\": \"mentionedEntity1=5357<br>dateTime=%{x}<br>ct=%{y}<extra></extra>\", \"legendgroup\": \"5357\", \"line\": {\"color\": \"#FFA15A\", \"dash\": \"solid\"}, \"mode\": \"lines\", \"name\": \"5357\", \"orientation\": \"v\", \"showlegend\": true, \"type\": \"scatter\", \"x\": [\"2014-05-31\"], \"xaxis\": \"x\", \"y\": [6], \"yaxis\": \"y\"}, {\"hovertemplate\": \"mentionedEntity1=5529<br>dateTime=%{x}<br>ct=%{y}<extra></extra>\", \"legendgroup\": \"5529\", \"line\": {\"color\": \"#19d3f3\", \"dash\": \"solid\"}, \"mode\": \"lines\", \"name\": \"5529\", \"orientation\": \"v\", \"showlegend\": true, \"type\": \"scatter\", \"x\": [\"2014-05-31\"], \"xaxis\": \"x\", \"y\": [5], \"yaxis\": \"y\"}, {\"hovertemplate\": \"mentionedEntity1=6359<br>dateTime=%{x}<br>ct=%{y}<extra></extra>\", \"legendgroup\": \"6359\", \"line\": {\"color\": \"#FF6692\", \"dash\": \"solid\"}, \"mode\": \"lines\", \"name\": \"6359\", \"orientation\": \"v\", \"showlegend\": true, \"type\": \"scatter\", \"x\": [\"2014-05-31\"], \"xaxis\": \"x\", \"y\": [3], \"yaxis\": \"y\"}, {\"hovertemplate\": \"mentionedEntity1=6473<br>dateTime=%{x}<br>ct=%{y}<extra></extra>\", \"legendgroup\": \"6473\", \"line\": {\"color\": \"#B6E880\", \"dash\": \"solid\"}, \"mode\": \"lines\", \"name\": \"6473\", \"orientation\": \"v\", \"showlegend\": true, \"type\": \"scatter\", \"x\": [\"2014-05-31\"], \"xaxis\": \"x\", \"y\": [2], \"yaxis\": \"y\"}, {\"hovertemplate\": \"mentionedEntity1=6874<br>dateTime=%{x}<br>ct=%{y}<extra></extra>\", \"legendgroup\": \"6874\", \"line\": {\"color\": \"#FF97FF\", \"dash\": \"solid\"}, \"mode\": \"lines\", \"name\": \"6874\", \"orientation\": \"v\", \"showlegend\": true, \"type\": \"scatter\", \"x\": [\"2014-05-31\"], \"xaxis\": \"x\", \"y\": [6], \"yaxis\": \"y\"}, {\"hovertemplate\": \"mentionedEntity1=6964<br>dateTime=%{x}<br>ct=%{y}<extra></extra>\", \"legendgroup\": \"6964\", \"line\": {\"color\": \"#FECB52\", \"dash\": \"solid\"}, \"mode\": \"lines\", \"name\": \"6964\", \"orientation\": \"v\", \"showlegend\": true, \"type\": \"scatter\", \"x\": [\"2014-05-31\"], \"xaxis\": \"x\", \"y\": [6], \"yaxis\": \"y\"}, {\"hovertemplate\": \"mentionedEntity1=7056<br>dateTime=%{x}<br>ct=%{y}<extra></extra>\", \"legendgroup\": \"7056\", \"line\": {\"color\": \"#636efa\", \"dash\": \"solid\"}, \"mode\": \"lines\", \"name\": \"7056\", \"orientation\": \"v\", \"showlegend\": true, \"type\": \"scatter\", \"x\": [\"2014-05-31\"], \"xaxis\": \"x\", \"y\": [3], \"yaxis\": \"y\"}, {\"hovertemplate\": \"mentionedEntity1=7441<br>dateTime=%{x}<br>ct=%{y}<extra></extra>\", \"legendgroup\": \"7441\", \"line\": {\"color\": \"#EF553B\", \"dash\": \"solid\"}, \"mode\": \"lines\", \"name\": \"7441\", \"orientation\": \"v\", \"showlegend\": true, \"type\": \"scatter\", \"x\": [\"2014-05-31\"], \"xaxis\": \"x\", \"y\": [2], \"yaxis\": \"y\"}, {\"hovertemplate\": \"mentionedEntity1=8593<br>dateTime=%{x}<br>ct=%{y}<extra></extra>\", \"legendgroup\": \"8593\", \"line\": {\"color\": \"#00cc96\", \"dash\": \"solid\"}, \"mode\": \"lines\", \"name\": \"8593\", \"orientation\": \"v\", \"showlegend\": true, \"type\": \"scatter\", \"x\": [\"2014-05-31\"], \"xaxis\": \"x\", \"y\": [2], \"yaxis\": \"y\"}, {\"hovertemplate\": \"mentionedEntity1=8829<br>dateTime=%{x}<br>ct=%{y}<extra></extra>\", \"legendgroup\": \"8829\", \"line\": {\"color\": \"#ab63fa\", \"dash\": \"solid\"}, \"mode\": \"lines\", \"name\": \"8829\", \"orientation\": \"v\", \"showlegend\": true, \"type\": \"scatter\", \"x\": [\"2014-05-31\"], \"xaxis\": \"x\", \"y\": [1], \"yaxis\": \"y\"}, {\"hovertemplate\": \"mentionedEntity1=9341<br>dateTime=%{x}<br>ct=%{y}<extra></extra>\", \"legendgroup\": \"9341\", \"line\": {\"color\": \"#FFA15A\", \"dash\": \"solid\"}, \"mode\": \"lines\", \"name\": \"9341\", \"orientation\": \"v\", \"showlegend\": true, \"type\": \"scatter\", \"x\": [\"2014-05-31\"], \"xaxis\": \"x\", \"y\": [16], \"yaxis\": \"y\"}, {\"hovertemplate\": \"mentionedEntity1=11513<br>dateTime=%{x}<br>ct=%{y}<extra></extra>\", \"legendgroup\": \"11513\", \"line\": {\"color\": \"#19d3f3\", \"dash\": \"solid\"}, \"mode\": \"lines\", \"name\": \"11513\", \"orientation\": \"v\", \"showlegend\": true, \"type\": \"scatter\", \"x\": [\"2014-05-31\"], \"xaxis\": \"x\", \"y\": [2], \"yaxis\": \"y\"}, {\"hovertemplate\": \"mentionedEntity1=11622<br>dateTime=%{x}<br>ct=%{y}<extra></extra>\", \"legendgroup\": \"11622\", \"line\": {\"color\": \"#FF6692\", \"dash\": \"solid\"}, \"mode\": \"lines\", \"name\": \"11622\", \"orientation\": \"v\", \"showlegend\": true, \"type\": \"scatter\", \"x\": [\"2014-05-31\"], \"xaxis\": \"x\", \"y\": [3], \"yaxis\": \"y\"}, {\"hovertemplate\": \"mentionedEntity1=13690<br>dateTime=%{x}<br>ct=%{y}<extra></extra>\", \"legendgroup\": \"13690\", \"line\": {\"color\": \"#B6E880\", \"dash\": \"solid\"}, \"mode\": \"lines\", \"name\": \"13690\", \"orientation\": \"v\", \"showlegend\": true, \"type\": \"scatter\", \"x\": [\"2014-05-31\"], \"xaxis\": \"x\", \"y\": [2], \"yaxis\": \"y\"}, {\"hovertemplate\": \"mentionedEntity1=14931<br>dateTime=%{x}<br>ct=%{y}<extra></extra>\", \"legendgroup\": \"14931\", \"line\": {\"color\": \"#FF97FF\", \"dash\": \"solid\"}, \"mode\": \"lines\", \"name\": \"14931\", \"orientation\": \"v\", \"showlegend\": true, \"type\": \"scatter\", \"x\": [\"2014-05-31\"], \"xaxis\": \"x\", \"y\": [2], \"yaxis\": \"y\"}, {\"hovertemplate\": \"mentionedEntity1=15498<br>dateTime=%{x}<br>ct=%{y}<extra></extra>\", \"legendgroup\": \"15498\", \"line\": {\"color\": \"#FECB52\", \"dash\": \"solid\"}, \"mode\": \"lines\", \"name\": \"15498\", \"orientation\": \"v\", \"showlegend\": true, \"type\": \"scatter\", \"x\": [\"2014-05-31\"], \"xaxis\": \"x\", \"y\": [3], \"yaxis\": \"y\"}, {\"hovertemplate\": \"mentionedEntity1=17238<br>dateTime=%{x}<br>ct=%{y}<extra></extra>\", \"legendgroup\": \"17238\", \"line\": {\"color\": \"#636efa\", \"dash\": \"solid\"}, \"mode\": \"lines\", \"name\": \"17238\", \"orientation\": \"v\", \"showlegend\": true, \"type\": \"scatter\", \"x\": [\"2014-05-31\"], \"xaxis\": \"x\", \"y\": [2], \"yaxis\": \"y\"}, {\"hovertemplate\": \"mentionedEntity1=17268<br>dateTime=%{x}<br>ct=%{y}<extra></extra>\", \"legendgroup\": \"17268\", \"line\": {\"color\": \"#EF553B\", \"dash\": \"solid\"}, \"mode\": \"lines\", \"name\": \"17268\", \"orientation\": \"v\", \"showlegend\": true, \"type\": \"scatter\", \"x\": [\"2014-05-31\"], \"xaxis\": \"x\", \"y\": [3], \"yaxis\": \"y\"}, {\"hovertemplate\": \"mentionedEntity1=18349<br>dateTime=%{x}<br>ct=%{y}<extra></extra>\", \"legendgroup\": \"18349\", \"line\": {\"color\": \"#00cc96\", \"dash\": \"solid\"}, \"mode\": \"lines\", \"name\": \"18349\", \"orientation\": \"v\", \"showlegend\": true, \"type\": \"scatter\", \"x\": [\"2014-05-31\"], \"xaxis\": \"x\", \"y\": [3], \"yaxis\": \"y\"}, {\"hovertemplate\": \"mentionedEntity1=20452<br>dateTime=%{x}<br>ct=%{y}<extra></extra>\", \"legendgroup\": \"20452\", \"line\": {\"color\": \"#ab63fa\", \"dash\": \"solid\"}, \"mode\": \"lines\", \"name\": \"20452\", \"orientation\": \"v\", \"showlegend\": true, \"type\": \"scatter\", \"x\": [\"2014-05-31\"], \"xaxis\": \"x\", \"y\": [2], \"yaxis\": \"y\"}, {\"hovertemplate\": \"mentionedEntity1=23941<br>dateTime=%{x}<br>ct=%{y}<extra></extra>\", \"legendgroup\": \"23941\", \"line\": {\"color\": \"#FFA15A\", \"dash\": \"solid\"}, \"mode\": \"lines\", \"name\": \"23941\", \"orientation\": \"v\", \"showlegend\": true, \"type\": \"scatter\", \"x\": [\"2014-05-31\"], \"xaxis\": \"x\", \"y\": [2], \"yaxis\": \"y\"}, {\"hovertemplate\": \"mentionedEntity1=25613<br>dateTime=%{x}<br>ct=%{y}<extra></extra>\", \"legendgroup\": \"25613\", \"line\": {\"color\": \"#19d3f3\", \"dash\": \"solid\"}, \"mode\": \"lines\", \"name\": \"25613\", \"orientation\": \"v\", \"showlegend\": true, \"type\": \"scatter\", \"x\": [\"2014-05-31\"], \"xaxis\": \"x\", \"y\": [5], \"yaxis\": \"y\"}, {\"hovertemplate\": \"mentionedEntity1=26151<br>dateTime=%{x}<br>ct=%{y}<extra></extra>\", \"legendgroup\": \"26151\", \"line\": {\"color\": \"#FF6692\", \"dash\": \"solid\"}, \"mode\": \"lines\", \"name\": \"26151\", \"orientation\": \"v\", \"showlegend\": true, \"type\": \"scatter\", \"x\": [\"2014-05-31\"], \"xaxis\": \"x\", \"y\": [2], \"yaxis\": \"y\"}, {\"hovertemplate\": \"mentionedEntity1=26317<br>dateTime=%{x}<br>ct=%{y}<extra></extra>\", \"legendgroup\": \"26317\", \"line\": {\"color\": \"#B6E880\", \"dash\": \"solid\"}, \"mode\": \"lines\", \"name\": \"26317\", \"orientation\": \"v\", \"showlegend\": true, \"type\": \"scatter\", \"x\": [\"2014-05-31\"], \"xaxis\": \"x\", \"y\": [4], \"yaxis\": \"y\"}, {\"hovertemplate\": \"mentionedEntity1=31931<br>dateTime=%{x}<br>ct=%{y}<extra></extra>\", \"legendgroup\": \"31931\", \"line\": {\"color\": \"#FF97FF\", \"dash\": \"solid\"}, \"mode\": \"lines\", \"name\": \"31931\", \"orientation\": \"v\", \"showlegend\": true, \"type\": \"scatter\", \"x\": [\"2014-05-31\"], \"xaxis\": \"x\", \"y\": [2], \"yaxis\": \"y\"}, {\"hovertemplate\": \"mentionedEntity1=34600<br>dateTime=%{x}<br>ct=%{y}<extra></extra>\", \"legendgroup\": \"34600\", \"line\": {\"color\": \"#FECB52\", \"dash\": \"solid\"}, \"mode\": \"lines\", \"name\": \"34600\", \"orientation\": \"v\", \"showlegend\": true, \"type\": \"scatter\", \"x\": [\"2014-05-31\"], \"xaxis\": \"x\", \"y\": [2], \"yaxis\": \"y\"}, {\"hovertemplate\": \"mentionedEntity1=36540<br>dateTime=%{x}<br>ct=%{y}<extra></extra>\", \"legendgroup\": \"36540\", \"line\": {\"color\": \"#636efa\", \"dash\": \"solid\"}, \"mode\": \"lines\", \"name\": \"36540\", \"orientation\": \"v\", \"showlegend\": true, \"type\": \"scatter\", \"x\": [\"2014-05-31\"], \"xaxis\": \"x\", \"y\": [9], \"yaxis\": \"y\"}, {\"hovertemplate\": \"mentionedEntity1=37863<br>dateTime=%{x}<br>ct=%{y}<extra></extra>\", \"legendgroup\": \"37863\", \"line\": {\"color\": \"#EF553B\", \"dash\": \"solid\"}, \"mode\": \"lines\", \"name\": \"37863\", \"orientation\": \"v\", \"showlegend\": true, \"type\": \"scatter\", \"x\": [\"2014-05-31\"], \"xaxis\": \"x\", \"y\": [1], \"yaxis\": \"y\"}, {\"hovertemplate\": \"mentionedEntity1=38962<br>dateTime=%{x}<br>ct=%{y}<extra></extra>\", \"legendgroup\": \"38962\", \"line\": {\"color\": \"#00cc96\", \"dash\": \"solid\"}, \"mode\": \"lines\", \"name\": \"38962\", \"orientation\": \"v\", \"showlegend\": true, \"type\": \"scatter\", \"x\": [\"2014-05-31\"], \"xaxis\": \"x\", \"y\": [3], \"yaxis\": \"y\"}, {\"hovertemplate\": \"mentionedEntity1=40765<br>dateTime=%{x}<br>ct=%{y}<extra></extra>\", \"legendgroup\": \"40765\", \"line\": {\"color\": \"#ab63fa\", \"dash\": \"solid\"}, \"mode\": \"lines\", \"name\": \"40765\", \"orientation\": \"v\", \"showlegend\": true, \"type\": \"scatter\", \"x\": [\"2014-05-31\"], \"xaxis\": \"x\", \"y\": [10], \"yaxis\": \"y\"}, {\"hovertemplate\": \"mentionedEntity1=42442<br>dateTime=%{x}<br>ct=%{y}<extra></extra>\", \"legendgroup\": \"42442\", \"line\": {\"color\": \"#FFA15A\", \"dash\": \"solid\"}, \"mode\": \"lines\", \"name\": \"42442\", \"orientation\": \"v\", \"showlegend\": true, \"type\": \"scatter\", \"x\": [\"2014-05-31\"], \"xaxis\": \"x\", \"y\": [14], \"yaxis\": \"y\"}, {\"hovertemplate\": \"mentionedEntity1=43451<br>dateTime=%{x}<br>ct=%{y}<extra></extra>\", \"legendgroup\": \"43451\", \"line\": {\"color\": \"#19d3f3\", \"dash\": \"solid\"}, \"mode\": \"lines\", \"name\": \"43451\", \"orientation\": \"v\", \"showlegend\": true, \"type\": \"scatter\", \"x\": [\"2014-05-31\"], \"xaxis\": \"x\", \"y\": [3], \"yaxis\": \"y\"}, {\"hovertemplate\": \"mentionedEntity1=45034<br>dateTime=%{x}<br>ct=%{y}<extra></extra>\", \"legendgroup\": \"45034\", \"line\": {\"color\": \"#FF6692\", \"dash\": \"solid\"}, \"mode\": \"lines\", \"name\": \"45034\", \"orientation\": \"v\", \"showlegend\": true, \"type\": \"scatter\", \"x\": [\"2014-05-31\"], \"xaxis\": \"x\", \"y\": [4], \"yaxis\": \"y\"}, {\"hovertemplate\": \"mentionedEntity1=51430<br>dateTime=%{x}<br>ct=%{y}<extra></extra>\", \"legendgroup\": \"51430\", \"line\": {\"color\": \"#B6E880\", \"dash\": \"solid\"}, \"mode\": \"lines\", \"name\": \"51430\", \"orientation\": \"v\", \"showlegend\": true, \"type\": \"scatter\", \"x\": [\"2014-05-31\"], \"xaxis\": \"x\", \"y\": [3], \"yaxis\": \"y\"}, {\"hovertemplate\": \"mentionedEntity1=51655<br>dateTime=%{x}<br>ct=%{y}<extra></extra>\", \"legendgroup\": \"51655\", \"line\": {\"color\": \"#FF97FF\", \"dash\": \"solid\"}, \"mode\": \"lines\", \"name\": \"51655\", \"orientation\": \"v\", \"showlegend\": true, \"type\": \"scatter\", \"x\": [\"2014-05-31\"], \"xaxis\": \"x\", \"y\": [12], \"yaxis\": \"y\"}],                        {\"legend\": {\"title\": {\"text\": \"mentionedEntity1\"}, \"tracegroupgap\": 0}, \"margin\": {\"t\": 60}, \"template\": {\"data\": {\"bar\": [{\"error_x\": {\"color\": \"#2a3f5f\"}, \"error_y\": {\"color\": \"#2a3f5f\"}, \"marker\": {\"line\": {\"color\": \"#E5ECF6\", \"width\": 0.5}}, \"type\": \"bar\"}], \"barpolar\": [{\"marker\": {\"line\": {\"color\": \"#E5ECF6\", \"width\": 0.5}}, \"type\": \"barpolar\"}], \"carpet\": [{\"aaxis\": {\"endlinecolor\": \"#2a3f5f\", \"gridcolor\": \"white\", \"linecolor\": \"white\", \"minorgridcolor\": \"white\", \"startlinecolor\": \"#2a3f5f\"}, \"baxis\": {\"endlinecolor\": \"#2a3f5f\", \"gridcolor\": \"white\", \"linecolor\": \"white\", \"minorgridcolor\": \"white\", \"startlinecolor\": \"#2a3f5f\"}, \"type\": \"carpet\"}], \"choropleth\": [{\"colorbar\": {\"outlinewidth\": 0, \"ticks\": \"\"}, \"type\": \"choropleth\"}], \"contour\": [{\"colorbar\": {\"outlinewidth\": 0, \"ticks\": \"\"}, \"colorscale\": [[0.0, \"#0d0887\"], [0.1111111111111111, \"#46039f\"], [0.2222222222222222, \"#7201a8\"], [0.3333333333333333, \"#9c179e\"], [0.4444444444444444, \"#bd3786\"], [0.5555555555555556, \"#d8576b\"], [0.6666666666666666, \"#ed7953\"], [0.7777777777777778, \"#fb9f3a\"], [0.8888888888888888, \"#fdca26\"], [1.0, \"#f0f921\"]], \"type\": \"contour\"}], \"contourcarpet\": [{\"colorbar\": {\"outlinewidth\": 0, \"ticks\": \"\"}, \"type\": \"contourcarpet\"}], \"heatmap\": [{\"colorbar\": {\"outlinewidth\": 0, \"ticks\": \"\"}, \"colorscale\": [[0.0, \"#0d0887\"], [0.1111111111111111, \"#46039f\"], [0.2222222222222222, \"#7201a8\"], [0.3333333333333333, \"#9c179e\"], [0.4444444444444444, \"#bd3786\"], [0.5555555555555556, \"#d8576b\"], [0.6666666666666666, \"#ed7953\"], [0.7777777777777778, \"#fb9f3a\"], [0.8888888888888888, \"#fdca26\"], [1.0, \"#f0f921\"]], \"type\": \"heatmap\"}], \"heatmapgl\": [{\"colorbar\": {\"outlinewidth\": 0, \"ticks\": \"\"}, \"colorscale\": [[0.0, \"#0d0887\"], [0.1111111111111111, \"#46039f\"], [0.2222222222222222, \"#7201a8\"], [0.3333333333333333, \"#9c179e\"], [0.4444444444444444, \"#bd3786\"], [0.5555555555555556, \"#d8576b\"], [0.6666666666666666, \"#ed7953\"], [0.7777777777777778, \"#fb9f3a\"], [0.8888888888888888, \"#fdca26\"], [1.0, \"#f0f921\"]], \"type\": \"heatmapgl\"}], \"histogram\": [{\"marker\": {\"colorbar\": {\"outlinewidth\": 0, \"ticks\": \"\"}}, \"type\": \"histogram\"}], \"histogram2d\": [{\"colorbar\": {\"outlinewidth\": 0, \"ticks\": \"\"}, \"colorscale\": [[0.0, \"#0d0887\"], [0.1111111111111111, \"#46039f\"], [0.2222222222222222, \"#7201a8\"], [0.3333333333333333, \"#9c179e\"], [0.4444444444444444, \"#bd3786\"], [0.5555555555555556, \"#d8576b\"], [0.6666666666666666, \"#ed7953\"], [0.7777777777777778, \"#fb9f3a\"], [0.8888888888888888, \"#fdca26\"], [1.0, \"#f0f921\"]], \"type\": \"histogram2d\"}], \"histogram2dcontour\": [{\"colorbar\": {\"outlinewidth\": 0, \"ticks\": \"\"}, \"colorscale\": [[0.0, \"#0d0887\"], [0.1111111111111111, \"#46039f\"], [0.2222222222222222, \"#7201a8\"], [0.3333333333333333, \"#9c179e\"], [0.4444444444444444, \"#bd3786\"], [0.5555555555555556, \"#d8576b\"], [0.6666666666666666, \"#ed7953\"], [0.7777777777777778, \"#fb9f3a\"], [0.8888888888888888, \"#fdca26\"], [1.0, \"#f0f921\"]], \"type\": \"histogram2dcontour\"}], \"mesh3d\": [{\"colorbar\": {\"outlinewidth\": 0, \"ticks\": \"\"}, \"type\": \"mesh3d\"}], \"parcoords\": [{\"line\": {\"colorbar\": {\"outlinewidth\": 0, \"ticks\": \"\"}}, \"type\": \"parcoords\"}], \"pie\": [{\"automargin\": true, \"type\": \"pie\"}], \"scatter\": [{\"marker\": {\"colorbar\": {\"outlinewidth\": 0, \"ticks\": \"\"}}, \"type\": \"scatter\"}], \"scatter3d\": [{\"line\": {\"colorbar\": {\"outlinewidth\": 0, \"ticks\": \"\"}}, \"marker\": {\"colorbar\": {\"outlinewidth\": 0, \"ticks\": \"\"}}, \"type\": \"scatter3d\"}], \"scattercarpet\": [{\"marker\": {\"colorbar\": {\"outlinewidth\": 0, \"ticks\": \"\"}}, \"type\": \"scattercarpet\"}], \"scattergeo\": [{\"marker\": {\"colorbar\": {\"outlinewidth\": 0, \"ticks\": \"\"}}, \"type\": \"scattergeo\"}], \"scattergl\": [{\"marker\": {\"colorbar\": {\"outlinewidth\": 0, \"ticks\": \"\"}}, \"type\": \"scattergl\"}], \"scattermapbox\": [{\"marker\": {\"colorbar\": {\"outlinewidth\": 0, \"ticks\": \"\"}}, \"type\": \"scattermapbox\"}], \"scatterpolar\": [{\"marker\": {\"colorbar\": {\"outlinewidth\": 0, \"ticks\": \"\"}}, \"type\": \"scatterpolar\"}], \"scatterpolargl\": [{\"marker\": {\"colorbar\": {\"outlinewidth\": 0, \"ticks\": \"\"}}, \"type\": \"scatterpolargl\"}], \"scatterternary\": [{\"marker\": {\"colorbar\": {\"outlinewidth\": 0, \"ticks\": \"\"}}, \"type\": \"scatterternary\"}], \"surface\": [{\"colorbar\": {\"outlinewidth\": 0, \"ticks\": \"\"}, \"colorscale\": [[0.0, \"#0d0887\"], [0.1111111111111111, \"#46039f\"], [0.2222222222222222, \"#7201a8\"], [0.3333333333333333, \"#9c179e\"], [0.4444444444444444, \"#bd3786\"], [0.5555555555555556, \"#d8576b\"], [0.6666666666666666, \"#ed7953\"], [0.7777777777777778, \"#fb9f3a\"], [0.8888888888888888, \"#fdca26\"], [1.0, \"#f0f921\"]], \"type\": \"surface\"}], \"table\": [{\"cells\": {\"fill\": {\"color\": \"#EBF0F8\"}, \"line\": {\"color\": \"white\"}}, \"header\": {\"fill\": {\"color\": \"#C8D4E3\"}, \"line\": {\"color\": \"white\"}}, \"type\": \"table\"}]}, \"layout\": {\"annotationdefaults\": {\"arrowcolor\": \"#2a3f5f\", \"arrowhead\": 0, \"arrowwidth\": 1}, \"autotypenumbers\": \"strict\", \"coloraxis\": {\"colorbar\": {\"outlinewidth\": 0, \"ticks\": \"\"}}, \"colorscale\": {\"diverging\": [[0, \"#8e0152\"], [0.1, \"#c51b7d\"], [0.2, \"#de77ae\"], [0.3, \"#f1b6da\"], [0.4, \"#fde0ef\"], [0.5, \"#f7f7f7\"], [0.6, \"#e6f5d0\"], [0.7, \"#b8e186\"], [0.8, \"#7fbc41\"], [0.9, \"#4d9221\"], [1, \"#276419\"]], \"sequential\": [[0.0, \"#0d0887\"], [0.1111111111111111, \"#46039f\"], [0.2222222222222222, \"#7201a8\"], [0.3333333333333333, \"#9c179e\"], [0.4444444444444444, \"#bd3786\"], [0.5555555555555556, \"#d8576b\"], [0.6666666666666666, \"#ed7953\"], [0.7777777777777778, \"#fb9f3a\"], [0.8888888888888888, \"#fdca26\"], [1.0, \"#f0f921\"]], \"sequentialminus\": [[0.0, \"#0d0887\"], [0.1111111111111111, \"#46039f\"], [0.2222222222222222, \"#7201a8\"], [0.3333333333333333, \"#9c179e\"], [0.4444444444444444, \"#bd3786\"], [0.5555555555555556, \"#d8576b\"], [0.6666666666666666, \"#ed7953\"], [0.7777777777777778, \"#fb9f3a\"], [0.8888888888888888, \"#fdca26\"], [1.0, \"#f0f921\"]]}, \"colorway\": [\"#636efa\", \"#EF553B\", \"#00cc96\", \"#ab63fa\", \"#FFA15A\", \"#19d3f3\", \"#FF6692\", \"#B6E880\", \"#FF97FF\", \"#FECB52\"], \"font\": {\"color\": \"#2a3f5f\"}, \"geo\": {\"bgcolor\": \"white\", \"lakecolor\": \"white\", \"landcolor\": \"#E5ECF6\", \"showlakes\": true, \"showland\": true, \"subunitcolor\": \"white\"}, \"hoverlabel\": {\"align\": \"left\"}, \"hovermode\": \"closest\", \"mapbox\": {\"style\": \"light\"}, \"paper_bgcolor\": \"white\", \"plot_bgcolor\": \"#E5ECF6\", \"polar\": {\"angularaxis\": {\"gridcolor\": \"white\", \"linecolor\": \"white\", \"ticks\": \"\"}, \"bgcolor\": \"#E5ECF6\", \"radialaxis\": {\"gridcolor\": \"white\", \"linecolor\": \"white\", \"ticks\": \"\"}}, \"scene\": {\"xaxis\": {\"backgroundcolor\": \"#E5ECF6\", \"gridcolor\": \"white\", \"gridwidth\": 2, \"linecolor\": \"white\", \"showbackground\": true, \"ticks\": \"\", \"zerolinecolor\": \"white\"}, \"yaxis\": {\"backgroundcolor\": \"#E5ECF6\", \"gridcolor\": \"white\", \"gridwidth\": 2, \"linecolor\": \"white\", \"showbackground\": true, \"ticks\": \"\", \"zerolinecolor\": \"white\"}, \"zaxis\": {\"backgroundcolor\": \"#E5ECF6\", \"gridcolor\": \"white\", \"gridwidth\": 2, \"linecolor\": \"white\", \"showbackground\": true, \"ticks\": \"\", \"zerolinecolor\": \"white\"}}, \"shapedefaults\": {\"line\": {\"color\": \"#2a3f5f\"}}, \"ternary\": {\"aaxis\": {\"gridcolor\": \"white\", \"linecolor\": \"white\", \"ticks\": \"\"}, \"baxis\": {\"gridcolor\": \"white\", \"linecolor\": \"white\", \"ticks\": \"\"}, \"bgcolor\": \"#E5ECF6\", \"caxis\": {\"gridcolor\": \"white\", \"linecolor\": \"white\", \"ticks\": \"\"}}, \"title\": {\"x\": 0.05}, \"xaxis\": {\"automargin\": true, \"gridcolor\": \"white\", \"linecolor\": \"white\", \"ticks\": \"\", \"title\": {\"standoff\": 15}, \"zerolinecolor\": \"white\", \"zerolinewidth\": 2}, \"yaxis\": {\"automargin\": true, \"gridcolor\": \"white\", \"linecolor\": \"white\", \"ticks\": \"\", \"title\": {\"standoff\": 15}, \"zerolinecolor\": \"white\", \"zerolinewidth\": 2}}}, \"xaxis\": {\"anchor\": \"y\", \"domain\": [0.0, 1.0], \"title\": {\"text\": \"dateTime\"}}, \"yaxis\": {\"anchor\": \"x\", \"domain\": [0.0, 1.0], \"title\": {\"text\": \"ct\"}}},                        {\"responsive\": true}                    ).then(function(){\n",
       "                            \n",
       "var gd = document.getElementById('bd1c8d0f-bbdd-4332-be66-1ddcf0115ea7');\n",
       "var x = new MutationObserver(function (mutations, observer) {{\n",
       "        var display = window.getComputedStyle(gd).display;\n",
       "        if (!display || display === 'none') {{\n",
       "            console.log([gd, 'removed!']);\n",
       "            Plotly.purge(gd);\n",
       "            observer.disconnect();\n",
       "        }}\n",
       "}});\n",
       "\n",
       "// Listen for the removal of the full notebook cells\n",
       "var notebookContainer = gd.closest('#notebook-container');\n",
       "if (notebookContainer) {{\n",
       "    x.observe(notebookContainer, {childList: true});\n",
       "}}\n",
       "\n",
       "// Listen for the clearing of the current output cell\n",
       "var outputEl = gd.closest('.output');\n",
       "if (outputEl) {{\n",
       "    x.observe(outputEl, {childList: true});\n",
       "}}\n",
       "\n",
       "                        })                };                });            </script>        </div>"
      ]
     },
     "metadata": {},
     "output_type": "display_data"
    }
   ],
   "source": [
    "import plotly.express as px\n",
    "\n",
    "fig = px.line(random_entity1_ct_df, x =\"dateTime\", y =\"ct\", color=\"mentionedEntity1\")\n",
    "    #print(data)\n",
    "fig.show()"
   ]
  },
  {
   "cell_type": "markdown",
   "metadata": {},
   "source": [
    "From this graph we can determine that the mentioned entities 383, 8101, and 24742 may have anomalies. Now let's run prophet."
   ]
  },
  {
   "cell_type": "code",
   "execution_count": 40,
   "metadata": {},
   "outputs": [],
   "source": [
    "temp_df1 = pd.DataFrame(columns=['dateTime','ct'])\n",
    "data = []\n",
    "\n",
    "for entity in random_entity1_ct_df.iterrows():\n",
    "    if entity[1][1] == 383:\n",
    "        data.append((entity[1][0], entity[1][2]))\n",
    "\n",
    "temp_df2 = pd.DataFrame(data , columns=['dateTime','ct'])\n",
    "entity383_df = pd.concat([temp_df1, temp_df2], ignore_index=True)"
   ]
  },
  {
   "cell_type": "code",
   "execution_count": 41,
   "metadata": {},
   "outputs": [],
   "source": [
    "import datetime\n",
    "missing_dates = [(datetime.date(2014, 5, 15), 0), (datetime.date(2014, 5, 16), 0), \n",
    "                 (datetime.date(2014, 5, 17), 0), (datetime.date(2014, 5, 18), 0),\n",
    "                 (datetime.date(2014, 5, 19), 0), (datetime.date(2014, 5, 20), 0),\n",
    "                 (datetime.date(2014, 5, 21), 0), (datetime.date(2014, 5, 22), 0),\n",
    "                 (datetime.date(2014, 5, 23), 0), (datetime.date(2014, 5, 24), 0),\n",
    "                 (datetime.date(2014, 5, 25), 0), (datetime.date(2014, 5, 26), 0),\n",
    "                 (datetime.date(2014, 5, 27), 0), (datetime.date(2014, 5, 28), 0),\n",
    "                 (datetime.date(2014, 5, 29), 0), (datetime.date(2014, 5, 30), 0),\n",
    "                 (datetime.date(2014, 5, 31), 0)]\n",
    "\n",
    "temp_df3 = pd.DataFrame(missing_dates , columns=['dateTime','ct'])\n",
    "entity383_df = pd.concat([entity383_df, temp_df3], ignore_index=True)"
   ]
  },
  {
   "cell_type": "code",
   "execution_count": 44,
   "metadata": {},
   "outputs": [],
   "source": [
    "temp_df1 = pd.DataFrame(columns=['dateTime','ct'])\n",
    "data = []\n",
    "\n",
    "for entity in random_entity1_ct_df.iterrows():\n",
    "    if entity[1][1] == 8101:\n",
    "        data.append((entity[1][0], entity[1][2]))\n",
    "\n",
    "temp_df2 = pd.DataFrame(data , columns=['dateTime','ct'])\n",
    "entity8101_df = pd.concat([temp_df1, temp_df2], ignore_index=True)"
   ]
  },
  {
   "cell_type": "code",
   "execution_count": 49,
   "metadata": {},
   "outputs": [],
   "source": [
    "missing_dates = [(datetime.date(2014, 5, 12), 0), (datetime.date(2014, 5, 16), 0), \n",
    "                 (datetime.date(2014, 5, 17), 0), (datetime.date(2014, 5, 18), 0),\n",
    "                 (datetime.date(2014, 5, 19), 0), (datetime.date(2014, 5, 20), 0),\n",
    "                 (datetime.date(2014, 5, 21), 0), (datetime.date(2014, 5, 22), 0)]\n",
    "\n",
    "temp_df3 = pd.DataFrame(missing_dates , columns=['dateTime','ct'])\n",
    "entity8101_df = pd.concat([entity8101_df, temp_df3], ignore_index=True)\n",
    "\n",
    "entity8101_df = entity8101_df.sort_values(by='dateTime')"
   ]
  },
  {
   "cell_type": "code",
   "execution_count": 46,
   "metadata": {},
   "outputs": [],
   "source": [
    "temp_df1 = pd.DataFrame(columns=['dateTime','ct'])\n",
    "data = []\n",
    "\n",
    "for entity in random_entity1_ct_df.iterrows():\n",
    "    if entity[1][1] == 24742:\n",
    "        data.append((entity[1][0], entity[1][2]))\n",
    "\n",
    "temp_df2 = pd.DataFrame(data , columns=['dateTime','ct'])\n",
    "entity24742_df = pd.concat([temp_df1, temp_df2], ignore_index=True)"
   ]
  },
  {
   "cell_type": "code",
   "execution_count": 48,
   "metadata": {},
   "outputs": [],
   "source": [
    "missing_dates = [(datetime.date(2014, 5, 12), 0), (datetime.date(2014, 5, 15), 0), \n",
    "                 (datetime.date(2014, 5, 16), 0), (datetime.date(2014, 5, 17), 0),\n",
    "                 (datetime.date(2014, 5, 18), 0), (datetime.date(2014, 5, 19), 0),\n",
    "                 (datetime.date(2014, 5, 23), 0), (datetime.date(2014, 5, 24), 0),\n",
    "                 (datetime.date(2014, 5, 26), 0)]\n",
    "\n",
    "temp_df3 = pd.DataFrame(missing_dates , columns=['dateTime','ct'])\n",
    "entity24742_df = pd.concat([entity24742_df, temp_df3], ignore_index=True)\n",
    "\n",
    "entity24742_df = entity24742_df.sort_values(by='dateTime')"
   ]
  },
  {
   "cell_type": "code",
   "execution_count": null,
   "metadata": {},
   "outputs": [],
   "source": []
  },
  {
   "cell_type": "code",
   "execution_count": 13,
   "metadata": {},
   "outputs": [
    {
     "data": {
      "image/png": "[encoded data removed]",
      "text/plain": [
       "<Figure size 720x720 with 1 Axes>"
      ]
     },
     "metadata": {
      "needs_background": "light"
     },
     "output_type": "display_data"
    }
   ],
   "source": [
    "import matplotlib.pyplot as plt\n",
    "fig, ax = plt.subplots(figsize=(10, 10))\n",
    "\n",
    "count = 1\n",
    "# key gives the group name (i.e. category), data gives the actual values\n",
    "for key, data in entity1_ct_df.groupby('mentionedEntity1'):\n",
    "    data.plot(x='dateTime', y='ct', ax=ax)\n",
    "    if count == 200:\n",
    "        break\n",
    "    count = count + 1\n",
    "    \n",
    "#adding median dailing count for all entities\n",
    "entity1_ct_df.groupby(entity1_ct_df[\"dateTime\"])[\"ct\"].median().plot(kind='line',\n",
    "                                                                     rot=0, ax=ax, linewidth=6, color='red')\n",
    "\n",
    "ax.get_legend().remove()"
   ]
  },
  {
   "cell_type": "markdown",
   "metadata": {},
   "source": [
    "#### Where to go from here\n",
    "1. Make plots of current data\n",
    "2. Run prophet and detect anomalies\n",
    "3. Verify/Evaluate results"
   ]
  }
 ],
 "metadata": {
  "kernelspec": {
   "display_name": "Python 3",
   "language": "python",
   "name": "python3"
  },
  "language_info": {
   "codemirror_mode": {
    "name": "ipython",
    "version": 3
   },
   "file_extension": ".py",
   "mimetype": "text/x-python",
   "name": "python",
   "nbconvert_exporter": "python",
   "pygments_lexer": "ipython3",
   "version": "3.8.2"
  }
 },
 "nbformat": 4,
 "nbformat_minor": 4
}
